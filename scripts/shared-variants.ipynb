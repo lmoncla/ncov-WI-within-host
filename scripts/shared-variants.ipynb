{
 "cells": [
  {
   "cell_type": "markdown",
   "metadata": {},
   "source": [
    "# Shared variants analyses\n",
    "\n",
    "This notebook contains scripts for the following: \n",
    "\n",
    "1. Determining the number of times each within-host variant is detected. \n",
    "2. Plotting whether variants that occur > 1 time are present in homopolymer regions. \n",
    "3. Plotting whether variants that occur > 1 time are also ones identified as problematic/likely errors by people looking at consensus data. I will use this virological post [here](http://virological.org/t/issues-with-sars-cov-2-sequencing-data/473)\n",
    "4. Plot whether variants that occur > 1 time have been detected in other public datasets. Here I am using those published by [Lythgoe et al.](https://github.com/katrinalythgoe/COVIDdiversity) and [Valesano et al.](https://github.com/lauringlab/SARSCov2_Intrahost)"
   ]
  },
  {
   "cell_type": "code",
   "execution_count": 218,
   "metadata": {},
   "outputs": [
    {
     "name": "stdout",
     "output_type": "stream",
     "text": [
      "The rpy2.ipython extension is already loaded. To reload it, use:\n",
      "  %reload_ext rpy2.ipython\n"
     ]
    }
   ],
   "source": [
    "import imp\n",
    "import importlib, json\n",
    "import glob\n",
    "import re,copy,json\n",
    "import requests\n",
    "import pandas as pd \n",
    "import numpy as np\n",
    "    \n",
    "import rpy2\n",
    "%load_ext rpy2.ipython"
   ]
  },
  {
   "cell_type": "code",
   "execution_count": 219,
   "metadata": {},
   "outputs": [],
   "source": [
    "# define colors\n",
    "# powerful women color palette\n",
    "#purple: 5248AA\n",
    "#blue: 7C9BAC\n",
    "#yellow: ECC58C\n",
    "#red: 551E32\n",
    "#green:434A42\n",
    "\n",
    "# old blue/green color scheme\n",
    "# s_color = \"#A5CDA2\"\n",
    "# ns_color = \"#0E7908\"\n",
    "# stop_color = \"#073C04\"\n",
    "# fs_color = \"#00357D\"\n",
    "# fs_stop_color = \"#00142F\""
   ]
  },
  {
   "cell_type": "code",
   "execution_count": 292,
   "metadata": {},
   "outputs": [],
   "source": [
    "# define which column we want to use to look at variants. Use 'nuc_muts' to characterize variants relative to the \n",
    "# Wuhan 1 reference, or 'minor_nuc_muts' to do a consensus-agnostic comparison\n",
    "variant_column = 'minor_nuc_muts'\n",
    "frequency_column = 'minor_frequency'"
   ]
  },
  {
   "cell_type": "markdown",
   "metadata": {},
   "source": [
    "## Read in vcfs and convert to dataframes \n",
    "\n",
    "I will only read in the intersection SNVs, meaning the ones that were detected in both technical sequencing replicates. This code will separate this into 2 dataframes, 1 for SNVs and 1 for indels, and will also look up and add in the strain names (necessary for converting from tube numbers, which is how the csvs are labelled). All of this code is contained in the ipython notebook called `vcf-module.ipynb`, which I am just going to import here. By running `return_dataframes`, this will collate all vcfs in the vcf directory, combine into a dataframe, and format that dataframe properly. "
   ]
  },
  {
   "cell_type": "code",
   "execution_count": 293,
   "metadata": {},
   "outputs": [],
   "source": [
    "\"\"\"to load in an ipython notebook as a module, just run the following. You will now have access to all of the \n",
    "functions written in that jupyter notebook\"\"\"\n",
    "\n",
    "%run vcf-module.ipynb"
   ]
  },
  {
   "cell_type": "code",
   "execution_count": 294,
   "metadata": {},
   "outputs": [],
   "source": [
    "# read in the current date \n",
    "from datetime import date\n",
    "today = date.today()\n",
    "current_date = str(today.strftime(\"%Y-%m-%d\"))"
   ]
  },
  {
   "cell_type": "code",
   "execution_count": 295,
   "metadata": {},
   "outputs": [
    {
     "name": "stderr",
     "output_type": "stream",
     "text": [
      "/Users/lmoncla/anaconda/envs/LHM-basics/lib/python3.7/site-packages/ipykernel_launcher.py:6: SettingWithCopyWarning: \n",
      "A value is trying to be set on a copy of a slice from a DataFrame.\n",
      "Try using .loc[row_indexer,col_indexer] = value instead\n",
      "\n",
      "See the caveats in the documentation: http://pandas.pydata.org/pandas-docs/stable/indexing.html#indexing-view-versus-copy\n",
      "  \n",
      "/Users/lmoncla/anaconda/envs/LHM-basics/lib/python3.7/site-packages/ipykernel_launcher.py:7: SettingWithCopyWarning: \n",
      "A value is trying to be set on a copy of a slice from a DataFrame.\n",
      "Try using .loc[row_indexer,col_indexer] = value instead\n",
      "\n",
      "See the caveats in the documentation: http://pandas.pydata.org/pandas-docs/stable/indexing.html#indexing-view-versus-copy\n",
      "  import sys\n",
      "/Users/lmoncla/anaconda/envs/LHM-basics/lib/python3.7/site-packages/ipykernel_launcher.py:8: SettingWithCopyWarning: \n",
      "A value is trying to be set on a copy of a slice from a DataFrame.\n",
      "Try using .loc[row_indexer,col_indexer] = value instead\n",
      "\n",
      "See the caveats in the documentation: http://pandas.pydata.org/pandas-docs/stable/indexing.html#indexing-view-versus-copy\n",
      "  \n",
      "/Users/lmoncla/anaconda/envs/LHM-basics/lib/python3.7/site-packages/ipykernel_launcher.py:11: SettingWithCopyWarning: \n",
      "A value is trying to be set on a copy of a slice from a DataFrame.\n",
      "Try using .loc[row_indexer,col_indexer] = value instead\n",
      "\n",
      "See the caveats in the documentation: http://pandas.pydata.org/pandas-docs/stable/indexing.html#indexing-view-versus-copy\n",
      "  # This is added back by InteractiveShellApp.init_path()\n",
      "/Users/lmoncla/anaconda/envs/LHM-basics/lib/python3.7/site-packages/ipykernel_launcher.py:12: SettingWithCopyWarning: \n",
      "A value is trying to be set on a copy of a slice from a DataFrame.\n",
      "Try using .loc[row_indexer,col_indexer] = value instead\n",
      "\n",
      "See the caveats in the documentation: http://pandas.pydata.org/pandas-docs/stable/indexing.html#indexing-view-versus-copy\n",
      "  if sys.path[0] == '':\n",
      "/Users/lmoncla/anaconda/envs/LHM-basics/lib/python3.7/site-packages/ipykernel_launcher.py:14: SettingWithCopyWarning: \n",
      "A value is trying to be set on a copy of a slice from a DataFrame.\n",
      "Try using .loc[row_indexer,col_indexer] = value instead\n",
      "\n",
      "See the caveats in the documentation: http://pandas.pydata.org/pandas-docs/stable/indexing.html#indexing-view-versus-copy\n",
      "  \n",
      "/Users/lmoncla/anaconda/envs/LHM-basics/lib/python3.7/site-packages/ipykernel_launcher.py:9: SettingWithCopyWarning: \n",
      "A value is trying to be set on a copy of a slice from a DataFrame.\n",
      "Try using .loc[row_indexer,col_indexer] = value instead\n",
      "\n",
      "See the caveats in the documentation: http://pandas.pydata.org/pandas-docs/stable/indexing.html#indexing-view-versus-copy\n",
      "  if __name__ == '__main__':\n",
      "/Users/lmoncla/anaconda/envs/LHM-basics/lib/python3.7/site-packages/ipykernel_launcher.py:10: SettingWithCopyWarning: \n",
      "A value is trying to be set on a copy of a slice from a DataFrame.\n",
      "Try using .loc[row_indexer,col_indexer] = value instead\n",
      "\n",
      "See the caveats in the documentation: http://pandas.pydata.org/pandas-docs/stable/indexing.html#indexing-view-versus-copy\n",
      "  # Remove the CWD from sys.path while we load stuff.\n"
     ]
    }
   ],
   "source": [
    "\"\"\"now, input the strain names file/metadata file, the directory containing the vcfs, and return the dataframess\"\"\"\n",
    "\n",
    "strain_names_file = \"/Users/lmoncla/src/ncov-WI-within-host/data/sample-metadata.tsv\"\n",
    "fasta_file = \"../data/consensus-sequences-2021-01-25.fasta\"\n",
    "clades_file = \"../data/clades-file-2020-08-28.txt\"\n",
    "vcf_directory = \"../data/vcfs-all/\"\n",
    "\n",
    "# N transcript was a control; sample/tube 6, UW-30, has an snv at basically every single site after a certain \n",
    "# point in the genome. it has 418 SNVs!!! I'm excluding it; finally, I am going to exclude tube 127, USA/WI-UW-118/2020\n",
    "# which has >50 indels and >50 SNVs. It has a pretty high Ct as well, so I think these are probably errors as it is \n",
    "# a very clear outlier\n",
    "# remove 303, 304, 302, 735, and 736 because these are time-series! \n",
    "samples_to_ignore = [\"N_transcript\",\"6\", \"127\",\"302\",\"303\",\"304\",\"735\",\"736\"]\n",
    "\n",
    "# set the length of homopolymers that you want to use\n",
    "homopolymer_length = 3\n",
    "\n",
    "# set the variant percent that you want to use \n",
    "variant_percent = \"0.03\"\n",
    "\n",
    "snvs_only, indels_only, all_intersection_variants,metadata_dict = return_dataframes(strain_names_file, clades_file,vcf_directory,samples_to_ignore,fasta_file, homopolymer_length)"
   ]
  },
  {
   "cell_type": "code",
   "execution_count": 296,
   "metadata": {},
   "outputs": [],
   "source": [
    "\"\"\"subset data to include only SNVs and indels >3% frequency\"\"\"\n",
    "snvs_only = snvs_only[snvs_only[frequency_column] >= float(variant_percent)]\n",
    "indels_only = indels_only[indels_only[frequency_column] >= float(variant_percent)]\n",
    "\n",
    "\"\"\"subset data to include only SNVs and indels <50% frequency\"\"\"\n",
    "snvs_only = snvs_only[snvs_only[frequency_column] <= float(0.5)]\n",
    "indels_only = indels_only[indels_only[frequency_column] <= float(0.5)]"
   ]
  },
  {
   "cell_type": "code",
   "execution_count": 297,
   "metadata": {},
   "outputs": [
    {
     "data": {
      "text/html": [
       "<div>\n",
       "<style scoped>\n",
       "    .dataframe tbody tr th:only-of-type {\n",
       "        vertical-align: middle;\n",
       "    }\n",
       "\n",
       "    .dataframe tbody tr th {\n",
       "        vertical-align: top;\n",
       "    }\n",
       "\n",
       "    .dataframe thead th {\n",
       "        text-align: right;\n",
       "    }\n",
       "</style>\n",
       "<table border=\"1\" class=\"dataframe\">\n",
       "  <thead>\n",
       "    <tr style=\"text-align: right;\">\n",
       "      <th></th>\n",
       "      <th>Unnamed: 0</th>\n",
       "      <th>SNP</th>\n",
       "      <th>POS_x</th>\n",
       "      <th>rep1_percent</th>\n",
       "      <th>rep2_percent</th>\n",
       "      <th>frequency</th>\n",
       "      <th>sampleid</th>\n",
       "      <th>gene</th>\n",
       "      <th>nt_change</th>\n",
       "      <th>aa_change</th>\n",
       "      <th>annotation</th>\n",
       "      <th>strain_name</th>\n",
       "      <th>location</th>\n",
       "      <th>clade</th>\n",
       "      <th>homopolymer</th>\n",
       "      <th>homopolymer_base</th>\n",
       "      <th>type_of_variant</th>\n",
       "      <th>aa_site</th>\n",
       "      <th>wt_aa</th>\n",
       "      <th>mut_aa</th>\n",
       "      <th>nt_ref</th>\n",
       "      <th>nt_mut</th>\n",
       "      <th>nuc_muts</th>\n",
       "      <th>minor_frequency</th>\n",
       "      <th>consensus_base</th>\n",
       "      <th>minor_base</th>\n",
       "      <th>consensus_aa</th>\n",
       "      <th>minor_aa</th>\n",
       "      <th>minor_nuc_muts</th>\n",
       "      <th>minor_aa_muts</th>\n",
       "    </tr>\n",
       "  </thead>\n",
       "  <tbody>\n",
       "    <tr>\n",
       "      <th>3</th>\n",
       "      <td>8</td>\n",
       "      <td>orf1ab_C&gt;T_Ser2839Ser_synonymous</td>\n",
       "      <td>8782.0</td>\n",
       "      <td>0.9411</td>\n",
       "      <td>0.8919</td>\n",
       "      <td>0.91650</td>\n",
       "      <td>53</td>\n",
       "      <td>orf1ab</td>\n",
       "      <td>C&gt;T</td>\n",
       "      <td>Ser2839Ser</td>\n",
       "      <td>synonymous</td>\n",
       "      <td>USA/WI-UW-67/2020</td>\n",
       "      <td>Dane County</td>\n",
       "      <td>19B</td>\n",
       "      <td>not</td>\n",
       "      <td>[]</td>\n",
       "      <td>snv</td>\n",
       "      <td>2839</td>\n",
       "      <td>Ser</td>\n",
       "      <td>Ser</td>\n",
       "      <td>C</td>\n",
       "      <td>T</td>\n",
       "      <td>C8782T</td>\n",
       "      <td>0.08350</td>\n",
       "      <td>T</td>\n",
       "      <td>C</td>\n",
       "      <td>Ser</td>\n",
       "      <td>Ser</td>\n",
       "      <td>T8782C</td>\n",
       "      <td>orf1ab_Ser2839Ser</td>\n",
       "    </tr>\n",
       "    <tr>\n",
       "      <th>11</th>\n",
       "      <td>21</td>\n",
       "      <td>orf1ab_G&gt;A_Val5373Ile_missense</td>\n",
       "      <td>16381.0</td>\n",
       "      <td>0.9115</td>\n",
       "      <td>0.9512</td>\n",
       "      <td>0.93135</td>\n",
       "      <td>53</td>\n",
       "      <td>orf1ab</td>\n",
       "      <td>G&gt;A</td>\n",
       "      <td>Val5373Ile</td>\n",
       "      <td>missense</td>\n",
       "      <td>USA/WI-UW-67/2020</td>\n",
       "      <td>Dane County</td>\n",
       "      <td>19B</td>\n",
       "      <td>not</td>\n",
       "      <td>[]</td>\n",
       "      <td>snv</td>\n",
       "      <td>5373</td>\n",
       "      <td>Val</td>\n",
       "      <td>Ile</td>\n",
       "      <td>G</td>\n",
       "      <td>A</td>\n",
       "      <td>G16381A</td>\n",
       "      <td>0.06865</td>\n",
       "      <td>A</td>\n",
       "      <td>G</td>\n",
       "      <td>Ile</td>\n",
       "      <td>Val</td>\n",
       "      <td>A16381G</td>\n",
       "      <td>orf1ab_Ile5373Val</td>\n",
       "    </tr>\n",
       "    <tr>\n",
       "      <th>12</th>\n",
       "      <td>22</td>\n",
       "      <td>orf1ab_T&gt;C_Thr5871Thr_synonymous</td>\n",
       "      <td>17877.0</td>\n",
       "      <td>0.9542</td>\n",
       "      <td>0.9487</td>\n",
       "      <td>0.95145</td>\n",
       "      <td>53</td>\n",
       "      <td>orf1ab</td>\n",
       "      <td>T&gt;C</td>\n",
       "      <td>Thr5871Thr</td>\n",
       "      <td>synonymous</td>\n",
       "      <td>USA/WI-UW-67/2020</td>\n",
       "      <td>Dane County</td>\n",
       "      <td>19B</td>\n",
       "      <td>not</td>\n",
       "      <td>[]</td>\n",
       "      <td>snv</td>\n",
       "      <td>5871</td>\n",
       "      <td>Thr</td>\n",
       "      <td>Thr</td>\n",
       "      <td>T</td>\n",
       "      <td>C</td>\n",
       "      <td>T17877C</td>\n",
       "      <td>0.04855</td>\n",
       "      <td>C</td>\n",
       "      <td>T</td>\n",
       "      <td>Thr</td>\n",
       "      <td>Thr</td>\n",
       "      <td>C17877T</td>\n",
       "      <td>orf1ab_Thr5871Thr</td>\n",
       "    </tr>\n",
       "    <tr>\n",
       "      <th>14</th>\n",
       "      <td>27</td>\n",
       "      <td>orf1ab_C&gt;T_Phe6684Phe_synonymous</td>\n",
       "      <td>20316.0</td>\n",
       "      <td>0.9173</td>\n",
       "      <td>0.9239</td>\n",
       "      <td>0.92060</td>\n",
       "      <td>53</td>\n",
       "      <td>orf1ab</td>\n",
       "      <td>C&gt;T</td>\n",
       "      <td>Phe6684Phe</td>\n",
       "      <td>synonymous</td>\n",
       "      <td>USA/WI-UW-67/2020</td>\n",
       "      <td>Dane County</td>\n",
       "      <td>19B</td>\n",
       "      <td>not</td>\n",
       "      <td>[]</td>\n",
       "      <td>snv</td>\n",
       "      <td>6684</td>\n",
       "      <td>Phe</td>\n",
       "      <td>Phe</td>\n",
       "      <td>C</td>\n",
       "      <td>T</td>\n",
       "      <td>C20316T</td>\n",
       "      <td>0.07940</td>\n",
       "      <td>T</td>\n",
       "      <td>C</td>\n",
       "      <td>Phe</td>\n",
       "      <td>Phe</td>\n",
       "      <td>T20316C</td>\n",
       "      <td>orf1ab_Phe6684Phe</td>\n",
       "    </tr>\n",
       "    <tr>\n",
       "      <th>15</th>\n",
       "      <td>33</td>\n",
       "      <td>ORF3a_G&gt;T_Pro36Pro_synonymous</td>\n",
       "      <td>25500.0</td>\n",
       "      <td>0.9557</td>\n",
       "      <td>0.9679</td>\n",
       "      <td>0.96180</td>\n",
       "      <td>53</td>\n",
       "      <td>ORF3a</td>\n",
       "      <td>G&gt;T</td>\n",
       "      <td>Pro36Pro</td>\n",
       "      <td>synonymous</td>\n",
       "      <td>USA/WI-UW-67/2020</td>\n",
       "      <td>Dane County</td>\n",
       "      <td>19B</td>\n",
       "      <td>not</td>\n",
       "      <td>[]</td>\n",
       "      <td>snv</td>\n",
       "      <td>36</td>\n",
       "      <td>Pro</td>\n",
       "      <td>Pro</td>\n",
       "      <td>G</td>\n",
       "      <td>T</td>\n",
       "      <td>G25500T</td>\n",
       "      <td>0.03820</td>\n",
       "      <td>T</td>\n",
       "      <td>G</td>\n",
       "      <td>Pro</td>\n",
       "      <td>Pro</td>\n",
       "      <td>T25500G</td>\n",
       "      <td>ORF3a_Pro36Pro</td>\n",
       "    </tr>\n",
       "  </tbody>\n",
       "</table>\n",
       "</div>"
      ],
      "text/plain": [
       "   Unnamed: 0                               SNP    POS_x  rep1_percent  \\\n",
       "3           8  orf1ab_C>T_Ser2839Ser_synonymous   8782.0        0.9411   \n",
       "11         21    orf1ab_G>A_Val5373Ile_missense  16381.0        0.9115   \n",
       "12         22  orf1ab_T>C_Thr5871Thr_synonymous  17877.0        0.9542   \n",
       "14         27  orf1ab_C>T_Phe6684Phe_synonymous  20316.0        0.9173   \n",
       "15         33     ORF3a_G>T_Pro36Pro_synonymous  25500.0        0.9557   \n",
       "\n",
       "    rep2_percent  frequency sampleid    gene nt_change   aa_change  \\\n",
       "3         0.8919    0.91650       53  orf1ab       C>T  Ser2839Ser   \n",
       "11        0.9512    0.93135       53  orf1ab       G>A  Val5373Ile   \n",
       "12        0.9487    0.95145       53  orf1ab       T>C  Thr5871Thr   \n",
       "14        0.9239    0.92060       53  orf1ab       C>T  Phe6684Phe   \n",
       "15        0.9679    0.96180       53   ORF3a       G>T    Pro36Pro   \n",
       "\n",
       "    annotation        strain_name     location clade homopolymer  \\\n",
       "3   synonymous  USA/WI-UW-67/2020  Dane County   19B         not   \n",
       "11    missense  USA/WI-UW-67/2020  Dane County   19B         not   \n",
       "12  synonymous  USA/WI-UW-67/2020  Dane County   19B         not   \n",
       "14  synonymous  USA/WI-UW-67/2020  Dane County   19B         not   \n",
       "15  synonymous  USA/WI-UW-67/2020  Dane County   19B         not   \n",
       "\n",
       "   homopolymer_base type_of_variant aa_site wt_aa mut_aa nt_ref nt_mut  \\\n",
       "3                []             snv    2839   Ser    Ser      C      T   \n",
       "11               []             snv    5373   Val    Ile      G      A   \n",
       "12               []             snv    5871   Thr    Thr      T      C   \n",
       "14               []             snv    6684   Phe    Phe      C      T   \n",
       "15               []             snv      36   Pro    Pro      G      T   \n",
       "\n",
       "   nuc_muts  minor_frequency consensus_base minor_base consensus_aa minor_aa  \\\n",
       "3    C8782T          0.08350              T          C          Ser      Ser   \n",
       "11  G16381A          0.06865              A          G          Ile      Val   \n",
       "12  T17877C          0.04855              C          T          Thr      Thr   \n",
       "14  C20316T          0.07940              T          C          Phe      Phe   \n",
       "15  G25500T          0.03820              T          G          Pro      Pro   \n",
       "\n",
       "   minor_nuc_muts      minor_aa_muts  \n",
       "3          T8782C  orf1ab_Ser2839Ser  \n",
       "11        A16381G  orf1ab_Ile5373Val  \n",
       "12        C17877T  orf1ab_Thr5871Thr  \n",
       "14        T20316C  orf1ab_Phe6684Phe  \n",
       "15        T25500G     ORF3a_Pro36Pro  "
      ]
     },
     "execution_count": 297,
     "metadata": {},
     "output_type": "execute_result"
    }
   ],
   "source": [
    "pd.set_option('display.max_columns', 35)\n",
    "\n",
    "#snvs_only.to_csv(\"/Users/lmoncla/src/ncov-WI-within-host/data/all-WI-snvs.tsv\", sep=\"\\t\")\n",
    "snvs_only.head()"
   ]
  },
  {
   "cell_type": "code",
   "execution_count": 298,
   "metadata": {},
   "outputs": [
    {
     "data": {
      "text/plain": [
       "Index(['Unnamed: 0', 'SNP', 'POS_x', 'rep1_percent', 'rep2_percent',\n",
       "       'frequency', 'sampleid', 'gene', 'nt_change', 'aa_change', 'annotation',\n",
       "       'strain_name', 'location', 'clade', 'homopolymer', 'homopolymer_base',\n",
       "       'type_of_variant', 'aa_site', 'wt_aa', 'mut_aa', 'nt_ref', 'nt_mut',\n",
       "       'nuc_muts', 'minor_frequency', 'consensus_base', 'minor_base',\n",
       "       'consensus_aa', 'minor_aa', 'minor_nuc_muts', 'minor_aa_muts'],\n",
       "      dtype='object')"
      ]
     },
     "execution_count": 298,
     "metadata": {},
     "output_type": "execute_result"
    }
   ],
   "source": [
    "snvs_only.columns"
   ]
  },
  {
   "cell_type": "code",
   "execution_count": 299,
   "metadata": {},
   "outputs": [
    {
     "name": "stdout",
     "output_type": "stream",
     "text": [
      "{'missense', 'intergenic_region', 'synonymous'}\n",
      "{'conservative-inframe-deletion', 'frameshift', 'frameshift&stop', 'intergenic_region'}\n"
     ]
    }
   ],
   "source": [
    "# double check that no variant classes have been misclassified (this happened occasionally when the vcf formatting changed)\n",
    "print(set(snvs_only['annotation'].tolist()))\n",
    "print(set(indels_only['annotation'].tolist()))"
   ]
  },
  {
   "cell_type": "code",
   "execution_count": 300,
   "metadata": {},
   "outputs": [],
   "source": [
    "def classify_Wh1_reversion(row):\n",
    "    minor_variant = row['minor_nuc_muts']\n",
    "    wh_variant = row['nuc_muts']\n",
    "    \n",
    "    if minor_variant == wh_variant:\n",
    "        wh_reversion = \"no\"\n",
    "    else:\n",
    "        wh_reversion = \"yes\"\n",
    "    \n",
    "    return(wh_reversion)"
   ]
  },
  {
   "cell_type": "code",
   "execution_count": 301,
   "metadata": {},
   "outputs": [
    {
     "name": "stdout",
     "output_type": "stream",
     "text": [
      "{'no', 'yes'}\n"
     ]
    }
   ],
   "source": [
    "# I'm going to try something where I classify SNVs based on whether they are a mostly fixed variant or not \n",
    "snvs_only['Wuhan1_reversion'] = snvs_only.apply(classify_Wh1_reversion, axis=1)\n",
    "indels_only['Wuhan1_reversion'] = indels_only.apply(classify_Wh1_reversion, axis=1)\n",
    "print(set(indels_only['Wuhan1_reversion'].tolist()))"
   ]
  },
  {
   "cell_type": "code",
   "execution_count": 302,
   "metadata": {},
   "outputs": [
    {
     "name": "stdout",
     "output_type": "stream",
     "text": [
      "{'in', 'not', 'adjacent'}\n"
     ]
    }
   ],
   "source": [
    "snvs_only[snvs_only['homopolymer']=='no_consensus']\n",
    "print(set(snvs_only['homopolymer'].tolist()))"
   ]
  },
  {
   "cell_type": "markdown",
   "metadata": {},
   "source": [
    "## Plot the number of times detected vs. the number of variants\n",
    "\n",
    "I would like a simple summary plot to show the number of variants that are detected x number of times. "
   ]
  },
  {
   "cell_type": "code",
   "execution_count": 323,
   "metadata": {},
   "outputs": [
    {
     "name": "stdout",
     "output_type": "stream",
     "text": [
      "226 25\n"
     ]
    }
   ],
   "source": [
    "# count up all the snvs and amino acid mutations that are repeated\n",
    "s_counts = snvs_only[variant_column].value_counts().rename_axis('SNV').reset_index(name='counts')\n",
    "i_counts = indels_only[variant_column].value_counts().rename_axis('SNV').reset_index(name='counts')\n",
    "\n",
    "print(len(s), len(i))"
   ]
  },
  {
   "cell_type": "code",
   "execution_count": 324,
   "metadata": {},
   "outputs": [
    {
     "data": {
      "text/html": [
       "<div>\n",
       "<style scoped>\n",
       "    .dataframe tbody tr th:only-of-type {\n",
       "        vertical-align: middle;\n",
       "    }\n",
       "\n",
       "    .dataframe tbody tr th {\n",
       "        vertical-align: top;\n",
       "    }\n",
       "\n",
       "    .dataframe thead th {\n",
       "        text-align: right;\n",
       "    }\n",
       "</style>\n",
       "<table border=\"1\" class=\"dataframe\">\n",
       "  <thead>\n",
       "    <tr style=\"text-align: right;\">\n",
       "      <th></th>\n",
       "      <th>SNV</th>\n",
       "      <th>counts</th>\n",
       "    </tr>\n",
       "  </thead>\n",
       "  <tbody>\n",
       "    <tr>\n",
       "      <th>0</th>\n",
       "      <td>CHRSTART-orf1ab_NANANA</td>\n",
       "      <td>150</td>\n",
       "    </tr>\n",
       "    <tr>\n",
       "      <th>1</th>\n",
       "      <td>orf1ab_Phe924Phe</td>\n",
       "      <td>47</td>\n",
       "    </tr>\n",
       "    <tr>\n",
       "      <th>2</th>\n",
       "      <td>orf1ab_Leu4715Pro</td>\n",
       "      <td>42</td>\n",
       "    </tr>\n",
       "    <tr>\n",
       "      <th>3</th>\n",
       "      <td>orf1ab_Gln4962His</td>\n",
       "      <td>22</td>\n",
       "    </tr>\n",
       "    <tr>\n",
       "      <th>4</th>\n",
       "      <td>orf1ab_Phe6684Phe</td>\n",
       "      <td>13</td>\n",
       "    </tr>\n",
       "  </tbody>\n",
       "</table>\n",
       "</div>"
      ],
      "text/plain": [
       "                      SNV  counts\n",
       "0  CHRSTART-orf1ab_NANANA     150\n",
       "1        orf1ab_Phe924Phe      47\n",
       "2       orf1ab_Leu4715Pro      42\n",
       "3       orf1ab_Gln4962His      22\n",
       "4       orf1ab_Phe6684Phe      13"
      ]
     },
     "execution_count": 324,
     "metadata": {},
     "output_type": "execute_result"
    }
   ],
   "source": [
    "# count up all the snvs and amino acid mutations that are repeated\n",
    "s_aa = snvs_only['minor_aa_muts'].value_counts().rename_axis('SNV').reset_index(name='counts')\n",
    "i_aa = indels_only['minor_aa_muts'].value_counts().rename_axis('SNV').reset_index(name='counts')\n",
    "s_aa.head()"
   ]
  },
  {
   "cell_type": "code",
   "execution_count": 325,
   "metadata": {},
   "outputs": [
    {
     "name": "stdout",
     "output_type": "stream",
     "text": [
      "251\n"
     ]
    }
   ],
   "source": [
    "# add together for a variants dataframe\n",
    "v = s_counts.append(i_counts)\n",
    "v.dropna(inplace=True)\n",
    "print(len(v))"
   ]
  },
  {
   "cell_type": "code",
   "execution_count": 326,
   "metadata": {},
   "outputs": [
    {
     "name": "stdout",
     "output_type": "stream",
     "text": [
      "20\n"
     ]
    },
    {
     "data": {
      "text/html": [
       "<div>\n",
       "<style scoped>\n",
       "    .dataframe tbody tr th:only-of-type {\n",
       "        vertical-align: middle;\n",
       "    }\n",
       "\n",
       "    .dataframe tbody tr th {\n",
       "        vertical-align: top;\n",
       "    }\n",
       "\n",
       "    .dataframe thead th {\n",
       "        text-align: right;\n",
       "    }\n",
       "</style>\n",
       "<table border=\"1\" class=\"dataframe\">\n",
       "  <thead>\n",
       "    <tr style=\"text-align: right;\">\n",
       "      <th></th>\n",
       "      <th>times_detected</th>\n",
       "      <th>number_variants</th>\n",
       "      <th>proportion_variants</th>\n",
       "    </tr>\n",
       "  </thead>\n",
       "  <tbody>\n",
       "    <tr>\n",
       "      <th>0</th>\n",
       "      <td>1</td>\n",
       "      <td>172</td>\n",
       "      <td>0.685259</td>\n",
       "    </tr>\n",
       "    <tr>\n",
       "      <th>1</th>\n",
       "      <td>2</td>\n",
       "      <td>31</td>\n",
       "      <td>0.123506</td>\n",
       "    </tr>\n",
       "    <tr>\n",
       "      <th>2</th>\n",
       "      <td>3</td>\n",
       "      <td>17</td>\n",
       "      <td>0.067729</td>\n",
       "    </tr>\n",
       "    <tr>\n",
       "      <th>3</th>\n",
       "      <td>4</td>\n",
       "      <td>6</td>\n",
       "      <td>0.023904</td>\n",
       "    </tr>\n",
       "    <tr>\n",
       "      <th>4</th>\n",
       "      <td>5</td>\n",
       "      <td>5</td>\n",
       "      <td>0.019920</td>\n",
       "    </tr>\n",
       "  </tbody>\n",
       "</table>\n",
       "</div>"
      ],
      "text/plain": [
       "   times_detected  number_variants  proportion_variants\n",
       "0               1              172             0.685259\n",
       "1               2               31             0.123506\n",
       "2               3               17             0.067729\n",
       "3               4                6             0.023904\n",
       "4               5                5             0.019920"
      ]
     },
     "execution_count": 326,
     "metadata": {},
     "output_type": "execute_result"
    }
   ],
   "source": [
    "# now, output counts for the number of times variants are detected \n",
    "v_counts = pd.DataFrame(v['counts'].value_counts())\n",
    "v_counts.reset_index(inplace=True)\n",
    "v_counts.columns = ['times_detected','number_variants']\n",
    "v_counts['proportion_variants'] = v_counts['number_variants']/sum(v_counts['number_variants'])\n",
    "\n",
    "print(len(v_counts))\n",
    "v_counts.head()"
   ]
  },
  {
   "cell_type": "code",
   "execution_count": 327,
   "metadata": {},
   "outputs": [
    {
     "name": "stdout",
     "output_type": "stream",
     "text": [
      "11\n"
     ]
    }
   ],
   "source": [
    "# what fraction of total variants are found in at least 10 samples? \n",
    "print(len(v_counts[v_counts['times_detected'] >= 10]))"
   ]
  },
  {
   "cell_type": "code",
   "execution_count": 310,
   "metadata": {},
   "outputs": [
    {
     "data": {
      "image/png": "[encoded data removed]"
     },
     "metadata": {},
     "output_type": "display_data"
    }
   ],
   "source": [
    "%%R -w 1000 -h 500 -u px -i v_counts,variant_percent,current_date # this sets the size of the plot...otherwise, it will go off the page\\n\",\n",
    "require(ggplot2)\n",
    "library(ggplot2)\n",
    "\n",
    "output_filename = paste(\"variants-vs-times-detected-\",variant_percent,\"percent-\",current_date,\".pdf\", sep=\"\")\n",
    "v_counts$number_variants = as.numeric(v_counts$number_variants)\n",
    "v_counts$times_detected = as.numeric(v_counts$times_detected)\n",
    "\n",
    "p2 <- ggplot(v_counts, aes(x=times_detected, y=number_variants))+\n",
    "    geom_col(fill=\"#8B8B8B\")+\n",
    "    #geom_text(aes(x=SNV_f, y=max_count + 2, label=homopolymer_base))+\n",
    "    #scale_fill_manual(values=c(in_hp=ns_color, not_in_hp=s_color,adjacent=fs_color,no_consensus=\"grey70\"), labels=c(in_hp=\"in homopolymer region\",not_in_hp=\"not in homopolymer region\",adjacent=\"1 nt away from homopolymer\",no_consensus=\"missing consensus\"))+\n",
    "    theme(panel.grid.major=element_line(colour=NA,size=NA))+\n",
    "    theme(panel.grid.minor=element_line(colour=NA,size=NA))+\n",
    "    scale_y_continuous(limits=c(0,180), breaks=seq(0,180,30))+\n",
    "    scale_x_continuous(breaks=seq(0,100,10), labels=c(\"0\",\"\",\"20\",\"\",\"40\",\"\",\"60\",\"\",\"80\",\"\",\"100\"))+\n",
    "    theme(plot.title=element_text(size=13))+\n",
    "    theme(strip.background = element_rect(colour=NA, fill=NA))+\n",
    "    theme(plot.margin=unit(c(0.1,0.1,0.1,0.1),\"cm\"))+\n",
    "    theme(axis.line.x=element_line(colour=\"black\"))+\n",
    "    theme(axis.line.y=element_line(colour=\"black\"))+\n",
    "    theme(axis.title.y=element_text(size=20, hjust=0.5, vjust=0.5))+\n",
    "    theme(axis.title.x=element_text(size=20, vjust=0.5))+\n",
    "    theme(axis.text.y=element_text(size=20, colour=\"black\"))+\n",
    "    theme(axis.text.x=element_text(hjust=0.5, vjust=0.5, size=20,colour=\"black\"))+\n",
    "    theme(legend.text=element_text(size=16))+\n",
    "    theme(legend.title=element_blank())+\n",
    "    #theme(legend.position = c(0.9, 0.6))+ # (0,0) is bottom left, (1,1) is top right\n",
    "    theme(panel.margin=unit(1, \"lines\"))+\n",
    "    theme(legend.key.size=unit(0.55, \"cm\"))+\n",
    "    theme(panel.background=element_rect(fill=NA))+\n",
    "    theme(legend.key=element_rect(fill=NA))+\n",
    "    labs(x=\"\\nsamples sharing variant\",y=\"number of variants\\n\")\n",
    "#       scale_y_continuous(limits=c(-0.1,1.2), breaks=seq(0,1.2,0.2))+\n",
    "\n",
    "\n",
    "ggsave(output_filename, p2, width = 6, height = 4, path=\"../figures/individual-pdfs/\")\n",
    "p2"
   ]
  },
  {
   "cell_type": "code",
   "execution_count": null,
   "metadata": {},
   "outputs": [],
   "source": []
  },
  {
   "cell_type": "code",
   "execution_count": 34,
   "metadata": {},
   "outputs": [
    {
     "data": {
      "image/png": "[encoded data removed]"
     },
     "metadata": {},
     "output_type": "display_data"
    }
   ],
   "source": [
    "%%R -w 1000 -h 500 -u px -i v_counts,variant_percent,current_date,s_color,ns_color,stop_color,fs_color,fs_stop_color # this sets the size of the plot...otherwise, it will go off the page\\n\",\n",
    "require(ggplot2)\n",
    "library(ggplot2)\n",
    "\n",
    "output_filename = paste(\"variants-vs-times-detected-proportions-\",variant_percent,\"percent-\",current_date,\".pdf\", sep=\"\")\n",
    "v_counts$number_variants = as.numeric(v_counts$number_variants)\n",
    "v_counts$times_detected = as.numeric(v_counts$times_detected)\n",
    "\n",
    "p2 <- ggplot(v_counts, aes(x=times_detected, y=proportion_variants))+\n",
    "    geom_col(fill=\"#8B8B8B\")+\n",
    "    #geom_text(aes(x=SNV_f, y=max_count + 2, label=homopolymer_base))+\n",
    "    #scale_fill_manual(values=c(in_hp=ns_color, not_in_hp=s_color,adjacent=fs_color,no_consensus=\"grey70\"), labels=c(in_hp=\"in homopolymer region\",not_in_hp=\"not in homopolymer region\",adjacent=\"1 nt away from homopolymer\",no_consensus=\"missing consensus\"))+\n",
    "    theme(panel.grid.major=element_line(colour=NA,size=NA))+\n",
    "    theme(panel.grid.minor=element_line(colour=NA,size=NA))+\n",
    "    scale_y_continuous(limits=c(0,0.8), breaks=seq(0,0.8,0.2))+\n",
    "    scale_x_continuous(breaks=seq(0,100,10))+\n",
    "    theme(plot.title=element_text(size=13))+\n",
    "    theme(strip.background = element_rect(colour=NA, fill=NA))+\n",
    "    theme(plot.margin=unit(c(0.1,0.1,0.1,0.1),\"cm\"))+\n",
    "    theme(axis.line.x=element_line(colour=\"black\"))+\n",
    "    theme(axis.line.y=element_line(colour=\"black\"))+\n",
    "    theme(axis.title.y=element_text(size=20, hjust=0.5, vjust=0.5))+\n",
    "    theme(axis.title.x=element_text(size=20, vjust=0.5))+\n",
    "    theme(axis.text.y=element_text(size=20, colour=\"black\"))+\n",
    "    theme(axis.text.x=element_text(hjust=0.5, vjust=0.5, size=20,colour=\"black\"))+\n",
    "    theme(legend.text=element_text(size=16))+\n",
    "    theme(legend.title=element_blank())+\n",
    "    #theme(legend.position = c(0.9, 0.6))+ # (0,0) is bottom left, (1,1) is top right\n",
    "    theme(panel.margin=unit(1, \"lines\"))+\n",
    "    theme(legend.key.size=unit(0.55, \"cm\"))+\n",
    "    theme(panel.background=element_rect(fill=NA))+\n",
    "    theme(legend.key=element_rect(fill=NA))+\n",
    "    labs(x=\"\\nsamples sharing variant\",y=\"proportion of variants\\n\")\n",
    "#       scale_y_continuous(limits=c(-0.1,1.2), breaks=seq(0,1.2,0.2))+\n",
    "\n",
    "\n",
    "ggsave(output_filename, p2, width = 9, height = 5, path=\"../figures/individual-pdfs/\")\n",
    "p2"
   ]
  },
  {
   "cell_type": "code",
   "execution_count": null,
   "metadata": {},
   "outputs": [],
   "source": []
  },
  {
   "cell_type": "markdown",
   "metadata": {},
   "source": [
    "## Write out a little annotations file to drag and drop onto tree"
   ]
  },
  {
   "cell_type": "code",
   "execution_count": 328,
   "metadata": {},
   "outputs": [],
   "source": [
    "# output a csv that could be used to layer on top of nextstrain to visualize if particular strains have \n",
    "# particular within-host mutations\n",
    "def return_dataframe_for_nextstrain(df, order_of_snvs):\n",
    "    \n",
    "    dataframe_to_return = pd.DataFrame()\n",
    "    \n",
    "    for strain in set(df['strain_name'].tolist()):\n",
    "        x = df[df['strain_name'] == strain]\n",
    "        wh_muts = x['minor_nuc_muts'].tolist()\n",
    "        \n",
    "        for s in order_of_snvs: \n",
    "            if s in wh_muts: \n",
    "                presence = \"yes\"\n",
    "            else:\n",
    "                presence = \"no\"\n",
    "                \n",
    "            local_df = pd.DataFrame.from_dict({\"name\":[strain],\"within-host mutation\":[s],\"presence\":[presence]})\n",
    "            dataframe_to_return = dataframe_to_return.append(local_df)\n",
    "            \n",
    "    return(dataframe_to_return)"
   ]
  },
  {
   "cell_type": "code",
   "execution_count": 316,
   "metadata": {},
   "outputs": [],
   "source": [
    "df_for_nextstrain = return_dataframe_for_nextstrain(snvs_only, order_of_snvs)\n",
    "df_for_nextstrain = df_for_nextstrain.pivot(index='name',columns='within-host mutation')\n",
    "df_for_nextstrain.reset_index(inplace=True)\n",
    "\n",
    "df_for_nextstrain.to_csv(\"../annotations-\"+variant_percent+\"%-\"+current_date+\".csv\")"
   ]
  },
  {
   "cell_type": "code",
   "execution_count": null,
   "metadata": {},
   "outputs": [],
   "source": []
  },
  {
   "cell_type": "markdown",
   "metadata": {},
   "source": [
    "# Plot shared variants\n",
    "\n",
    "I would now like to know/plot the following: \n",
    "1. what are these shared variants?\n",
    "2. Do these shared variants predominantly occur within or adjacent to homopolymer regions?\n",
    "3. Are these variants found in other datasets? \n",
    "4. Which of these variants are clade-defining mutations that are nearly fixed?"
   ]
  },
  {
   "cell_type": "code",
   "execution_count": 329,
   "metadata": {
    "scrolled": true
   },
   "outputs": [
    {
     "name": "stdout",
     "output_type": "stream",
     "text": [
      "['T241C', 'T3037C', 'T14408C', 'G15150T', 'T20316C', 'T8782C', 'C3931T', 'G15168A', 'C17877T', 'C696A', 'T4226C', 'A16381G', 'C7837A', 'C15354T', 'T25500G', 'G23403A', 'T17C', 'C21T', 'A26G', 'C28T', 'C15157A', 'C15141A', 'A22T', 'T25C', 'T2A', 'T18877C', 'C21G', 'T10C', 'G23A', 'A28881G', 'T25563G', 'T10279C', 'C28883G', 'T12880C', 'A28882G', 'C7513T', 'T20148C', 'C15T', 'T2035G', 'T12025C', 'G13T', 'A20056G', 'C2T', 'C241T', 'A2549G', 'T9448C', 'C29077T', 'T3871G', 'C21575T', 'C14A', 'T10G', 'G23C', 'T9A', 'C20T', 'T6500C', 'C3037T', 'G7T', 'T1A', 'C29627T', 'T5A', 'A4T', 'T28854C', 'A15139C', 'C12A', 'G23T', 'C20G', 'T7420C', 'T29711G', 'C7G', 'T18A', 'T14937C', 'C16G']\n",
      "['-6696T', '-15965T', '-19983T', '-18368T', 'AAGTCATTT685-', '-28214T', '-196CGGTTTCGTCCGT']\n"
     ]
    }
   ],
   "source": [
    "snvs_more_than_once = s[s['counts'] > 1]\n",
    "order_of_snvs = snvs_more_than_once['SNV'].tolist() #[::4]\n",
    "\n",
    "indels_more_than_once = i[i['counts'] > 1]\n",
    "order_of_indels = indels_more_than_once['SNV'].tolist()# [::4]\n",
    "\n",
    "\n",
    "print(order_of_snvs)\n",
    "print(order_of_indels)"
   ]
  },
  {
   "cell_type": "code",
   "execution_count": 440,
   "metadata": {},
   "outputs": [
    {
     "name": "stdout",
     "output_type": "stream",
     "text": [
      "['-6696T', '-15965T', 'T241C', 'T3037C', 'T14408C', 'G15150T', '-19983T', '-18368T', 'T20316C', 'T8782C', 'G15168A', 'C3931T', 'C17877T', 'T4226C', 'C7837A', 'C696A', 'A16381G', 'C15354T', 'T25500G', 'G23403A', 'T17C', 'C28T', 'C21T', 'AAGTCATTT685-', 'A26G', 'T2A', 'T25C', 'T18877C', 'C15157A', 'C15141A', 'A22T', 'T25563G', 'T2035G', 'T20148C', 'T12880C', 'T12025C', 'T10C', 'T10279C', 'G23A', 'G13T', 'C7513T', 'C28883G', 'C21G', 'C15T', 'A28882G', 'A28881G', 'A20056G', '-28214T', 'T9A', 'T9448C', 'T7420C', 'T6500C', 'T5A', 'T3871G', 'T29711G', 'T28854C', 'T1A', 'T18A', 'T14937C', 'T10G', 'G7T', 'G23T', 'G23C', 'C7G', 'C3037T', 'C2T', 'C29627T', 'C29077T', 'C241T', 'C21575T', 'C20T', 'C20G', 'C16G', 'C14A', 'C12A', 'A4T', 'A2549G', 'A15139C', '-196CGGTTTCGTCCGT']\n",
      "79\n"
     ]
    }
   ],
   "source": [
    "# make a combined dataframe to plot shared indels and SNVs together\n",
    "variants_more_than_once = snvs_more_than_once.append(indels_more_than_once)\n",
    "variants_more_than_once = variants_more_than_once.sort_values(by=['counts','SNV'], ascending=False)\n",
    "\n",
    "order_of_variants = variants_more_than_once['SNV'].tolist()#[::4]\n",
    "print(order_of_variants)\n",
    "print(len(order_of_variants))"
   ]
  },
  {
   "cell_type": "markdown",
   "metadata": {},
   "source": [
    "## Homopolymer classifications\n",
    "\n",
    "Add in the counts of each variant and how many times it is found within a homopolymer region or not"
   ]
  },
  {
   "cell_type": "code",
   "execution_count": 331,
   "metadata": {},
   "outputs": [],
   "source": [
    "def return_homopolymer_counts_of_variants(df):\n",
    "    \n",
    "    df_to_return = pd.DataFrame()\n",
    "    \n",
    "    for m in set(df[variant_column].tolist()):\n",
    "        local_df = df[df[variant_column] == m]\n",
    "        annotations = local_df['homopolymer'].tolist()\n",
    "        homopolymer_base = local_df['homopolymer_base'].tolist()\n",
    "        flat_list = [item for sublist in homopolymer_base for item in sublist]\n",
    "\n",
    "        if len(flat_list) >= 1:\n",
    "            hp_base = flat_list[0]\n",
    "        elif len(flat_list) == 0:\n",
    "            hp_base = \"\"\n",
    "        else:\n",
    "            print(flat_list)\n",
    "\n",
    "        total_count = len(local_df)\n",
    "        count_in = annotations.count(\"in\") + annotations.count(\"adjacent\")\n",
    "        count_not = annotations.count(\"not\")\n",
    "\n",
    "        x = pd.DataFrame.from_dict({\"SNV\":[m],\"counts\":[total_count],\"homopolymer_classified_counts\":[count_in],\"homopolymer_class\":[\"in_hp\"], \"homopolymer_base\":[hp_base]})\n",
    "        y = pd.DataFrame.from_dict({\"SNV\":[m],\"counts\":[total_count],\"homopolymer_classified_counts\":[count_not],\"homopolymer_class\":[\"not_in_hp\"], \"homopolymer_base\":[hp_base]})\n",
    "\n",
    "        df_to_return = df_to_return.append(x.append(y))\n",
    "        \n",
    "        \n",
    "    return(df_to_return)"
   ]
  },
  {
   "cell_type": "markdown",
   "metadata": {},
   "source": [
    "## Compare to de Maio masked sites\n",
    "\n",
    "Using the list of putative masked variants [here](http://virological.org/t/issues-with-sars-cov-2-sequencing-data/473), see if any of these sites are present in the within-host data. \n",
    "\n",
    "**They recommend this:**\n",
    "\n",
    "*Secondly, we propose masking sites that appear to be highly homoplasic and have no phylogenetic signal and/or low prevalence – these can be recurrent artefacts, or otherwise hypermutable low-fitness sites that might similarly cause phylogenetic noise. A current list of these is:\n",
    "187, 1059, 2094, 3037, 3130, 6990, 8022, 10323, 10741, 11074, 13408, 14786, 19684, 20148, 21137, 24034, 24378, 25563, 26144, 26461, 26681, 28077, 28826, 28854, 29700.\n",
    "We provide technical details of how these sites were identified below, however please note that all lists of sites outlined here are a work in progress, and might be affected by many choices made in the preliminary phylogenetic steps.*\n",
    "\n",
    "*In addition, we suggest masking any homoplasic positions that are exclusive to a single sequencing lab or geographic location, regardless of phylogenetic signal. Here the phylogenetic signal might be caused by a common source of error (among other things). Our current list is:\n",
    "4050, 13402.*\n",
    "\n",
    "*We also recommend masking of positions that, despite having strong phylogenetic signal, are also strongly homoplasic. These may be caused by hypermutability at certain positions, although it is hard to rule out any possibility for now. Our current list is:\n",
    "11083, 15324, 21575*\n",
    "\n",
    "\n",
    "This paragraph of that blog is particularly useful. They split up all of the consensus sequences into those generated by nanopore, Illumina, or by KU Leuven. This is what they found: \n",
    "\n",
    "*We re-analysed these 3 datasets individually using TreeTime. The most predominant homoplasies were common across technology and country, including G11083T, C16887T, C21575T and C15324T. Others were exclusive to Illumina (most remarkably C11074T, C6990T, C29353T, and C29774T) while others were exclusive to nanopore. Surprisingly dataset C contained more homoplasies than B (Figure 8), of which many are mutations only found in C (e.g. T13402G, A4050C, T13408C, T8022G, C3130T, T28785G). Each of these homoplasies could in principle also be caused by issues with phylogenetic inference, which itself can be affected by homoplasic substitutions.*\n",
    "\n",
    "They also note that some of these recurrent mutations, like at 11083 and 11074 extend long homopolymer T regions. 11074 is also Illumina specific in their analysis. They note that 11083 reverts multiple times on the tree as well."
   ]
  },
  {
   "cell_type": "code",
   "execution_count": 334,
   "metadata": {},
   "outputs": [],
   "source": [
    "def return_de_Maio_classification(SNV):\n",
    "    masked_sites = [187, 1059, 2094, 3037, 3130, 6990, 8022, 10323, 10741, 11074, 13408, 14786, 19684, 20148, 21137, 24034, 24378, 25563, 26144, 26461, 26681, 28077, 28826, 28854, 29700]\n",
    "    lab_specific = [4050, 13402]\n",
    "    homoplasic = [11083, 15324, 21575]\n",
    "    illumina_specific = [\"C11074T\", \"C6990T\", \"C29353T\", \"C29774T\"]\n",
    "    \n",
    "    # remove all nondigits\n",
    "    site = int(''.join(filter(str.isdigit, SNV)))\n",
    "    if SNV in illumina_specific: \n",
    "        annotation = \"illumina_specific\"\n",
    "    elif site in masked_sites: \n",
    "        annotation = \"masked\"\n",
    "    elif site in lab_specific: \n",
    "        annotation = \"lab_specific\"\n",
    "    elif site in homoplasic:\n",
    "        annotation = \"homoplasic\"\n",
    "    else:\n",
    "        annotation = \"none\"\n",
    "    \n",
    "    return(annotation)"
   ]
  },
  {
   "cell_type": "markdown",
   "metadata": {},
   "source": [
    "## Compare to Lythgoe, SCAN, and Valesano sites sites\n",
    "\n",
    "They very conveniently have their SNVs available in their github repo, [here](https://github.com/katrinalythgoe/COVIDdiversity) -> however, it looks like that file has now been deleted. I think that they updated their results, so maybe they will put up a new file. "
   ]
  },
  {
   "cell_type": "code",
   "execution_count": 335,
   "metadata": {},
   "outputs": [],
   "source": [
    "def read_in_lythgoe_sites(lythgoe_input_file):\n",
    "    lythgoe_dict = {}\n",
    "    \n",
    "    with open(lythgoe_input_file, \"r\") as infile: \n",
    "        for line in infile: \n",
    "            if \"reference_position\" not in line: \n",
    "                site = int(line.split(\",\")[0])\n",
    "                counts_within_host = line.split(\",\")[6]\n",
    "                lythgoe_dict[site] = {\"within-host-counts\":counts_within_host}\n",
    "    \n",
    "    return(lythgoe_dict)"
   ]
  },
  {
   "cell_type": "code",
   "execution_count": 336,
   "metadata": {},
   "outputs": [],
   "source": [
    "def read_in_scan_sites(scan_input_file):\n",
    "    scan_sites = {}\n",
    "    \n",
    "    with open(scan_input_file, \"r\") as infile: \n",
    "        for line in infile:\n",
    "            if \"snv\" not in line:\n",
    "                site = int(line.split(\"\\t\")[0][:-1])\n",
    "                counts = line.split(\"\\t\")[1]\n",
    "            \n",
    "                scan_sites[site] = counts\n",
    "            \n",
    "    return(scan_sites)"
   ]
  },
  {
   "cell_type": "code",
   "execution_count": 337,
   "metadata": {},
   "outputs": [],
   "source": [
    "def read_in_valesano_sites(valesano_input_file):\n",
    "    valesano_dict = {}\n",
    "    \n",
    "    with open(valesano_input_file, \"r\") as infile: \n",
    "        for line in infile: \n",
    "            if \"REGION\" not in line: \n",
    "                site = int(line.split(\",\")[2])\n",
    "                ref = line.split(\",\")[3].replace(\"\\\"\",\"\")\n",
    "                var = line.split(\",\")[4].replace(\"\\\"\",\"\")\n",
    "                mut = ref + str(site) + var\n",
    "                \n",
    "                if mut in valesano_dict:\n",
    "                    valesano_dict[mut] += 1\n",
    "                else: \n",
    "                    valesano_dict[mut] = 1\n",
    "                    \n",
    "    return(valesano_dict)"
   ]
  },
  {
   "cell_type": "code",
   "execution_count": null,
   "metadata": {},
   "outputs": [],
   "source": []
  },
  {
   "cell_type": "code",
   "execution_count": 338,
   "metadata": {},
   "outputs": [],
   "source": [
    "def return_classification(SNV, lythgoe_dict, scan_dict, valesano_dict):\n",
    "    # remove all nondigits\n",
    "    site = int(''.join(filter(str.isdigit, SNV)))\n",
    "    \n",
    "    annotations = []\n",
    "    \n",
    "    if site in lythgoe_dict: \n",
    "        annotations.append(\"lythgoe_site\")\n",
    "    if site in scan_dict:\n",
    "        annotations.append(\"scan_site\")\n",
    "    if SNV in valesano_dict:  # for Valesano data, we have the full SNV, while for Lythgoe we just have site\n",
    "        annotations.append(\"valesano_site\")  \n",
    "    \n",
    "    if len(annotations) == 0:\n",
    "        annotation = \"none\"\n",
    "    else:\n",
    "        annotation = \"_\".join(annotations)\n",
    "        \n",
    "    return(annotation)"
   ]
  },
  {
   "cell_type": "code",
   "execution_count": 339,
   "metadata": {},
   "outputs": [],
   "source": [
    "def return_lythgoe_counts(SNV, lythgoe_dict):\n",
    "\n",
    "    # remove all nondigits\n",
    "    site = int(''.join(filter(str.isdigit, SNV)))\n",
    "    if site in lythgoe_dict: \n",
    "        counts = int(lythgoe_dict[site]['within-host-counts'])\n",
    "    else:\n",
    "        counts = 0\n",
    "    \n",
    "    return(counts)"
   ]
  },
  {
   "cell_type": "code",
   "execution_count": 340,
   "metadata": {},
   "outputs": [],
   "source": [
    "def return_label(row):\n",
    "    counts = int(row['counts'])\n",
    "    lythgoe_counts = int(row['lythgoe_counts'])\n",
    "    snv = row['SNV']\n",
    "    \n",
    "    if counts >= 20 or lythgoe_counts >= 20:\n",
    "        label = snv\n",
    "    else:\n",
    "        label = \"\"\n",
    "        \n",
    "    return(label)"
   ]
  },
  {
   "cell_type": "markdown",
   "metadata": {},
   "source": [
    "## Add annotation for whether a Wuhan1 reversion and homopolymer"
   ]
  },
  {
   "cell_type": "code",
   "execution_count": 341,
   "metadata": {},
   "outputs": [],
   "source": [
    "def make_Wuhan1_dict(df):\n",
    "    \n",
    "    Wuhan1_dict = {}\n",
    "    \n",
    "    for m in set(df[variant_column].tolist()):\n",
    "        local_df = df[df[variant_column] == m]\n",
    "        annotations = local_df['Wuhan1_reversion'].tolist()\n",
    "\n",
    "        total_count = len(local_df)\n",
    "        count_reversion = annotations.count(\"yes\")\n",
    "        count_not = annotations.count(\"no\")\n",
    "        \n",
    "        # If there is ever an instance where a variant is found as a reversion and not, print the variant\n",
    "        if count_reversion != total_count and count_not != total_count:\n",
    "            print(m)\n",
    "        elif count_reversion != 0 and count_not != 0:\n",
    "            print(m)\n",
    "        \n",
    "        # otherwise, we can safely classify the variant as either a reversion or not\n",
    "        else:\n",
    "            if count_reversion > count_not:\n",
    "                annotation = \"Wuhan1_reversion\"\n",
    "            else:\n",
    "                annotation = \"not_Wuhan1_reversion\"\n",
    "        \n",
    "        Wuhan1_dict[m] = annotation\n",
    "        \n",
    "    return(Wuhan1_dict)"
   ]
  },
  {
   "cell_type": "code",
   "execution_count": 342,
   "metadata": {},
   "outputs": [],
   "source": [
    "def return_Wuhan1_reversion_classification(SNV, Wuhan1_dict):\n",
    "    if SNV in Wuhan1_dict: \n",
    "        annotation = Wuhan1_dict[SNV]\n",
    "    else:\n",
    "        print(SNV)\n",
    "        annotation = \"unknown\"\n",
    "        \n",
    "    return(annotation)"
   ]
  },
  {
   "cell_type": "code",
   "execution_count": null,
   "metadata": {},
   "outputs": [],
   "source": []
  },
  {
   "cell_type": "markdown",
   "metadata": {},
   "source": [
    "## run it"
   ]
  },
  {
   "cell_type": "code",
   "execution_count": 355,
   "metadata": {},
   "outputs": [
    {
     "name": "stdout",
     "output_type": "stream",
     "text": [
      "502\n"
     ]
    }
   ],
   "source": [
    "s = return_homopolymer_counts_of_variants(snvs_only)\n",
    "s = s.sort_values(by=['counts','SNV'], ascending=False)\n",
    "\n",
    "i = return_homopolymer_counts_of_variants(indels_only)\n",
    "i = i.sort_values(by=['counts','SNV'], ascending=False)\n",
    "\n",
    "# add together for a variants dataframe\n",
    "v = s.append(i)\n",
    "v.dropna(inplace=True)\n",
    "print(len(v))"
   ]
  },
  {
   "cell_type": "code",
   "execution_count": 356,
   "metadata": {},
   "outputs": [
    {
     "name": "stdout",
     "output_type": "stream",
     "text": [
      "['-6696T', '-15965T', 'T241C', 'T3037C', 'T14408C', 'G15150T', '-19983T', '-18368T', 'T20316C', 'T8782C', 'G15168A', 'C3931T', 'C17877T', 'T4226C', 'C7837A', 'C696A', 'A16381G', 'C15354T', 'T25500G', 'G23403A', 'T17C', 'C28T', 'C21T', 'AAGTCATTT685-', 'A26G', 'T2A', 'T25C', 'T18877C', 'C15157A', 'C15141A', 'A22T', 'T25563G', 'T2035G', 'T20148C', 'T12880C', 'T12025C', 'T10C', 'T10279C', 'G23A', 'G13T', 'C7513T', 'C28883G', 'C21G', 'C15T', 'A28882G', 'A28881G', 'A20056G', '-28214T', 'T9A', 'T9448C', 'T7420C', 'T6500C', 'T5A', 'T3871G', 'T29711G', 'T28854C', 'T1A', 'T18A', 'T14937C', 'T10G', 'G7T', 'G23T', 'G23C', 'C7G', 'C3037T', 'C2T', 'C29627T', 'C29077T', 'C241T', 'C21575T', 'C20T', 'C20G', 'C16G', 'C14A', 'C12A', 'A4T', 'A2549G', 'A15139C', '-196CGGTTTCGTCCGT']\n"
     ]
    }
   ],
   "source": [
    "variants_more_than_once = v[v['counts'] > 1]\n",
    "variants_more_than_once = variants_more_than_once.sort_values(by=['counts','SNV'], ascending=False)\n",
    "\n",
    "order_of_variants = variants_more_than_once['SNV'].tolist()[::2]\n",
    "print(order_of_variants)"
   ]
  },
  {
   "cell_type": "code",
   "execution_count": 357,
   "metadata": {},
   "outputs": [
    {
     "data": {
      "text/html": [
       "<div>\n",
       "<style scoped>\n",
       "    .dataframe tbody tr th:only-of-type {\n",
       "        vertical-align: middle;\n",
       "    }\n",
       "\n",
       "    .dataframe tbody tr th {\n",
       "        vertical-align: top;\n",
       "    }\n",
       "\n",
       "    .dataframe thead th {\n",
       "        text-align: right;\n",
       "    }\n",
       "</style>\n",
       "<table border=\"1\" class=\"dataframe\">\n",
       "  <thead>\n",
       "    <tr style=\"text-align: right;\">\n",
       "      <th></th>\n",
       "      <th>SNV</th>\n",
       "      <th>counts</th>\n",
       "      <th>homopolymer_classified_counts</th>\n",
       "      <th>homopolymer_class</th>\n",
       "      <th>homopolymer_base</th>\n",
       "    </tr>\n",
       "  </thead>\n",
       "  <tbody>\n",
       "    <tr>\n",
       "      <th>0</th>\n",
       "      <td>-6696T</td>\n",
       "      <td>96</td>\n",
       "      <td>95</td>\n",
       "      <td>in_hp</td>\n",
       "      <td>a</td>\n",
       "    </tr>\n",
       "    <tr>\n",
       "      <th>0</th>\n",
       "      <td>-6696T</td>\n",
       "      <td>96</td>\n",
       "      <td>1</td>\n",
       "      <td>not_in_hp</td>\n",
       "      <td>a</td>\n",
       "    </tr>\n",
       "    <tr>\n",
       "      <th>0</th>\n",
       "      <td>-15965T</td>\n",
       "      <td>55</td>\n",
       "      <td>1</td>\n",
       "      <td>in_hp</td>\n",
       "      <td>t</td>\n",
       "    </tr>\n",
       "    <tr>\n",
       "      <th>0</th>\n",
       "      <td>-15965T</td>\n",
       "      <td>55</td>\n",
       "      <td>54</td>\n",
       "      <td>not_in_hp</td>\n",
       "      <td>t</td>\n",
       "    </tr>\n",
       "    <tr>\n",
       "      <th>0</th>\n",
       "      <td>T241C</td>\n",
       "      <td>47</td>\n",
       "      <td>43</td>\n",
       "      <td>in_hp</td>\n",
       "      <td>a</td>\n",
       "    </tr>\n",
       "  </tbody>\n",
       "</table>\n",
       "</div>"
      ],
      "text/plain": [
       "       SNV  counts  homopolymer_classified_counts homopolymer_class  \\\n",
       "0   -6696T      96                             95             in_hp   \n",
       "0   -6696T      96                              1         not_in_hp   \n",
       "0  -15965T      55                              1             in_hp   \n",
       "0  -15965T      55                             54         not_in_hp   \n",
       "0    T241C      47                             43             in_hp   \n",
       "\n",
       "  homopolymer_base  \n",
       "0                a  \n",
       "0                a  \n",
       "0                t  \n",
       "0                t  \n",
       "0                a  "
      ]
     },
     "execution_count": 357,
     "metadata": {},
     "output_type": "execute_result"
    }
   ],
   "source": [
    "variants_more_than_once.head()"
   ]
  },
  {
   "cell_type": "code",
   "execution_count": 358,
   "metadata": {},
   "outputs": [],
   "source": [
    "Wh1_dict = make_Wuhan1_dict(snvs_only.append(indels_only))\n",
    "variants_more_than_once['Wuhan1_reversion_class'] = variants_more_than_once['SNV'].apply(return_Wuhan1_reversion_classification, args=[Wh1_dict])"
   ]
  },
  {
   "cell_type": "code",
   "execution_count": 359,
   "metadata": {
    "scrolled": true
   },
   "outputs": [],
   "source": [
    "lythgoe_input_file = \"../data/variants-other-datasets/lythgoe-shared-sites-2020-12-14.tsv\"\n",
    "lythgoe_dict = read_in_lythgoe_sites(lythgoe_input_file)\n",
    "\n",
    "scan_input_file = \"../data/variants-other-datasets/SNV_sites_SCAN.tsv\"\n",
    "scan_dict = read_in_scan_sites(scan_input_file)\n",
    "\n",
    "valesano_input_file = \"../data/variants-other-datasets/Valesano-processed.variants.csv\"\n",
    "valesano_dict = read_in_valesano_sites(valesano_input_file)"
   ]
  },
  {
   "cell_type": "code",
   "execution_count": 360,
   "metadata": {},
   "outputs": [
    {
     "data": {
      "text/html": [
       "<div>\n",
       "<style scoped>\n",
       "    .dataframe tbody tr th:only-of-type {\n",
       "        vertical-align: middle;\n",
       "    }\n",
       "\n",
       "    .dataframe tbody tr th {\n",
       "        vertical-align: top;\n",
       "    }\n",
       "\n",
       "    .dataframe thead th {\n",
       "        text-align: right;\n",
       "    }\n",
       "</style>\n",
       "<table border=\"1\" class=\"dataframe\">\n",
       "  <thead>\n",
       "    <tr style=\"text-align: right;\">\n",
       "      <th></th>\n",
       "      <th>SNV</th>\n",
       "      <th>counts</th>\n",
       "      <th>homopolymer_classified_counts</th>\n",
       "      <th>homopolymer_class</th>\n",
       "      <th>homopolymer_base</th>\n",
       "      <th>Wuhan1_reversion_class</th>\n",
       "      <th>de_Maio_class</th>\n",
       "      <th>other_datasets</th>\n",
       "    </tr>\n",
       "  </thead>\n",
       "  <tbody>\n",
       "    <tr>\n",
       "      <th>0</th>\n",
       "      <td>-6696T</td>\n",
       "      <td>96</td>\n",
       "      <td>95</td>\n",
       "      <td>in_hp</td>\n",
       "      <td>a</td>\n",
       "      <td>not_Wuhan1_reversion</td>\n",
       "      <td>none</td>\n",
       "      <td>none</td>\n",
       "    </tr>\n",
       "    <tr>\n",
       "      <th>0</th>\n",
       "      <td>-6696T</td>\n",
       "      <td>96</td>\n",
       "      <td>1</td>\n",
       "      <td>not_in_hp</td>\n",
       "      <td>a</td>\n",
       "      <td>not_Wuhan1_reversion</td>\n",
       "      <td>none</td>\n",
       "      <td>none</td>\n",
       "    </tr>\n",
       "    <tr>\n",
       "      <th>0</th>\n",
       "      <td>-15965T</td>\n",
       "      <td>55</td>\n",
       "      <td>1</td>\n",
       "      <td>in_hp</td>\n",
       "      <td>t</td>\n",
       "      <td>not_Wuhan1_reversion</td>\n",
       "      <td>none</td>\n",
       "      <td>none</td>\n",
       "    </tr>\n",
       "    <tr>\n",
       "      <th>0</th>\n",
       "      <td>-15965T</td>\n",
       "      <td>55</td>\n",
       "      <td>54</td>\n",
       "      <td>not_in_hp</td>\n",
       "      <td>t</td>\n",
       "      <td>not_Wuhan1_reversion</td>\n",
       "      <td>none</td>\n",
       "      <td>none</td>\n",
       "    </tr>\n",
       "    <tr>\n",
       "      <th>0</th>\n",
       "      <td>T241C</td>\n",
       "      <td>47</td>\n",
       "      <td>43</td>\n",
       "      <td>in_hp</td>\n",
       "      <td>a</td>\n",
       "      <td>Wuhan1_reversion</td>\n",
       "      <td>none</td>\n",
       "      <td>lythgoe_site</td>\n",
       "    </tr>\n",
       "  </tbody>\n",
       "</table>\n",
       "</div>"
      ],
      "text/plain": [
       "       SNV  counts  homopolymer_classified_counts homopolymer_class  \\\n",
       "0   -6696T      96                             95             in_hp   \n",
       "0   -6696T      96                              1         not_in_hp   \n",
       "0  -15965T      55                              1             in_hp   \n",
       "0  -15965T      55                             54         not_in_hp   \n",
       "0    T241C      47                             43             in_hp   \n",
       "\n",
       "  homopolymer_base Wuhan1_reversion_class de_Maio_class other_datasets  \n",
       "0                a   not_Wuhan1_reversion          none           none  \n",
       "0                a   not_Wuhan1_reversion          none           none  \n",
       "0                t   not_Wuhan1_reversion          none           none  \n",
       "0                t   not_Wuhan1_reversion          none           none  \n",
       "0                a       Wuhan1_reversion          none   lythgoe_site  "
      ]
     },
     "execution_count": 360,
     "metadata": {},
     "output_type": "execute_result"
    }
   ],
   "source": [
    "variants_more_than_once['de_Maio_class'] = variants_more_than_once['SNV'].apply(return_de_Maio_classification)\n",
    "variants_more_than_once['other_datasets'] = variants_more_than_once['SNV'].apply(return_classification, args=[lythgoe_dict, scan_dict, valesano_dict])\n",
    "\n",
    "variants_more_than_once.head()"
   ]
  },
  {
   "cell_type": "code",
   "execution_count": null,
   "metadata": {},
   "outputs": [],
   "source": []
  },
  {
   "cell_type": "markdown",
   "metadata": {},
   "source": [
    "## First, plot colored by whether you are in a hompolymer region"
   ]
  },
  {
   "cell_type": "code",
   "execution_count": 363,
   "metadata": {},
   "outputs": [
    {
     "name": "stdout",
     "output_type": "stream",
     "text": [
      "{'not_in_hp_not_Wuhan1_reversion', 'in_hp_Wuhan1_reversion', 'not_in_hp_Wuhan1_reversion', 'in_hp_not_Wuhan1_reversion'}\n"
     ]
    }
   ],
   "source": [
    "variants_more_than_once['color'] = variants_more_than_once['homopolymer_class'] + \"_\" + variants_more_than_once['Wuhan1_reversion_class']\n",
    "print(set(variants_more_than_once['color'].tolist()))"
   ]
  },
  {
   "cell_type": "code",
   "execution_count": 389,
   "metadata": {},
   "outputs": [],
   "source": [
    "times_detected_cutoff_to_plot = 2\n",
    "\n",
    "purple = \"#5248AA\"\n",
    "blue = \"#7C9BAC\"\n",
    "#blue = \"#7A9CAF\"\n",
    "yellow = \"#ECC58C\" #EECC9A\n",
    "red = \"#551E32\"\n",
    "green = \"#434A42\"\n",
    "grey = \"#D3D3D4\""
   ]
  },
  {
   "cell_type": "code",
   "execution_count": 434,
   "metadata": {},
   "outputs": [
    {
     "data": {
      "image/png": "[encoded data removed]"
     },
     "metadata": {},
     "output_type": "display_data"
    }
   ],
   "source": [
    "%%R -w 1000 -h 500 -u px -i times_detected_cutoff_to_plot,variant_percent,current_date,variants_more_than_once,order_of_variants,purple,blue,yellow,red,green,grey # this sets the size of the plot...otherwise, it will go off the page\\n\",\n",
    "require(ggplot2)\n",
    "library(ggplot2)\n",
    "\n",
    "# subset to only SNVs present in more than 3 times\n",
    "variants_more_than_once <- variants_more_than_once[(variants_more_than_once$counts>=times_detected_cutoff_to_plot),]\n",
    "\n",
    "output_filename = paste(\"counts-variants-3bp-homopolymer-\",variant_percent,\"percent-\",current_date,\".pdf\", sep=\"\")\n",
    "\n",
    "variants_more_than_once$SNV_f = factor(variants_more_than_once$SNV, levels=c(order_of_variants))\n",
    "variants_more_than_once$color_f = factor(variants_more_than_once$color, levels=c(\"in_hp_not_Wuhan1_reversion\", \"not_in_hp_Wuhan1_reversion\",\"in_hp_Wuhan1_reversion\", \"not_in_hp_not_Wuhan1_reversion\"))\n",
    "max_count = max(variants_more_than_once$counts)\n",
    "\n",
    "p2 <- ggplot(variants_more_than_once, aes(x=SNV_f, y=homopolymer_classified_counts, fill=color_f))+\n",
    "    geom_col()+\n",
    "    #geom_text(aes(x=SNV_f, y=max_count + 2, label=homopolymer_base))+\n",
    "    scale_fill_manual(values=c(in_hp_Wuhan1_reversion=purple, not_in_hp_Wuhan1_reversion=yellow, not_in_hp_not_Wuhan1_reversion=grey, in_hp_not_Wuhan1_reversion=blue), labels=c(in_hp_Wuhan1_reversion=\"Wuhan1 reversion + homopolymer\", not_in_hp_Wuhan1_reversion=\"Wuhan1 reversion\", not_in_hp_not_Wuhan1_reversion=\"none\", in_hp_not_Wuhan1_reversion=\"in homopolymer region\"))+\n",
    "    scale_linetype_manual(values=c(Wuhan1_reversion=1,not_Wuhan1_reversion=0))+\n",
    "    theme(panel.grid.major=element_line(colour=NA,size=NA))+\n",
    "    theme(panel.grid.minor=element_line(colour=NA,size=NA))+\n",
    "    scale_y_continuous(limits=c(0,max_count + 5), breaks=seq(0,max_count+5,20))+\n",
    "    theme(plot.title=element_text(size=13))+\n",
    "    theme(strip.background = element_rect(colour=NA, fill=NA))+\n",
    "    theme(plot.margin=unit(c(0.1,0.1,0.1,0.1),\"cm\"))+\n",
    "    theme(axis.line.x=element_line(colour=\"black\"))+\n",
    "    theme(axis.line.y=element_line(colour=\"black\"))+\n",
    "    theme(axis.title.y=element_text(size=24, hjust=0.5, vjust=0.5))+\n",
    "    theme(axis.title.x=element_text(size=24, vjust=0.5))+\n",
    "    theme(axis.text.y=element_text(size=24, colour=\"black\"))+\n",
    "    theme(axis.text.x=element_text(hjust=1, vjust=0.5, size=10, angle=90,colour=\"black\"))+\n",
    "    theme(legend.text=element_text(size=20))+\n",
    "    theme(legend.title=element_blank())+\n",
    "    theme(legend.position = c(0.7, 0.8))+ # (0,0) is bottom left, (1,1) is top right; x,y\n",
    "    #theme(legend.spacing.y = unit(2.5, 'cm'))+\n",
    "    theme(panel.margin=unit(1, \"lines\"))+\n",
    "    theme(legend.key.size=unit(0.75, \"cm\"))+\n",
    "    theme(panel.background=element_rect(fill=NA))+\n",
    "    theme(legend.key=element_rect(fill=NA))+\n",
    "    labs(x=\"within-host variant\",y=\"samples sharing variant\\n\")+\n",
    "    guides(fill = guide_legend(nrow = 4, override.aes = list(size=4, linetype=0)))\n",
    "\n",
    "ggsave(output_filename, p2, width = 11, height = 6, path=\"../figures/individual-pdfs/\")\n",
    "p2"
   ]
  },
  {
   "cell_type": "code",
   "execution_count": null,
   "metadata": {},
   "outputs": [],
   "source": []
  },
  {
   "cell_type": "code",
   "execution_count": 409,
   "metadata": {},
   "outputs": [
    {
     "name": "stderr",
     "output_type": "stream",
     "text": [
      "/Users/lmoncla/anaconda/envs/LHM-basics/lib/python3.7/site-packages/ipykernel_launcher.py:2: SettingWithCopyWarning: \n",
      "A value is trying to be set on a copy of a slice from a DataFrame\n",
      "\n",
      "See the caveats in the documentation: http://pandas.pydata.org/pandas-docs/stable/indexing.html#indexing-view-versus-copy\n",
      "  \n"
     ]
    },
    {
     "data": {
      "text/html": [
       "<div>\n",
       "<style scoped>\n",
       "    .dataframe tbody tr th:only-of-type {\n",
       "        vertical-align: middle;\n",
       "    }\n",
       "\n",
       "    .dataframe tbody tr th {\n",
       "        vertical-align: top;\n",
       "    }\n",
       "\n",
       "    .dataframe thead th {\n",
       "        text-align: right;\n",
       "    }\n",
       "</style>\n",
       "<table border=\"1\" class=\"dataframe\">\n",
       "  <thead>\n",
       "    <tr style=\"text-align: right;\">\n",
       "      <th></th>\n",
       "      <th>index</th>\n",
       "      <th>SNV</th>\n",
       "      <th>counts</th>\n",
       "      <th>homopolymer_classified_counts</th>\n",
       "      <th>homopolymer_class</th>\n",
       "      <th>homopolymer_base</th>\n",
       "      <th>Wuhan1_reversion_class</th>\n",
       "      <th>de_Maio_class</th>\n",
       "      <th>other_datasets</th>\n",
       "      <th>color</th>\n",
       "    </tr>\n",
       "  </thead>\n",
       "  <tbody>\n",
       "    <tr>\n",
       "      <th>0</th>\n",
       "      <td>0</td>\n",
       "      <td>-6696T</td>\n",
       "      <td>96</td>\n",
       "      <td>95</td>\n",
       "      <td>in_hp</td>\n",
       "      <td>a</td>\n",
       "      <td>not_Wuhan1_reversion</td>\n",
       "      <td>none</td>\n",
       "      <td>none</td>\n",
       "      <td>in_hp_not_Wuhan1_reversion</td>\n",
       "    </tr>\n",
       "    <tr>\n",
       "      <th>2</th>\n",
       "      <td>0</td>\n",
       "      <td>-15965T</td>\n",
       "      <td>55</td>\n",
       "      <td>1</td>\n",
       "      <td>in_hp</td>\n",
       "      <td>t</td>\n",
       "      <td>not_Wuhan1_reversion</td>\n",
       "      <td>none</td>\n",
       "      <td>none</td>\n",
       "      <td>in_hp_not_Wuhan1_reversion</td>\n",
       "    </tr>\n",
       "    <tr>\n",
       "      <th>4</th>\n",
       "      <td>0</td>\n",
       "      <td>T241C</td>\n",
       "      <td>47</td>\n",
       "      <td>43</td>\n",
       "      <td>in_hp</td>\n",
       "      <td>a</td>\n",
       "      <td>Wuhan1_reversion</td>\n",
       "      <td>none</td>\n",
       "      <td>lythgoe_site</td>\n",
       "      <td>in_hp_Wuhan1_reversion</td>\n",
       "    </tr>\n",
       "    <tr>\n",
       "      <th>6</th>\n",
       "      <td>0</td>\n",
       "      <td>T3037C</td>\n",
       "      <td>45</td>\n",
       "      <td>0</td>\n",
       "      <td>in_hp</td>\n",
       "      <td></td>\n",
       "      <td>Wuhan1_reversion</td>\n",
       "      <td>masked</td>\n",
       "      <td>lythgoe_site</td>\n",
       "      <td>in_hp_Wuhan1_reversion</td>\n",
       "    </tr>\n",
       "    <tr>\n",
       "      <th>8</th>\n",
       "      <td>0</td>\n",
       "      <td>T14408C</td>\n",
       "      <td>42</td>\n",
       "      <td>1</td>\n",
       "      <td>in_hp</td>\n",
       "      <td></td>\n",
       "      <td>Wuhan1_reversion</td>\n",
       "      <td>none</td>\n",
       "      <td>lythgoe_site</td>\n",
       "      <td>in_hp_Wuhan1_reversion</td>\n",
       "    </tr>\n",
       "  </tbody>\n",
       "</table>\n",
       "</div>"
      ],
      "text/plain": [
       "   index      SNV  counts  homopolymer_classified_counts homopolymer_class  \\\n",
       "0      0   -6696T      96                             95             in_hp   \n",
       "2      0  -15965T      55                              1             in_hp   \n",
       "4      0    T241C      47                             43             in_hp   \n",
       "6      0   T3037C      45                              0             in_hp   \n",
       "8      0  T14408C      42                              1             in_hp   \n",
       "\n",
       "  homopolymer_base Wuhan1_reversion_class de_Maio_class other_datasets  \\\n",
       "0                a   not_Wuhan1_reversion          none           none   \n",
       "2                t   not_Wuhan1_reversion          none           none   \n",
       "4                a       Wuhan1_reversion          none   lythgoe_site   \n",
       "6                        Wuhan1_reversion        masked   lythgoe_site   \n",
       "8                        Wuhan1_reversion          none   lythgoe_site   \n",
       "\n",
       "                        color  \n",
       "0  in_hp_not_Wuhan1_reversion  \n",
       "2  in_hp_not_Wuhan1_reversion  \n",
       "4      in_hp_Wuhan1_reversion  \n",
       "6      in_hp_Wuhan1_reversion  \n",
       "8      in_hp_Wuhan1_reversion  "
      ]
     },
     "execution_count": 409,
     "metadata": {},
     "output_type": "execute_result"
    }
   ],
   "source": [
    "other_datasets_df = variants_more_than_once.iloc[::2, :]\n",
    "other_datasets_df.dropna(inplace=True)\n",
    "other_datasets_df.head()"
   ]
  },
  {
   "cell_type": "code",
   "execution_count": 439,
   "metadata": {
    "scrolled": false
   },
   "outputs": [
    {
     "data": {
      "image/png": "[encoded data removed]"
     },
     "metadata": {},
     "output_type": "display_data"
    }
   ],
   "source": [
    "%%R -w 1000 -h 500 -u px -i times_detected_cutoff_to_plot,variant_percent,current_date,other_datasets_df,order_of_variants # this sets the size of the plot...otherwise, it will go off the page\\n\",\n",
    "require(ggplot2)\n",
    "library(ggplot2)\n",
    "\n",
    "other_datasets_df <- other_datasets_df[(other_datasets_df$counts>=times_detected_cutoff_to_plot),]\n",
    "\n",
    "output_filename = paste(\"counts-variants-other-datasets-\",variant_percent,\"percent-\",current_date,\".pdf\", sep=\"\")\n",
    "\n",
    "other_datasets_df$SNV_f = factor(other_datasets_df$SNV, levels=c(order_of_variants))\n",
    "other_datasets_df$other_datasets_f = factor(other_datasets_df$other_datasets, levels=c(\"lythgoe_site\",\"scan_site\",\"valesano_site\",'lythgoe_site_valesano_site',\"none\"))\n",
    "max_count = max(other_datasets_df$counts)\n",
    "\n",
    "p2 <- ggplot(other_datasets_df, aes(x=SNV_f, y=counts, fill=other_datasets_f,linetype=de_Maio_class))+\n",
    "    geom_col(color= \"black\")+\n",
    "    scale_fill_manual(values=c(lythgoe_site=\"#598ACD\", none=\"grey70\",valesano_site=\"#EDDD80\",scan_site=\"#C94D4B\",lythgoe_site_valesano_site=\"#75BF9A\"), labels=c(lythgoe_site=\"Lythgoe site\",scan_site=\"SCAN site\",valesano_site=\"Valesano site\",lythgoe_site_valesano_site=\"Lythgoe and Valesano site\",none=\"none\"))+\n",
    "    theme(panel.grid.major=element_line(colour=NA,size=NA))+\n",
    "    theme(panel.grid.minor=element_line(colour=NA,size=NA))+\n",
    "    scale_y_continuous(limits=c(0,max_count+5), breaks=seq(0,max_count+5,20))+\n",
    "    scale_linetype_manual(values=c(homoplasic=2,masked=1,none=0), labels=c(homoplasic=\"homoplasic\", masked=\"masked\",none=\"\"))+\n",
    "    theme(plot.title=element_text(size=13))+\n",
    "    theme(strip.background = element_rect(colour=NA, fill=NA))+\n",
    "    theme(plot.margin=unit(c(0.1,0.1,0.1,0.1),\"cm\"))+\n",
    "    theme(axis.line.x=element_line(colour=\"black\"))+\n",
    "    theme(axis.line.y=element_line(colour=\"black\"))+\n",
    "    theme(axis.title.y=element_text(size=24, hjust=0.5, vjust=0.5))+\n",
    "    theme(axis.title.x=element_text(size=24, vjust=0.5))+\n",
    "    theme(axis.text.y=element_text(size=24, colour=\"black\"))+\n",
    "    theme(axis.text.x=element_text(hjust=1, vjust=0.5, size=10, angle=90,colour=\"black\"))+\n",
    "    theme(legend.text=element_text(size=20))+\n",
    "    theme(legend.title=element_blank())+\n",
    "    theme(legend.position = c(0.8, 0.6))+ # (0,0) is bottom left, (1,1) is top right; x,y\n",
    "    theme(panel.margin=unit(1, \"lines\"))+\n",
    "    theme(legend.key.size=unit(0.55, \"cm\"))+\n",
    "    theme(panel.background=element_rect(fill=NA))+\n",
    "    theme(legend.key=element_rect(fill=NA))+\n",
    "    theme(legend.background = element_rect(color = \"white\", linetype = \"solid\"))+\n",
    "    labs(x=\"within-host variant\",y=\"samples with variant\\n\")+\n",
    "    guides(fill = guide_legend(nrow = 5, override.aes = list(size=3.5, linetype=0)))+\n",
    "    guides(linetype = guide_legend(nrow = 3, override.aes = list(size=2, fill=NA)))\n",
    "\n",
    "\n",
    "ggsave(output_filename, p2, width = 11, height = 6, path=\"../figures/individual-pdfs/\")\n",
    "p2"
   ]
  },
  {
   "cell_type": "code",
   "execution_count": null,
   "metadata": {},
   "outputs": [],
   "source": []
  },
  {
   "cell_type": "code",
   "execution_count": null,
   "metadata": {},
   "outputs": [],
   "source": []
  },
  {
   "cell_type": "markdown",
   "metadata": {},
   "source": [
    "## Check for 501YV1 an V2 sites: \n",
    "\n",
    "got the 501V1 sites here: https://virological.org/t/preliminary-genomic-characterisation-of-an-emergent-sars-cov-2-lineage-in-the-uk-defined-by-a-novel-set-of-spike-mutations/563\n",
    "\n",
    "501v2 sites here: https://virological.org/t/tracking-the-international-spread-of-sars-cov-2-lineages-b-1-1-7-and-b-1-351-501y-v2/592\n",
    "\n",
    "B.1.1.7:\n",
    "orf1ab:T1001I; orf1ab:A1708D;\n",
    "orf1ab:I2230T; del:11288:9; del:21765:6;\n",
    "del:21991:3; S:N501Y; S:A570D; S:P681H;\n",
    "S:T716I; S:S982A; S:D1118H; Orf8:Q27*;\n",
    "Orf8:R52I; Orf8:Y73C; N:D3L; N:S235F\n",
    "\n",
    "B.1.351/501Y-V2:\n",
    "E:P71L; N:T205I; orf1a:K1655N; S:D80A;\n",
    "S:D215G; S:K417N; S:E484K; S:N501Y;\n",
    "S:E484K"
   ]
  },
  {
   "cell_type": "code",
   "execution_count": 411,
   "metadata": {},
   "outputs": [],
   "source": [
    "def return_VOC_classification(SNV, b117_list, b1351_list):\n",
    "    if SNV in b117_list: \n",
    "        classification = \"B.1.1.7\"\n",
    "    elif SNV in b1351_list:\n",
    "        classification = \"B.1.351\"\n",
    "    else:\n",
    "        classification = \"\"\n",
    "    return(classification)"
   ]
  },
  {
   "cell_type": "code",
   "execution_count": 412,
   "metadata": {},
   "outputs": [],
   "source": [
    "b117_nt_list = [\"C3267T\",\"C5388A\",\"T6954C\",\"11288-11296 deletion\",\"21765-21770 deletion\",\"21991-21993 deletion\",\"A23063T\",\"C23271A\",\"C23604A\",\"C23709T\",\"T24506G\",\"G24914C\",\"C27972T\",\"G28048T\",\"A28111G\",\"28280 GAT->CTA\",\"C28977T\"]\n",
    "b117_aa_list = [\"orf1ab_Thr1001Ile\",\"orf1ab_Ala1708Asp\",\"orf1ab_Ile2230Thr\",\"orf1ab_SGF 3675-3677 deletion\",\"S_HV 69-70 deletion\",\"S_Y144 deletion\",\"S_Asn501Tyr\",\"S_Ala570Asp\",\"S_Pro681His\",\"S_Thr716Ile\",\"S_Ser982Ala\",\"S_Asp1118His\",\"orf8_Gln27*\",\"orf9_Arg52Ile\",\"orf10_Tyr73Cys\",\"N_Asp3Leu\",\"N_Ser235Phe\"]\n",
    "\n",
    "b1351_aa_list = [\"E_Pro71Leu\",\"N_Thr205Ile\",\"orf1a_Lys1655Asn\",\"S_Asp80Ala\",\"S_Apr215Gly\",\"S_Lys417Asn\",\"S_Asn501Tyr\",\"S_Glu484Lys\"]"
   ]
  },
  {
   "cell_type": "code",
   "execution_count": 413,
   "metadata": {},
   "outputs": [
    {
     "name": "stdout",
     "output_type": "stream",
     "text": [
      "{'', 'B.1.351'}\n"
     ]
    },
    {
     "data": {
      "text/html": [
       "<div>\n",
       "<style scoped>\n",
       "    .dataframe tbody tr th:only-of-type {\n",
       "        vertical-align: middle;\n",
       "    }\n",
       "\n",
       "    .dataframe tbody tr th {\n",
       "        vertical-align: top;\n",
       "    }\n",
       "\n",
       "    .dataframe thead th {\n",
       "        text-align: right;\n",
       "    }\n",
       "</style>\n",
       "<table border=\"1\" class=\"dataframe\">\n",
       "  <thead>\n",
       "    <tr style=\"text-align: right;\">\n",
       "      <th></th>\n",
       "      <th>SNV</th>\n",
       "      <th>counts</th>\n",
       "      <th>VOC</th>\n",
       "    </tr>\n",
       "  </thead>\n",
       "  <tbody>\n",
       "    <tr>\n",
       "      <th>143</th>\n",
       "      <td>N_Thr205Ile</td>\n",
       "      <td>1</td>\n",
       "      <td>B.1.351</td>\n",
       "    </tr>\n",
       "  </tbody>\n",
       "</table>\n",
       "</div>"
      ],
      "text/plain": [
       "             SNV  counts      VOC\n",
       "143  N_Thr205Ile       1  B.1.351"
      ]
     },
     "execution_count": 413,
     "metadata": {},
     "output_type": "execute_result"
    }
   ],
   "source": [
    "s_aa['VOC'] = s_aa['SNV'].apply(return_VOC_classification, args=[b117_aa_list, b1351_aa_list])\n",
    "print(set(s_aa['VOC'].tolist()))\n",
    "s_aa[s_aa['VOC'] != '']"
   ]
  },
  {
   "cell_type": "code",
   "execution_count": null,
   "metadata": {},
   "outputs": [],
   "source": []
  },
  {
   "cell_type": "code",
   "execution_count": null,
   "metadata": {},
   "outputs": [],
   "source": []
  }
 ],
 "metadata": {
  "kernelspec": {
   "display_name": "LHM-basics (python3)",
   "language": "python",
   "name": "lhm-basics"
  },
  "language_info": {
   "codemirror_mode": {
    "name": "ipython",
    "version": 3
   },
   "file_extension": ".py",
   "mimetype": "text/x-python",
   "name": "python",
   "nbconvert_exporter": "python",
   "pygments_lexer": "ipython3",
   "version": "3.7.3"
  }
 },
 "nbformat": 4,
 "nbformat_minor": 2
}
