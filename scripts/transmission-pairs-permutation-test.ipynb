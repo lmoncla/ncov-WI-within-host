{
 "cells": [
  {
   "cell_type": "markdown",
   "metadata": {},
   "source": [
    "# Transmission pairs permutation test\n",
    "\n",
    "June 18, 2020 \n",
    "\n",
    "We would like to determine whether samples collected in the same geographic area share more variants than expected by chance alone. I am imagining the following permutation test: \n",
    "\n",
    "1. Select 2 samples at random. Compute the proportion of total variants between them that are shared. Do this a bunch of times. Make a distribution of results. \n",
    "2. Select 2 samples from the same geographic area. Repeat. \n",
    "3. Finally, compute the fraction of shared variants between transmission pairs. Plot this as a dotted line on this distribution. This can give you a p-value. "
   ]
  },
  {
   "cell_type": "code",
   "execution_count": 1,
   "metadata": {},
   "outputs": [],
   "source": [
    "import imp\n",
    "import importlib, json\n",
    "import glob\n",
    "import re,copy,json\n",
    "import Bio.Phylo\n",
    "import requests\n",
    "import pandas as pd \n",
    "import numpy as np\n",
    "\n",
    "import copy\n",
    "from scipy.special import binom\n",
    "import datetime as dt\n",
    "    \n",
    "import rpy2\n",
    "%load_ext rpy2.ipython"
   ]
  },
  {
   "cell_type": "markdown",
   "metadata": {},
   "source": [
    "## Read in vcfs and convert to dataframes \n",
    "\n",
    "I will only read in the intersection SNVs, meaning the ones that were detected in both technical sequencing replicates. This code will separate this into 2 dataframes, 1 for SNVs and 1 for indels, and will also look up and add in the strain names (necessary for converting from tube numbers, which is how the csvs are labelled)."
   ]
  },
  {
   "cell_type": "code",
   "execution_count": 2,
   "metadata": {},
   "outputs": [],
   "source": [
    "\"\"\"to load in an ipython notebook as a module, just run the following. You will now have access to all of the \n",
    "functions written in that jupyter notebook\"\"\"\n",
    "\n",
    "%run vcf-module.ipynb"
   ]
  },
  {
   "cell_type": "code",
   "execution_count": 3,
   "metadata": {},
   "outputs": [
    {
     "name": "stderr",
     "output_type": "stream",
     "text": [
      "/Users/lmoncla/anaconda/envs/LHM-basics/lib/python3.7/site-packages/ipykernel_launcher.py:4: SettingWithCopyWarning: \n",
      "A value is trying to be set on a copy of a slice from a DataFrame.\n",
      "Try using .loc[row_indexer,col_indexer] = value instead\n",
      "\n",
      "See the caveats in the documentation: http://pandas.pydata.org/pandas-docs/stable/indexing.html#indexing-view-versus-copy\n",
      "  after removing the cwd from sys.path.\n",
      "/Users/lmoncla/anaconda/envs/LHM-basics/lib/python3.7/site-packages/ipykernel_launcher.py:5: SettingWithCopyWarning: \n",
      "A value is trying to be set on a copy of a slice from a DataFrame.\n",
      "Try using .loc[row_indexer,col_indexer] = value instead\n",
      "\n",
      "See the caveats in the documentation: http://pandas.pydata.org/pandas-docs/stable/indexing.html#indexing-view-versus-copy\n",
      "  \"\"\"\n",
      "/Users/lmoncla/anaconda/envs/LHM-basics/lib/python3.7/site-packages/ipykernel_launcher.py:6: SettingWithCopyWarning: \n",
      "A value is trying to be set on a copy of a slice from a DataFrame.\n",
      "Try using .loc[row_indexer,col_indexer] = value instead\n",
      "\n",
      "See the caveats in the documentation: http://pandas.pydata.org/pandas-docs/stable/indexing.html#indexing-view-versus-copy\n",
      "  \n",
      "/Users/lmoncla/anaconda/envs/LHM-basics/lib/python3.7/site-packages/ipykernel_launcher.py:9: SettingWithCopyWarning: \n",
      "A value is trying to be set on a copy of a slice from a DataFrame.\n",
      "Try using .loc[row_indexer,col_indexer] = value instead\n",
      "\n",
      "See the caveats in the documentation: http://pandas.pydata.org/pandas-docs/stable/indexing.html#indexing-view-versus-copy\n",
      "  if __name__ == '__main__':\n",
      "/Users/lmoncla/anaconda/envs/LHM-basics/lib/python3.7/site-packages/ipykernel_launcher.py:10: SettingWithCopyWarning: \n",
      "A value is trying to be set on a copy of a slice from a DataFrame.\n",
      "Try using .loc[row_indexer,col_indexer] = value instead\n",
      "\n",
      "See the caveats in the documentation: http://pandas.pydata.org/pandas-docs/stable/indexing.html#indexing-view-versus-copy\n",
      "  # Remove the CWD from sys.path while we load stuff.\n",
      "/Users/lmoncla/anaconda/envs/LHM-basics/lib/python3.7/site-packages/ipykernel_launcher.py:12: SettingWithCopyWarning: \n",
      "A value is trying to be set on a copy of a slice from a DataFrame.\n",
      "Try using .loc[row_indexer,col_indexer] = value instead\n",
      "\n",
      "See the caveats in the documentation: http://pandas.pydata.org/pandas-docs/stable/indexing.html#indexing-view-versus-copy\n",
      "  if sys.path[0] == '':\n",
      "/Users/lmoncla/anaconda/envs/LHM-basics/lib/python3.7/site-packages/ipykernel_launcher.py:8: SettingWithCopyWarning: \n",
      "A value is trying to be set on a copy of a slice from a DataFrame.\n",
      "Try using .loc[row_indexer,col_indexer] = value instead\n",
      "\n",
      "See the caveats in the documentation: http://pandas.pydata.org/pandas-docs/stable/indexing.html#indexing-view-versus-copy\n",
      "  \n",
      "/Users/lmoncla/anaconda/envs/LHM-basics/lib/python3.7/site-packages/ipykernel_launcher.py:11: SettingWithCopyWarning: \n",
      "A value is trying to be set on a copy of a slice from a DataFrame.\n",
      "Try using .loc[row_indexer,col_indexer] = value instead\n",
      "\n",
      "See the caveats in the documentation: http://pandas.pydata.org/pandas-docs/stable/indexing.html#indexing-view-versus-copy\n",
      "  # This is added back by InteractiveShellApp.init_path()\n",
      "/Users/lmoncla/anaconda/envs/LHM-basics/lib/python3.7/site-packages/pandas/core/frame.py:3940: SettingWithCopyWarning: \n",
      "A value is trying to be set on a copy of a slice from a DataFrame\n",
      "\n",
      "See the caveats in the documentation: http://pandas.pydata.org/pandas-docs/stable/indexing.html#indexing-view-versus-copy\n",
      "  errors=errors)\n",
      "/Users/lmoncla/anaconda/envs/LHM-basics/lib/python3.7/site-packages/ipykernel_launcher.py:14: SettingWithCopyWarning: \n",
      "A value is trying to be set on a copy of a slice from a DataFrame.\n",
      "Try using .loc[row_indexer,col_indexer] = value instead\n",
      "\n",
      "See the caveats in the documentation: http://pandas.pydata.org/pandas-docs/stable/indexing.html#indexing-view-versus-copy\n",
      "  \n"
     ]
    }
   ],
   "source": [
    "\"\"\"now, input the strain names file/metadata file, the directory containing the vcfs, and return the dataframess\"\"\"\n",
    "\n",
    "strain_names_file = \"/Users/lmoncla/src/ncov-WI-within-host/data/sample-metadata.tsv\"\n",
    "fasta_file = \"/Users/lmoncla/src/ncov-WI-within-host/data/sample-avrl.fasta\"\n",
    "clades_file = \"/Users/lmoncla/src/ncov-WI-within-host/data/clades-file-2020-08-28.txt\"\n",
    "vcf_directory = \"/Users/lmoncla/src/ncov-WI-within-host/data/vcfs-all/\"\n",
    "samples_to_ignore = [\"N_transcript\"]\n",
    "\n",
    "snvs_only, indels_only, all_intersection_variants,metadata_dict = return_dataframes(strain_names_file, clades_file,vcf_directory,samples_to_ignore,fasta_file)"
   ]
  },
  {
   "cell_type": "code",
   "execution_count": 4,
   "metadata": {},
   "outputs": [
    {
     "data": {
      "text/html": [
       "<div>\n",
       "<style scoped>\n",
       "    .dataframe tbody tr th:only-of-type {\n",
       "        vertical-align: middle;\n",
       "    }\n",
       "\n",
       "    .dataframe tbody tr th {\n",
       "        vertical-align: top;\n",
       "    }\n",
       "\n",
       "    .dataframe thead th {\n",
       "        text-align: right;\n",
       "    }\n",
       "</style>\n",
       "<table border=\"1\" class=\"dataframe\">\n",
       "  <thead>\n",
       "    <tr style=\"text-align: right;\">\n",
       "      <th></th>\n",
       "      <th>Unnamed: 0</th>\n",
       "      <th>SNP</th>\n",
       "      <th>POS_x</th>\n",
       "      <th>rep1_percent</th>\n",
       "      <th>rep2_percent</th>\n",
       "      <th>frequency</th>\n",
       "      <th>sampleid</th>\n",
       "      <th>annotation</th>\n",
       "      <th>gene</th>\n",
       "      <th>nt_change</th>\n",
       "      <th>...</th>\n",
       "      <th>aa_site</th>\n",
       "      <th>wt_aa</th>\n",
       "      <th>mut_aa</th>\n",
       "      <th>nt_ref</th>\n",
       "      <th>nt_mut</th>\n",
       "      <th>nuc_muts</th>\n",
       "      <th>minor_frequency</th>\n",
       "      <th>consensus_base</th>\n",
       "      <th>minor_base</th>\n",
       "      <th>minor_nuc_muts</th>\n",
       "    </tr>\n",
       "  </thead>\n",
       "  <tbody>\n",
       "    <tr>\n",
       "      <th>3</th>\n",
       "      <td>8</td>\n",
       "      <td>orf1ab_C&gt;T_Ser2839Ser_synonymous</td>\n",
       "      <td>8782.0</td>\n",
       "      <td>0.9411</td>\n",
       "      <td>0.8919</td>\n",
       "      <td>0.91650</td>\n",
       "      <td>53</td>\n",
       "      <td>synonymous</td>\n",
       "      <td>orf1ab</td>\n",
       "      <td>C&gt;T</td>\n",
       "      <td>...</td>\n",
       "      <td>2839</td>\n",
       "      <td>Ser</td>\n",
       "      <td>Ser</td>\n",
       "      <td>C</td>\n",
       "      <td>T</td>\n",
       "      <td>C8782T</td>\n",
       "      <td>0.08350</td>\n",
       "      <td>T</td>\n",
       "      <td>C</td>\n",
       "      <td>T8782C</td>\n",
       "    </tr>\n",
       "    <tr>\n",
       "      <th>6</th>\n",
       "      <td>15</td>\n",
       "      <td>orf1ab_T&gt;G_Met4958Arg_missense</td>\n",
       "      <td>15137.0</td>\n",
       "      <td>0.0173</td>\n",
       "      <td>0.0129</td>\n",
       "      <td>0.01510</td>\n",
       "      <td>53</td>\n",
       "      <td>missense</td>\n",
       "      <td>orf1ab</td>\n",
       "      <td>T&gt;G</td>\n",
       "      <td>...</td>\n",
       "      <td>4958</td>\n",
       "      <td>Met</td>\n",
       "      <td>Arg</td>\n",
       "      <td>T</td>\n",
       "      <td>G</td>\n",
       "      <td>T15137G</td>\n",
       "      <td>0.01510</td>\n",
       "      <td>T</td>\n",
       "      <td>G</td>\n",
       "      <td>T15137G</td>\n",
       "    </tr>\n",
       "    <tr>\n",
       "      <th>7</th>\n",
       "      <td>16</td>\n",
       "      <td>orf1ab_A&gt;C_Thr4959Pro_missense</td>\n",
       "      <td>15139.0</td>\n",
       "      <td>0.0184</td>\n",
       "      <td>0.0219</td>\n",
       "      <td>0.02015</td>\n",
       "      <td>53</td>\n",
       "      <td>missense</td>\n",
       "      <td>orf1ab</td>\n",
       "      <td>A&gt;C</td>\n",
       "      <td>...</td>\n",
       "      <td>4959</td>\n",
       "      <td>Thr</td>\n",
       "      <td>Pro</td>\n",
       "      <td>A</td>\n",
       "      <td>C</td>\n",
       "      <td>A15139C</td>\n",
       "      <td>0.02015</td>\n",
       "      <td>A</td>\n",
       "      <td>C</td>\n",
       "      <td>A15139C</td>\n",
       "    </tr>\n",
       "    <tr>\n",
       "      <th>8</th>\n",
       "      <td>17</td>\n",
       "      <td>orf1ab_G&gt;T_Gln4962His_missense</td>\n",
       "      <td>15150.0</td>\n",
       "      <td>0.0259</td>\n",
       "      <td>0.0304</td>\n",
       "      <td>0.02815</td>\n",
       "      <td>53</td>\n",
       "      <td>missense</td>\n",
       "      <td>orf1ab</td>\n",
       "      <td>G&gt;T</td>\n",
       "      <td>...</td>\n",
       "      <td>4962</td>\n",
       "      <td>Gln</td>\n",
       "      <td>His</td>\n",
       "      <td>G</td>\n",
       "      <td>T</td>\n",
       "      <td>G15150T</td>\n",
       "      <td>0.02815</td>\n",
       "      <td>G</td>\n",
       "      <td>T</td>\n",
       "      <td>G15150T</td>\n",
       "    </tr>\n",
       "    <tr>\n",
       "      <th>9</th>\n",
       "      <td>18</td>\n",
       "      <td>orf1ab_T&gt;G_Leu4968Trp_missense</td>\n",
       "      <td>15167.0</td>\n",
       "      <td>0.0103</td>\n",
       "      <td>0.0109</td>\n",
       "      <td>0.01060</td>\n",
       "      <td>53</td>\n",
       "      <td>missense</td>\n",
       "      <td>orf1ab</td>\n",
       "      <td>T&gt;G</td>\n",
       "      <td>...</td>\n",
       "      <td>4968</td>\n",
       "      <td>Leu</td>\n",
       "      <td>Trp</td>\n",
       "      <td>T</td>\n",
       "      <td>G</td>\n",
       "      <td>T15167G</td>\n",
       "      <td>0.01060</td>\n",
       "      <td>T</td>\n",
       "      <td>G</td>\n",
       "      <td>T15167G</td>\n",
       "    </tr>\n",
       "  </tbody>\n",
       "</table>\n",
       "<p>5 rows × 25 columns</p>\n",
       "</div>"
      ],
      "text/plain": [
       "  Unnamed: 0                               SNP    POS_x  rep1_percent  \\\n",
       "3          8  orf1ab_C>T_Ser2839Ser_synonymous   8782.0        0.9411   \n",
       "6         15    orf1ab_T>G_Met4958Arg_missense  15137.0        0.0173   \n",
       "7         16    orf1ab_A>C_Thr4959Pro_missense  15139.0        0.0184   \n",
       "8         17    orf1ab_G>T_Gln4962His_missense  15150.0        0.0259   \n",
       "9         18    orf1ab_T>G_Leu4968Trp_missense  15167.0        0.0103   \n",
       "\n",
       "   rep2_percent  frequency sampleid  annotation    gene nt_change  ...  \\\n",
       "3        0.8919    0.91650       53  synonymous  orf1ab       C>T  ...   \n",
       "6        0.0129    0.01510       53    missense  orf1ab       T>G  ...   \n",
       "7        0.0219    0.02015       53    missense  orf1ab       A>C  ...   \n",
       "8        0.0304    0.02815       53    missense  orf1ab       G>T  ...   \n",
       "9        0.0109    0.01060       53    missense  orf1ab       T>G  ...   \n",
       "\n",
       "  aa_site wt_aa mut_aa nt_ref nt_mut nuc_muts minor_frequency consensus_base  \\\n",
       "3    2839   Ser    Ser      C      T   C8782T         0.08350              T   \n",
       "6    4958   Met    Arg      T      G  T15137G         0.01510              T   \n",
       "7    4959   Thr    Pro      A      C  A15139C         0.02015              A   \n",
       "8    4962   Gln    His      G      T  G15150T         0.02815              G   \n",
       "9    4968   Leu    Trp      T      G  T15167G         0.01060              T   \n",
       "\n",
       "  minor_base minor_nuc_muts  \n",
       "3          C         T8782C  \n",
       "6          G        T15137G  \n",
       "7          C        A15139C  \n",
       "8          T        G15150T  \n",
       "9          G        T15167G  \n",
       "\n",
       "[5 rows x 25 columns]"
      ]
     },
     "execution_count": 4,
     "metadata": {},
     "output_type": "execute_result"
    }
   ],
   "source": [
    "snvs_only.head()"
   ]
  },
  {
   "cell_type": "code",
   "execution_count": 5,
   "metadata": {},
   "outputs": [
    {
     "name": "stdout",
     "output_type": "stream",
     "text": [
      "376\n",
      "124\n",
      "500\n"
     ]
    }
   ],
   "source": [
    "snvs_to_query = set(snvs_only['minor_nuc_muts'])\n",
    "indels_to_query = set(indels_only['minor_nuc_muts'])\n",
    "all_variants_to_query = snvs_to_query.copy()\n",
    "all_variants_to_query.update(indels_to_query)\n",
    "print(len(snvs_to_query))\n",
    "print(len(indels_to_query))\n",
    "print(len(all_variants_to_query))"
   ]
  },
  {
   "cell_type": "markdown",
   "metadata": {},
   "source": [
    "## Enumerate groups of sequences that are identical at consensus level \n",
    "\n",
    "In addition to the transmission pairs permutation test, I would also like to look at whether samples that are identical to each other at consensus are also more similar within-host"
   ]
  },
  {
   "cell_type": "code",
   "execution_count": 6,
   "metadata": {},
   "outputs": [
    {
     "name": "stderr",
     "output_type": "stream",
     "text": [
      "/Users/lmoncla/anaconda/envs/LHM-basics/lib/python3.7/site-packages/ipykernel_launcher.py:2: SettingWithCopyWarning: \n",
      "A value is trying to be set on a copy of a slice from a DataFrame.\n",
      "Try using .loc[row_indexer,col_indexer] = value instead\n",
      "\n",
      "See the caveats in the documentation: http://pandas.pydata.org/pandas-docs/stable/indexing.html#indexing-view-versus-copy\n",
      "  \n"
     ]
    }
   ],
   "source": [
    "high_freq_only = all_intersection_variants[all_intersection_variants['frequency']>=0.5]\n",
    "high_freq_only['mutation'] = high_freq_only['nt_change'] + high_freq_only['POS_x'].astype(int).astype(str)\n",
    "\n",
    "high_freq_variants_dict = {}\n",
    "\n",
    "for sample in set(all_intersection_variants['strain_name'].tolist()):\n",
    "    x = high_freq_only[high_freq_only['strain_name'] == sample]\n",
    "    variants = set(x['mutation'].tolist())\n",
    "    high_freq_variants_dict[sample] = variants\n",
    "    \n",
    "#high_freq_variants_dict"
   ]
  },
  {
   "cell_type": "code",
   "execution_count": 7,
   "metadata": {},
   "outputs": [
    {
     "data": {
      "text/plain": [
       "{'C>T20316',\n",
       " 'C>T26124',\n",
       " 'C>T8782',\n",
       " 'END29742',\n",
       " 'G>A16381',\n",
       " 'G>A28878',\n",
       " 'G>T25500',\n",
       " 'T>C17877',\n",
       " 'T>C28144'}"
      ]
     },
     "execution_count": 7,
     "metadata": {},
     "output_type": "execute_result"
    }
   ],
   "source": [
    "high_freq_variants_dict.get('USA/WI-UW-34/2020') - high_freq_variants_dict.get('USA/WI-UW-160/2020')"
   ]
  },
  {
   "cell_type": "code",
   "execution_count": null,
   "metadata": {},
   "outputs": [],
   "source": []
  },
  {
   "cell_type": "code",
   "execution_count": 8,
   "metadata": {},
   "outputs": [],
   "source": [
    "group_master = []\n",
    "for k,v in high_freq_variants_dict.items():\n",
    "    local_group = []\n",
    "    for i,j in high_freq_variants_dict.items():\n",
    "        if k != i:\n",
    "            if len(v - j) == 0 and len(j-v) == 0:\n",
    "                local_group.append(i)\n",
    "    local_group.append(k)\n",
    "    \n",
    "    local_group_set = set(local_group)\n",
    "    if local_group_set not in group_master:\n",
    "        group_master.append(local_group_set)\n",
    "\n",
    "#group_master"
   ]
  },
  {
   "cell_type": "code",
   "execution_count": null,
   "metadata": {},
   "outputs": [],
   "source": []
  },
  {
   "cell_type": "markdown",
   "metadata": {},
   "source": [
    "## Code up the permutation test"
   ]
  },
  {
   "cell_type": "code",
   "execution_count": 6,
   "metadata": {},
   "outputs": [],
   "source": [
    "def pick_2_random_numbers(list_to_sample_from):\n",
    "    \n",
    "    import random\n",
    "    selections = random.sample(list_to_sample_from, 2)\n",
    "    return(selections[0],selections[1])"
   ]
  },
  {
   "cell_type": "code",
   "execution_count": 7,
   "metadata": {},
   "outputs": [],
   "source": [
    "def compute_shared_variant_proportion(sample1,sample2,df):\n",
    "    shared_variants = 0\n",
    "    \n",
    "    s1_df = df[df['strain_name'] == sample1]\n",
    "    variants_in_s1 = set(s1_df['minor_nuc_muts'].tolist())\n",
    "    \n",
    "    s2_df = df[df['strain_name'] == sample2]\n",
    "    variants_in_s2 = set(s2_df['minor_nuc_muts'].tolist())\n",
    "    \n",
    "    total_variants = len(variants_in_s1) + len(variants_in_s2)\n",
    "    if total_variants == 0:\n",
    "        proportion_shared = 0\n",
    "    \n",
    "    else:\n",
    "        for v in variants_in_s1:\n",
    "            if v in variants_in_s2:\n",
    "                shared_variants += 2\n",
    "            \n",
    "        proportion_shared = float(shared_variants/total_variants)\n",
    "        number_shared = shared_variants\n",
    "            \n",
    "    return(proportion_shared, number_shared)"
   ]
  },
  {
   "cell_type": "code",
   "execution_count": 8,
   "metadata": {},
   "outputs": [],
   "source": [
    "def run_permutation_test(iterations, df_to_run):\n",
    "    \n",
    "    # run a bunch of times\n",
    "    output_prop_list = []\n",
    "    output_number_list = []\n",
    "\n",
    "    for i in range(iterations):\n",
    "        # query all strains\n",
    "        list_to_query = set(df_to_run['strain_name'].tolist())\n",
    "        s1,s2 = pick_2_random_numbers(list_to_query)\n",
    "    \n",
    "        # with those random pairs of samples, compute the proportion of snvs that are shared\n",
    "        proportion_variants_shared,number_variants_shared = compute_shared_variant_proportion(s1,s2,df_to_run)\n",
    "        output_prop_list.append(proportion_variants_shared)\n",
    "        output_number_list.append(number_variants_shared)\n",
    "        \n",
    "    # return dataframes\n",
    "    output_prop_df = pd.DataFrame(output_prop_list)\n",
    "    output_prop_df.columns = ['proportion_shared']\n",
    "    \n",
    "    output_number_df = pd.DataFrame(output_number_list)\n",
    "    output_number_df.columns = ['number_shared']\n",
    "\n",
    "    return(output_prop_list, output_number_list, output_prop_df, output_number_df)"
   ]
  },
  {
   "cell_type": "markdown",
   "metadata": {},
   "source": [
    "### Geo permutation test\n",
    "\n",
    "In this version of the test, we will only compare samples that have the same geographic location"
   ]
  },
  {
   "cell_type": "code",
   "execution_count": 9,
   "metadata": {},
   "outputs": [],
   "source": [
    "def run_permutation_test_shared_trait(iterations, df_to_run, metadata, trait):\n",
    "    \n",
    "    count = 0\n",
    "    output_prop_list = []\n",
    "    output_number_list = []\n",
    "    list_to_query = set(df_to_run['strain_name'].tolist())\n",
    "\n",
    "    while count < iterations:\n",
    "        s1,s2 = pick_2_random_numbers(list_to_query)\n",
    "    \n",
    "        # with those random pairs of samples, compute the proportion of snvs that are shared\n",
    "        if s1 in metadata and s2 in metadata: \n",
    "            trait1 = metadata[s1][trait]\n",
    "            trait2 = metadata[s2][trait]\n",
    "            \n",
    "            if trait1 == trait2 and \"unknown\" not in [trait1,trait2]:\n",
    "                proportion_variants_shared,number_variants_shared = compute_shared_variant_proportion(s1,s2,df_to_run)\n",
    "                output_prop_list.append(proportion_variants_shared)\n",
    "                output_number_list.append(number_variants_shared)\n",
    "                count += 1\n",
    "            else:\n",
    "                pass\n",
    "        \n",
    "    # return dataframe\n",
    "    output_prop_df = pd.DataFrame(output_prop_list)\n",
    "    output_prop_df.columns = ['proportion_shared']\n",
    "    \n",
    "    output_number_df = pd.DataFrame(output_number_list)\n",
    "    output_number_df.columns = ['number_shared']\n",
    "    \n",
    "    return(output_prop_list, output_number_list, output_prop_df, output_number_df)"
   ]
  },
  {
   "cell_type": "markdown",
   "metadata": {},
   "source": [
    "## Compute p-values for transmission pairs \n",
    "\n",
    "For each transmission pair, compute the proportion of variants shared, and compare to the fraction of random pairs that have at least that much shared variation"
   ]
  },
  {
   "cell_type": "code",
   "execution_count": 10,
   "metadata": {},
   "outputs": [],
   "source": [
    "def compute_p_value(proportion_variants_shared, list_of_permuted_shared_proportions):\n",
    "    count = 0\n",
    "    for p in list_of_permuted_shared_proportions:\n",
    "        if p >= proportion_variants_shared:\n",
    "            count += 1\n",
    "            \n",
    "    fraction_more_extreme = count/len(list_of_permuted_shared_proportions)\n",
    "    return(fraction_more_extreme)"
   ]
  },
  {
   "cell_type": "code",
   "execution_count": 11,
   "metadata": {},
   "outputs": [],
   "source": [
    "def compute_p_values_for_transmission_pairs(transmission_pairs, df_with_variants, list_of_permuted_shared_proportions):\n",
    "    \n",
    "    shared_fractions = []\n",
    "    p_values = []\n",
    "\n",
    "    for t in transmission_pairs:\n",
    "        sample1 = t[0]\n",
    "        sample2 = t[1]\n",
    "        proportion_variants_shared,number_variants_shared = compute_shared_variant_proportion(sample1,sample2,df_with_variants)\n",
    "\n",
    "        # now calculate the number of random pairs with at least as much shared variation as the transmission pair\n",
    "        fraction_more_extreme = compute_p_value(proportion_variants_shared, list_of_permuted_shared_proportions)\n",
    "\n",
    "        shared_fractions.append(proportion_variants_shared)\n",
    "        p_values.append(fraction_more_extreme)\n",
    "        \n",
    "    return(shared_fractions,p_values)"
   ]
  },
  {
   "cell_type": "code",
   "execution_count": 12,
   "metadata": {},
   "outputs": [],
   "source": [
    "def generate_df2(shared_fractions,p_values):\n",
    "    y_limit = 3200\n",
    "    y_limits = [y_limit] * 6\n",
    "    shared_fractions_dict = {\"pair\":[\"1\",\"2\",\"3\", \"4\", \"5\", \"6\"],\n",
    "                         \"fraction_shared\":shared_fractions,\n",
    "                        \"y\":y_limits,\n",
    "                        \"p_value\":p_values}\n",
    "    df2 = pd.DataFrame.from_dict(shared_fractions_dict)\n",
    "    df2['color'] = np.where(df2['p_value'] < 0.05, \"significant\",\"not\")\n",
    "    \n",
    "    return(df2)"
   ]
  },
  {
   "cell_type": "code",
   "execution_count": null,
   "metadata": {},
   "outputs": [],
   "source": []
  },
  {
   "cell_type": "code",
   "execution_count": null,
   "metadata": {},
   "outputs": [],
   "source": []
  },
  {
   "cell_type": "markdown",
   "metadata": {},
   "source": [
    "## Run!"
   ]
  },
  {
   "cell_type": "code",
   "execution_count": 13,
   "metadata": {},
   "outputs": [
    {
     "data": {
      "text/html": [
       "<div>\n",
       "<style scoped>\n",
       "    .dataframe tbody tr th:only-of-type {\n",
       "        vertical-align: middle;\n",
       "    }\n",
       "\n",
       "    .dataframe tbody tr th {\n",
       "        vertical-align: top;\n",
       "    }\n",
       "\n",
       "    .dataframe thead th {\n",
       "        text-align: right;\n",
       "    }\n",
       "</style>\n",
       "<table border=\"1\" class=\"dataframe\">\n",
       "  <thead>\n",
       "    <tr style=\"text-align: right;\">\n",
       "      <th></th>\n",
       "      <th>strain_name</th>\n",
       "      <th>minor_nuc_muts</th>\n",
       "      <th>frequency</th>\n",
       "      <th>sampleid</th>\n",
       "      <th>location</th>\n",
       "    </tr>\n",
       "  </thead>\n",
       "  <tbody>\n",
       "    <tr>\n",
       "      <th>3</th>\n",
       "      <td>USA/WI-UW-67/2020</td>\n",
       "      <td>T8782C</td>\n",
       "      <td>0.91650</td>\n",
       "      <td>53</td>\n",
       "      <td>Dane County</td>\n",
       "    </tr>\n",
       "    <tr>\n",
       "      <th>6</th>\n",
       "      <td>USA/WI-UW-67/2020</td>\n",
       "      <td>T15137G</td>\n",
       "      <td>0.01510</td>\n",
       "      <td>53</td>\n",
       "      <td>Dane County</td>\n",
       "    </tr>\n",
       "    <tr>\n",
       "      <th>7</th>\n",
       "      <td>USA/WI-UW-67/2020</td>\n",
       "      <td>A15139C</td>\n",
       "      <td>0.02015</td>\n",
       "      <td>53</td>\n",
       "      <td>Dane County</td>\n",
       "    </tr>\n",
       "    <tr>\n",
       "      <th>8</th>\n",
       "      <td>USA/WI-UW-67/2020</td>\n",
       "      <td>G15150T</td>\n",
       "      <td>0.02815</td>\n",
       "      <td>53</td>\n",
       "      <td>Dane County</td>\n",
       "    </tr>\n",
       "    <tr>\n",
       "      <th>9</th>\n",
       "      <td>USA/WI-UW-67/2020</td>\n",
       "      <td>T15167G</td>\n",
       "      <td>0.01060</td>\n",
       "      <td>53</td>\n",
       "      <td>Dane County</td>\n",
       "    </tr>\n",
       "  </tbody>\n",
       "</table>\n",
       "</div>"
      ],
      "text/plain": [
       "         strain_name minor_nuc_muts  frequency sampleid     location\n",
       "3  USA/WI-UW-67/2020         T8782C    0.91650       53  Dane County\n",
       "6  USA/WI-UW-67/2020        T15137G    0.01510       53  Dane County\n",
       "7  USA/WI-UW-67/2020        A15139C    0.02015       53  Dane County\n",
       "8  USA/WI-UW-67/2020        G15150T    0.02815       53  Dane County\n",
       "9  USA/WI-UW-67/2020        T15167G    0.01060       53  Dane County"
      ]
     },
     "execution_count": 13,
     "metadata": {},
     "output_type": "execute_result"
    }
   ],
   "source": [
    "# make a combined dataframe with indels and snvs\n",
    "s = snvs_only[[\"strain_name\",\"minor_nuc_muts\",\"frequency\",\"sampleid\",\"location\"]]\n",
    "i = indels_only[[\"strain_name\",\"minor_nuc_muts\",\"frequency\",\"sampleid\",\"location\"]]\n",
    "combined_df = s.append(i)\n",
    "combined_df.head()"
   ]
  },
  {
   "cell_type": "code",
   "execution_count": 14,
   "metadata": {},
   "outputs": [],
   "source": [
    "# other dataframes to run\n",
    "# high_freq_snvs_only = snvs_only[snvs_only['frequency'] >= 0.50]\n",
    "# low_freq_indels_snvs = low_freq_indels_only.append(low_freq_snvs_only)\n",
    "# all_indels_snvs = snvs_only.append(low_freq_indels_only)  # high freq indels don't exit"
   ]
  },
  {
   "cell_type": "code",
   "execution_count": 19,
   "metadata": {},
   "outputs": [],
   "source": [
    "tlist = []\n",
    "for t in transmission_pairs: \n",
    "    tlist.append(t[0])\n",
    "    tlist.append(t[1])\n",
    "    \n",
    "sloth = combined_df[combined_df['strain_name'].isin(tlist)]\n",
    "#sloth"
   ]
  },
  {
   "cell_type": "markdown",
   "metadata": {},
   "source": [
    "The putative transmission pairs are: \n",
    "1. USA/WI-UW-65/2020 and USA/WI-UW-32/2020  (2 days apart)(tubes 50 and 8)\n",
    "2. USA/WI-UW-41/2020 and USA/WI-UW-48/2020 (same day)(tubes 20 and 28)\n",
    "3. USA/WI-UW-74/2020 and USA/WI-UW-29/2020 (4 days apart)(tubes 61 and 5)\n",
    "4. USA/WI-UW-120/2020 and USA/WI-UW-119/2020 (3 days apart)(tubes 130 and 128)\n",
    "5. USA/WI-UW-333/2020 and USA/WI-UW-334/2020 (same day)(tubes 453 and 454)\n",
    "6. USA/WI-UW-337/2020 and USA/WI-UW-338/2020 (same day)(tubes 56 and 53) -> I am actually excluding these, because they do not have the same consensus sequence; they are 3 mutations different, which seems pretty unlikely\n",
    "7. USA/WI-UW-158/2020 and USA/WI-UW-159/2020 and USA/WI-UW-160/2020 (tubes 195,196,197) (these are all in the same household, all collected on the same day) -> I am also going to call 158 and 160 true transmission pairs because they have the same consensus sequence, while 159 has 2 additional mutations (158 and 160 isolated same day). 159 does look like it be descendant from 158 and 160, but becuase it has 2 mutations different tthey were all collected on the same day, it seems a little weird.\n",
    "\n",
    "pairs 5 and 6 are from the Milwaukee area, whereas the rest are more from the Madison area"
   ]
  },
  {
   "cell_type": "code",
   "execution_count": 15,
   "metadata": {},
   "outputs": [],
   "source": [
    "transmission_pairs = [[\"USA/WI-UW-65/2020\",\"USA/WI-UW-32/2020\"],[\"USA/WI-UW-41/2020\",\"USA/WI-UW-48/2020\"],\n",
    "                      [\"USA/WI-UW-74/2020\",\"USA/WI-UW-29/2020\"],[\"USA/WI-UW-120/2020\",\"USA/WI-UW-119/2020\"],\n",
    "                     [\"USA/WI-UW-333/2020\",\"USA/WI-UW-334/2020\"],[\"USA/WI-UW-158/2020\",\"USA/WI-UW-160/2020\"]]"
   ]
  },
  {
   "cell_type": "code",
   "execution_count": 66,
   "metadata": {},
   "outputs": [],
   "source": [
    "n_iterations = 10000\n",
    "df_to_run = s"
   ]
  },
  {
   "cell_type": "code",
   "execution_count": 67,
   "metadata": {},
   "outputs": [],
   "source": [
    "# run it for all pairs\n",
    "proportions, number, proportions_df, number_df = run_permutation_test(n_iterations, df_to_run)\n",
    "\n",
    "shared_fractions_trans_pairs,p_values_random_pairs = compute_p_values_for_transmission_pairs(transmission_pairs, df_to_run, proportions)\n",
    "percentile_random_pairs = np.percentile(proportions_df['proportion_shared'], 95)\n",
    "df2_random = generate_df2(shared_fractions_trans_pairs,p_values_random_pairs)"
   ]
  },
  {
   "cell_type": "code",
   "execution_count": 68,
   "metadata": {},
   "outputs": [],
   "source": [
    "# run it for same location pairs \n",
    "trait = \"location\"\n",
    "proportions_geo, number_geo, proportions_geo_df,number_geo_df= run_permutation_test_shared_trait(n_iterations, df_to_run, metadata_dict,trait)\n",
    "\n",
    "shared_fractions_trans_pairs,p_values_same_geo = compute_p_values_for_transmission_pairs(transmission_pairs, df_to_run, proportions_geo)\n",
    "percentile_same_geo = np.percentile(proportions_geo_df['proportion_shared'], 95)\n",
    "df2_same_geo = generate_df2(shared_fractions_trans_pairs,p_values_same_geo)"
   ]
  },
  {
   "cell_type": "code",
   "execution_count": 69,
   "metadata": {},
   "outputs": [],
   "source": [
    "# run it for same clade pairs \n",
    "trait = \"clade\"\n",
    "proportions_clade, number_clade, proportions_clade_df,number_clade_df= run_permutation_test_shared_trait(n_iterations, df_to_run, metadata_dict,trait)\n",
    "\n",
    "shared_fractions_trans_pairs,p_values_same_clade = compute_p_values_for_transmission_pairs(transmission_pairs, df_to_run, proportions_clade)\n",
    "percentile_same_clade = np.percentile(proportions_clade_df['proportion_shared'], 95)\n",
    "df2_same_clade = generate_df2(shared_fractions_trans_pairs,p_values_same_clade)"
   ]
  },
  {
   "cell_type": "code",
   "execution_count": 70,
   "metadata": {},
   "outputs": [
    {
     "name": "stdout",
     "output_type": "stream",
     "text": [
      "44 39\n"
     ]
    }
   ],
   "source": [
    "Dane_df = df_to_run[df_to_run['location'] == \"Dane County\"]\n",
    "Milwaukee_df = df_to_run[df_to_run['location'] == \"Milwaukee County\"]\n",
    "\n",
    "print(len(set(Dane_df['strain_name'].tolist())), len(set(Milwaukee_df['strain_name'].tolist())))\n",
    "\n",
    "Dane_proportions,Dane_numbers,Dane_proportions_df,Dane_number_df = run_permutation_test(n_iterations, Dane_df)\n",
    "MK_proportions,MK_nunber,MK_proportions_df,MK_number_df = run_permutation_test(n_iterations, Milwaukee_df)"
   ]
  },
  {
   "cell_type": "code",
   "execution_count": 71,
   "metadata": {},
   "outputs": [],
   "source": [
    "# pair3 = snvs_only[snvs_only['strain_name'].isin([\"USA/WI-UW-74/2020\",\"USA/WI-UW-29/2020\"])]\n",
    "# pair3"
   ]
  },
  {
   "cell_type": "code",
   "execution_count": 72,
   "metadata": {},
   "outputs": [],
   "source": [
    "# pair4 = snvs_only[snvs_only['strain_name'].isin([\"USA/WI-UW-120/2020\",\"USA/WI-UW-119/2020\"])]\n",
    "# pair4"
   ]
  },
  {
   "cell_type": "code",
   "execution_count": null,
   "metadata": {},
   "outputs": [],
   "source": []
  },
  {
   "cell_type": "markdown",
   "metadata": {},
   "source": [
    "# Plot!"
   ]
  },
  {
   "cell_type": "code",
   "execution_count": 73,
   "metadata": {},
   "outputs": [],
   "source": [
    "random_pair_color = \"#C4C4C5\"\n",
    "sig_color =  \"#2664A5\" #\"#70AE9D\"\n",
    "not_sig_color = \"#4A4A4A\" # \"#AE7081\"\n",
    "same_geo_color = \"#FEEDBE\""
   ]
  },
  {
   "cell_type": "markdown",
   "metadata": {},
   "source": [
    "## Random pairs"
   ]
  },
  {
   "cell_type": "code",
   "execution_count": 74,
   "metadata": {},
   "outputs": [
    {
     "data": {
      "text/html": [
       "<div>\n",
       "<style scoped>\n",
       "    .dataframe tbody tr th:only-of-type {\n",
       "        vertical-align: middle;\n",
       "    }\n",
       "\n",
       "    .dataframe tbody tr th {\n",
       "        vertical-align: top;\n",
       "    }\n",
       "\n",
       "    .dataframe thead th {\n",
       "        text-align: right;\n",
       "    }\n",
       "</style>\n",
       "<table border=\"1\" class=\"dataframe\">\n",
       "  <thead>\n",
       "    <tr style=\"text-align: right;\">\n",
       "      <th></th>\n",
       "      <th>pair</th>\n",
       "      <th>fraction_shared</th>\n",
       "      <th>y</th>\n",
       "      <th>p_value</th>\n",
       "      <th>color</th>\n",
       "    </tr>\n",
       "  </thead>\n",
       "  <tbody>\n",
       "    <tr>\n",
       "      <th>0</th>\n",
       "      <td>1</td>\n",
       "      <td>0.000000</td>\n",
       "      <td>3200</td>\n",
       "      <td>1.0000</td>\n",
       "      <td>not</td>\n",
       "    </tr>\n",
       "    <tr>\n",
       "      <th>1</th>\n",
       "      <td>2</td>\n",
       "      <td>0.434783</td>\n",
       "      <td>3200</td>\n",
       "      <td>0.0762</td>\n",
       "      <td>not</td>\n",
       "    </tr>\n",
       "    <tr>\n",
       "      <th>2</th>\n",
       "      <td>3</td>\n",
       "      <td>1.000000</td>\n",
       "      <td>3200</td>\n",
       "      <td>0.0001</td>\n",
       "      <td>significant</td>\n",
       "    </tr>\n",
       "    <tr>\n",
       "      <th>3</th>\n",
       "      <td>4</td>\n",
       "      <td>0.333333</td>\n",
       "      <td>3200</td>\n",
       "      <td>0.1973</td>\n",
       "      <td>not</td>\n",
       "    </tr>\n",
       "    <tr>\n",
       "      <th>4</th>\n",
       "      <td>5</td>\n",
       "      <td>0.285714</td>\n",
       "      <td>3200</td>\n",
       "      <td>0.2637</td>\n",
       "      <td>not</td>\n",
       "    </tr>\n",
       "    <tr>\n",
       "      <th>5</th>\n",
       "      <td>6</td>\n",
       "      <td>0.370370</td>\n",
       "      <td>3200</td>\n",
       "      <td>0.1338</td>\n",
       "      <td>not</td>\n",
       "    </tr>\n",
       "  </tbody>\n",
       "</table>\n",
       "</div>"
      ],
      "text/plain": [
       "  pair  fraction_shared     y  p_value        color\n",
       "0    1         0.000000  3200   1.0000          not\n",
       "1    2         0.434783  3200   0.0762          not\n",
       "2    3         1.000000  3200   0.0001  significant\n",
       "3    4         0.333333  3200   0.1973          not\n",
       "4    5         0.285714  3200   0.2637          not\n",
       "5    6         0.370370  3200   0.1338          not"
      ]
     },
     "execution_count": 74,
     "metadata": {},
     "output_type": "execute_result"
    }
   ],
   "source": [
    "df2_random"
   ]
  },
  {
   "cell_type": "code",
   "execution_count": 75,
   "metadata": {},
   "outputs": [
    {
     "data": {
      "image/png": "[encoded data removed]"
     },
     "metadata": {},
     "output_type": "display_data"
    }
   ],
   "source": [
    "%%R -w 800 -h 500 -u px -i proportions_df,df2_random,percentile_random_pairs,random_pair_color,sig_color,not_sig_color  # this sets the size of the plot...otherwise, it will go off the page\n",
    "\n",
    "require(ggplot2)\n",
    "library(ggplot2)\n",
    "library(RColorBrewer)\n",
    "\n",
    "legend_x = 1.1\n",
    "legend_y = 0.75\n",
    "y_end = df2_random$y[[1]]\n",
    "\n",
    "p <- ggplot() + \n",
    "    geom_histogram(data=proportions_df, aes(x=proportion_shared), binwidth=0.05, color=random_pair_color, fill=random_pair_color)+\n",
    "    geom_rect(aes(xmin=percentile_random_pairs, xmax=1.0, ymin=0, ymax=y_end),color=NaN,fill=sig_color, alpha=0.15)+\n",
    "    #geom_segment(aes(x=percentile,xend=percentile,y=0,yend=y_end,color=percentile_color),size=1,linetype=1)+\n",
    "    geom_segment(data=df2_random, aes(x=fraction_shared,xend=fraction_shared,y=0,yend=y,color=color),size=1,linetype=5)+\n",
    "    geom_label(data=df2_random, aes(x=fraction_shared,y=y,label=pair),label.size=NA, size=6)+\n",
    "    labs(x=\"\\nproportion variants shared\",y=\"counts\\n\")+\n",
    "    scale_color_manual(values=c(significant=sig_color,not=not_sig_color), labels=c(\" not sig.\",\" p < 0.05\"))+\n",
    "#     scale_fill_manual(values=c(arose_on_tip=tip_color,arose_on_internal_node=node_color), labels=c(\"tip\", \"internal node\"))+\n",
    "#    scale_y_continuous(breaks=seq(0,35,5), limits=c(0,35))+\n",
    "    theme(panel.grid.major=element_line(colour=NA,size=NA))+    \n",
    "    theme(panel.grid.minor=element_line(colour=NA,size=NA))+    \n",
    "    theme(strip.background = element_rect(colour=NA, fill=NA))+\n",
    "    theme(axis.line.x=element_line(colour=\"black\"))+\n",
    "    theme(axis.line.y=element_line(colour=\"black\"))+\n",
    "    theme(axis.title=element_text(size=22, vjust=5))+\n",
    "    theme(axis.text.y=element_text(size=18, colour=\"black\"))+\n",
    "    theme(axis.text.x=element_text(size=18, colour=\"black\", hjust=0.5))+\n",
    "    theme(legend.text=element_text(size=18))+\n",
    "    theme(legend.title=element_blank())+\n",
    "    theme(panel.margin=unit(1, \"lines\"))+\n",
    "    theme(plot.margin=unit(c(1,4,1,1),\"cm\"))+\n",
    "    theme(legend.key.size=unit(0.7, \"cm\"))+\n",
    "    theme(panel.background=element_rect(fill=NA))+\n",
    "    theme(legend.key=element_rect(fill=NA))+\n",
    "    theme(legend.position = c(legend_x, legend_y))\n",
    "\n",
    "ggsave(\"shared-variants-permutation-test-2020-08-28-snvs.pdf\", width = 10, height = 6, device = \"pdf\", path = \"/Users/lmoncla/src/ncov-WI-within-host/figures/\", dpi = 300)\n",
    "p"
   ]
  },
  {
   "cell_type": "code",
   "execution_count": null,
   "metadata": {},
   "outputs": [],
   "source": []
  },
  {
   "cell_type": "code",
   "execution_count": null,
   "metadata": {},
   "outputs": [],
   "source": []
  },
  {
   "cell_type": "markdown",
   "metadata": {},
   "source": [
    "## Plot with geo as well"
   ]
  },
  {
   "cell_type": "code",
   "execution_count": 76,
   "metadata": {},
   "outputs": [],
   "source": [
    "x = proportions_df\n",
    "x['test'] = \"all\"\n",
    "y = proportions_geo_df\n",
    "y['test'] = \"same\"\n",
    "proportions_combined_df = x.append(y)"
   ]
  },
  {
   "cell_type": "code",
   "execution_count": 77,
   "metadata": {},
   "outputs": [
    {
     "name": "stdout",
     "output_type": "stream",
     "text": [
      "0.17525002495955436 0.1915480763748554\n",
      "0.15384615384615385 0.15384615384615385\n"
     ]
    }
   ],
   "source": [
    "print(proportions_df[\"proportion_shared\"].mean(), proportions_geo_df[\"proportion_shared\"].mean())\n",
    "print(proportions_df[\"proportion_shared\"].median(), proportions_geo_df[\"proportion_shared\"].median())"
   ]
  },
  {
   "cell_type": "code",
   "execution_count": 78,
   "metadata": {},
   "outputs": [
    {
     "data": {
      "image/png": "[encoded data removed]"
     },
     "metadata": {},
     "output_type": "display_data"
    }
   ],
   "source": [
    "%%R -w 800 -h 500 -u px -i proportions_combined_df,df2_same_geo,percentile_same_geo,random_pair_color,sig_color,not_sig_color,same_geo_color  # this sets the size of the plot...otherwise, it will go off the page\n",
    "\n",
    "require(ggplot2)\n",
    "library(ggplot2)\n",
    "library(RColorBrewer)\n",
    "\n",
    "y_end = df2_same_geo$y[[1]]\n",
    "\n",
    "p <- ggplot() + \n",
    "    geom_histogram(data=proportions_combined_df, aes(x=proportion_shared,fill=test), binwidth=0.05, position=\"dodge\")+\n",
    "    #geom_rect(aes(xmin=percentile, xmax=1.0, ymin=0, ymax=y_end),color=NaN,fill=sig_color, alpha=0.1)+\n",
    "    geom_rect(aes(xmin=percentile_same_geo, xmax=1.0, ymin=0, ymax=y_end),color=NaN,fill=same_geo_color, alpha=0.4)+\n",
    "    #geom_segment(aes(x=percentile,xend=percentile,y=0,yend=y_end,color=percentile_color),size=1,linetype=1)+\n",
    "    geom_segment(data=df2_same_geo, aes(x=fraction_shared,xend=fraction_shared,y=0,yend=y_end,color=color),size=1,linetype=5)+\n",
    "    geom_label(data=df2_same_geo, aes(x=fraction_shared,y=y,label=pair),label.size=NA, size=6)+\n",
    "    labs(x=\"\\nproportion variants shared\",y=\"counts\\n\")+\n",
    "    scale_color_manual(values=c(significant=sig_color,not=not_sig_color), labels=c(not=\" not sig.\",significant=\" p < 0.05\"))+\n",
    "    scale_fill_manual(values=c(significant=sig_color,not=not_sig_color,all=random_pair_color,same=same_geo_color), labels=c(all=\"random pairs\",same=\"same location\"))+\n",
    "#    scale_y_continuous(breaks=seq(0,35,5), limits=c(0,35))+\n",
    "    theme(panel.grid.major=element_line(colour=NA,size=NA))+    \n",
    "    theme(panel.grid.minor=element_line(colour=NA,size=NA))+    \n",
    "    theme(strip.background = element_rect(colour=NA, fill=NA))+\n",
    "    theme(axis.line.x=element_line(colour=\"black\"))+\n",
    "    theme(axis.line.y=element_line(colour=\"black\"))+\n",
    "    theme(axis.title=element_text(size=22, vjust=5))+\n",
    "    theme(axis.text.y=element_text(size=18, colour=\"black\"))+\n",
    "    theme(axis.text.x=element_text(size=18, colour=\"black\", hjust=0.5))+\n",
    "    theme(legend.text=element_text(size=18))+\n",
    "    theme(legend.title=element_blank())+\n",
    "    theme(panel.margin=unit(1, \"lines\"))+\n",
    "    theme(plot.margin=unit(c(1,6,1,1),\"cm\"))+\n",
    "    theme(legend.key.size=unit(0.7, \"cm\"))+\n",
    "    theme(panel.background=element_rect(fill=NA))+\n",
    "    theme(legend.key=element_rect(fill=NA))+\n",
    "    theme(legend.position = c(1.1, 0.75))\n",
    "\n",
    "ggsave(\"shared-variants-geo-permutation-test-2020-08-28-snvs.pdf\", width = 10, height = 6, device = \"pdf\", path = \"/Users/lmoncla/src/ncov-WI-within-host/figures/\", dpi = 300)\n",
    "p"
   ]
  },
  {
   "cell_type": "code",
   "execution_count": null,
   "metadata": {},
   "outputs": [],
   "source": []
  },
  {
   "cell_type": "markdown",
   "metadata": {},
   "source": [
    "## Plot for clades same"
   ]
  },
  {
   "cell_type": "code",
   "execution_count": 79,
   "metadata": {},
   "outputs": [],
   "source": [
    "x = proportions_df\n",
    "x['test'] = \"all\"\n",
    "y = proportions_clade_df\n",
    "y['test'] = \"same\"\n",
    "proportions_combined_df = x.append(y)"
   ]
  },
  {
   "cell_type": "code",
   "execution_count": 80,
   "metadata": {
    "scrolled": true
   },
   "outputs": [
    {
     "name": "stdout",
     "output_type": "stream",
     "text": [
      "0.17525002495955436 0.27217495895090654\n",
      "0.15384615384615385 0.2727272727272727\n"
     ]
    }
   ],
   "source": [
    "print(proportions_df[\"proportion_shared\"].mean(), proportions_clade_df[\"proportion_shared\"].mean())\n",
    "print(proportions_df[\"proportion_shared\"].median(), proportions_clade_df[\"proportion_shared\"].median())"
   ]
  },
  {
   "cell_type": "code",
   "execution_count": 81,
   "metadata": {},
   "outputs": [
    {
     "data": {
      "image/png": "[encoded data removed]"
     },
     "metadata": {},
     "output_type": "display_data"
    }
   ],
   "source": [
    "%%R -w 800 -h 500 -u px -i proportions_combined_df,df2_same_clade,percentile_same_clade,random_pair_color,sig_color,not_sig_color,same_geo_color  # this sets the size of the plot...otherwise, it will go off the page\n",
    "\n",
    "require(ggplot2)\n",
    "library(ggplot2)\n",
    "library(RColorBrewer)\n",
    "\n",
    "y_end = df2_same_clade$y[[1]]\n",
    "\n",
    "p <- ggplot() + \n",
    "    geom_histogram(data=proportions_combined_df, aes(x=proportion_shared,fill=test), binwidth=0.05, position=\"dodge\")+\n",
    "    #geom_rect(aes(xmin=percentile, xmax=1.0, ymin=0, ymax=y_end),color=NaN,fill=sig_color, alpha=0.1)+\n",
    "    geom_rect(aes(xmin=percentile_same_clade, xmax=1.0, ymin=0, ymax=y_end),color=NaN,fill=same_geo_color, alpha=0.4)+\n",
    "    #geom_segment(aes(x=percentile,xend=percentile,y=0,yend=y_end,color=percentile_color),size=1,linetype=1)+\n",
    "    geom_segment(data=df2_same_clade, aes(x=fraction_shared,xend=fraction_shared,y=0,yend=y_end,color=color),size=1,linetype=5)+\n",
    "    geom_label(data=df2_same_clade, aes(x=fraction_shared,y=y,label=pair),label.size=NA, size=6)+\n",
    "    labs(x=\"\\nproportion variants shared\",y=\"counts\\n\")+\n",
    "    scale_color_manual(values=c(significant=sig_color,not=not_sig_color,all=random_pair_color,same=same_geo_color), labels=c(not=\" not sig.\",significant=\" p < 0.05\"))+\n",
    "    scale_fill_manual(values=c(significant=sig_color,not=not_sig_color,all=random_pair_color,same=same_geo_color), labels=c(all=\"random pairs\",same=\"same clade\"))+\n",
    "#    scale_y_continuous(breaks=seq(0,35,5), limits=c(0,35))+\n",
    "    theme(panel.grid.major=element_line(colour=NA,size=NA))+    \n",
    "    theme(panel.grid.minor=element_line(colour=NA,size=NA))+    \n",
    "    theme(strip.background = element_rect(colour=NA, fill=NA))+\n",
    "    theme(axis.line.x=element_line(colour=\"black\"))+\n",
    "    theme(axis.line.y=element_line(colour=\"black\"))+\n",
    "    theme(axis.title=element_text(size=22, vjust=5))+\n",
    "    theme(axis.text.y=element_text(size=18, colour=\"black\"))+\n",
    "    theme(axis.text.x=element_text(size=18, colour=\"black\", hjust=0.5))+\n",
    "    theme(legend.text=element_text(size=18))+\n",
    "    theme(legend.title=element_blank())+\n",
    "    theme(panel.margin=unit(1, \"lines\"))+\n",
    "    theme(plot.margin=unit(c(1,6,1,1),\"cm\"))+\n",
    "    theme(legend.key.size=unit(0.7, \"cm\"))+\n",
    "    theme(panel.background=element_rect(fill=NA))+\n",
    "    theme(legend.key=element_rect(fill=NA))+\n",
    "    theme(legend.position = c(1.1, 0.75))\n",
    "\n",
    "ggsave(\"shared-variants-clade-permutation-test-2020-08-28-snvs.pdf\", width = 10, height = 6, device = \"pdf\", path = \"/Users/lmoncla/src/ncov-WI-within-host/figures/\", dpi = 300)\n",
    "p"
   ]
  },
  {
   "cell_type": "code",
   "execution_count": null,
   "metadata": {},
   "outputs": [],
   "source": []
  },
  {
   "cell_type": "code",
   "execution_count": null,
   "metadata": {},
   "outputs": [],
   "source": []
  },
  {
   "cell_type": "code",
   "execution_count": null,
   "metadata": {},
   "outputs": [],
   "source": [
    "x = proportions_df\n",
    "x['test'] = \"all\"\n",
    "y = Dane_proportions_df\n",
    "y['test'] = \"Dane\"\n",
    "z = MK_proportions_df\n",
    "z['test'] = \"Milwaukee\"\n",
    "proportions_combined_df = x.append(y.append(z))"
   ]
  },
  {
   "cell_type": "code",
   "execution_count": null,
   "metadata": {},
   "outputs": [],
   "source": [
    "%%R -w 800 -h 500 -u px -i proportions_combined_df,df2,pair1_shared,pair2_shared,pair3_shared,pair4_shared,pair5_shared,pair6_shared  # this sets the size of the plot...otherwise, it will go off the page\n",
    "\n",
    "require(ggplot2)\n",
    "library(ggplot2)\n",
    "library(RColorBrewer)\n",
    "\n",
    "y_end = 2400\n",
    "p <- ggplot(data=proportions_combined_df, aes(x=proportion_shared, color=test,fill=test)) + \n",
    "    geom_histogram(binwidth=0.05, position='dodge')+\n",
    "    geom_segment(x=pair1_shared,xend=pair1_shared,y=0,yend=y_end, color=\"dodgerblue\", size=1.25, linetype=5)+\n",
    "    geom_segment(x=pair2_shared,xend=pair2_shared,y=0,yend=y_end, color=\"dodgerblue\", size=1.25, linetype=5)+\n",
    "    geom_segment(x=pair3_shared,xend=pair3_shared,y=0,yend=y_end, color=\"dodgerblue\", size=1.25, linetype=5)+\n",
    "    geom_segment(x=pair4_shared,xend=pair4_shared,y=0,yend=y_end, color=\"dodgerblue\", size=1.25, linetype=5)+\n",
    "    geom_segment(x=pair5_shared,xend=pair5_shared,y=0,yend=y_end, color=\"dodgerblue\", size=1.25, linetype=5)+\n",
    "    geom_segment(x=pair6_shared,xend=pair6_shared,y=0,yend=y_end, color=\"dodgerblue\", size=1.25, linetype=5)+\n",
    "    #geom_label(data=df2, aes(x=fraction_shared,y=y,label=pair),label.size=NA, size=6)\n",
    "    labs(x=\"\\nproportion variants shared among random pairs\",y=\"counts\\n\")+\n",
    "    scale_color_manual(values=c(\"grey60\",\"burlywood1\",\"burlywood3\"), guide=FALSE)+\n",
    "    scale_fill_manual(values=c(\"grey60\",\"burlywood1\",\"burlywood3\"))+\n",
    "# #    scale_y_continuous(breaks=seq(0,35,5), limits=c(0,35))+\n",
    "    theme(panel.grid.major=element_line(colour=NA,size=NA))+    \n",
    "    theme(panel.grid.minor=element_line(colour=NA,size=NA))+    \n",
    "    theme(strip.background = element_rect(colour=NA, fill=NA))+\n",
    "    theme(axis.line.x=element_line(colour=\"black\"))+\n",
    "    theme(axis.line.y=element_line(colour=\"black\"))+\n",
    "    theme(axis.title=element_text(size=22, vjust=5))+\n",
    "    theme(axis.text.y=element_text(size=18, colour=\"black\"))+\n",
    "    theme(axis.text.x=element_text(size=18, colour=\"black\", hjust=0.95))+\n",
    "    theme(legend.text=element_text(size=18))+\n",
    "    theme(legend.title=element_text(size=22))+\n",
    "    theme(panel.margin=unit(1, \"lines\"))+\n",
    "    theme(plot.margin=unit(c(1,4,1,1),\"cm\"))+\n",
    "    theme(legend.key.size=unit(0.7, \"cm\"))+\n",
    "    theme(panel.background=element_rect(fill=NA))+\n",
    "    theme(legend.key=element_rect(fill=NA))+\n",
    "    theme(legend.position = c(1.0, 0.75))+\n",
    "\n",
    "ggsave(\"shared-variants-Dane-MK-all-permutation-test-2020-08-21-snvs.pdf\", width = 12, height = 6, device = \"pdf\", path = \"/Users/lmoncla/src/ncov-WI-within-host/figures/\", dpi = 300)\n",
    "p"
   ]
  },
  {
   "cell_type": "markdown",
   "metadata": {},
   "source": [
    "## Now, instead, try looking at clusters I have identified based on looking like transmission chains \n",
    "\n",
    "cluster 1 is roughy 19A and cluster 2 is roughly 19B"
   ]
  },
  {
   "cell_type": "code",
   "execution_count": 277,
   "metadata": {},
   "outputs": [
    {
     "name": "stderr",
     "output_type": "stream",
     "text": [
      "/Users/lmoncla/anaconda/envs/LHM-basics/lib/python3.7/site-packages/ipykernel_launcher.py:1: FutureWarning: from_csv is deprecated. Please use read_csv(...) instead. Note that some of the default arguments are different, so please refer to the documentation for from_csv when changing your function calls\n",
      "  \"\"\"Entry point for launching an IPython kernel.\n"
     ]
    },
    {
     "data": {
      "text/html": [
       "<div>\n",
       "<style scoped>\n",
       "    .dataframe tbody tr th:only-of-type {\n",
       "        vertical-align: middle;\n",
       "    }\n",
       "\n",
       "    .dataframe tbody tr th {\n",
       "        vertical-align: top;\n",
       "    }\n",
       "\n",
       "    .dataframe thead th {\n",
       "        text-align: right;\n",
       "    }\n",
       "</style>\n",
       "<table border=\"1\" class=\"dataframe\">\n",
       "  <thead>\n",
       "    <tr style=\"text-align: right;\">\n",
       "      <th></th>\n",
       "      <th>strain_name</th>\n",
       "      <th>cluster</th>\n",
       "      <th>number_cluster_muts</th>\n",
       "      <th>total_non_single_muts_in_cluster</th>\n",
       "      <th>total_strain_in_cluster</th>\n",
       "    </tr>\n",
       "  </thead>\n",
       "  <tbody>\n",
       "    <tr>\n",
       "      <th>0</th>\n",
       "      <td>USA/WI-UW-217/2020</td>\n",
       "      <td>1</td>\n",
       "      <td>6.0</td>\n",
       "      <td>27</td>\n",
       "      <td>25</td>\n",
       "    </tr>\n",
       "    <tr>\n",
       "      <th>1</th>\n",
       "      <td>USA/WI-UW-246/2020</td>\n",
       "      <td>1</td>\n",
       "      <td>6.0</td>\n",
       "      <td>27</td>\n",
       "      <td>25</td>\n",
       "    </tr>\n",
       "    <tr>\n",
       "      <th>2</th>\n",
       "      <td>USA/WI-UW-231/2020</td>\n",
       "      <td>1</td>\n",
       "      <td>4.0</td>\n",
       "      <td>27</td>\n",
       "      <td>25</td>\n",
       "    </tr>\n",
       "    <tr>\n",
       "      <th>3</th>\n",
       "      <td>USA/WI-UW-306/2020</td>\n",
       "      <td>1</td>\n",
       "      <td>7.0</td>\n",
       "      <td>27</td>\n",
       "      <td>25</td>\n",
       "    </tr>\n",
       "    <tr>\n",
       "      <th>4</th>\n",
       "      <td>USA/WI-UW-232/2020</td>\n",
       "      <td>1</td>\n",
       "      <td>5.0</td>\n",
       "      <td>27</td>\n",
       "      <td>25</td>\n",
       "    </tr>\n",
       "  </tbody>\n",
       "</table>\n",
       "</div>"
      ],
      "text/plain": [
       "          strain_name  cluster  number_cluster_muts  \\\n",
       "0  USA/WI-UW-217/2020        1                  6.0   \n",
       "1  USA/WI-UW-246/2020        1                  6.0   \n",
       "2  USA/WI-UW-231/2020        1                  4.0   \n",
       "3  USA/WI-UW-306/2020        1                  7.0   \n",
       "4  USA/WI-UW-232/2020        1                  5.0   \n",
       "\n",
       "   total_non_single_muts_in_cluster  total_strain_in_cluster  \n",
       "0                                27                       25  \n",
       "1                                27                       25  \n",
       "2                                27                       25  \n",
       "3                                27                       25  \n",
       "4                                27                       25  "
      ]
     },
     "execution_count": 277,
     "metadata": {},
     "output_type": "execute_result"
    }
   ],
   "source": [
    "cluster_df = pd.DataFrame.from_csv(\"/Users/lmoncla/src/ncov-WI-within-host/data/annotations-2020-08-21.csv\")\n",
    "cluster_df.reset_index(inplace=True)\n",
    "cluster_df = cluster_df.rename(columns={\"name\": \"strain_name\"})\n",
    "cluster_df.head()"
   ]
  },
  {
   "cell_type": "code",
   "execution_count": 278,
   "metadata": {},
   "outputs": [],
   "source": [
    "all_clusters_df = pd.DataFrame()\n",
    "iterations = 10000\n",
    "\n",
    "for cluster_number in set(cluster_df['cluster'].tolist()):\n",
    "    subset_cluster = cluster_df[cluster_df['cluster'] == cluster_number]\n",
    "    subset_cluster_df = snvs_only[snvs_only['strain_name'].isin(subset_cluster['strain_name'].tolist())]\n",
    "    \n",
    "    cluster_prop_list,cluster_number_list, cluster_prop_df,cluster_number_df = run_permutation_test(iterations, subset_cluster_df)\n",
    "    \n",
    "    cluster_prop_df['test'] = str(cluster_number)\n",
    "    all_clusters_df = all_clusters_df.append(cluster_prop_df)"
   ]
  },
  {
   "cell_type": "code",
   "execution_count": 279,
   "metadata": {},
   "outputs": [
    {
     "data": {
      "text/html": [
       "<div>\n",
       "<style scoped>\n",
       "    .dataframe tbody tr th:only-of-type {\n",
       "        vertical-align: middle;\n",
       "    }\n",
       "\n",
       "    .dataframe tbody tr th {\n",
       "        vertical-align: top;\n",
       "    }\n",
       "\n",
       "    .dataframe thead th {\n",
       "        text-align: right;\n",
       "    }\n",
       "</style>\n",
       "<table border=\"1\" class=\"dataframe\">\n",
       "  <thead>\n",
       "    <tr style=\"text-align: right;\">\n",
       "      <th></th>\n",
       "      <th>proportion_shared</th>\n",
       "      <th>test</th>\n",
       "    </tr>\n",
       "  </thead>\n",
       "  <tbody>\n",
       "    <tr>\n",
       "      <th>0</th>\n",
       "      <td>0.181818</td>\n",
       "      <td>1</td>\n",
       "    </tr>\n",
       "    <tr>\n",
       "      <th>1</th>\n",
       "      <td>0.384615</td>\n",
       "      <td>1</td>\n",
       "    </tr>\n",
       "    <tr>\n",
       "      <th>2</th>\n",
       "      <td>0.400000</td>\n",
       "      <td>1</td>\n",
       "    </tr>\n",
       "    <tr>\n",
       "      <th>3</th>\n",
       "      <td>0.230769</td>\n",
       "      <td>1</td>\n",
       "    </tr>\n",
       "    <tr>\n",
       "      <th>4</th>\n",
       "      <td>0.266667</td>\n",
       "      <td>1</td>\n",
       "    </tr>\n",
       "  </tbody>\n",
       "</table>\n",
       "</div>"
      ],
      "text/plain": [
       "   proportion_shared test\n",
       "0           0.181818    1\n",
       "1           0.384615    1\n",
       "2           0.400000    1\n",
       "3           0.230769    1\n",
       "4           0.266667    1"
      ]
     },
     "execution_count": 279,
     "metadata": {},
     "output_type": "execute_result"
    }
   ],
   "source": [
    "all_clusters_df.head()"
   ]
  },
  {
   "cell_type": "code",
   "execution_count": 280,
   "metadata": {},
   "outputs": [],
   "source": [
    "x = all_clusters_df\n",
    "y = proportions_df\n",
    "y['test'] = \"all\"\n",
    "combined_df = x.append(y)\n",
    "\n",
    "# combined_df = combined_df[combined_df['test'] != \"7\"]\n",
    "# combined_df = combined_df[combined_df['test'] != \"6\"]\n",
    "# combined_df = combined_df[combined_df['test'] != \"5\"]\n",
    "# combined_df = combined_df[combined_df['test'] != \"4\"]\n",
    "# combined_df = combined_df[combined_df['test'] != \"3\"]"
   ]
  },
  {
   "cell_type": "code",
   "execution_count": 290,
   "metadata": {},
   "outputs": [
    {
     "data": {
      "image/png": "[encoded data removed]"
     },
     "metadata": {},
     "output_type": "display_data"
    }
   ],
   "source": [
    "%%R -w 800 -h 500 -u px -i combined_df,df2 # this sets the size of the plot...otherwise, it will go off the page\n",
    "\n",
    "require(ggplot2)\n",
    "library(ggplot2)\n",
    "library(RColorBrewer)\n",
    "\n",
    "y_end = 2400\n",
    "p <- ggplot(data=combined_df, aes(x=proportion_shared, color=test,fill=test)) + \n",
    "    facet_wrap(~test, scales=\"free\")+\n",
    "    geom_histogram(binwidth=0.05, position='dodge')\n",
    "#     geom_segment(data=df2, aes(x=fraction_shared,xend=fraction_shared,y=0,yend=y_end),size=1,linetype=5)+\n",
    "#     geom_label(data=df2, aes(x=fraction_shared,y=y,label=pair),label.size=NA, size=6)+\n",
    "#     labs(x=\"\\nproportion variants shared among pairs\",y=\"counts\\n\")+\n",
    "#     scale_color_manual(values=c(\"steelblue\",\"steelblue4\",\"grey60\"), guide=FALSE)+\n",
    "#     scale_fill_manual(values=c(\"steelblue\",\"steelblue4\",\"grey60\"))+\n",
    "# # #    scale_y_continuous(breaks=seq(0,35,5), limits=c(0,35))+\n",
    "#     theme(panel.grid.major=element_line(colour=NA,size=NA))+    \n",
    "#     theme(panel.grid.minor=element_line(colour=NA,size=NA))+    \n",
    "#     theme(strip.background = element_rect(colour=NA, fill=NA))+\n",
    "#     theme(axis.line.x=element_line(colour=\"black\"))+\n",
    "#     theme(axis.line.y=element_line(colour=\"black\"))+\n",
    "#     theme(axis.title=element_text(size=22, vjust=5))+\n",
    "#     theme(axis.text.y=element_text(size=18, colour=\"black\"))+\n",
    "#     theme(axis.text.x=element_text(size=18, colour=\"black\", hjust=0.95))+\n",
    "#     theme(legend.text=element_text(size=18))+\n",
    "#     theme(legend.title=element_text(size=22))+\n",
    "#     theme(panel.margin=unit(1, \"lines\"))+\n",
    "#     theme(plot.margin=unit(c(1,4,1,1),\"cm\"))+\n",
    "#     theme(legend.key.size=unit(0.7, \"cm\"))+\n",
    "#     theme(panel.background=element_rect(fill=NA))+\n",
    "#     theme(legend.key=element_rect(fill=NA))+\n",
    "#     theme(legend.position = c(1.0, 0.75))\n",
    "\n",
    "ggsave(\"shared-variants-clusters-permutation-test-2020-08-28-snvs.pdf\", width = 12, height = 6, device = \"pdf\", path = \"/Users/lmoncla/src/ncov-WI-within-host/figures/\", dpi = 300)\n",
    "p"
   ]
  },
  {
   "cell_type": "code",
   "execution_count": null,
   "metadata": {},
   "outputs": [],
   "source": []
  }
 ],
 "metadata": {
  "kernelspec": {
   "display_name": "LHM-basics (python3)",
   "language": "python",
   "name": "lhm-basics"
  },
  "language_info": {
   "codemirror_mode": {
    "name": "ipython",
    "version": 3
   },
   "file_extension": ".py",
   "mimetype": "text/x-python",
   "name": "python",
   "nbconvert_exporter": "python",
   "pygments_lexer": "ipython3",
   "version": "3.7.3"
  }
 },
 "nbformat": 4,
 "nbformat_minor": 2
}
