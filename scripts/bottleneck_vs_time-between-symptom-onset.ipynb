{
 "cells": [
  {
   "cell_type": "markdown",
   "metadata": {},
   "source": [
    "## this notebook plots bottleneck size vs time between symptom onset (days) for each pair where this information is available"
   ]
  },
  {
   "cell_type": "markdown",
   "metadata": {},
   "source": [
    "### import modules and dependencies"
   ]
  },
  {
   "cell_type": "code",
   "execution_count": 1,
   "metadata": {},
   "outputs": [],
   "source": [
    "import pandas as pd\n",
    "import numpy as np\n",
    "from sklearn.decomposition import PCA\n",
    "from sklearn import preprocessing\n",
    "import matplotlib.pyplot as plt\n",
    "import glob\n",
    "import os\n",
    "from matplotlib import pyplot\n",
    "import matplotlib.pyplot as plt\n",
    "from pathlib import Path\n",
    "from os.path import splitext\n",
    "from functools import reduce\n",
    "from pandas.api.types import is_numeric_dtype\n",
    "import warnings\n",
    "from pandas.core.common import SettingWithCopyWarning\n",
    "from matplotlib.font_manager import FontProperties \n",
    "from matplotlib import cm\n",
    "import itertools\n",
    "from matplotlib import container\n",
    "from matplotlib import gridspec\n",
    "from matplotlib.patches import Patch\n",
    "from matplotlib.lines import Line2D\n",
    "import matplotlib.lines as mlines\n",
    "import matplotlib as mpl\n",
    "from pandas.plotting import table\n",
    "import seaborn as sns\n",
    "from scipy import stats\n",
    "\n",
    "\n",
    "from matplotlib.lines import Line2D\n",
    "import matplotlib.patches as mpatches\n",
    "\n"
   ]
  },
  {
   "cell_type": "code",
   "execution_count": 2,
   "metadata": {},
   "outputs": [],
   "source": [
    "# initialize list of lists\n",
    "data = [['pair 1a',0,1,1], ['pair 1b',0,1,0], ['pair 2a',2,2,707], ['pair 2b',2,2,1], ['pair 3a',4,3,42], ['pair 3b',4,3,13], ['pair 4',6,5,34], ['pair 5',4,4,0], ['pair 6a',2,2,1000], ['pair 6a',2,2,2], ['pair 7',1,4,10], ['pair 8a',1,'NaN',0], ['pair 8b',1,'NaN',1], ['pair 9a',0,'NaN',35], ['pair 9a',0,'NaN',1], ['pair 10a',0,1,0], ['pair 10b',0,1,1], ['pair 11a',0,0,0], ['pair 11b',0,0,1], ['pair 12a',0,1,1], ['pair 12b',0,1,1], ['pair 13a',0,'NaN',15], ['pair 13b',0,'NaN',7], ['pair 14',3,4,9], ['pair 15',8,5,99], ['pair 16',7,6,3], ['pair 17',3,'NaN',312], ['pair 18',3,'NaN',348], ['pair 19',3,'NaN',7], ['pair 20a',0,'NaN',122], ['pair 20b',0,'NaN',46], ['pair 21a',0,'NaN',8], ['pair 21b',0,'NaN',1000], ['pair 22a',0,'NaN',5], ['pair 22b',0,'NaN',1000], ['pair 23',0,3,0], ['pair 24',0,3,0], ['pair 25a',0,0,0], ['pair 25b',0,0,0], ['pair 26a',0,'NaN',1], ['pair 26b',0,'NaN',0], ['pair 27a',0,'NaN',1], ['pair 27b',0,'NaN',1], ['pair 28',3,10,1]]\n",
    "\n",
    "# Pairs = 'pair 1a', 'pair 1b', 'pair 2a', 'pair 2b', 'pair 3a', 'pair 4', 'pair 5', 'pair 6a', 'pair 6b', 'pair 7', 'pair 8a', 'pair 8b', 'pair 9a', 'pair 9b', 'pair 10a', 'pair 10b', 'pair 11a', 'pair 11b', 'pair 12a', 'pair 12b', 'pair 13a', 'pair 13b', 'pair 14', 'pair 15', 'pair 16', 'pair 17', 'pair 18', 'pair 19', 'pair 20a', 'pair 20b', 'pair 21a', 'pair 21b', 'pair 22a', 'pair 22b', 'pair 23', 'pair 24', 'pair 25a', 'pair 25b', 'pair 26a', 'pair 26b', 'pair 27a', 'pair 27b', 'pair 28'\n",
    "# Time between symptoms = 1,1,2,2,3,3,5,4,2,2,4,-,-,-,-,1,1,0,0,1,1,-,-,4,5,6,-,-,-,-,-,-,-,-,-,3,3,0,0,-,-,-,-,10\n",
    "# Time betwee test = 0,0,2,2,4,4,6,4,2,2,1,1,1,0,0,0,0,0,0,0,0,3,3,8,7,3,3,3,0,0,0,0,0,0,0,0,0,0,0,0,0,0,0\n",
    "\n",
    "# Create the pandas DataFrame\n",
    "df = pd.DataFrame(data, columns = ['pair', 'time_between_sample_collection', 'time_between_symptoms', 'Nb'])\n",
    "\n",
    "#"
   ]
  },
  {
   "cell_type": "code",
   "execution_count": 6,
   "metadata": {},
   "outputs": [
    {
     "name": "stderr",
     "output_type": "stream",
     "text": [
      "No handles with labels found to put in legend.\n",
      "No handles with labels found to put in legend.\n",
      "/Users/katbraun/anaconda3/lib/python3.6/site-packages/ipykernel_launcher.py:50: UserWarning: Matplotlib is currently using module://ipykernel.pylab.backend_inline, which is a non-GUI backend, so cannot show the figure.\n"
     ]
    },
    {
     "data": {
      "image/png": "[encoded data removed]",
      "text/plain": [
       "<Figure size 1400x800 with 1 Axes>"
      ]
     },
     "metadata": {},
     "output_type": "display_data"
    }
   ],
   "source": [
    "# generate a figure with sub-plots (one for each gene segment)\n",
    "fig = plt.figure(figsize=(14,8), facecolor='w')\n",
    "plt.style.use('default')\n",
    "mpl.rc('font', family='Arial')\n",
    "gs = gridspec.GridSpec(2, 12)\n",
    "\n",
    "ax1 = fig.add_subplot(gs[0,0:4]) # JT/TV plot\n",
    "\n",
    "# get right of top and right frame of each subplot\n",
    "ax1.spines['top'].set_visible(False)\n",
    "ax1.spines['right'].set_visible(False)\n",
    "ax1.spines['bottom'].set_visible(True)\n",
    "ax1.spines['left'].set_visible(True)\n",
    "    \n",
    "# set fontsize of axes \n",
    "ax1.tick_params(axis = 'both', which = 'major', labelsize = 10)\n",
    "ax1.tick_params(axis = 'both', which = 'minor', labelsize = 10)\n",
    "\n",
    "colorlist = ['lightcoral', 'brown', 'red', 'coral', 'sienna', 'chocolate', 'sandybrown', 'darkorange', 'tan', 'wheat', 'darkgoldenrod', 'gold', 'darkkhaki', 'olive', 'yellowgreen', 'darkseagreen', 'green', 'lightseagreen', 'teal', 'cadetblue', 'skyblue', 'slategrey', 'royalblue', 'navy', 'slateblue', 'mediumorchid', 'plum', 'orchid', 'lightpink']\n",
    "    \n",
    "# FOR PLOT A \n",
    "ax1.scatter(df.time_between_symptoms, df.Nb, alpha=0.5, clip_on=False)\n",
    "# ax1.scatter(df.time_between_sample_collection, df.Nb, c='#EAD9C1', alpha=1.0, clip_on=False)\n",
    "\n",
    "# c='#9FBDCE'\n",
    "\n",
    "# edit the axes - ax1\n",
    "ax1.set_title('', fontname='Arial', fontsize=14)\n",
    "ax1.set_ylabel('transmission bottelneck size', fontname='Arial', fontsize=10)\n",
    "ax1.set_xlabel('days between symptom onset', fontname='Arial', fontsize=10)\n",
    "ax1.set_facecolor('white')\n",
    "for tick in ax1.get_xticklabels():\n",
    "    tick.set_fontname(\"Arial\")\n",
    "for tick in ax1.get_yticklabels():\n",
    "    tick.set_fontname(\"Arial\")\n",
    "ax1.set_ylim(1, 1100)\n",
    "ax1.set_yticks([1, 10, 100, 1000])\n",
    "ax1.set_xlim(-0.5, 10)\n",
    "ax1.set_xticks([0,2,4,6,8,10])\n",
    "\n",
    "ax1.set_yscale('log')\n",
    "\n",
    "plt.margins(y=10)\n",
    "\n",
    "plt.legend()\n",
    "\n",
    "# use tight_layout to optimize spacing of axes and titles within each subplot\n",
    "fig.tight_layout()\n",
    "plt.legend(frameon=False, ncol=2, bbox_to_anchor = [1.05, 0.07]) \n",
    "fig.show()\n",
    "\n",
    "# save this plot to the figures folder \n",
    "fig.savefig(\"../figures/Nb-vs-symptom-collection.pdf\", bbox_inches='tight', dpi=300)\n"
   ]
  },
  {
   "cell_type": "code",
   "execution_count": null,
   "metadata": {},
   "outputs": [],
   "source": []
  }
 ],
 "metadata": {
  "kernelspec": {
   "display_name": "Python 3",
   "language": "python",
   "name": "python3"
  },
  "language_info": {
   "codemirror_mode": {
    "name": "ipython",
    "version": 3
   },
   "file_extension": ".py",
   "mimetype": "text/x-python",
   "name": "python",
   "nbconvert_exporter": "python",
   "pygments_lexer": "ipython3",
   "version": "3.6.8"
  }
 },
 "nbformat": 4,
 "nbformat_minor": 4
}
