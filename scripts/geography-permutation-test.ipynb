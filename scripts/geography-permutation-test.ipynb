{
 "cells": [
  {
   "cell_type": "markdown",
   "metadata": {},
   "source": [
    "# Geography permutation test\n",
    "\n",
    "June 18, 2020 \n",
    "\n",
    "We would like to determine whether samples collected in the same geographic area share more variants than expected by chance alone. I am imagining the following permutation test: \n",
    "\n",
    "1. Select 2 samples at random. Compute the proportion of total variants between them that are shared. Do this a bunch of times. Make a distribution of results. \n",
    "2. Select 2 samples from the same geographic area. Repeat. \n",
    "3. Finally, compute the fraction of shared variants between transmission pairs. Plot this as a dotted line on this distribution. This can give you a p-value. "
   ]
  },
  {
   "cell_type": "code",
   "execution_count": 101,
   "metadata": {},
   "outputs": [
    {
     "name": "stdout",
     "output_type": "stream",
     "text": [
      "The rpy2.ipython extension is already loaded. To reload it, use:\n",
      "  %reload_ext rpy2.ipython\n"
     ]
    }
   ],
   "source": [
    "import imp\n",
    "import importlib, json\n",
    "import glob\n",
    "import re,copy,json\n",
    "import Bio.Phylo\n",
    "import requests\n",
    "import pandas as pd \n",
    "import numpy as np\n",
    "\n",
    "import copy\n",
    "from scipy.special import binom\n",
    "import datetime as dt\n",
    "    \n",
    "import rpy2\n",
    "%load_ext rpy2.ipython"
   ]
  },
  {
   "cell_type": "markdown",
   "metadata": {},
   "source": [
    "## Read in VCF data and output SNVs to query into a dataframe"
   ]
  },
  {
   "cell_type": "code",
   "execution_count": 102,
   "metadata": {},
   "outputs": [],
   "source": [
    "def return_list_of_vcfs(vcf_directory):\n",
    "    vcf_list = []\n",
    "    for f in glob.glob(vcf_directory + \"*intersection.csv\"):\n",
    "        vcf_list.append(f)\n",
    "    return(vcf_list)"
   ]
  },
  {
   "cell_type": "code",
   "execution_count": 103,
   "metadata": {},
   "outputs": [],
   "source": [
    "def read_in_intersection_snvs(vcf_list, vcf_directory):\n",
    "    within_host_df = pd.DataFrame()\n",
    "    \n",
    "    for v in vcf_list:\n",
    "        # pull out sampleid\n",
    "        sampleid = v.replace(vcf_directory,\"\").replace(\"intersection.csv\",\"\")\n",
    "        \n",
    "        d = pd.read_csv(v, sep=\"\\t\")\n",
    "        d['sampleid'] = sampleid\n",
    "        within_host_df = within_host_df.append(d)\n",
    "        \n",
    "    return(within_host_df)"
   ]
  },
  {
   "cell_type": "code",
   "execution_count": 104,
   "metadata": {},
   "outputs": [],
   "source": [
    "def separate_snvs_from_frameshift(within_host_df):\n",
    "    snvs_df = within_host_df[(within_host_df['annotation'] == \"missense\") | (within_host_df['annotation'] == \"synonymous\") | (within_host_df['annotation'] == \"stop\")]\n",
    "    snvs_df['aa_site'] = snvs_df['aa_chage'].str[3:-3]\n",
    "    snvs_df['wt_aa'] = snvs_df['aa_chage'].str[0:3]\n",
    "    snvs_df['mut_aa'] = snvs_df['aa_chage'].str[-3:]\n",
    "    \n",
    "    # add in columns for nucleotide changes \n",
    "    snvs_df['nt_ref'] = snvs_df['nt_change'].str.split(\">\",expand=True)[0].str[-1:]\n",
    "    snvs_df['nt_mut'] = snvs_df['nt_change'].str.split(\">\",expand=True)[1]\n",
    "    \n",
    "    indels_df = within_host_df[(within_host_df['annotation'] == \"frameshift\") | (within_host_df['annotation'] == \"frameshift&stop\")]\n",
    "    return(snvs_df, indels_df)"
   ]
  },
  {
   "cell_type": "code",
   "execution_count": 105,
   "metadata": {},
   "outputs": [],
   "source": [
    "def read_strain_names_from_csv(strain_names_file):\n",
    "    strain_names_dict = {}\n",
    "    \n",
    "    with open(strain_names_file, \"r\") as infile: \n",
    "        for line in infile:\n",
    "            if \"Sample identifier\" not in line:\n",
    "                tube_number = line.split(\"\\t\")[1]\n",
    "                strain_name = line.split(\"\\t\")[0].replace(\"hCoV-19/\",\"\")\n",
    "                \n",
    "                # there are 2 sets of tube numbers, some with leading 0s and others without. I am pretty sure we\n",
    "                # want the ones with leading 0s; there are also some we don't want that have non-numeric tube #s\n",
    "                if tube_number.isdigit() and tube_number.startswith(\"0\"):\n",
    "                    strain_names_dict[str(int(tube_number))] = strain_name\n",
    "                    \n",
    "    return(strain_names_dict)"
   ]
  },
  {
   "cell_type": "code",
   "execution_count": 106,
   "metadata": {},
   "outputs": [],
   "source": [
    "def convert_number_to_strain(sampleid, strain_names_dict):\n",
    "    if sampleid in strain_names_dict:\n",
    "        strain_name = strain_names_dict[sampleid]\n",
    "    else:\n",
    "        strain_name = \"unknown\"\n",
    "        print(sampleid)\n",
    "    return(strain_name)"
   ]
  },
  {
   "cell_type": "code",
   "execution_count": 107,
   "metadata": {},
   "outputs": [],
   "source": [
    "def add_in_strain_column(df, strain_names_dict):\n",
    "    temp_df = pd.DataFrame(df)\n",
    "    strain_name = temp_df['sampleid'].apply(convert_number_to_strain, args=[strain_names_dict])\n",
    "    #strain_name = temp_df['sampleid'].apply(lambda x: \"USA/\" + tube_number_conversion[x] + \"/2020\")\n",
    "    temp_df[\"strain_name\"] = strain_name\n",
    "    return(temp_df)"
   ]
  },
  {
   "cell_type": "code",
   "execution_count": 108,
   "metadata": {},
   "outputs": [],
   "source": [
    "def format_indels(row):\n",
    "    \n",
    "    if \"dup\" in row['nt_change']:\n",
    "        split_char = \"dup\"\n",
    "        variant = row['nt_change'].split(split_char)[1]\n",
    "        new_value = \"-\" + str(int(row[\"POS\"])) + variant\n",
    "    \n",
    "    elif \"del\" in row['nt_change']:\n",
    "        split_char = \"del\"\n",
    "        variant = row['nt_change'].split(split_char)[1]\n",
    "        new_value = str(int(row['POS'])) +  variant + \"-\"\n",
    "    \n",
    "    return(new_value)"
   ]
  },
  {
   "cell_type": "code",
   "execution_count": 109,
   "metadata": {},
   "outputs": [],
   "source": [
    "def return_indel_type(row):\n",
    "    \n",
    "    if \"dup\" in row['nt_change']:\n",
    "        type_change = \"insertion\"\n",
    "     \n",
    "    elif \"del\" in row['nt_change']:\n",
    "        type_change = \"deletion\"\n",
    "    \n",
    "    return(type_change)"
   ]
  },
  {
   "cell_type": "markdown",
   "metadata": {},
   "source": [
    "## Read in vcfs and convert to dataframes \n",
    "\n",
    "I will only read in the intersection SNVs, meaning the ones that were detected in both technical sequencing replicates. This code will separate this into 2 dataframes, 1 for SNVs and 1 for indels, and will also look up and add in the strain names (necessary for converting from tube numbers, which is how the csvs are labelled)."
   ]
  },
  {
   "cell_type": "code",
   "execution_count": 220,
   "metadata": {},
   "outputs": [],
   "source": [
    "strain_names_file = \"/Users/lmoncla/src/ncov-WI-within-host/data/spreadsheet-with-strain-names.tsv\"\n",
    "strain_names_dict = read_strain_names_from_csv(strain_names_file)"
   ]
  },
  {
   "cell_type": "code",
   "execution_count": 221,
   "metadata": {},
   "outputs": [
    {
     "name": "stderr",
     "output_type": "stream",
     "text": [
      "/Users/lmoncla/anaconda/envs/LHM-basics/lib/python3.7/site-packages/ipykernel_launcher.py:3: SettingWithCopyWarning: \n",
      "A value is trying to be set on a copy of a slice from a DataFrame.\n",
      "Try using .loc[row_indexer,col_indexer] = value instead\n",
      "\n",
      "See the caveats in the documentation: http://pandas.pydata.org/pandas-docs/stable/indexing.html#indexing-view-versus-copy\n",
      "  This is separate from the ipykernel package so we can avoid doing imports until\n",
      "/Users/lmoncla/anaconda/envs/LHM-basics/lib/python3.7/site-packages/ipykernel_launcher.py:4: SettingWithCopyWarning: \n",
      "A value is trying to be set on a copy of a slice from a DataFrame.\n",
      "Try using .loc[row_indexer,col_indexer] = value instead\n",
      "\n",
      "See the caveats in the documentation: http://pandas.pydata.org/pandas-docs/stable/indexing.html#indexing-view-versus-copy\n",
      "  after removing the cwd from sys.path.\n",
      "/Users/lmoncla/anaconda/envs/LHM-basics/lib/python3.7/site-packages/ipykernel_launcher.py:5: SettingWithCopyWarning: \n",
      "A value is trying to be set on a copy of a slice from a DataFrame.\n",
      "Try using .loc[row_indexer,col_indexer] = value instead\n",
      "\n",
      "See the caveats in the documentation: http://pandas.pydata.org/pandas-docs/stable/indexing.html#indexing-view-versus-copy\n",
      "  \"\"\"\n",
      "/Users/lmoncla/anaconda/envs/LHM-basics/lib/python3.7/site-packages/ipykernel_launcher.py:8: SettingWithCopyWarning: \n",
      "A value is trying to be set on a copy of a slice from a DataFrame.\n",
      "Try using .loc[row_indexer,col_indexer] = value instead\n",
      "\n",
      "See the caveats in the documentation: http://pandas.pydata.org/pandas-docs/stable/indexing.html#indexing-view-versus-copy\n",
      "  \n",
      "/Users/lmoncla/anaconda/envs/LHM-basics/lib/python3.7/site-packages/ipykernel_launcher.py:9: SettingWithCopyWarning: \n",
      "A value is trying to be set on a copy of a slice from a DataFrame.\n",
      "Try using .loc[row_indexer,col_indexer] = value instead\n",
      "\n",
      "See the caveats in the documentation: http://pandas.pydata.org/pandas-docs/stable/indexing.html#indexing-view-versus-copy\n",
      "  if __name__ == '__main__':\n"
     ]
    }
   ],
   "source": [
    "vcf_directory = \"/Users/lmoncla/src/ncov-WI-within-host/data/VCFs/\"\n",
    "vcfs = return_list_of_vcfs(vcf_directory)\n",
    "all_intersection_variants = read_in_intersection_snvs(vcfs, vcf_directory)\n",
    "all_intersection_variants = add_in_strain_column(all_intersection_variants, strain_names_dict)\n",
    "snvs_only, indels_only = separate_snvs_from_frameshift(all_intersection_variants)"
   ]
  },
  {
   "cell_type": "code",
   "execution_count": 222,
   "metadata": {},
   "outputs": [
    {
     "name": "stderr",
     "output_type": "stream",
     "text": [
      "/Users/lmoncla/anaconda/envs/LHM-basics/lib/python3.7/site-packages/ipykernel_launcher.py:2: SettingWithCopyWarning: \n",
      "A value is trying to be set on a copy of a slice from a DataFrame.\n",
      "Try using .loc[row_indexer,col_indexer] = value instead\n",
      "\n",
      "See the caveats in the documentation: http://pandas.pydata.org/pandas-docs/stable/indexing.html#indexing-view-versus-copy\n",
      "  \n"
     ]
    }
   ],
   "source": [
    "# add in a column for the nucleotide mutation so that it is in the same format as the annotation on nextstrain\n",
    "snvs_only['nuc_muts'] = snvs_only['nt_ref'] + snvs_only[\"POS\"].astype(int).astype(str) + snvs_only['nt_mut']"
   ]
  },
  {
   "cell_type": "code",
   "execution_count": 223,
   "metadata": {},
   "outputs": [
    {
     "name": "stderr",
     "output_type": "stream",
     "text": [
      "/Users/lmoncla/anaconda/envs/LHM-basics/lib/python3.7/site-packages/ipykernel_launcher.py:2: SettingWithCopyWarning: \n",
      "A value is trying to be set on a copy of a slice from a DataFrame.\n",
      "Try using .loc[row_indexer,col_indexer] = value instead\n",
      "\n",
      "See the caveats in the documentation: http://pandas.pydata.org/pandas-docs/stable/indexing.html#indexing-view-versus-copy\n",
      "  \n",
      "/Users/lmoncla/anaconda/envs/LHM-basics/lib/python3.7/site-packages/ipykernel_launcher.py:3: SettingWithCopyWarning: \n",
      "A value is trying to be set on a copy of a slice from a DataFrame.\n",
      "Try using .loc[row_indexer,col_indexer] = value instead\n",
      "\n",
      "See the caveats in the documentation: http://pandas.pydata.org/pandas-docs/stable/indexing.html#indexing-view-versus-copy\n",
      "  This is separate from the ipykernel package so we can avoid doing imports until\n"
     ]
    },
    {
     "data": {
      "text/html": [
       "<div>\n",
       "<style scoped>\n",
       "    .dataframe tbody tr th:only-of-type {\n",
       "        vertical-align: middle;\n",
       "    }\n",
       "\n",
       "    .dataframe tbody tr th {\n",
       "        vertical-align: top;\n",
       "    }\n",
       "\n",
       "    .dataframe thead th {\n",
       "        text-align: right;\n",
       "    }\n",
       "</style>\n",
       "<table border=\"1\" class=\"dataframe\">\n",
       "  <thead>\n",
       "    <tr style=\"text-align: right;\">\n",
       "      <th></th>\n",
       "      <th>Unnamed: 0</th>\n",
       "      <th>SNP</th>\n",
       "      <th>POS</th>\n",
       "      <th>REF</th>\n",
       "      <th>annotation</th>\n",
       "      <th>gene_x</th>\n",
       "      <th>nt_change</th>\n",
       "      <th>aa_chage</th>\n",
       "      <th>rep1_percent</th>\n",
       "      <th>rep2_percent</th>\n",
       "      <th>%</th>\n",
       "      <th>sampleid</th>\n",
       "      <th>strain_name</th>\n",
       "      <th>nuc_muts</th>\n",
       "      <th>type_mut</th>\n",
       "    </tr>\n",
       "  </thead>\n",
       "  <tbody>\n",
       "    <tr>\n",
       "      <th>0</th>\n",
       "      <td>1</td>\n",
       "      <td>ORF1ab_875dupA_Leu293fs_frameshift</td>\n",
       "      <td>1135.0</td>\n",
       "      <td>G</td>\n",
       "      <td>frameshift</td>\n",
       "      <td>ORF1ab</td>\n",
       "      <td>875dupA</td>\n",
       "      <td>Leu293fs</td>\n",
       "      <td>2.23</td>\n",
       "      <td>1.96</td>\n",
       "      <td>2.095</td>\n",
       "      <td>117</td>\n",
       "      <td>USA/WI-UW-110/2020</td>\n",
       "      <td>-1135A</td>\n",
       "      <td>insertion</td>\n",
       "    </tr>\n",
       "    <tr>\n",
       "      <th>3</th>\n",
       "      <td>4</td>\n",
       "      <td>ORF1ab_6435dupT_Leu2146fs_frameshift</td>\n",
       "      <td>6696.0</td>\n",
       "      <td>C</td>\n",
       "      <td>frameshift</td>\n",
       "      <td>ORF1ab</td>\n",
       "      <td>6435dupT</td>\n",
       "      <td>Leu2146fs</td>\n",
       "      <td>6.63</td>\n",
       "      <td>7.57</td>\n",
       "      <td>7.100</td>\n",
       "      <td>117</td>\n",
       "      <td>USA/WI-UW-110/2020</td>\n",
       "      <td>-6696T</td>\n",
       "      <td>insertion</td>\n",
       "    </tr>\n",
       "    <tr>\n",
       "      <th>5</th>\n",
       "      <td>8</td>\n",
       "      <td>ORF1ab_10817dupT_Leu3606fs_frameshift</td>\n",
       "      <td>11074.0</td>\n",
       "      <td>C</td>\n",
       "      <td>frameshift</td>\n",
       "      <td>ORF1ab</td>\n",
       "      <td>10817dupT</td>\n",
       "      <td>Leu3606fs</td>\n",
       "      <td>2.67</td>\n",
       "      <td>3.02</td>\n",
       "      <td>2.845</td>\n",
       "      <td>117</td>\n",
       "      <td>USA/WI-UW-110/2020</td>\n",
       "      <td>-11074T</td>\n",
       "      <td>insertion</td>\n",
       "    </tr>\n",
       "    <tr>\n",
       "      <th>12</th>\n",
       "      <td>17</td>\n",
       "      <td>ORF1ab_15705dupT_Val5236fs_frameshift</td>\n",
       "      <td>15965.0</td>\n",
       "      <td>G</td>\n",
       "      <td>frameshift</td>\n",
       "      <td>ORF1ab</td>\n",
       "      <td>15705dupT</td>\n",
       "      <td>Val5236fs</td>\n",
       "      <td>6.31</td>\n",
       "      <td>5.98</td>\n",
       "      <td>6.145</td>\n",
       "      <td>117</td>\n",
       "      <td>USA/WI-UW-110/2020</td>\n",
       "      <td>-15965T</td>\n",
       "      <td>insertion</td>\n",
       "    </tr>\n",
       "    <tr>\n",
       "      <th>13</th>\n",
       "      <td>18</td>\n",
       "      <td>ORF1ab_18109dupT_Ser6037fs_frameshift</td>\n",
       "      <td>18368.0</td>\n",
       "      <td>G</td>\n",
       "      <td>frameshift</td>\n",
       "      <td>ORF1ab</td>\n",
       "      <td>18109dupT</td>\n",
       "      <td>Ser6037fs</td>\n",
       "      <td>5.92</td>\n",
       "      <td>4.22</td>\n",
       "      <td>5.070</td>\n",
       "      <td>117</td>\n",
       "      <td>USA/WI-UW-110/2020</td>\n",
       "      <td>-18368T</td>\n",
       "      <td>insertion</td>\n",
       "    </tr>\n",
       "  </tbody>\n",
       "</table>\n",
       "</div>"
      ],
      "text/plain": [
       "    Unnamed: 0                                    SNP      POS REF  \\\n",
       "0            1     ORF1ab_875dupA_Leu293fs_frameshift   1135.0   G   \n",
       "3            4   ORF1ab_6435dupT_Leu2146fs_frameshift   6696.0   C   \n",
       "5            8  ORF1ab_10817dupT_Leu3606fs_frameshift  11074.0   C   \n",
       "12          17  ORF1ab_15705dupT_Val5236fs_frameshift  15965.0   G   \n",
       "13          18  ORF1ab_18109dupT_Ser6037fs_frameshift  18368.0   G   \n",
       "\n",
       "    annotation  gene_x  nt_change   aa_chage  rep1_percent  rep2_percent  \\\n",
       "0   frameshift  ORF1ab    875dupA   Leu293fs          2.23          1.96   \n",
       "3   frameshift  ORF1ab   6435dupT  Leu2146fs          6.63          7.57   \n",
       "5   frameshift  ORF1ab  10817dupT  Leu3606fs          2.67          3.02   \n",
       "12  frameshift  ORF1ab  15705dupT  Val5236fs          6.31          5.98   \n",
       "13  frameshift  ORF1ab  18109dupT  Ser6037fs          5.92          4.22   \n",
       "\n",
       "        % sampleid         strain_name nuc_muts   type_mut  \n",
       "0   2.095      117  USA/WI-UW-110/2020   -1135A  insertion  \n",
       "3   7.100      117  USA/WI-UW-110/2020   -6696T  insertion  \n",
       "5   2.845      117  USA/WI-UW-110/2020  -11074T  insertion  \n",
       "12  6.145      117  USA/WI-UW-110/2020  -15965T  insertion  \n",
       "13  5.070      117  USA/WI-UW-110/2020  -18368T  insertion  "
      ]
     },
     "execution_count": 223,
     "metadata": {},
     "output_type": "execute_result"
    }
   ],
   "source": [
    "# add a column with formatted indel that matches nextstrain\n",
    "indels_only['nuc_muts'] = indels_only.apply(format_indels, axis=1)\n",
    "indels_only['type_mut'] = indels_only.apply(return_indel_type, axis=1)\n",
    "indels_only.head()"
   ]
  },
  {
   "cell_type": "code",
   "execution_count": 224,
   "metadata": {},
   "outputs": [],
   "source": [
    "# Split into only low frequency, here defined as <50%; I don't really want to query the fixed variants here \n",
    "low_freq_snvs_only = snvs_only[snvs_only[\"%\"] < 50]\n",
    "low_freq_indels_only = indels_only[indels_only[\"%\"] < 50]"
   ]
  },
  {
   "cell_type": "code",
   "execution_count": 225,
   "metadata": {},
   "outputs": [
    {
     "name": "stdout",
     "output_type": "stream",
     "text": [
      "59\n",
      "31\n",
      "90\n"
     ]
    }
   ],
   "source": [
    "snvs_to_query = set(low_freq_snvs_only['nuc_muts'])\n",
    "indels_to_query = set(low_freq_indels_only['nuc_muts'])\n",
    "all_variants_to_query = snvs_to_query.copy()\n",
    "all_variants_to_query.update(indels_to_query)\n",
    "print(len(snvs_to_query))\n",
    "print(len(indels_to_query))\n",
    "print(len(all_variants_to_query))"
   ]
  },
  {
   "cell_type": "code",
   "execution_count": null,
   "metadata": {},
   "outputs": [],
   "source": []
  },
  {
   "cell_type": "code",
   "execution_count": null,
   "metadata": {},
   "outputs": [],
   "source": []
  },
  {
   "cell_type": "markdown",
   "metadata": {},
   "source": [
    "## Code up the permutation test"
   ]
  },
  {
   "cell_type": "code",
   "execution_count": 226,
   "metadata": {},
   "outputs": [],
   "source": [
    "def pick_2_random_numbers(list_to_sample_from):\n",
    "    \n",
    "    import random\n",
    "    selections = random.sample(list_to_sample_from, 2)\n",
    "    return(selections[0],selections[1])"
   ]
  },
  {
   "cell_type": "code",
   "execution_count": 227,
   "metadata": {},
   "outputs": [],
   "source": [
    "def compute_shared_variant_proportion(sample1,sample2,df):\n",
    "    shared_variants = 0\n",
    "    \n",
    "    s1_df = df[df['strain_name'] == sample1]\n",
    "    variants_in_s1 = set(s1_df['nuc_muts'].tolist())\n",
    "    \n",
    "    s2_df = df[df['strain_name'] == sample2]\n",
    "    variants_in_s2 = set(s2_df['nuc_muts'].tolist())\n",
    "    \n",
    "    total_variants = len(variants_in_s1) + len(variants_in_s2)\n",
    "    \n",
    "    for v in variants_in_s1:\n",
    "        if v in variants_in_s2:\n",
    "            shared_variants += 2\n",
    "            \n",
    "    proportion_shared = float(shared_variants/total_variants)\n",
    "            \n",
    "    return(proportion_shared)"
   ]
  },
  {
   "cell_type": "code",
   "execution_count": 228,
   "metadata": {},
   "outputs": [
    {
     "data": {
      "text/html": [
       "<div>\n",
       "<style scoped>\n",
       "    .dataframe tbody tr th:only-of-type {\n",
       "        vertical-align: middle;\n",
       "    }\n",
       "\n",
       "    .dataframe tbody tr th {\n",
       "        vertical-align: top;\n",
       "    }\n",
       "\n",
       "    .dataframe thead th {\n",
       "        text-align: right;\n",
       "    }\n",
       "</style>\n",
       "<table border=\"1\" class=\"dataframe\">\n",
       "  <thead>\n",
       "    <tr style=\"text-align: right;\">\n",
       "      <th></th>\n",
       "      <th>strain_name</th>\n",
       "      <th>nuc_muts</th>\n",
       "      <th>%</th>\n",
       "      <th>sampleid</th>\n",
       "    </tr>\n",
       "  </thead>\n",
       "  <tbody>\n",
       "    <tr>\n",
       "      <th>7</th>\n",
       "      <td>USA/WI-UW-110/2020</td>\n",
       "      <td>A15139C</td>\n",
       "      <td>1.515</td>\n",
       "      <td>117</td>\n",
       "    </tr>\n",
       "    <tr>\n",
       "      <th>8</th>\n",
       "      <td>USA/WI-UW-110/2020</td>\n",
       "      <td>C15141A</td>\n",
       "      <td>1.635</td>\n",
       "      <td>117</td>\n",
       "    </tr>\n",
       "    <tr>\n",
       "      <th>9</th>\n",
       "      <td>USA/WI-UW-110/2020</td>\n",
       "      <td>G15150T</td>\n",
       "      <td>3.265</td>\n",
       "      <td>117</td>\n",
       "    </tr>\n",
       "    <tr>\n",
       "      <th>10</th>\n",
       "      <td>USA/WI-UW-110/2020</td>\n",
       "      <td>G15168A</td>\n",
       "      <td>7.360</td>\n",
       "      <td>117</td>\n",
       "    </tr>\n",
       "    <tr>\n",
       "      <th>11</th>\n",
       "      <td>USA/WI-UW-110/2020</td>\n",
       "      <td>C15173A</td>\n",
       "      <td>1.865</td>\n",
       "      <td>117</td>\n",
       "    </tr>\n",
       "  </tbody>\n",
       "</table>\n",
       "</div>"
      ],
      "text/plain": [
       "           strain_name nuc_muts      % sampleid\n",
       "7   USA/WI-UW-110/2020  A15139C  1.515      117\n",
       "8   USA/WI-UW-110/2020  C15141A  1.635      117\n",
       "9   USA/WI-UW-110/2020  G15150T  3.265      117\n",
       "10  USA/WI-UW-110/2020  G15168A  7.360      117\n",
       "11  USA/WI-UW-110/2020  C15173A  1.865      117"
      ]
     },
     "execution_count": 228,
     "metadata": {},
     "output_type": "execute_result"
    }
   ],
   "source": [
    "s = low_freq_snvs_only[[\"strain_name\",\"nuc_muts\",\"%\",\"sampleid\"]]\n",
    "i = low_freq_indels_only[[\"strain_name\",\"nuc_muts\",\"%\",\"sampleid\"]]\n",
    "combined_df_low_freq = s.append(i)\n",
    "combined_df_low_freq.head()"
   ]
  },
  {
   "cell_type": "code",
   "execution_count": 229,
   "metadata": {},
   "outputs": [
    {
     "data": {
      "text/html": [
       "<div>\n",
       "<style scoped>\n",
       "    .dataframe tbody tr th:only-of-type {\n",
       "        vertical-align: middle;\n",
       "    }\n",
       "\n",
       "    .dataframe tbody tr th {\n",
       "        vertical-align: top;\n",
       "    }\n",
       "\n",
       "    .dataframe thead th {\n",
       "        text-align: right;\n",
       "    }\n",
       "</style>\n",
       "<table border=\"1\" class=\"dataframe\">\n",
       "  <thead>\n",
       "    <tr style=\"text-align: right;\">\n",
       "      <th></th>\n",
       "      <th>strain_name</th>\n",
       "      <th>nuc_muts</th>\n",
       "      <th>%</th>\n",
       "      <th>sampleid</th>\n",
       "    </tr>\n",
       "  </thead>\n",
       "  <tbody>\n",
       "    <tr>\n",
       "      <th>1</th>\n",
       "      <td>USA/WI-UW-110/2020</td>\n",
       "      <td>C3037T</td>\n",
       "      <td>100.000</td>\n",
       "      <td>117</td>\n",
       "    </tr>\n",
       "    <tr>\n",
       "      <th>2</th>\n",
       "      <td>USA/WI-UW-110/2020</td>\n",
       "      <td>G3871T</td>\n",
       "      <td>100.000</td>\n",
       "      <td>117</td>\n",
       "    </tr>\n",
       "    <tr>\n",
       "      <th>4</th>\n",
       "      <td>USA/WI-UW-110/2020</td>\n",
       "      <td>G9053C</td>\n",
       "      <td>99.920</td>\n",
       "      <td>117</td>\n",
       "    </tr>\n",
       "    <tr>\n",
       "      <th>6</th>\n",
       "      <td>USA/WI-UW-110/2020</td>\n",
       "      <td>C14408T</td>\n",
       "      <td>100.000</td>\n",
       "      <td>117</td>\n",
       "    </tr>\n",
       "    <tr>\n",
       "      <th>7</th>\n",
       "      <td>USA/WI-UW-110/2020</td>\n",
       "      <td>A15139C</td>\n",
       "      <td>1.515</td>\n",
       "      <td>117</td>\n",
       "    </tr>\n",
       "  </tbody>\n",
       "</table>\n",
       "</div>"
      ],
      "text/plain": [
       "          strain_name nuc_muts        % sampleid\n",
       "1  USA/WI-UW-110/2020   C3037T  100.000      117\n",
       "2  USA/WI-UW-110/2020   G3871T  100.000      117\n",
       "4  USA/WI-UW-110/2020   G9053C   99.920      117\n",
       "6  USA/WI-UW-110/2020  C14408T  100.000      117\n",
       "7  USA/WI-UW-110/2020  A15139C    1.515      117"
      ]
     },
     "execution_count": 229,
     "metadata": {},
     "output_type": "execute_result"
    }
   ],
   "source": [
    "s = snvs_only[[\"strain_name\",\"nuc_muts\",\"%\",\"sampleid\"]]\n",
    "i = indels_only[[\"strain_name\",\"nuc_muts\",\"%\",\"sampleid\"]]\n",
    "combined_df = s.append(i)\n",
    "combined_df.head()"
   ]
  },
  {
   "cell_type": "code",
   "execution_count": 230,
   "metadata": {},
   "outputs": [
    {
     "name": "stderr",
     "output_type": "stream",
     "text": [
      "/Users/lmoncla/anaconda/envs/LHM-basics/lib/python3.7/site-packages/pandas/core/frame.py:6692: FutureWarning: Sorting because non-concatenation axis is not aligned. A future version\n",
      "of pandas will change to not sort by default.\n",
      "\n",
      "To accept the future behavior, pass 'sort=False'.\n",
      "\n",
      "To retain the current behavior and silence the warning, pass 'sort=True'.\n",
      "\n",
      "  sort=sort)\n"
     ]
    }
   ],
   "source": [
    "high_freq_snvs_only = snvs_only[snvs_only['%'] >= 50]\n",
    "low_freq_indels_snvs = low_freq_indels_only.append(low_freq_snvs_only)\n",
    "all_indels_snvs = snvs_only.append(low_freq_indels_only)  # high freq indels don't exit"
   ]
  },
  {
   "cell_type": "code",
   "execution_count": null,
   "metadata": {},
   "outputs": [],
   "source": []
  },
  {
   "cell_type": "code",
   "execution_count": 231,
   "metadata": {},
   "outputs": [],
   "source": [
    "df_to_run = snvs_only"
   ]
  },
  {
   "cell_type": "code",
   "execution_count": 232,
   "metadata": {},
   "outputs": [],
   "source": [
    "# run a bunch of times\n",
    "proportions = []\n",
    "\n",
    "for i in range(10000):\n",
    "    # query all strains\n",
    "    list_to_query = set(all_intersection_variants['strain_name'].tolist())\n",
    "    s1,s2 = pick_2_random_numbers(list_to_query)\n",
    "    \n",
    "    # with those random pairs of samples, compute the proportion of snvs that are shared\n",
    "    proportion_variants_shared = compute_shared_variant_proportion(s1,s2,df_to_run)\n",
    "    proportions.append(proportion_variants_shared)"
   ]
  },
  {
   "cell_type": "code",
   "execution_count": 233,
   "metadata": {},
   "outputs": [
    {
     "data": {
      "text/html": [
       "<div>\n",
       "<style scoped>\n",
       "    .dataframe tbody tr th:only-of-type {\n",
       "        vertical-align: middle;\n",
       "    }\n",
       "\n",
       "    .dataframe tbody tr th {\n",
       "        vertical-align: top;\n",
       "    }\n",
       "\n",
       "    .dataframe thead th {\n",
       "        text-align: right;\n",
       "    }\n",
       "</style>\n",
       "<table border=\"1\" class=\"dataframe\">\n",
       "  <thead>\n",
       "    <tr style=\"text-align: right;\">\n",
       "      <th></th>\n",
       "      <th>proportion_shared</th>\n",
       "    </tr>\n",
       "  </thead>\n",
       "  <tbody>\n",
       "    <tr>\n",
       "      <th>0</th>\n",
       "      <td>0.277778</td>\n",
       "    </tr>\n",
       "    <tr>\n",
       "      <th>1</th>\n",
       "      <td>0.444444</td>\n",
       "    </tr>\n",
       "    <tr>\n",
       "      <th>2</th>\n",
       "      <td>0.518519</td>\n",
       "    </tr>\n",
       "    <tr>\n",
       "      <th>3</th>\n",
       "      <td>0.482759</td>\n",
       "    </tr>\n",
       "    <tr>\n",
       "      <th>4</th>\n",
       "      <td>0.263158</td>\n",
       "    </tr>\n",
       "  </tbody>\n",
       "</table>\n",
       "</div>"
      ],
      "text/plain": [
       "   proportion_shared\n",
       "0           0.277778\n",
       "1           0.444444\n",
       "2           0.518519\n",
       "3           0.482759\n",
       "4           0.263158"
      ]
     },
     "execution_count": 233,
     "metadata": {},
     "output_type": "execute_result"
    }
   ],
   "source": [
    "proportions_df = pd.DataFrame(proportions)\n",
    "proportions_df.columns = ['proportion_shared']\n",
    "proportions_df.head()"
   ]
  },
  {
   "cell_type": "code",
   "execution_count": 234,
   "metadata": {},
   "outputs": [
    {
     "name": "stdout",
     "output_type": "stream",
     "text": [
      "proportion_shared    0.769231\n",
      "Name: 0.95, dtype: float64\n",
      "proportion_shared    0.5\n",
      "Name: 0.5, dtype: float64\n"
     ]
    }
   ],
   "source": [
    "print(proportions_df.quantile(0.95))\n",
    "print(proportions_df.quantile(0.5))"
   ]
  },
  {
   "cell_type": "markdown",
   "metadata": {},
   "source": [
    "The putative transmission pairs are: \n",
    "1. USA/WI-UW-65/2020 and USA/WI-UW-32/2020  (2 days apart)\n",
    "2. USA/WI-UW-41/2020 and USA/WI-UW-48/2020 (same day)\n",
    "3. USA/WI-UW-74/2020 and USA/WI-UW-29/2020 (4 days apart)\n",
    "4. USA/WI-UW-120/2020 and USA/WI-UW-119/2020 (3 days apart)\n",
    "5. USA/WI-UW-333/2020 and USA/WI-UW-334/2020 (same day)\n",
    "6. USA/WI-UW-337/2020 and USA/WI-UW-338/2020 -> I am actually excluding these, because they do not have the same consensus sequence\n",
    "7. USA/WI-UW-158/2020 and USA/WI-UW-159/2020 and USA/WI-UW-160/2020  (these are all in the same household) -> I am also going to call 158 and 160 true transmission pairs because they have the same consensus sequence, while 159 has 2 additional mutations (158 and 160 isolated same day)\n",
    "\n",
    "pairs 5 and 6 are from the Milwaukee area, whereas the rest are more from the Madison area"
   ]
  },
  {
   "cell_type": "code",
   "execution_count": 235,
   "metadata": {},
   "outputs": [],
   "source": [
    "def compute_p_value(shared_proportion, proportions_random_pairs_list):\n",
    "    count = 0\n",
    "    for p in proportions_random_pairs_list:\n",
    "        if p >= shared_proportion:\n",
    "            count += 1\n",
    "            \n",
    "    fraction_more_extreme = count/len(proportions_random_pairs_list)\n",
    "    return(fraction_more_extreme)"
   ]
  },
  {
   "cell_type": "code",
   "execution_count": 236,
   "metadata": {},
   "outputs": [
    {
     "name": "stdout",
     "output_type": "stream",
     "text": [
      "0.7741935483870968\n",
      "0.0464\n",
      "0.7333333333333333\n",
      "0.076\n",
      "0.88\n",
      "0.0128\n",
      "0.9696969696969697\n",
      "0.007\n"
     ]
    }
   ],
   "source": [
    "transmission_pairs = [[\"USA/WI-UW-65/2020\",\"USA/WI-UW-32/2020\"],[\"USA/WI-UW-41/2020\",\"USA/WI-UW-48/2020\"],\n",
    "                      [\"USA/WI-UW-74/2020\",\"USA/WI-UW-29/2020\"],[\"USA/WI-UW-120/2020\",\"USA/WI-UW-119/2020\"]]\n",
    "                     #[\"USA/WI-UW-333/2020\",\"USA/WI-UW-334/2020\"],[\"USA/WI-UW-158/2020\",\"USA/WI-UW-160/2020\"]]\n",
    "\n",
    "shared_fractions = []\n",
    "for t in transmission_pairs:\n",
    "    sample1 = t[0]\n",
    "    sample2 = t[1]\n",
    "    proportion_variants_shared = compute_shared_variant_proportion(sample1,sample2,df_to_run)\n",
    "    print(proportion_variants_shared)\n",
    "    fraction_more_extreme = compute_p_value(proportion_variants_shared, proportions)\n",
    "    print(fraction_more_extreme)\n",
    "    shared_fractions.append(proportion_variants_shared)"
   ]
  },
  {
   "cell_type": "code",
   "execution_count": 197,
   "metadata": {},
   "outputs": [],
   "source": [
    "pair1_shared = shared_fractions[0]\n",
    "pair2_shared = shared_fractions[1]\n",
    "pair3_shared = shared_fractions[2]\n",
    "pair4_shared = shared_fractions[3]\n",
    "pair5_shared = shared_fractions[4]\n",
    "pair6_shared = shared_fractions[5]"
   ]
  },
  {
   "cell_type": "code",
   "execution_count": 198,
   "metadata": {},
   "outputs": [
    {
     "data": {
      "text/html": [
       "<div>\n",
       "<style scoped>\n",
       "    .dataframe tbody tr th:only-of-type {\n",
       "        vertical-align: middle;\n",
       "    }\n",
       "\n",
       "    .dataframe tbody tr th {\n",
       "        vertical-align: top;\n",
       "    }\n",
       "\n",
       "    .dataframe thead th {\n",
       "        text-align: right;\n",
       "    }\n",
       "</style>\n",
       "<table border=\"1\" class=\"dataframe\">\n",
       "  <thead>\n",
       "    <tr style=\"text-align: right;\">\n",
       "      <th></th>\n",
       "      <th>pair</th>\n",
       "      <th>fraction_shared</th>\n",
       "      <th>y</th>\n",
       "    </tr>\n",
       "  </thead>\n",
       "  <tbody>\n",
       "    <tr>\n",
       "      <th>0</th>\n",
       "      <td>1</td>\n",
       "      <td>1.0</td>\n",
       "      <td>2500</td>\n",
       "    </tr>\n",
       "    <tr>\n",
       "      <th>1</th>\n",
       "      <td>2</td>\n",
       "      <td>1.0</td>\n",
       "      <td>2500</td>\n",
       "    </tr>\n",
       "    <tr>\n",
       "      <th>2</th>\n",
       "      <td>3</td>\n",
       "      <td>1.0</td>\n",
       "      <td>2500</td>\n",
       "    </tr>\n",
       "    <tr>\n",
       "      <th>3</th>\n",
       "      <td>4</td>\n",
       "      <td>1.0</td>\n",
       "      <td>2500</td>\n",
       "    </tr>\n",
       "    <tr>\n",
       "      <th>4</th>\n",
       "      <td>5</td>\n",
       "      <td>1.0</td>\n",
       "      <td>2500</td>\n",
       "    </tr>\n",
       "    <tr>\n",
       "      <th>5</th>\n",
       "      <td>6</td>\n",
       "      <td>1.0</td>\n",
       "      <td>2500</td>\n",
       "    </tr>\n",
       "  </tbody>\n",
       "</table>\n",
       "</div>"
      ],
      "text/plain": [
       "  pair  fraction_shared     y\n",
       "0    1              1.0  2500\n",
       "1    2              1.0  2500\n",
       "2    3              1.0  2500\n",
       "3    4              1.0  2500\n",
       "4    5              1.0  2500\n",
       "5    6              1.0  2500"
      ]
     },
     "execution_count": 198,
     "metadata": {},
     "output_type": "execute_result"
    }
   ],
   "source": [
    "shared_fractions_dict = {\"pair\":[\"1\",\"2\",\"3\", \"4\", \"5\", \"6\"],\n",
    "                         \"fraction_shared\":[pair1_shared,pair2_shared,pair3_shared,pair4_shared,pair5_shared,pair6_shared],\n",
    "                        \"y\":[2500,2500,2500,2500,2500,2500]}\n",
    "df2 = pd.DataFrame.from_dict(shared_fractions_dict)\n",
    "df2"
   ]
  },
  {
   "cell_type": "code",
   "execution_count": 199,
   "metadata": {},
   "outputs": [
    {
     "data": {
      "image/png": "[encoded data removed]"
     },
     "metadata": {},
     "output_type": "display_data"
    }
   ],
   "source": [
    "%%R -w 800 -h 500 -u px -i proportions_df,df2,pair1_shared,pair2_shared,pair3_shared,pair4_shared,pair5_shared,pair6_shared  # this sets the size of the plot...otherwise, it will go off the page\n",
    "\n",
    "require(ggplot2)\n",
    "library(ggplot2)\n",
    "library(RColorBrewer)\n",
    "\n",
    "y_end = 2400\n",
    "p <- ggplot(data=proportions_df, aes(x=proportion_shared)) + \n",
    "    geom_histogram(binwidth=0.05, color=\"grey60\", fill=\"grey60\")+\n",
    "    geom_segment(x=pair1_shared,xend=pair1_shared,y=0,yend=y_end, color=\"dodgerblue\", size=1.25, linetype=5)+\n",
    "    geom_segment(x=pair2_shared,xend=pair2_shared,y=0,yend=y_end, color=\"dodgerblue\", size=1.25, linetype=5)+\n",
    "    geom_segment(x=pair3_shared,xend=pair3_shared,y=0,yend=y_end, color=\"dodgerblue\", size=1.25, linetype=5)+\n",
    "    geom_segment(x=pair4_shared,xend=pair4_shared,y=0,yend=y_end, color=\"dodgerblue\", size=1.25, linetype=5)+\n",
    "    geom_segment(x=pair5_shared,xend=pair5_shared,y=0,yend=y_end, color=\"dodgerblue\", size=1.25, linetype=5)+\n",
    "    geom_segment(x=pair6_shared,xend=pair6_shared,y=0,yend=y_end, color=\"dodgerblue\", size=1.25, linetype=5)+\n",
    "    geom_label(data=df2, aes(x=fraction_shared,y=y,label=pair),label.size=NA, size=6)+\n",
    "    labs(x=\"\\nproportion variants shared among random pairs\",y=\"counts\\n\")+\n",
    "#     scale_color_manual(values=c(arose_on_tip=tip_color,arose_on_internal_node=node_color), guide=FALSE)+\n",
    "#     scale_fill_manual(values=c(arose_on_tip=tip_color,arose_on_internal_node=node_color), labels=c(\"tip\", \"internal node\"))+\n",
    "#    scale_y_continuous(breaks=seq(0,35,5), limits=c(0,35))+\n",
    "    theme(panel.grid.major=element_line(colour=NA,size=NA))+    \n",
    "    theme(panel.grid.minor=element_line(colour=NA,size=NA))+    \n",
    "    theme(strip.background = element_rect(colour=NA, fill=NA))+\n",
    "    theme(axis.line.x=element_line(colour=\"black\"))+\n",
    "    theme(axis.line.y=element_line(colour=\"black\"))+\n",
    "    theme(axis.title=element_text(size=22, vjust=5))+\n",
    "    theme(axis.text.y=element_text(size=18, colour=\"black\"))+\n",
    "    theme(axis.text.x=element_text(size=18, colour=\"black\", hjust=0.95))+\n",
    "    theme(legend.text=element_text(size=18))+\n",
    "    theme(legend.title=element_text(size=22))+\n",
    "    theme(panel.margin=unit(1, \"lines\"))+\n",
    "    theme(plot.margin=unit(c(1,4,1,1),\"cm\"))+\n",
    "    theme(legend.key.size=unit(0.7, \"cm\"))+\n",
    "    theme(panel.background=element_rect(fill=NA))+\n",
    "    theme(legend.key=element_rect(fill=NA))+\n",
    "    theme(legend.position = c(1.0, 0.75))+\n",
    "\n",
    "ggsave(\"shared-variants-permutation-test-2020-06-29-high-freq-snvs.pdf\", width = 12, height = 6, device = \"pdf\", path = \"/Users/lmoncla/src/ncov-WI-within-host/figures/\", dpi = 300)\n",
    "p"
   ]
  },
  {
   "cell_type": "code",
   "execution_count": null,
   "metadata": {},
   "outputs": [],
   "source": []
  },
  {
   "cell_type": "code",
   "execution_count": null,
   "metadata": {},
   "outputs": [],
   "source": []
  }
 ],
 "metadata": {
  "kernelspec": {
   "display_name": "LHM-basics (python3)",
   "language": "python",
   "name": "lhm-basics"
  },
  "language_info": {
   "codemirror_mode": {
    "name": "ipython",
    "version": 3
   },
   "file_extension": ".py",
   "mimetype": "text/x-python",
   "name": "python",
   "nbconvert_exporter": "python",
   "pygments_lexer": "ipython3",
   "version": "3.7.3"
  }
 },
 "nbformat": 4,
 "nbformat_minor": 2
}
