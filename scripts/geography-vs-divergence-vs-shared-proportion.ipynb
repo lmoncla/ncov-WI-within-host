{
 "cells": [
  {
   "cell_type": "markdown",
   "metadata": {},
   "source": [
    "# Examine the effects of geography and divergence on proportion of variants shared among samples \n",
    "\n",
    "June 24, 2020 \n",
    "\n",
    "We would like to determine whether samples collected in the same geographic area share more variants than expected by chance alone. In addition to the permutation test, I would also like to perform some sort of metric for whether being close together on the tree also predicts having shared variation. There are probably a few different ways to do this: \n",
    "\n",
    "1. Compare some sort of raw measure of sequence divergence, like hamming distance (number of differences/length of sequence)\n",
    "2. Compare the branch length of the path between the 2 sequences. \n",
    "3. Compare the tmrca, where more divergent sequences will have older tmrcas.\n",
    "\n",
    "All 3 of these could be proxies for how close together sequences are on the tree. It would be good to test this out using the Wisconsin-only build as well as the Wisconsin-focused build with other sequences in there for context."
   ]
  },
  {
   "cell_type": "code",
   "execution_count": 1,
   "metadata": {},
   "outputs": [],
   "source": [
    "import imp\n",
    "import importlib, json\n",
    "import glob\n",
    "import re,copy,json\n",
    "import Bio.Phylo\n",
    "import requests\n",
    "import pandas as pd \n",
    "import numpy as np\n",
    "\n",
    "import copy\n",
    "from scipy.special import binom\n",
    "import datetime as dt\n",
    "    \n",
    "import rpy2\n",
    "%load_ext rpy2.ipython\n",
    "\n",
    "# for this to work, you will need to download the most recent version of baltic, available here \n",
    "bt = imp.load_source('baltic', '/Users/lmoncla/src/baltic/baltic/baltic.py')"
   ]
  },
  {
   "cell_type": "code",
   "execution_count": 2,
   "metadata": {},
   "outputs": [],
   "source": [
    "def compute_shared_variant_proportion(sample1,sample2,df):\n",
    "    shared_variants = 0\n",
    "    \n",
    "    s1_df = df[df['strain_name'] == sample1]\n",
    "    variants_in_s1 = set(s1_df['minor_nuc_muts'].tolist())\n",
    "    \n",
    "    s2_df = df[df['strain_name'] == sample2]\n",
    "    variants_in_s2 = set(s2_df['minor_nuc_muts'].tolist())\n",
    "    \n",
    "    total_variants = len(variants_in_s1) + len(variants_in_s2)\n",
    "    \n",
    "    if total_variants == 0:\n",
    "        proportion_shared = 0\n",
    "    else:\n",
    "        for v in variants_in_s1:\n",
    "            if v in variants_in_s2:\n",
    "                shared_variants += 2\n",
    "\n",
    "        proportion_shared = float(shared_variants/total_variants)\n",
    "            \n",
    "    return(proportion_shared)"
   ]
  },
  {
   "cell_type": "markdown",
   "metadata": {},
   "source": [
    "## Read in VCF data and output SNVs to query into a dataframe"
   ]
  },
  {
   "cell_type": "code",
   "execution_count": 3,
   "metadata": {},
   "outputs": [],
   "source": [
    "\"\"\"to load in an ipython notebook as a module, just run the following. You will now have access to all of the \n",
    "functions written in that jupyter notebook\"\"\"\n",
    "\n",
    "%run vcf-module.ipynb"
   ]
  },
  {
   "cell_type": "code",
   "execution_count": 4,
   "metadata": {},
   "outputs": [],
   "source": [
    "# read in the current date \n",
    "from datetime import date\n",
    "today = date.today()\n",
    "current_date = str(today.strftime(\"%Y-%m-%d\"))"
   ]
  },
  {
   "cell_type": "code",
   "execution_count": 5,
   "metadata": {},
   "outputs": [
    {
     "name": "stderr",
     "output_type": "stream",
     "text": [
      "/Users/lmoncla/anaconda/envs/LHM-basics/lib/python3.7/site-packages/ipykernel_launcher.py:6: SettingWithCopyWarning: \n",
      "A value is trying to be set on a copy of a slice from a DataFrame.\n",
      "Try using .loc[row_indexer,col_indexer] = value instead\n",
      "\n",
      "See the caveats in the documentation: http://pandas.pydata.org/pandas-docs/stable/indexing.html#indexing-view-versus-copy\n",
      "  \n",
      "/Users/lmoncla/anaconda/envs/LHM-basics/lib/python3.7/site-packages/ipykernel_launcher.py:7: SettingWithCopyWarning: \n",
      "A value is trying to be set on a copy of a slice from a DataFrame.\n",
      "Try using .loc[row_indexer,col_indexer] = value instead\n",
      "\n",
      "See the caveats in the documentation: http://pandas.pydata.org/pandas-docs/stable/indexing.html#indexing-view-versus-copy\n",
      "  import sys\n",
      "/Users/lmoncla/anaconda/envs/LHM-basics/lib/python3.7/site-packages/ipykernel_launcher.py:8: SettingWithCopyWarning: \n",
      "A value is trying to be set on a copy of a slice from a DataFrame.\n",
      "Try using .loc[row_indexer,col_indexer] = value instead\n",
      "\n",
      "See the caveats in the documentation: http://pandas.pydata.org/pandas-docs/stable/indexing.html#indexing-view-versus-copy\n",
      "  \n",
      "/Users/lmoncla/anaconda/envs/LHM-basics/lib/python3.7/site-packages/ipykernel_launcher.py:11: SettingWithCopyWarning: \n",
      "A value is trying to be set on a copy of a slice from a DataFrame.\n",
      "Try using .loc[row_indexer,col_indexer] = value instead\n",
      "\n",
      "See the caveats in the documentation: http://pandas.pydata.org/pandas-docs/stable/indexing.html#indexing-view-versus-copy\n",
      "  # This is added back by InteractiveShellApp.init_path()\n",
      "/Users/lmoncla/anaconda/envs/LHM-basics/lib/python3.7/site-packages/ipykernel_launcher.py:12: SettingWithCopyWarning: \n",
      "A value is trying to be set on a copy of a slice from a DataFrame.\n",
      "Try using .loc[row_indexer,col_indexer] = value instead\n",
      "\n",
      "See the caveats in the documentation: http://pandas.pydata.org/pandas-docs/stable/indexing.html#indexing-view-versus-copy\n",
      "  if sys.path[0] == '':\n",
      "/Users/lmoncla/anaconda/envs/LHM-basics/lib/python3.7/site-packages/ipykernel_launcher.py:14: SettingWithCopyWarning: \n",
      "A value is trying to be set on a copy of a slice from a DataFrame.\n",
      "Try using .loc[row_indexer,col_indexer] = value instead\n",
      "\n",
      "See the caveats in the documentation: http://pandas.pydata.org/pandas-docs/stable/indexing.html#indexing-view-versus-copy\n",
      "  \n",
      "/Users/lmoncla/anaconda/envs/LHM-basics/lib/python3.7/site-packages/ipykernel_launcher.py:9: SettingWithCopyWarning: \n",
      "A value is trying to be set on a copy of a slice from a DataFrame.\n",
      "Try using .loc[row_indexer,col_indexer] = value instead\n",
      "\n",
      "See the caveats in the documentation: http://pandas.pydata.org/pandas-docs/stable/indexing.html#indexing-view-versus-copy\n",
      "  if __name__ == '__main__':\n",
      "/Users/lmoncla/anaconda/envs/LHM-basics/lib/python3.7/site-packages/ipykernel_launcher.py:10: SettingWithCopyWarning: \n",
      "A value is trying to be set on a copy of a slice from a DataFrame.\n",
      "Try using .loc[row_indexer,col_indexer] = value instead\n",
      "\n",
      "See the caveats in the documentation: http://pandas.pydata.org/pandas-docs/stable/indexing.html#indexing-view-versus-copy\n",
      "  # Remove the CWD from sys.path while we load stuff.\n",
      "/Users/lmoncla/anaconda/envs/LHM-basics/lib/python3.7/site-packages/pandas/core/frame.py:3940: SettingWithCopyWarning: \n",
      "A value is trying to be set on a copy of a slice from a DataFrame\n",
      "\n",
      "See the caveats in the documentation: http://pandas.pydata.org/pandas-docs/stable/indexing.html#indexing-view-versus-copy\n",
      "  errors=errors)\n"
     ]
    }
   ],
   "source": [
    "\"\"\"now, input the strain names file/metadata file, the directory containing the vcfs, and return the dataframess\"\"\"\n",
    "\n",
    "strain_names_file = \"/Users/lmoncla/src/ncov-WI-within-host/data/sample-metadata.tsv\"\n",
    "fasta_file = \"/Users/lmoncla/src/ncov-WI-within-host/data/sample-avrl.fasta\"\n",
    "clades_file = \"/Users/lmoncla/src/ncov-WI-within-host/data/clades-file-2020-08-28.txt\"\n",
    "vcf_directory = \"/Users/lmoncla/src/ncov-WI-within-host/data/vcfs-all/\"\n",
    "\n",
    "# N transcript was a control; sample/tube 6, UW-30, has an snv at basically every single site after a certain \n",
    "# point in the genome. it has 418 SNVs!!! I'm excluding it\n",
    "samples_to_ignore = [\"N_transcript\",\"6\"]\n",
    "\n",
    "# set the length of homopolymers that you want to use\n",
    "homopolymer_length = 3\n",
    "\n",
    "# set the variant percent that you want to use \n",
    "variant_percent = \"0.03\"\n",
    "\n",
    "snvs_only, indels_only, all_intersection_variants,metadata_dict = return_dataframes(strain_names_file, clades_file,vcf_directory,samples_to_ignore,fasta_file, homopolymer_length)"
   ]
  },
  {
   "cell_type": "code",
   "execution_count": 6,
   "metadata": {},
   "outputs": [],
   "source": [
    "\"\"\"subset data to include only SNVs and indels > the frequency you set above\"\"\"\n",
    "snvs_only = snvs_only[snvs_only['minor_frequency'] >= float(variant_percent)]\n",
    "indels_only = indels_only[indels_only['minor_frequency'] >= float(variant_percent)]"
   ]
  },
  {
   "cell_type": "code",
   "execution_count": 7,
   "metadata": {},
   "outputs": [
    {
     "name": "stdout",
     "output_type": "stream",
     "text": [
      "288\n",
      "74\n",
      "362\n"
     ]
    }
   ],
   "source": [
    "snvs_to_query = set(snvs_only['minor_nuc_muts'])\n",
    "indels_to_query = set(indels_only['minor_nuc_muts'])\n",
    "all_variants_to_query = snvs_to_query.copy()\n",
    "all_variants_to_query.update(indels_to_query)\n",
    "print(len(snvs_to_query))\n",
    "print(len(indels_to_query))\n",
    "print(len(all_variants_to_query))"
   ]
  },
  {
   "cell_type": "markdown",
   "metadata": {},
   "source": [
    "## Code for parsing through tree"
   ]
  },
  {
   "cell_type": "code",
   "execution_count": 8,
   "metadata": {},
   "outputs": [],
   "source": [
    "\"\"\"This is a small, recursive function to return the TMRCA for 2 tips. Starting with the parental node of tip1,\n",
    "go recursively backwards in the tree until you find an internal node whose children contains both tip1 and \n",
    "tip2. Return that node.\"\"\"\n",
    "\n",
    "def return_TMRCA_node(input_node,tip1,tip2):\n",
    "    \n",
    "    # for a given internal node, generate a list of all its children, i.e., tips descending from that node\n",
    "    node = input_node\n",
    "    children = list(node.children)   # .children will output all of the direct descendants as baltic objects\n",
    "    leaves = list(node.leaves)       # .leaves will output the names of all tips descending from the node\n",
    "    \n",
    "    if tip2 in leaves and tip1 in leaves: \n",
    "        node_to_return = node\n",
    "    else:\n",
    "        node_to_return = return_TMRCA_node(node.parent,tip1,tip2)\n",
    "            \n",
    "    return(node_to_return)"
   ]
  },
  {
   "cell_type": "code",
   "execution_count": 9,
   "metadata": {},
   "outputs": [],
   "source": [
    "\"\"\"given 2 tips and a tree, iterate through the tree. when we reach tip 1, run return_TMRCA_node, to find the \n",
    "internal node that is the TMRCA for tips 1 and 2. Extract its date and return the node object and date\"\"\"\n",
    "\n",
    "def return_TMRCA(tip1,tip2,tree):\n",
    "    for k in tree.Objects: \n",
    "        if k.branchType == \"leaf\" and k.name == tip1:\n",
    "            tmrca_node = return_TMRCA_node(k.parent,tip1,tip2)\n",
    "            date = tmrca_node.traits['node_attrs']['num_date']['value']  # output the mean inferred date\n",
    "            \n",
    "    return(tmrca_node, date)"
   ]
  },
  {
   "cell_type": "code",
   "execution_count": 10,
   "metadata": {},
   "outputs": [],
   "source": [
    "\"\"\"Given a starting internal node, and a tip you would like to end at, traverse the full path from that node to\n",
    "tip. Along the way, gather nucleotide mutations that occur along that path. Once you have reached the ending \n",
    "tip, return the list of mutations that fell along that path\"\"\"\n",
    "\n",
    "def return_divergence_on_path_to_tip(starting_node, ending_tip):\n",
    "    \n",
    "    children = starting_node.children\n",
    "    \n",
    "    for child in children:\n",
    "        \n",
    "        \"\"\"if the child is a leaf: if leaf is the target end tip, collect its divergence and return; \n",
    "        if leaf is not the target end tip, move on\"\"\"\n",
    "        \"\"\"if the child is an internal node: first, test whether that child node contains the target tips in its \n",
    "        children. child.leaves will output a list of the names of all tips descending from that node. If not, pass. \n",
    "        if the node does contain the target end tip in its leaves, keep traversing down that node recursively\"\"\"\n",
    "\n",
    "        if child.branchType == \"leaf\":\n",
    "            if child.name != ending_tip:\n",
    "                pass\n",
    "            elif child.name == ending_tip:\n",
    "                child_divergence = child.traits['node_attrs']['div']\n",
    "                return(child_divergence)\n",
    "         \n",
    "        elif child.branchType == \"node\":\n",
    "            if ending_tip not in child.leaves:\n",
    "                pass\n",
    "            else:\n",
    "                child_divergence = return_divergence_on_path_to_tip(child, ending_tip)\n",
    "    \n",
    "    return(child_divergence)"
   ]
  },
  {
   "cell_type": "code",
   "execution_count": 11,
   "metadata": {},
   "outputs": [],
   "source": [
    "def return_clade(tipname, tree):\n",
    "    for k in tree.Objects:\n",
    "        if k.branchType == \"leaf\" and k.name == tipname:\n",
    "            clade = k.traits['node_attrs']['clade_membership']['value']\n",
    "    return(clade)"
   ]
  },
  {
   "cell_type": "code",
   "execution_count": 12,
   "metadata": {},
   "outputs": [],
   "source": [
    "def return_all_Wisconsin_tips(tree):\n",
    "    Wisconsin_leaves = []\n",
    "    \n",
    "    for k in tree.Objects: \n",
    "        if k.branchType == \"leaf\":\n",
    "            division = k.traits['node_attrs']['division']['value']\n",
    "            if division == \"Wisconsin\":\n",
    "                Wisconsin_leaves.append(k.name)\n",
    "                \n",
    "    return(Wisconsin_leaves)"
   ]
  },
  {
   "cell_type": "code",
   "execution_count": 14,
   "metadata": {},
   "outputs": [],
   "source": [
    "def return_mean_Ct(metadata,tip):\n",
    "    Cts = []\n",
    "    \n",
    "    Ct1 = metadata[tip]['Ct1']\n",
    "    Ct2 = metadata[tip]['Ct2']\n",
    "    \n",
    "    if Ct1 not in [\"\",\"-\",\"n/a\"]:\n",
    "        Cts.append(Ct1)\n",
    "    if Ct2 not in [\"\",\"-\",\"n/a\"]:\n",
    "        Cts.append(Ct2)\n",
    "    \n",
    "    # now find mean \n",
    "    Ct_sum = 0\n",
    "    for c in Cts: \n",
    "        Ct_sum += float(c)\n",
    "        \n",
    "    if len(Cts) > 0:\n",
    "        mean = float(Ct_sum)/len(Cts)\n",
    "    else: \n",
    "        mean = 'NaN'\n",
    "    \n",
    "    return(mean)"
   ]
  },
  {
   "cell_type": "code",
   "execution_count": 15,
   "metadata": {},
   "outputs": [],
   "source": [
    "def compare_Cts(tip1,tip2,metadata):\n",
    "    tip1_Ct = return_mean_Ct(metadata,tip1)\n",
    "    tip2_Ct = return_mean_Ct(metadata,tip2)\n",
    "    \n",
    "    if tip1_Ct not in ['NaN','n/a'] and tip2_Ct not in ['NaN','n/a']:\n",
    "        difference = abs(tip1_Ct-tip2_Ct)\n",
    "    else:\n",
    "        difference = 'NaN'\n",
    "    return(difference)"
   ]
  },
  {
   "cell_type": "code",
   "execution_count": 16,
   "metadata": {},
   "outputs": [],
   "source": [
    "def compare_location(tip1,tip2,metadata):\n",
    "    geo1 = metadata[tip1][\"location\"]\n",
    "    geo2 = metadata[tip2][\"location\"]\n",
    "    \n",
    "    if geo1 == geo2: \n",
    "        location = 1\n",
    "    else: \n",
    "        location = 0\n",
    "        \n",
    "    return(location,geo1,geo2)"
   ]
  },
  {
   "cell_type": "code",
   "execution_count": 17,
   "metadata": {},
   "outputs": [],
   "source": [
    "def return_lat_longs_dictionary(lat_longs_file):\n",
    "    \n",
    "    output_dict = {}\n",
    "    \n",
    "    with open(lat_longs_file, \"r\") as infile: \n",
    "        for line in infile:\n",
    "            if len(line.split(\"\\t\")) == 4:\n",
    "                location = line.split(\"\\t\")[1]\n",
    "                longitude = line.split(\"\\t\")[2]\n",
    "                latitude = line.split(\"\\t\")[3].strip()\n",
    "                output_dict[location] = {\"latitude\":latitude, \"longitude\":longitude}\n",
    "    return(output_dict)"
   ]
  },
  {
   "cell_type": "code",
   "execution_count": 18,
   "metadata": {},
   "outputs": [],
   "source": [
    "\"\"\"I took this from here, https://stackoverflow.com/questions/4913349/haversine-formula-in-python-bearing-and-distance-between-two-gps-points\n",
    "A decent overview of this formula can be found here: https://www.movable-type.co.uk/scripts/latlong.html\"\"\"\n",
    "from math import radians, cos, sin, asin, sqrt\n",
    "\n",
    "def haversine(lon1, lat1, lon2, lat2):\n",
    "    \"\"\"\n",
    "    Calculate the great circle distance between two points \n",
    "    on the earth (specified in decimal degrees). \n",
    "    \"\"\"\n",
    "    # convert decimal degrees to radians \n",
    "    lon1, lat1, lon2, lat2 = map(radians, [lon1, lat1, lon2, lat2])\n",
    "\n",
    "    # haversine formula \n",
    "    dlon = lon2 - lon1 \n",
    "    dlat = lat2 - lat1 \n",
    "    a = sin(dlat/2)**2 + cos(lat1) * cos(lat2) * sin(dlon/2)**2\n",
    "    c = 2 * asin(sqrt(a)) \n",
    "    r = 6371 # Radius of earth in kilometers. Use 3956 for miles\n",
    "    return c * r"
   ]
  },
  {
   "cell_type": "code",
   "execution_count": 19,
   "metadata": {},
   "outputs": [],
   "source": [
    "def return_distance_between_locations(tip1,tip2,metadata,lat_longs):\n",
    "    geo1 = metadata[tip1][\"location\"]\n",
    "    geo2 = metadata[tip2][\"location\"]\n",
    "    \n",
    "    if geo1 != \"\" and geo2 != \"\":\n",
    "        lat1 = lat_longs_dict[geo1]['latitude']\n",
    "        lat2 = lat_longs_dict[geo2]['latitude']\n",
    "\n",
    "        long1 = lat_longs_dict[geo1]['longitude']\n",
    "        long2 = lat_longs_dict[geo2]['longitude']\n",
    "\n",
    "        distance_km = haversine(float(long1), float(lat1), float(long2), float(lat2))\n",
    "    else:\n",
    "        distance_km = 'NaN'\n",
    "    return(distance_km)"
   ]
  },
  {
   "cell_type": "code",
   "execution_count": 20,
   "metadata": {},
   "outputs": [],
   "source": [
    "import itertools\n",
    "\n",
    "def generate_all_combinations_pairs(list_of_elements):\n",
    "    all_pairs = []\n",
    "    for pair in itertools.combinations(list_of_elements, 2):\n",
    "        all_pairs.append(list(pair))\n",
    "    return(all_pairs)"
   ]
  },
  {
   "cell_type": "code",
   "execution_count": 21,
   "metadata": {},
   "outputs": [],
   "source": [
    "def generate_all_permutations_of_household_groups(household_groups):\n",
    "    total_pairs = []\n",
    "    for household in household_groups: \n",
    "        all_pairs = generate_all_combinations_pairs(household)\n",
    "        for a in all_pairs: \n",
    "            total_pairs.append(a)\n",
    "    \n",
    "    return(total_pairs)"
   ]
  },
  {
   "cell_type": "code",
   "execution_count": 22,
   "metadata": {},
   "outputs": [],
   "source": [
    "def return_same_household(tip1,tip2,household_groups):\n",
    "    total_pairs = generate_all_permutations_of_household_groups(household_groups)\n",
    "    \n",
    "    if [tip1,tip2] in total_pairs or [tip2,tip1] in total_pairs:\n",
    "        same_household = 1\n",
    "    else:\n",
    "        same_household = 0\n",
    "    \n",
    "    return(same_household)"
   ]
  },
  {
   "cell_type": "code",
   "execution_count": 23,
   "metadata": {},
   "outputs": [],
   "source": [
    "def return_probable_trans_pair(tip1,tip2,same_household,pairs_to_exclude):\n",
    "    \n",
    "    if same_household == 1:\n",
    "        if [tip1,tip2] not in pairs_to_exclude and [tip2,tip1] not in pairs_to_exclude:\n",
    "            trans_pair = 1\n",
    "        else:\n",
    "            trans_pair = 0\n",
    "    else:\n",
    "        trans_pair = 0\n",
    "    \n",
    "    return(trans_pair)"
   ]
  },
  {
   "cell_type": "code",
   "execution_count": 29,
   "metadata": {},
   "outputs": [
    {
     "name": "stdout",
     "output_type": "stream",
     "text": [
      "USA/WI-UW-76/2020 17.54\n",
      "USA/WI-UW-282/2020 15.15\n",
      "USA/WI-UW-154/2020 21.5\n",
      "USA/WI-UW-916/2020 NaN\n",
      "USA/WI-UW-225/2020 18.73\n",
      "USA/WI-UW-893/2020 NaN\n",
      "USA/WI-UW-24/2020 NaN\n",
      "USA/WI-UW-39/2020 19.13\n",
      "USA/WI-UW-334/2020 23.015\n",
      "USA/WI-UW-306/2020 30.82\n",
      "USA/WI-UW-722/2020 NaN\n",
      "USA/WI-UW-65/2020 15.434999999999999\n",
      "USA/WI-UW-244/2020 19.45\n",
      "USA/WI-UW-749/2020 NaN\n",
      "USA/WI-UW-246/2020 22.064999999999998\n",
      "USA/WI-UW-575/2020 NaN\n",
      "USA/WI-UW-231/2020 19.68\n",
      "USA/WI-UW-333/2020 26.994999999999997\n",
      "USA/WI-UW-286/2020 25.145\n",
      "USA/WI-UW-341/2020 22.855\n",
      "USA/WI-UW-17/2020 NaN\n",
      "USA/WI-UW-232/2020 18.935\n",
      "USA/WI-UW-876/2020 NaN\n",
      "USA/WI-UW-117/2020 28.2\n",
      "USA/WI-UW-302/2020 17.34\n",
      "USA/WI-UW-85/2020 24.4\n",
      "USA/WI-UW-32/2020 24.549999999999997\n",
      "USA/WI-UW-438/2020 19.4\n",
      "USA/WI-UW-07/2020 16.384999999999998\n",
      "USA/WI-UW-61/2020 23.695\n",
      "USA/WI-UW-217/2020 29.37\n",
      "USA/WI-UW-118/2020 31.86\n",
      "USA/WI-UW-997/2020 NaN\n",
      "USA/WI-UW-991/2020 NaN\n",
      "USA/WI-UW-443/2020 19.4\n",
      "USA/WI-UW-96/2020 17.689999999999998\n",
      "USA/WI-UW-201/2020 21.21\n",
      "USA/WI-UW-88/2020 25.61\n",
      "USA/WI-UW-906/2020 NaN\n",
      "USA/WI-UW-986/2020 NaN\n",
      "USA/WI-UW-726/2020 NaN\n",
      "USA/WI-UW-48/2020 23.405\n",
      "USA/WI-UW-179/2020 19.235\n",
      "USA/WI-UW-895/2020 NaN\n",
      "USA/WI-UW-242/2020 17.725\n",
      "USA/WI-UW-279/2020 15.475\n",
      "USA/WI-UW-66/2020 27.064999999999998\n",
      "USA/WI-UW-855/2020 NaN\n",
      "USA/DO NOT UPLOAD - time series sample/2020 30.7\n",
      "USA/WI-UW-598/2020 NaN\n",
      "USA/WI-UW-348/2020 NaN\n",
      "USA/WI-UW-06/2020 26.91\n",
      "USA/WI-UW-87/2020 22.1\n",
      "USA/WI-UW-120/2020 18.3\n",
      "USA/WI-UW-784/2020 NaN\n",
      "USA/WI-UW-275/2020 18.34\n",
      "USA/WI-UW-273/2020 20.38\n",
      "USA/WI-UW-315/2020 26.375\n",
      "USA/WI-UW-205/2020 27.130000000000003\n",
      "USA/WI-UW-34/2020 28.604999999999997\n",
      "USA/WI-UW-99/2020 18.8\n",
      "USA/WI-UW-127/2020 19.1\n",
      "USA/WI-UW-230/2020 25.195\n",
      "USA/WI-UW-73/2020 24.310000000000002\n",
      "USA/WI-UW-863/2020 NaN\n",
      "USA/DO NOT UPLOAD/2020 NaN\n",
      "USA/WI-UW-798/2020 NaN\n",
      "USA/WI-UW-601/2020 NaN\n",
      "USA/WI-UW-70/2020 20.445\n",
      "USA/WI-UW-159/2020 20.814999999999998\n",
      "USA/WI-UW-897/2020 NaN\n",
      "USA/WI-UW-63/2020 24.875\n",
      "USA/WI-UW-338/2020 27.66\n",
      "USA/WI-UW-340/2020 34.31\n",
      "USA/WI-UW-694/2020 NaN\n",
      "USA/WI-UW-780/2020 NaN\n",
      "USA/WI-UW-577/2020 NaN\n",
      "USA/WI-UW-67/2020 26.315\n",
      "USA/WI-UW-14/2020 NaN\n",
      "USA/WI-UW-238/2020 25.95\n",
      "USA/WI-UW-144/2020 24.115000000000002\n",
      "USA/WI-UW-546/2020 NaN\n",
      "USA/WI-UW-38/2020 28.605\n",
      "USA/WI-UW-323/2020 27.4\n",
      "USA/WI-UW-586/2020 NaN\n",
      "USA/WI-UW-721/2020 NaN\n",
      "USA/WI-UW-68/2020 16.045\n",
      "USA/WI-UW-50/2020 19.455\n",
      "USA/WI-UW-874/2020 NaN\n",
      "USA/WI-UW-310/2020 20.045\n",
      "USA/WI-UW-432/2020 21.6\n",
      "USA/WI-UW-69/2020 15.95\n",
      "USA/WI-UW-208/2020 25.295\n",
      "USA/WI-UW-285/2020 27.36\n",
      "USA/WI-UW-476/2020 20.6\n",
      "USA/WI-UW-110/2020 22.2\n",
      "USA/WI-UW-287/2020 23.39\n",
      "USA/WI-UW-278/2020 16.1\n",
      "USA/WI-UW-747/2020 NaN\n",
      "USA/WI-UW-214/2020 21.54\n",
      "USA/WI-UW-97/2020 27.3\n",
      "USA/WI-UW-367/2020 NaN\n",
      "USA/WI-UW-71/2020 18.785\n",
      "USA/WI-UW-116/2020 32.56\n",
      "USA/WI-UW-602/2020 NaN\n",
      "USA/WI-UW-756/2020 NaN\n",
      "USA/WI-UW-45/2020 20.46\n",
      "USA/WI-UW-158/2020 24.13\n",
      "USA/WI-UW-277/2020 20.17\n",
      "USA/WI-UW-111/2020 25.95\n",
      "USA/WI-UW-544/2020 NaN\n",
      "USA/WI-UW-188/2020 29.555\n",
      "USA/WI-UW-129/2020 30.7\n",
      "USA/WI-UW-927/2020 NaN\n",
      "USA/WI-UW-391/2020 17.7\n",
      "USA/WI-UW-223/2020 27.46\n",
      "USA/WI-UW-536/2020 NaN\n",
      "USA/WI-UW-551/2020 NaN\n",
      "USA/WI-UW-264/2020 NaN\n",
      "USA/WI-UW-22/2020 NaN\n",
      "USA/WI-UW-86/2020 22.1\n",
      "USA/WI-UW-697/2020 NaN\n",
      "USA/WI-UW-255/2020 NaN\n"
     ]
    }
   ],
   "source": [
    "for s in set(snvs_only['strain_name'].tolist()):\n",
    "    meanCt = return_mean_Ct(metadata_dict,s)\n",
    "    print(s, meanCt)"
   ]
  },
  {
   "cell_type": "code",
   "execution_count": null,
   "metadata": {},
   "outputs": [],
   "source": []
  },
  {
   "cell_type": "code",
   "execution_count": null,
   "metadata": {},
   "outputs": [],
   "source": []
  },
  {
   "cell_type": "markdown",
   "metadata": {},
   "source": [
    "# run!"
   ]
  },
  {
   "cell_type": "code",
   "execution_count": 26,
   "metadata": {},
   "outputs": [
    {
     "name": "stdout",
     "output_type": "stream",
     "text": [
      "\n",
      "Tree height: 0.853113\n",
      "Tree length: 155.604745\n",
      "multitype tree\n",
      "annotations present\n",
      "\n",
      "Numbers of objects in tree: 5452 (2518 nodes and 2934 leaves)\n",
      "\n"
     ]
    }
   ],
   "source": [
    "# test this out first on the Wisconsin-only build json\n",
    "WI_tree_path = \"/Users/lmoncla/src/ncov-WI-within-host/data/ncov_wisconsin_statewide.json\"\n",
    "\n",
    "analysis_level = \"division\"\n",
    "\n",
    "with open(WI_tree_path) as json_file:\n",
    "    WI_tree_json = json.load(json_file)\n",
    "WI_tree_object=WI_tree_json['tree']\n",
    "WI_meta=WI_tree_json['meta']\n",
    "json_translation={'absoluteTime':lambda k: k.traits['node_attrs']['num_date']['value'],'name':'name'} ## allows baltic to find correct attributes in JSON, height and name are required at a minimum\n",
    "#json_meta={'file':WI_meta,'traitName':analysis_level} ## if you want auspice stylings you can import the meta file used on nextstrain.org\n",
    "\n",
    "WI_tree=bt.loadJSON(WI_tree_object,json_translation)"
   ]
  },
  {
   "cell_type": "markdown",
   "metadata": {},
   "source": [
    "The putative transmission pairs are: \n",
    "1. USA/WI-UW-65/2020 and USA/WI-UW-32/2020  (2 days apart)\n",
    "2. USA/WI-UW-41/2020 and USA/WI-UW-48/2020 (same day)\n",
    "3. USA/WI-UW-74/2020 and USA/WI-UW-29/2020 (4 days apart)\n",
    "4. USA/WI-UW-120/2020 and USA/WI-UW-119/2020 (3 days apart)\n",
    "5. USA/WI-UW-333/2020 and USA/WI-UW-334/2020 (same day)\n",
    "6. USA/WI-UW-337/2020 and USA/WI-UW-338/2020 (same day) -> I am actually excluding these, because they do not have the same consensus sequence; they are 3 mutations different, which seems pretty unlikely\n",
    "7. USA/WI-UW-158/2020 and USA/WI-UW-159/2020 and USA/WI-UW-160/2020  (these are all in the same household, all collected on the same day) -> I am also going to call 158 and 160 true transmission pairs because they have the same consensus sequence, while 159 has 2 additional mutations (158 and 160 isolated same day). 159 does look like it be descendant from 158 and 160, but becuase it has 2 mutations different tthey were all collected on the same day, it seems a little weird.\n",
    "\n",
    "pairs 5 and 6 are from the Milwaukee area, whereas the rest are more from the Madison area"
   ]
  },
  {
   "cell_type": "code",
   "execution_count": 27,
   "metadata": {},
   "outputs": [],
   "source": [
    "household_groups = [[\"USA/WI-UW-27/2020\",\"USA/WI-UW-85/2020\"],\n",
    "                      [\"USA/WI-UW-40/2020\",\"USA/WI-UW-97/2020\"],\n",
    "                      [\"USA/WI-UW-41/2020\",\"USA/WI-UW-48/2020\"],\n",
    "                      [\"USA/WI-UW-65/2020\",\"USA/WI-UW-32/2020\"],\n",
    "                      [\"USA/WI-UW-69/2020\",\"USA/WI-UW-61/2020\"],\n",
    "                      [\"USA/WI-UW-70/2020\",\"USA/WI-UW-67/2020\"],\n",
    "                      [\"USA/WI-UW-74/2020\",\"USA/WI-UW-29/2020\"],\n",
    "                      #[\"USA/WI-UW-119/2020\",\"USA/WI-UW-120/2020\"],  # 119 is missing a consensus genome\n",
    "                      [\"USA/WI-UW-124/2020\",\"USA/WI-UW-351/2020\"],\n",
    "                      [\"USA/WI-UW-158/2020\",\"USA/WI-UW-160/2020\"],\n",
    "                      [\"USA/WI-UW-264/2020\",\"USA/WI-UW-356/2020\"],\n",
    "                      [\"USA/WI-UW-333/2020\",\"USA/WI-UW-334/2020\"],\n",
    "                      [\"USA/WI-UW-476/2020\",\"USA/WI-UW-438/2020\",\"USA/WI-UW-432/2020\"],\n",
    "                      [\"USA/WI-UW-544/2020\",\"USA/WI-UW-551/2020\",\"USA/WI-UW-575/2020\"],\n",
    "                      [\"USA/WI-UW-546/2020\",\"USA/WI-UW-586/2020\",\"USA/WI-UW-443/2020\"],\n",
    "                      [\"USA/WI-UW-577/2020\",\"USA/WI-UW-536/2020\"],\n",
    "                      [\"USA/WI-UW-598/2020\",\"USA/WI-UW-602/2020\",\"USA/WI-UW-689/2020\"],\n",
    "                      [\"USA/WI-UW-601/2020\",\"USA/WI-UW-780/2020\"],\n",
    "                      [\"USA/WI-UW-756/2020\",\"USA/WI-UW-893/2020\"],\n",
    "                      [\"USA/WI-UW-784/2020\",\"USA/WI-UW-722/2020\",\"USA/WI-UW-749/2020\",\"USA/WI-UW-694/2020\",\"USA/WI-UW-721/2020\",\"USA/WI-UW-798/2020\"],\n",
    "                      [\"USA/WI-UW-747/2020\",\"USA/WI-UW-697/2020\"],\n",
    "                      [\"USA/WI-UW-855/2020\",\"USA/WI-UW-897/2020\",\"USA/WI-UW-916/2020\",\"USA/WI-UW-906/2020\"],\n",
    "                      [\"USA/WI-UW-874/2020\",\"USA/WI-UW-986/2020\",\"USA/WI-UW-997/2020\",\"USA/WI-UW-991/2020\"],\n",
    "                      [\"USA/WI-UW-895/2020\",\"USA/WI-UW-876/2020\",\"USA/WI-UW-931/2020\",\"USA/WI-UW-863/2020\"],\n",
    "                      [\"USA/WI-UW-927/2020\",\"USA/WI-UW-861/2020\"]]\n",
    "\n",
    "\n",
    "\"\"\"these are all pairs for which the 2 consensus genomes are separated by >2 mutations\"\"\"\n",
    "pairs_to_exclude = [['USA/WI-UW-476/2020', 'USA/WI-UW-438/2020'], ['USA/WI-UW-476/2020', 'USA/WI-UW-432/2020'], \n",
    "                    ['USA/WI-UW-784/2020', 'USA/WI-UW-722/2020'], ['USA/WI-UW-784/2020', 'USA/WI-UW-749/2020'], \n",
    "                    ['USA/WI-UW-784/2020', 'USA/WI-UW-694/2020'], ['USA/WI-UW-784/2020', 'USA/WI-UW-721/2020'], \n",
    "                    ['USA/WI-UW-784/2020', 'USA/WI-UW-798/2020'], ['USA/WI-UW-855/2020', 'USA/WI-UW-897/2020'], \n",
    "                    ['USA/WI-UW-897/2020', 'USA/WI-UW-916/2020'], ['USA/WI-UW-897/2020', 'USA/WI-UW-906/2020']]"
   ]
  },
  {
   "cell_type": "code",
   "execution_count": 28,
   "metadata": {},
   "outputs": [
    {
     "name": "stdout",
     "output_type": "stream",
     "text": [
      "2778\n"
     ]
    }
   ],
   "source": [
    "Wisconsin_tips_in_tree = return_all_Wisconsin_tips(WI_tree)\n",
    "print(len(Wisconsin_tips_in_tree))"
   ]
  },
  {
   "cell_type": "code",
   "execution_count": 29,
   "metadata": {},
   "outputs": [
    {
     "name": "stdout",
     "output_type": "stream",
     "text": [
      "USA/DO NOT UPLOAD/2020\n",
      "USA/DO NOT UPLOAD - time series sample/2020\n",
      "USA/WI-UW-119/2020\n",
      "142\n"
     ]
    }
   ],
   "source": [
    "tips_to_query = set(all_intersection_variants['strain_name'].tolist())\n",
    "\n",
    "not_in_tree = []\n",
    "for t in tips_to_query:\n",
    "    if t not in Wisconsin_tips_in_tree:\n",
    "        print(t)\n",
    "        not_in_tree.append(t)\n",
    "        \n",
    "print(len(tips_to_query))"
   ]
  },
  {
   "cell_type": "code",
   "execution_count": 30,
   "metadata": {},
   "outputs": [
    {
     "name": "stdout",
     "output_type": "stream",
     "text": [
      "139\n"
     ]
    }
   ],
   "source": [
    "for n in not_in_tree:\n",
    "    tips_to_query.remove(n)\n",
    "print(len(tips_to_query))"
   ]
  },
  {
   "cell_type": "code",
   "execution_count": null,
   "metadata": {},
   "outputs": [],
   "source": []
  },
  {
   "cell_type": "code",
   "execution_count": 31,
   "metadata": {},
   "outputs": [],
   "source": [
    "# read in metadata and latitude and longitude files\n",
    "metadata_input_file = \"/Users/lmoncla/src/ncov-WI-within-host/data/sample-metadata.tsv\"\n",
    "metadata_dict = return_metadata_dict(metadata_input_file, clades_file)\n",
    "lat_longs_dict = return_lat_longs_dictionary(\"/Users/lmoncla/src/ncov/defaults/lat_longs.tsv\")\n",
    "wh_df_to_use = snvs_only\n",
    "tree = WI_tree"
   ]
  },
  {
   "cell_type": "code",
   "execution_count": 36,
   "metadata": {},
   "outputs": [],
   "source": [
    "df = pd.DataFrame()\n",
    "\n",
    "combos = []\n",
    "for t in tips_to_query: \n",
    "    tip1 = t\n",
    "    \n",
    "    for a in tips_to_query:\n",
    "        tip2 = a\n",
    "        combo = set([tip1,tip2])\n",
    "        \n",
    "        if tip1 != tip2 and combo not in combos:   # to prevent doing the pairwise comparisons twice\n",
    "            # output Cts\n",
    "            Ct_diff = compare_Cts(tip1,tip2,metadata_dict)\n",
    "            \n",
    "            # are the locations the same? 0 means no, 1 means yes\n",
    "            location,loc1,loc2 = compare_location(tip1,tip2,metadata_dict)\n",
    "            \n",
    "            # output great circle distance between locations\n",
    "            great_circle_distance = return_distance_between_locations(tip1,tip2,metadata_dict,lat_longs_dict)\n",
    "\n",
    "            # output their clades\n",
    "            tip1_clade = return_clade(tip1, tree)\n",
    "            tip2_clade = return_clade(tip2, tree)\n",
    "            if tip1_clade == tip2_clade:\n",
    "                clades_same = 1\n",
    "            else:\n",
    "                clades_same = 0\n",
    "                \n",
    "            # are you a household pair? Are you a likely transmission pair?\n",
    "            same_household = return_same_household(tip1,tip2,household_groups)\n",
    "            trans_pair = return_probable_trans_pair(tip1,tip2,same_household,pairs_to_exclude)\n",
    "\n",
    "            # output the tmrca and divergence\n",
    "            parental_node,tmrca_date = return_TMRCA(tip1,tip2,tree)\n",
    "            parent_divergence = parental_node.traits['node_attrs']['div']\n",
    "\n",
    "            tip1_divergence = return_divergence_on_path_to_tip(parental_node, tip1)\n",
    "            tip2_divergence = return_divergence_on_path_to_tip(parental_node, tip2)\n",
    "\n",
    "            node_to_tip1 = tip1_divergence - parent_divergence\n",
    "            node_to_tip2 = tip2_divergence - parent_divergence\n",
    "            total_divergence = node_to_tip1 + node_to_tip2\n",
    "\n",
    "            # calculate the proportion of variants shared\n",
    "            shared_proportion_snvs = compute_shared_variant_proportion(tip1,tip2,wh_df_to_use)\n",
    "\n",
    "            d = pd.DataFrame.from_dict({\"tip1\":[tip1],\"tip2\":[tip2],\"tmrca\":[tmrca_date],\"clades_same\":[clades_same],\n",
    "                                        \"divergence\":[total_divergence],\"prop_snvs_shared\":[shared_proportion_snvs],\n",
    "                                       \"Ct_diff\":[Ct_diff], \"location1\":[loc1],\"location2\":[loc2],\n",
    "                                        \"household_same\":[same_household],\"transmission_pair\":[trans_pair],\n",
    "                                       \"great_circle_distance_km\":[great_circle_distance],\"location_same\":[location],})\n",
    "\n",
    "            df = df.append(d)\n",
    "            combos.append(combo)"
   ]
  },
  {
   "cell_type": "code",
   "execution_count": 37,
   "metadata": {},
   "outputs": [
    {
     "data": {
      "text/plain": [
       "9591"
      ]
     },
     "execution_count": 37,
     "metadata": {},
     "output_type": "execute_result"
    }
   ],
   "source": [
    "df.head()\n",
    "len(df)"
   ]
  },
  {
   "cell_type": "code",
   "execution_count": 40,
   "metadata": {},
   "outputs": [],
   "source": [
    "# write to csv so I can use it in R \n",
    "df.to_csv(\"../data/WI-variants-vs-geo-2021-01-20.csv\")"
   ]
  },
  {
   "cell_type": "code",
   "execution_count": 41,
   "metadata": {},
   "outputs": [
    {
     "data": {
      "text/html": [
       "<div>\n",
       "<style scoped>\n",
       "    .dataframe tbody tr th:only-of-type {\n",
       "        vertical-align: middle;\n",
       "    }\n",
       "\n",
       "    .dataframe tbody tr th {\n",
       "        vertical-align: top;\n",
       "    }\n",
       "\n",
       "    .dataframe thead th {\n",
       "        text-align: right;\n",
       "    }\n",
       "</style>\n",
       "<table border=\"1\" class=\"dataframe\">\n",
       "  <thead>\n",
       "    <tr style=\"text-align: right;\">\n",
       "      <th></th>\n",
       "      <th>tip1</th>\n",
       "      <th>tip2</th>\n",
       "      <th>tmrca</th>\n",
       "      <th>clades_same</th>\n",
       "      <th>divergence</th>\n",
       "      <th>prop_snvs_shared</th>\n",
       "      <th>Ct_diff</th>\n",
       "      <th>location1</th>\n",
       "      <th>location2</th>\n",
       "      <th>household_same</th>\n",
       "      <th>transmission_pair</th>\n",
       "      <th>great_circle_distance_km</th>\n",
       "      <th>location_same</th>\n",
       "    </tr>\n",
       "  </thead>\n",
       "  <tbody>\n",
       "    <tr>\n",
       "      <th>0</th>\n",
       "      <td>USA/WI-UW-22/2020</td>\n",
       "      <td>USA/WI-UW-306/2020</td>\n",
       "      <td>2019.976122</td>\n",
       "      <td>0</td>\n",
       "      <td>12.897647</td>\n",
       "      <td>0.0</td>\n",
       "      <td>NaN</td>\n",
       "      <td></td>\n",
       "      <td>Milwaukee County</td>\n",
       "      <td>0</td>\n",
       "      <td>0</td>\n",
       "      <td>NaN</td>\n",
       "      <td>0</td>\n",
       "    </tr>\n",
       "    <tr>\n",
       "      <th>0</th>\n",
       "      <td>USA/WI-UW-22/2020</td>\n",
       "      <td>USA/WI-UW-118/2020</td>\n",
       "      <td>2019.976122</td>\n",
       "      <td>0</td>\n",
       "      <td>13.889686</td>\n",
       "      <td>0.0</td>\n",
       "      <td>NaN</td>\n",
       "      <td></td>\n",
       "      <td>Sauk County</td>\n",
       "      <td>0</td>\n",
       "      <td>0</td>\n",
       "      <td>NaN</td>\n",
       "      <td>0</td>\n",
       "    </tr>\n",
       "    <tr>\n",
       "      <th>0</th>\n",
       "      <td>USA/WI-UW-22/2020</td>\n",
       "      <td>USA/WI-UW-282/2020</td>\n",
       "      <td>2019.976122</td>\n",
       "      <td>0</td>\n",
       "      <td>15.874464</td>\n",
       "      <td>0.0</td>\n",
       "      <td>NaN</td>\n",
       "      <td></td>\n",
       "      <td>Milwaukee County</td>\n",
       "      <td>0</td>\n",
       "      <td>0</td>\n",
       "      <td>NaN</td>\n",
       "      <td>0</td>\n",
       "    </tr>\n",
       "    <tr>\n",
       "      <th>0</th>\n",
       "      <td>USA/WI-UW-22/2020</td>\n",
       "      <td>USA/WI-UW-337/2020</td>\n",
       "      <td>2019.976122</td>\n",
       "      <td>0</td>\n",
       "      <td>16.865709</td>\n",
       "      <td>0.0</td>\n",
       "      <td>NaN</td>\n",
       "      <td></td>\n",
       "      <td>Milwaukee County</td>\n",
       "      <td>0</td>\n",
       "      <td>0</td>\n",
       "      <td>NaN</td>\n",
       "      <td>0</td>\n",
       "    </tr>\n",
       "    <tr>\n",
       "      <th>0</th>\n",
       "      <td>USA/WI-UW-22/2020</td>\n",
       "      <td>USA/WI-UW-798/2020</td>\n",
       "      <td>2019.976122</td>\n",
       "      <td>0</td>\n",
       "      <td>18.852395</td>\n",
       "      <td>0.0</td>\n",
       "      <td>NaN</td>\n",
       "      <td></td>\n",
       "      <td>Dane County</td>\n",
       "      <td>0</td>\n",
       "      <td>0</td>\n",
       "      <td>NaN</td>\n",
       "      <td>0</td>\n",
       "    </tr>\n",
       "  </tbody>\n",
       "</table>\n",
       "</div>"
      ],
      "text/plain": [
       "                tip1                tip2        tmrca  clades_same  \\\n",
       "0  USA/WI-UW-22/2020  USA/WI-UW-306/2020  2019.976122            0   \n",
       "0  USA/WI-UW-22/2020  USA/WI-UW-118/2020  2019.976122            0   \n",
       "0  USA/WI-UW-22/2020  USA/WI-UW-282/2020  2019.976122            0   \n",
       "0  USA/WI-UW-22/2020  USA/WI-UW-337/2020  2019.976122            0   \n",
       "0  USA/WI-UW-22/2020  USA/WI-UW-798/2020  2019.976122            0   \n",
       "\n",
       "   divergence  prop_snvs_shared Ct_diff location1         location2  \\\n",
       "0   12.897647               0.0     NaN            Milwaukee County   \n",
       "0   13.889686               0.0     NaN                 Sauk County   \n",
       "0   15.874464               0.0     NaN            Milwaukee County   \n",
       "0   16.865709               0.0     NaN            Milwaukee County   \n",
       "0   18.852395               0.0     NaN                 Dane County   \n",
       "\n",
       "   household_same  transmission_pair great_circle_distance_km  location_same  \n",
       "0               0                  0                      NaN              0  \n",
       "0               0                  0                      NaN              0  \n",
       "0               0                  0                      NaN              0  \n",
       "0               0                  0                      NaN              0  \n",
       "0               0                  0                      NaN              0  "
      ]
     },
     "execution_count": 41,
     "metadata": {},
     "output_type": "execute_result"
    }
   ],
   "source": [
    "df.head()"
   ]
  },
  {
   "cell_type": "code",
   "execution_count": null,
   "metadata": {},
   "outputs": [],
   "source": []
  },
  {
   "cell_type": "markdown",
   "metadata": {},
   "source": [
    "## First, evaluate divergence \n",
    "\n",
    "I will first model shared diversity as a function of divergence. I will then model it as a combination of divergence, Ct differences and having the same clade"
   ]
  },
  {
   "cell_type": "code",
   "execution_count": 37,
   "metadata": {},
   "outputs": [
    {
     "name": "stderr",
     "output_type": "stream",
     "text": [
      "/Users/lmoncla/anaconda/envs/LHM-basics/lib/python3.7/site-packages/rpy2/robjects/pandas2ri.py:191: FutureWarning: from_items is deprecated. Please use DataFrame.from_dict(dict(items), ...) instead. DataFrame.from_dict(OrderedDict(items)) may be used to preserve the key order.\n",
      "  res = PandasDataFrame.from_items(items)\n"
     ]
    },
    {
     "data": {
      "text/plain": [
       "\n",
       "Call:\n",
       "glm(formula = prop_snvs_shared ~ divergence, family = gaussian(link = \"identity\"), \n",
       "    data = df, weights = na.action(na.omit))\n",
       "\n",
       "Deviance Residuals: \n",
       "     Min        1Q    Median        3Q       Max  \n",
       "-0.22021  -0.10826  -0.04148   0.07466   0.77979  \n",
       "\n",
       "Coefficients:\n",
       "              Estimate Std. Error t value Pr(>|t|)    \n",
       "(Intercept)  0.2202096  0.0034286   64.23   <2e-16 ***\n",
       "divergence  -0.0094025  0.0002532  -37.13   <2e-16 ***\n",
       "---\n",
       "Signif. codes:  0 ‘***’ 0.001 ‘**’ 0.01 ‘*’ 0.05 ‘.’ 0.1 ‘ ’ 1\n",
       "\n",
       "(Dispersion parameter for gaussian family taken to be 0.02079306)\n",
       "\n",
       "    Null deviance: 230.94  on 9729  degrees of freedom\n",
       "Residual deviance: 202.27  on 9728  degrees of freedom\n",
       "AIC: -10069\n",
       "\n",
       "Number of Fisher Scoring iterations: 2\n",
       "\n"
      ]
     },
     "metadata": {},
     "output_type": "display_data"
    }
   ],
   "source": [
    "# evaluate the proportion of variants shared as a function of divergence\n",
    "%R -i df\n",
    "%R model.div = glm(prop_snvs_shared~divergence,data=df,family = gaussian(link=\"identity\"),na.action(na.omit))\n",
    "%R print(summary(model.div))"
   ]
  },
  {
   "cell_type": "code",
   "execution_count": 61,
   "metadata": {},
   "outputs": [
    {
     "name": "stdout",
     "output_type": "stream",
     "text": [
      "\n",
      "Error in eval(predvars, data, env) : \n",
      "  object 'great_circle_distance_km' not found\n",
      "\n",
      "Error in summary(model.geo) : object 'model.geo' not found\n"
     ]
    },
    {
     "name": "stderr",
     "output_type": "stream",
     "text": [
      "/Users/lmoncla/anaconda/envs/LHM-basics/lib/python3.7/site-packages/rpy2/rinterface/__init__.py:146: RRuntimeWarning: Error in eval(predvars, data, env) : \n",
      "  object 'great_circle_distance_km' not found\n",
      "\n",
      "  warnings.warn(x, RRuntimeWarning)\n",
      "/Users/lmoncla/anaconda/envs/LHM-basics/lib/python3.7/site-packages/rpy2/rinterface/__init__.py:146: RRuntimeWarning: Error in summary(model.geo) : object 'model.geo' not found\n",
      "\n",
      "  warnings.warn(x, RRuntimeWarning)\n"
     ]
    }
   ],
   "source": [
    "# evaluate the proportion of variants shared as a function of great circle distance\n",
    "%R -i df\n",
    "%R model.geo = glm(prop_snvs_shared~great_circle_distance_km,data=df,family = gaussian(link=\"identity\"),na.action(na.omit))\n",
    "%R print(summary(model.geo))"
   ]
  },
  {
   "cell_type": "code",
   "execution_count": 100,
   "metadata": {},
   "outputs": [
    {
     "name": "stdout",
     "output_type": "stream",
     "text": [
      "\n",
      "Error in `contrasts<-`(`*tmp*`, value = contr.funs[1 + isOF[nn]]) : \n",
      "  contrasts can be applied only to factors with 2 or more levels\n",
      "\n",
      "Error in summary(model.div2) : object 'model.div2' not found\n",
      "\n",
      "Error in anova(model.div2, test = \"Chisq\") : \n",
      "  object 'model.div2' not found\n"
     ]
    },
    {
     "name": "stderr",
     "output_type": "stream",
     "text": [
      "/Users/lmoncla/anaconda/envs/LHM-basics/lib/python3.7/site-packages/rpy2/rinterface/__init__.py:146: RRuntimeWarning: Error in `contrasts<-`(`*tmp*`, value = contr.funs[1 + isOF[nn]]) : \n",
      "  contrasts can be applied only to factors with 2 or more levels\n",
      "\n",
      "  warnings.warn(x, RRuntimeWarning)\n"
     ]
    }
   ],
   "source": [
    "# evaluate the proportion of variants shared as a function of Ct difference\n",
    "%R -i df\n",
    "%R model.div2 = glm(prop_snvs_shared~Ct_diff,data=df,family = gaussian(link=\"identity\"),na.action(na.omit))\n",
    "%R print(summary(model.div2))\n",
    "%R print(anova(model.div2, test=\"Chisq\"))"
   ]
  },
  {
   "cell_type": "code",
   "execution_count": 44,
   "metadata": {},
   "outputs": [
    {
     "data": {
      "text/plain": [
       "\n",
       "Call:\n",
       "glm(formula = prop_snvs_shared ~ clades_same, family = gaussian(link = \"identity\"), \n",
       "    data = df, weights = na.action(na.omit))\n",
       "\n",
       "Deviance Residuals: \n",
       "     Min        1Q    Median        3Q       Max  \n",
       "-0.20805  -0.17344  -0.01959   0.12656   0.62656  \n",
       "\n",
       "Coefficients:\n",
       "             Estimate Std. Error t value Pr(>|t|)    \n",
       "(Intercept)  0.208053   0.005015  41.489  < 2e-16 ***\n",
       "clades_same -0.034615   0.005846  -5.921 3.44e-09 ***\n",
       "---\n",
       "Signif. codes:  0 ‘***’ 0.001 ‘**’ 0.01 ‘*’ 0.05 ‘.’ 0.1 ‘ ’ 1\n",
       "\n",
       "(Dispersion parameter for gaussian family taken to be 0.02967363)\n",
       "\n",
       "    Null deviance: 133.47  on 4464  degrees of freedom\n",
       "Residual deviance: 132.43  on 4463  degrees of freedom\n",
       "AIC: -3030.5\n",
       "\n",
       "Number of Fisher Scoring iterations: 2\n",
       "\n"
      ]
     },
     "metadata": {},
     "output_type": "display_data"
    },
    {
     "data": {
      "text/plain": [
       "Analysis of Deviance Table\n",
       "\n",
       "Model: gaussian, link: identity\n",
       "\n",
       "Response: prop_snvs_shared\n",
       "\n",
       "Terms added sequentially (first to last)\n",
       "\n",
       "\n",
       "            Df Deviance Resid. Df Resid. Dev  Pr(>Chi)    \n",
       "NULL                         4464     133.47              \n",
       "clades_same  1   1.0402      4463     132.43 3.203e-09 ***\n",
       "---\n",
       "Signif. codes:  0 ‘***’ 0.001 ‘**’ 0.01 ‘*’ 0.05 ‘.’ 0.1 ‘ ’ 1\n"
      ]
     },
     "metadata": {},
     "output_type": "display_data"
    }
   ],
   "source": [
    "# lastly, try with clade same\n",
    "%R -i df\n",
    "%R model.div2 = glm(prop_snvs_shared~clades_same,data=df,family = gaussian(link=\"identity\"),na.action(na.omit))\n",
    "%R print(summary(model.div2))\n",
    "%R print(anova(model.div2, test=\"Chisq\"))"
   ]
  },
  {
   "cell_type": "markdown",
   "metadata": {},
   "source": [
    "## now try all together"
   ]
  },
  {
   "cell_type": "code",
   "execution_count": 102,
   "metadata": {},
   "outputs": [
    {
     "name": "stdout",
     "output_type": "stream",
     "text": [
      "\n",
      "Error in eval(predvars, data, env) : \n",
      "  object 'great_circle_distance_km' not found\n",
      "\n",
      "Error in summary(model.marsh) : object 'model.marsh' not found\n",
      "\n",
      "Error in coef(model.marsh) : object 'model.marsh' not found\n",
      "\n",
      "Error in anova(model.marsh, test = \"Chisq\") : \n",
      "  object 'model.marsh' not found\n"
     ]
    },
    {
     "name": "stderr",
     "output_type": "stream",
     "text": [
      "/Users/lmoncla/anaconda/envs/LHM-basics/lib/python3.7/site-packages/rpy2/rinterface/__init__.py:146: RRuntimeWarning: Error in summary(model.marsh) : object 'model.marsh' not found\n",
      "\n",
      "  warnings.warn(x, RRuntimeWarning)\n",
      "/Users/lmoncla/anaconda/envs/LHM-basics/lib/python3.7/site-packages/rpy2/rinterface/__init__.py:146: RRuntimeWarning: Error in coef(model.marsh) : object 'model.marsh' not found\n",
      "\n",
      "  warnings.warn(x, RRuntimeWarning)\n",
      "/Users/lmoncla/anaconda/envs/LHM-basics/lib/python3.7/site-packages/rpy2/rinterface/__init__.py:146: RRuntimeWarning: Error in anova(model.marsh, test = \"Chisq\") : \n",
      "  object 'model.marsh' not found\n",
      "\n",
      "  warnings.warn(x, RRuntimeWarning)\n"
     ]
    }
   ],
   "source": [
    "# evaluate the proportion of variants shared as a linear combination of divergence and whether the clade is the same\n",
    "%R -i df\n",
    "%R model.marsh = glm(prop_snvs_shared~divergence+clades_same+Ct_diff+great_circle_distance_km,data=df,family = gaussian(link=\"identity\"),na.action(na.omit))\n",
    "%R print(summary(model.marsh))\n",
    "%R print(coef(model.marsh))\n",
    "%R print(anova(model.marsh, test=\"Chisq\"))"
   ]
  },
  {
   "cell_type": "code",
   "execution_count": 508,
   "metadata": {},
   "outputs": [
    {
     "data": {
      "text/plain": [
       "\n",
       "Call:\n",
       "glm(formula = prop_snvs_shared ~ divergence + clades_same + Ct_diff, \n",
       "    family = gaussian(link = \"identity\"), data = df, weights = na.action(na.omit))\n",
       "\n",
       "Deviance Residuals: \n",
       "     Min        1Q    Median        3Q       Max  \n",
       "-0.19530  -0.08062  -0.02077   0.08819   0.28793  \n",
       "\n",
       "Coefficients:\n",
       "             Estimate Std. Error t value Pr(>|t|)    \n",
       "(Intercept)  0.569131   0.023748  23.965   <2e-16 ***\n",
       "divergence  -0.003896   0.002032  -1.917   0.0571 .  \n",
       "clades_same  0.006918   0.022554   0.307   0.7595    \n",
       "Ct_diff      0.003609   0.003121   1.156   0.2494    \n",
       "---\n",
       "Signif. codes:  0 ‘***’ 0.001 ‘**’ 0.01 ‘*’ 0.05 ‘.’ 0.1 ‘ ’ 1\n",
       "\n",
       "(Dispersion parameter for gaussian family taken to be 0.01235454)\n",
       "\n",
       "    Null deviance: 1.9210  on 152  degrees of freedom\n",
       "Residual deviance: 1.8408  on 149  degrees of freedom\n",
       "AIC: -232.1\n",
       "\n",
       "Number of Fisher Scoring iterations: 2\n",
       "\n"
      ]
     },
     "metadata": {},
     "output_type": "display_data"
    },
    {
     "data": {
      "text/plain": [
       " (Intercept)   divergence  clades_same      Ct_diff \n",
       " 0.569130801 -0.003895600  0.006918280  0.003608546 \n"
      ]
     },
     "metadata": {},
     "output_type": "display_data"
    },
    {
     "data": {
      "text/plain": [
       "Analysis of Deviance Table\n",
       "\n",
       "Model: gaussian, link: identity\n",
       "\n",
       "Response: prop_snvs_shared\n",
       "\n",
       "Terms added sequentially (first to last)\n",
       "\n",
       "\n",
       "            Df Deviance Resid. Df Resid. Dev Pr(>Chi)  \n",
       "NULL                          152     1.9210           \n",
       "divergence   1 0.062623       151     1.8584  0.02436 *\n",
       "clades_same  1 0.001026       150     1.8573  0.77322  \n",
       "Ct_diff      1 0.016516       149     1.8408  0.24759  \n",
       "---\n",
       "Signif. codes:  0 ‘***’ 0.001 ‘**’ 0.01 ‘*’ 0.05 ‘.’ 0.1 ‘ ’ 1\n"
      ]
     },
     "metadata": {},
     "output_type": "display_data"
    }
   ],
   "source": [
    "# evaluate the proportion of variants shared as a linear combination of divergence and whether the clade is the same\n",
    "%R -i df\n",
    "%R model.marsh = glm(prop_snvs_shared~divergence+clades_same+Ct_diff,data=df,family = gaussian(link=\"identity\"),na.action(na.omit))\n",
    "%R print(summary(model.marsh))\n",
    "%R print(coef(model.marsh))\n",
    "%R print(anova(model.marsh, test=\"Chisq\"))"
   ]
  },
  {
   "cell_type": "code",
   "execution_count": 509,
   "metadata": {},
   "outputs": [
    {
     "data": {
      "text/plain": [
       "\n",
       "Call:\n",
       "glm(formula = prop_snvs_shared ~ great_circle_distance_km + clades_same + \n",
       "    Ct_diff, family = gaussian(link = \"identity\"), data = df, \n",
       "    weights = na.action(na.omit))\n",
       "\n",
       "Deviance Residuals: \n",
       "     Min        1Q    Median        3Q       Max  \n",
       "-0.19447  -0.08212  -0.01615   0.07871   0.27799  \n",
       "\n",
       "Coefficients:\n",
       "                           Estimate Std. Error t value Pr(>|t|)    \n",
       "(Intercept)               0.5659632  0.0231075  24.493   <2e-16 ***\n",
       "great_circle_distance_km -0.0010747  0.0005681  -1.892   0.0605 .  \n",
       "clades_same              -0.0044782  0.0200395  -0.223   0.8235    \n",
       "Ct_diff                   0.0036859  0.0031183   1.182   0.2391    \n",
       "---\n",
       "Signif. codes:  0 ‘***’ 0.001 ‘**’ 0.01 ‘*’ 0.05 ‘.’ 0.1 ‘ ’ 1\n",
       "\n",
       "(Dispersion parameter for gaussian family taken to be 0.01236245)\n",
       "\n",
       "    Null deviance: 1.921  on 152  degrees of freedom\n",
       "Residual deviance: 1.842  on 149  degrees of freedom\n",
       "AIC: -232\n",
       "\n",
       "Number of Fisher Scoring iterations: 2\n",
       "\n"
      ]
     },
     "metadata": {},
     "output_type": "display_data"
    },
    {
     "data": {
      "text/plain": [
       "             (Intercept) great_circle_distance_km              clades_same \n",
       "             0.565963186             -0.001074677             -0.004478218 \n",
       "                 Ct_diff \n",
       "             0.003685932 \n"
      ]
     },
     "metadata": {},
     "output_type": "display_data"
    },
    {
     "data": {
      "text/plain": [
       "Analysis of Deviance Table\n",
       "\n",
       "Model: gaussian, link: identity\n",
       "\n",
       "Response: prop_snvs_shared\n",
       "\n",
       "Terms added sequentially (first to last)\n",
       "\n",
       "\n",
       "                         Df Deviance Resid. Df Resid. Dev Pr(>Chi)  \n",
       "NULL                                       152     1.9210           \n",
       "great_circle_distance_km  1 0.060703       151     1.8603   0.0267 *\n",
       "clades_same               1 0.001011       150     1.8593   0.7749  \n",
       "Ct_diff                   1 0.017272       149     1.8420   0.2372  \n",
       "---\n",
       "Signif. codes:  0 ‘***’ 0.001 ‘**’ 0.01 ‘*’ 0.05 ‘.’ 0.1 ‘ ’ 1\n"
      ]
     },
     "metadata": {},
     "output_type": "display_data"
    }
   ],
   "source": [
    "# evaluate the proportion of variants shared as a linear combination of divergence and whether the clade is the same\n",
    "%R -i df\n",
    "%R model.marsh = glm(prop_snvs_shared~great_circle_distance_km+clades_same+Ct_diff,data=df,family = gaussian(link=\"identity\"),na.action(na.omit))\n",
    "%R print(summary(model.marsh))\n",
    "%R print(coef(model.marsh))\n",
    "%R print(anova(model.marsh, test=\"Chisq\"))"
   ]
  },
  {
   "cell_type": "code",
   "execution_count": null,
   "metadata": {},
   "outputs": [],
   "source": []
  }
 ],
 "metadata": {
  "kernelspec": {
   "display_name": "LHM-basics (python3)",
   "language": "python",
   "name": "lhm-basics"
  },
  "language_info": {
   "codemirror_mode": {
    "name": "ipython",
    "version": 3
   },
   "file_extension": ".py",
   "mimetype": "text/x-python",
   "name": "python",
   "nbconvert_exporter": "python",
   "pygments_lexer": "ipython3",
   "version": "3.7.3"
  }
 },
 "nbformat": 4,
 "nbformat_minor": 2
}
