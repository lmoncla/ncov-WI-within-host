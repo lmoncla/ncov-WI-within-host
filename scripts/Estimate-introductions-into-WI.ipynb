{
 "cells": [
  {
   "cell_type": "markdown",
   "metadata": {},
   "source": [
    "# Infer the number of introductions of SARS-CoV2 into Wisconsin\n",
    "\n",
    "\n",
    "June 3, 2020\n",
    "\n",
    "As I continue to think about the best way to do this, I am wondering if there is any really good way to try to determine the number of introductions. I think that because of issues of subsmapling, low diversity, and rapid geographic dissemination, the best thing to do might be to try out multiple ways of estimating introductions/introduction timings and see how they all relate to each other. I can think of a few different metrics: \n",
    "\n",
    "1. Use DTA to enumerate the number of times SARS-CoV2 was introduced into Wisconsin. You could assess how robust these estimates are to including various numbers of WI sequences, using something like the rarefaction analysis we did for mumps. This would be pretty computationally intensive, and would require pretty careful thought about how to subsampled different geographic ways of subsetting the data. \n",
    "2. Using an approach like Nicola did for the Washington samples, where you define an arbitrary threshold (he used 5 mutations) and group all sequences that are within 5 mutations of each other together. I don't love this approach because it feels so arbitrary but it seemed reasonable for Washington.\n",
    "3. Using the approach I wrote out here, where essentially you traverse the tree backwards from tip to root and enumerate monophyletic groups of sequences. I don't love this approach either, because it also feels very arbitrary. It is also quite sensitive to sampling, where there are definitely sequences that we're inferring as separate introductions, that are actually probably more connected and would be a full group by themselves if there were more Wisconsin sequences. I suppose that we could try loosening these criteria to allow sequences to be included in the group if there are other sequences in that group, but that the Wisconsin seqs are within a certain number of mutations from each other. \n",
    "\n",
    "I think that no matter which approach we end up using, it will be really necessary to try to address how robust it is to sampling bias. \n",
    "\n",
    "March 30, 2020\n",
    "\n",
    "As a favor for Kat, I am writing this notebook to enumerate the number of introductions of SARS-CoV2 into Wisconsin. Using the nextstrain json available [here](https://nextstrain.org/ncov), I am pulling the most recent json, reading it in as a tree object in baltic, and then parsing through the tree. Because we are currently only reconstructing geographic ancestral states at the country level (which makes sense), we do not have actual internal node identities for division. Therefore, I am implementing something more basic, as follows: \n",
    "\n",
    "1. For each Wisconsin tip in the tree, trace backwards (towards the root). Find the most interior internal node for which all of the children are from Wisconsin. Return that internal node. \n",
    "\n",
    "2. For each returned internal node, use baltic's subtree function to enumerate the entire subtree that descends from that node. Plot it. \n",
    "\n",
    "### Some caveats:\n",
    "Because the tree is so unevenly and sparsely sampled, this should not be interpreted as a definitive or even statsically rigorous estimation of the number of introductions into Wisconsin. In this analysis, for 2 tips to be classified into the same cluster, they must share a common ancestor with each other before they share a common ancestor with a virus sampled from another geographic location. This means that instances in which 2 Wisconsin samples share a common ancestor at the same time that they also share an ancestor with a virus from New York will not be classified as a cluster. Conversely, 2 sequences that are currently quite closely related and cluster together could be broken apart if more sampling occurred, resulting in a cluster from a different geographic location nesting in between them. For these reasons, these inferences will change as the tree fills out. Additionally, to do this properly, a true discrete trait ancestral state reconstruction with reasonably similarly sampled demes would need to be employed. \n",
    "\n",
    "Another caveat is that this analysis does not attempt any inference about how divergent these clusters are from each other or how dissimilar sequences clustered together are. For example, if we are currently clustering 2 sequences together that are identical, it is much more likely that they are truly related and part of the same transmission chain than if they are 3 mutations different from each other. This could be sort of looked at by plotting divergence on the x-axis instead of time. \n",
    "\n",
    "\n",
    "### Requirements: \n",
    "To run this, you will need to have all of the modules in the following block installed. You will also need to have the most recent version of baltic installed, which is available [here](https://github.com/evogytis/baltic/tree/master/docs)."
   ]
  },
  {
   "cell_type": "code",
   "execution_count": 1,
   "metadata": {},
   "outputs": [],
   "source": [
    "import imp\n",
    "import importlib, json\n",
    "import re,copy,json\n",
    "import Bio.Phylo\n",
    "import requests\n",
    "import pandas as pd \n",
    "import numpy as np\n",
    "\n",
    "# for this to work, you will need to download the most recent version of baltic, available here \n",
    "bt = imp.load_source('baltic', '/Users/lmoncla/src/baltic/baltic/baltic.py')\n",
    "\n",
    "import copy\n",
    "from scipy.special import binom\n",
    "import datetime as dt\n",
    "\n",
    "%matplotlib inline\n",
    "import matplotlib as mpl\n",
    "from matplotlib import pyplot as plt\n",
    "import matplotlib.patheffects as path_effects\n",
    "import matplotlib.lines as mlines\n",
    "from matplotlib.font_manager import FontProperties\n",
    "import matplotlib.colors as clr\n",
    "import textwrap as textwrap\n",
    "from textwrap import wrap\n",
    "\n",
    "from IPython.display import HTML\n",
    "\n",
    "\n",
    "try:\n",
    "    from StringIO import StringIO as sio\n",
    "    from cStringIO import StringIO as csio\n",
    "except ImportError:\n",
    "    from io import StringIO as sio\n",
    "    from io import BytesIO as csio"
   ]
  },
  {
   "cell_type": "markdown",
   "metadata": {},
   "source": [
    "## Functions for parsing tree and enumerating Wisconsin-only clusters"
   ]
  },
  {
   "cell_type": "code",
   "execution_count": 2,
   "metadata": {},
   "outputs": [],
   "source": [
    "def return_dictionary_of_leaves(input_tree):\n",
    "    leaves_dict = {}\n",
    "    for k in input_tree.Objects:\n",
    "        if k.branchType == \"leaf\":\n",
    "            leaves_dict[k.name] = k\n",
    "    return(leaves_dict)"
   ]
  },
  {
   "cell_type": "code",
   "execution_count": 3,
   "metadata": {},
   "outputs": [],
   "source": [
    "\"\"\"given a tree, traverse the tree and pull out clusters containing only Wisconsin sequences. For each Wisconsin\n",
    "tip in the tree, find its parent node. Enumerate is furthest back parent node that contains only Wisconsin\n",
    "child tips. Return that parent node, plus all its children, and write to dictionary\"\"\"\n",
    "\n",
    "def return_WI_only_clusters(tree, analysis_level, division_to_query, leaves_dict):\n",
    "    Wisconsin_clusters = {}\n",
    "    \n",
    "    for k in tree.Objects:\n",
    "        \n",
    "        # if we come upon a leaf with the trait we are looking for, pass to node_to_return\n",
    "        if k.branchType == \"leaf\" and analysis_level in k.traits and k.traits[analysis_level] == division_to_query:\n",
    "            node_to_return = return_WI_only_nodes(k, analysis_level, division_to_query, leaves_dict)\n",
    "            \n",
    "            if node_to_return.branchType == \"node\":\n",
    "                Wisconsin_clusters[node_to_return] = list(node_to_return.leaves)\n",
    "            else:\n",
    "                Wisconsin_clusters[node_to_return] = node_to_return.name\n",
    "                \n",
    "    return(Wisconsin_clusters)"
   ]
  },
  {
   "cell_type": "code",
   "execution_count": 4,
   "metadata": {},
   "outputs": [],
   "source": [
    "\"\"\"This is a small, recursive function to return the most internal node whose children are all from Wisconsin. \n",
    "Given a node, go up one to its parent. Enumerate that parents children and its childrens division. If all child \n",
    "tips are from Wisconsin, then we are currently in a monophyletic Wisconsin clade. Go up again and repeat. Continue\n",
    "iterating up the tree (towards the root) until we encounter a node whose child tips have a mix of divisions. \n",
    "Return the furthest up possible node that contains only Wisconsin child tips. \"\"\"\n",
    "\n",
    "def return_WI_only_nodes(input_node, analysis_level, division_to_query, leaves_dict):\n",
    "    \n",
    "    # for a given internal node, generate a list of all its children, i.e., tips descending from that node\n",
    "    node = input_node.parent\n",
    "    children = list(node.children)   # .children will output all of the direct descendants as baltic objects\n",
    "    leaves = list(node.leaves)       # .leaves will output the names of all tips descending from the node\n",
    "    \n",
    "    # for each child tip, pull out its division\n",
    "    local_node_divisions = []\n",
    "    for l in leaves:\n",
    "        leaf_object = leaves_dict[l]\n",
    "        if analysis_level in leaf_object.traits:\n",
    "            child_division = leaf_object.traits[analysis_level]\n",
    "        else:\n",
    "            child_division = \"unknown\"\n",
    "        local_node_divisions.append(child_division)\n",
    "    \n",
    "    \n",
    "    # if only Wisconsin tips are children, then we are in a monophyletic clade. move up 1 node and repeat \n",
    "    if set(local_node_divisions) == {division_to_query}:\n",
    "        node_to_return = return_WI_only_nodes(node, analysis_level, division_to_query, leaves_dict)\n",
    "        \n",
    "    else: \n",
    "        node_to_return = input_node\n",
    "        \n",
    "    return(node_to_return)"
   ]
  },
  {
   "cell_type": "code",
   "execution_count": 5,
   "metadata": {},
   "outputs": [],
   "source": [
    "\"\"\"using baltic's subtree function, enumerate the subtree descending from the supplied node\"\"\"\n",
    "\n",
    "def return_subtree(node, tree):\n",
    "    subtree=tree.subtree(node) ## this function returns a new baltic object that contains a trait-traversed subtree, starting from node k, for as long as the traversal stays within the starting trait value state\n",
    "            \n",
    "    if subtree != None:\n",
    "        subtree.traverse_tree()\n",
    "        subtree.sortBranches()\n",
    "        return(subtree)"
   ]
  },
  {
   "cell_type": "code",
   "execution_count": 6,
   "metadata": {},
   "outputs": [],
   "source": [
    "\"\"\"enumerate geographic transitions for traits inferred with DTA, which is now country level\"\"\"\n",
    "\n",
    "def retrieve_subtrees(tree):\n",
    "    \n",
    "    traitName='country'\n",
    "\n",
    "    tree.root.traits[traitName]='ancestor' ## give root node some trait value that's different from what the actual tree root has, so it registers as a switch\n",
    "\n",
    "    tree_strings={country:[] for country in countries_list}\n",
    "    subtype_trees={country:[] for country in countries_list}\n",
    "\n",
    "    for k in sorted(tree.Objects,key=lambda x:x.height):\n",
    "        kp=k.parent     # kp is the parent node of k\n",
    "\n",
    "        ## get current node's (k) and its parent's (kp) trait states\n",
    "        kloc=k.traits[traitName].lower().replace(\" \",\"_\")   # kloc = trait of k; kc = trait of k; they are the same thing\n",
    "        if traitName in k.parent.traits:  # if parent has a trait block, use that trait, else assign to ancestor\n",
    "            kploc=kp.traits[traitName].lower().replace(\" \",\"_\")     # kploc = trait of parental node\n",
    "        else:\n",
    "            kploc='ancestor'\n",
    "\n",
    "        ## if states do not match\n",
    "        if kloc!=kploc:      # if node and parental node do not have the same trait\n",
    "            #N_children=len(k.leaves)\n",
    "            traverse_condition=lambda w:w.traits[traitName].lower().replace(\" \",\"_\")==kloc     # traverse tree for all nodes whose traitname = kc\n",
    "            #print('subtree resulting from '+kploc+' > '+kloc+' switch, traversing within '+ kloc)\n",
    "\n",
    "            subtree=tree.subtree(k,traverse_condition=traverse_condition) ## this function returns a new baltic object that contains a trait-traversed subtree, starting from node k, for as long as the traversal stays within the starting trait value state\n",
    "            \n",
    "            if subtree != None:\n",
    "                subtree.traverse_tree()\n",
    "                subtree.sortBranches()\n",
    "                if kloc in subtype_trees:\n",
    "                    subtype_trees[kloc].append((kploc,subtree))\n",
    "                else:\n",
    "                    pass\n",
    "                    #print(kloc, \" not in countries list\")\n",
    "                    \n",
    "    return(subtype_trees)"
   ]
  },
  {
   "cell_type": "code",
   "execution_count": null,
   "metadata": {},
   "outputs": [],
   "source": []
  },
  {
   "cell_type": "markdown",
   "metadata": {},
   "source": [
    "## Grab the most recent json file from nextstrain, and read it in as a baltic tree object \n",
    "\n",
    "The current `json_translation` defined here will translate auspice v2 jsons attributes into the proper tree attributes. This will not work for auspice v1 jsons. All ncov jsons are in v2. "
   ]
  },
  {
   "cell_type": "code",
   "execution_count": 8,
   "metadata": {},
   "outputs": [],
   "source": [
    "# define what you want to run this on (can use division, country, region, etc..., anything that is a trait in nextstrain)\n",
    "# define which division or country you want to look at \n",
    "analysis_level = 'division'\n",
    "division_to_query = 'Wisconsin'"
   ]
  },
  {
   "cell_type": "code",
   "execution_count": 9,
   "metadata": {},
   "outputs": [
    {
     "name": "stdout",
     "output_type": "stream",
     "text": [
      "\n",
      "Tree height: 1.385324\n",
      "Tree length: 905.553875\n",
      "multitype tree\n",
      "annotations present\n",
      "\n",
      "Numbers of objects in tree: 7174 (3265 nodes and 3909 leaves)\n",
      "\n"
     ]
    }
   ],
   "source": [
    "json_url='http://data.nextstrain.org/ncov_global.json'\n",
    "tree_json=json.load(csio(requests.get(json_url).content))\n",
    "\n",
    "tree_object=tree_json['tree']\n",
    "meta=tree_json['meta']\n",
    "json_translation={'absoluteTime':lambda k: k.traits['node_attrs']['num_date']['value'],'name':'name'} ## allows baltic to find correct attributes in JSON, height and name are required at a minimum\n",
    "json_meta={'file':meta,'traitName':analysis_level} ## if you want auspice stylings you can import the meta file used on nextstrain.org\n",
    "\n",
    "tree=bt.loadJSON(tree_object,json_translation,json_meta)"
   ]
  },
  {
   "cell_type": "code",
   "execution_count": null,
   "metadata": {},
   "outputs": [],
   "source": []
  },
  {
   "cell_type": "markdown",
   "metadata": {},
   "source": [
    "## Run functions to enumerate Wisconsin clusters and plot"
   ]
  },
  {
   "cell_type": "code",
   "execution_count": 13,
   "metadata": {},
   "outputs": [
    {
     "name": "stdout",
     "output_type": "stream",
     "text": [
      "key GISAID_clade\n",
      "title GISAID Clade\n",
      "type categorical\n"
     ]
    }
   ],
   "source": [
    "# pull out all unique divisions or countries\n",
    "divisions_keys = meta[\"colorings\"][4]\n",
    "countries_keys = meta[\"colorings\"][5]\n",
    "\n",
    "countries_list = []\n",
    "divisions_list = []\n",
    "colors = {}\n",
    "\n",
    "for i in countries_keys:\n",
    "    print(i, countries_keys[i])"
   ]
  },
  {
   "cell_type": "code",
   "execution_count": 23,
   "metadata": {},
   "outputs": [],
   "source": [
    "# pull the location of the metadata keys for divison and country\n",
    "for i in range(len(meta['colorings'])):\n",
    "    if meta['colorings'][i]['key'] == 'division':\n",
    "        divisions_keys = meta['colorings'][i]\n",
    "        \n",
    "    elif meta['colorings'][i]['key'] == 'country':\n",
    "        countries_keys = meta['colorings'][i]"
   ]
  },
  {
   "cell_type": "code",
   "execution_count": 24,
   "metadata": {},
   "outputs": [],
   "source": [
    "# pull out all unique divisions or countries\n",
    "countries_list = []\n",
    "divisions_list = []\n",
    "colors = {}\n",
    "\n",
    "for i in range(len(countries_keys[\"scale\"])):\n",
    "    country = countries_keys[\"scale\"][i][0].lower().replace(\" \",\"_\")\n",
    "    countries_list.append(country)\n",
    "    colors[country] = countries_keys[\"scale\"][i][1]\n",
    "    \n",
    "# for i in range(len(divisions_keys[\"scale\"])):\n",
    "#     division = divisions_keys[\"scale\"][i][0].lower().replace(\" \",\"_\")\n",
    "#     division_list.append(division)\n",
    "#     colors[division] = divisions_keys[\"scale\"][i][1]"
   ]
  },
  {
   "cell_type": "code",
   "execution_count": null,
   "metadata": {},
   "outputs": [],
   "source": []
  },
  {
   "cell_type": "code",
   "execution_count": 26,
   "metadata": {},
   "outputs": [],
   "source": [
    "leaf_dictionary = return_dictionary_of_leaves(tree)\n",
    "Wisconsin_clusters = return_WI_only_clusters(tree, analysis_level, division_to_query, leaf_dictionary)"
   ]
  },
  {
   "cell_type": "code",
   "execution_count": 27,
   "metadata": {},
   "outputs": [
    {
     "data": {
      "text/plain": [
       "{<baltic.leaf at 0x7fac1d8e5908>: 'USA/WI-UW-3772/2021',\n",
       " <baltic.leaf at 0x7fac20c775c0>: 'USA/WI-WSLH-211252/2021',\n",
       " <baltic.leaf at 0x7fac20887ba8>: 'USA/WI-WSLH-213694/2021'}"
      ]
     },
     "execution_count": 27,
     "metadata": {},
     "output_type": "execute_result"
    }
   ],
   "source": [
    "Wisconsin_clusters"
   ]
  },
  {
   "cell_type": "code",
   "execution_count": 28,
   "metadata": {},
   "outputs": [
    {
     "name": "stdout",
     "output_type": "stream",
     "text": [
      "3\n"
     ]
    }
   ],
   "source": [
    "# print the number of introductions\n",
    "print(len(Wisconsin_clusters))"
   ]
  },
  {
   "cell_type": "code",
   "execution_count": 29,
   "metadata": {},
   "outputs": [],
   "source": [
    "\"\"\"convert to subtrees for plotting; this uses the baltic subtrees function to pull out the subtending tree\"\"\"\n",
    "clusters = []\n",
    "\n",
    "for w in Wisconsin_clusters: \n",
    "    subtree = return_subtree(w, tree)\n",
    "    clusters.append(subtree)"
   ]
  },
  {
   "cell_type": "code",
   "execution_count": 30,
   "metadata": {},
   "outputs": [],
   "source": [
    "mpl.rc('font',**{'family':'sans-serif','sans-serif':['Helvetica']})\n",
    "mpl.rc('text', usetex='false') \n",
    "mpl.rcParams.update({'font.size': 22})"
   ]
  },
  {
   "cell_type": "code",
   "execution_count": 32,
   "metadata": {},
   "outputs": [
    {
     "data": {
      "text/plain": [
       "[Text(0, 0, 'Jan\\n2020'),\n",
       " Text(0, 0, 'Feb\\n2020'),\n",
       " Text(0, 0, 'Mar\\n2020'),\n",
       " Text(0, 0, 'Apr\\n2020')]"
      ]
     },
     "execution_count": 32,
     "metadata": {},
     "output_type": "execute_result"
    },
    {
     "data": {
      "image/png": "[encoded data removed]",
      "text/plain": [
       "<Figure size 432x1296 with 1 Axes>"
      ]
     },
     "metadata": {},
     "output_type": "display_data"
    }
   ],
   "source": [
    "fig,ax1 = plt.subplots(1, figsize=(6,18),facecolor='w')\n",
    "\n",
    "axes = [ax1]\n",
    "\n",
    "traitName='division'\n",
    "tipSize=40\n",
    "mpl.rcParams['font.size']=16\n",
    "cumulative_y=0\n",
    "\n",
    "# # this sets the vertical dashed lines on the tree\n",
    "dates = []  \n",
    "for i in np.arange(2020.0,2021.5,0.25):\n",
    "    dates.append(i)\n",
    "[ax1.axvline(i,ls='--',lw=1,color='grey',zorder=0, alpha=0.5) for i in dates]\n",
    "\n",
    "branchWidth=1.75 ## default branch width\n",
    "\n",
    "x_attr=lambda k: k.absoluteTime\n",
    "#c_func=lambda k: colors[k.traits[traitName].lower().replace(\" \",\"_\")]\n",
    "s_func=lambda k: tipSize\n",
    "z_func=lambda k: 100\n",
    "\n",
    "su_func=lambda k: tipSize+30\n",
    "cu_func=lambda k: 'k'\n",
    "zu_func=lambda k: 99\n",
    "text_func=lambda k: k.name\n",
    "\n",
    "cumulative_y = 0\n",
    "\n",
    "for subtree in clusters: ## iterate over trait values\n",
    "        \n",
    "    for k in subtree.Objects: ## iterate over objects in tree\n",
    "\n",
    "        x=k.absoluteTime \n",
    "        y = k.y + cumulative_y\n",
    "\n",
    "        xp=k.parent.absoluteTime ## get x position of current object's parent\n",
    "        if x==None: ## matplotlib won't plot Nones, like root\n",
    "            x=0.0\n",
    "        if xp==None:\n",
    "            xp=x\n",
    "        \n",
    "        c=\"#2664A5\"\n",
    "        if k.branchType=='leaf': ## if leaf...\n",
    "            \n",
    "            label_text = k.name\n",
    "            label_size=8\n",
    "                \n",
    "            ax1.scatter(x,y,s=tipSize,facecolor=c,edgecolor=c,zorder=11) ## plot circle for every tip\n",
    "            ax1.text(x+0.01,y,s=label_text,size=label_size)\n",
    "                \n",
    "        elif k.branchType=='node':\n",
    "            # this plots the vertical line\n",
    "            ax1.plot([x,x],[k.children[-1].y+cumulative_y,k.children[0].y+cumulative_y],lw=branchWidth,color=\"black\",ls='-',zorder=9,solid_capstyle='round')\n",
    "\n",
    "        ax1.plot([xp,x],[y,y],lw=branchWidth,color=\"black\",ls='-',zorder=9)\n",
    "        \n",
    "    # increment cumulative y displacement\n",
    "    cumulative_y+=subtree.ySpan+5 \n",
    "\n",
    "           \n",
    "# ax1.legend(handles = han_list, markerfirst = True, frameon=False, bbox_to_anchor=[-0.5, 0.5], loc=3, prop={'size': 18}, facecolor='w')\n",
    "ax1.xaxis.tick_bottom()\n",
    "ax1.yaxis.tick_left()\n",
    "\n",
    "[ax1.spines[loc].set_visible(False) for loc in ['top','right','left','bottom']]\n",
    "\n",
    "ax1.tick_params(axis='y',size=0)\n",
    "ax1.set_yticklabels([])\n",
    "ax1.set_ylim(-5,cumulative_y)\n",
    "ax1.set_xlim(2020.0,2020.5)\n",
    "\n",
    "ax1.set_xticks(dates)\n",
    "ax1.set_xticklabels(['Jan\\n2020','Feb\\n2020','Mar\\n2020','Apr\\n2020'], fontsize=12)\n",
    "#plt.savefig(\"/Users/lmoncla/src/ncov-ipython-code/WI-introductions-2020-03-30.pdf\")"
   ]
  },
  {
   "cell_type": "code",
   "execution_count": null,
   "metadata": {},
   "outputs": [],
   "source": []
  }
 ],
 "metadata": {
  "kernelspec": {
   "display_name": "LHM-basics (python3)",
   "language": "python",
   "name": "lhm-basics"
  },
  "language_info": {
   "codemirror_mode": {
    "name": "ipython",
    "version": 3
   },
   "file_extension": ".py",
   "mimetype": "text/x-python",
   "name": "python",
   "nbconvert_exporter": "python",
   "pygments_lexer": "ipython3",
   "version": "3.7.3"
  }
 },
 "nbformat": 4,
 "nbformat_minor": 2
}
