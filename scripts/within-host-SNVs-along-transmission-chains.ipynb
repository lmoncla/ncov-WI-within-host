{
 "cells": [
  {
   "cell_type": "markdown",
   "metadata": {},
   "source": [
    "# Do variants detected within-host ever emerge downstream in transmission chains? \n",
    "\n",
    "This notebook contains code to query within-host variants for whether they ever rise to consensus in downstream portions of the phylogenetic tree. "
   ]
  },
  {
   "cell_type": "code",
   "execution_count": 90,
   "metadata": {},
   "outputs": [
    {
     "name": "stdout",
     "output_type": "stream",
     "text": [
      "The rpy2.ipython extension is already loaded. To reload it, use:\n",
      "  %reload_ext rpy2.ipython\n"
     ]
    }
   ],
   "source": [
    "import imp\n",
    "import importlib, json\n",
    "import glob\n",
    "import re,copy,json\n",
    "import Bio.Phylo\n",
    "import requests\n",
    "import pandas as pd \n",
    "import numpy as np\n",
    "\n",
    "# for this to work, you will need to download the most recent version of baltic, available here \n",
    "bt = imp.load_source('baltic', '../baltic/baltic.py')\n",
    "\n",
    "import copy\n",
    "from scipy.special import binom\n",
    "import datetime as dt\n",
    "\n",
    "%matplotlib inline\n",
    "import matplotlib as mpl\n",
    "from matplotlib import pyplot as plt\n",
    "import matplotlib.patheffects as path_effects\n",
    "import matplotlib.lines as mlines\n",
    "from matplotlib.font_manager import FontProperties\n",
    "import matplotlib.colors as clr\n",
    "import textwrap as textwrap\n",
    "from textwrap import wrap\n",
    "\n",
    "from IPython.display import HTML\n",
    "\n",
    "\n",
    "try:\n",
    "    from StringIO import StringIO as sio\n",
    "    from cStringIO import StringIO as csio\n",
    "except ImportError:\n",
    "    from io import StringIO as sio\n",
    "    from io import BytesIO as csio\n",
    "    \n",
    "    \n",
    "import rpy2\n",
    "%load_ext rpy2.ipython"
   ]
  },
  {
   "cell_type": "code",
   "execution_count": 3,
   "metadata": {},
   "outputs": [],
   "source": [
    "# define which column we want to use to look at variants. Use 'nuc_muts' to characterize variants relative to the \n",
    "# Wuhan 1 reference, or 'minor_nuc_muts' to do a consensus-agnostic comparison\n",
    "variant_column = 'minor_nuc_muts'\n",
    "frequency_column = 'minor_frequency'"
   ]
  },
  {
   "cell_type": "markdown",
   "metadata": {},
   "source": [
    "## Read in vcfs and convert to dataframes \n",
    "\n",
    "I will only read in the intersection SNVs, meaning the ones that were detected in both technical sequencing replicates. This code will separate this into 2 dataframes, 1 for SNVs and 1 for indels, and will also look up and add in the strain names (necessary for converting from tube numbers, which is how the csvs are labelled). All of this code is contained in the ipython notebook called `vcf-module.ipynb`, which I am just going to import here. By running `return_dataframes`, this will collate all vcfs in the vcf directory, combine into a dataframe, and format that dataframe properly. "
   ]
  },
  {
   "cell_type": "code",
   "execution_count": 4,
   "metadata": {},
   "outputs": [],
   "source": [
    "\"\"\"to load in an ipython notebook as a module, just run the following. You will now have access to all of the \n",
    "functions written in that jupyter notebook\"\"\"\n",
    "\n",
    "%run vcf-module.ipynb"
   ]
  },
  {
   "cell_type": "code",
   "execution_count": 5,
   "metadata": {},
   "outputs": [],
   "source": [
    "# read in the current date \n",
    "from datetime import date\n",
    "today = date.today()\n",
    "current_date = str(today.strftime(\"%Y-%m-%d\"))"
   ]
  },
  {
   "cell_type": "code",
   "execution_count": 6,
   "metadata": {},
   "outputs": [
    {
     "name": "stderr",
     "output_type": "stream",
     "text": [
      "/Users/lmoncla/anaconda/envs/LHM-basics/lib/python3.7/site-packages/ipykernel_launcher.py:6: SettingWithCopyWarning: \n",
      "A value is trying to be set on a copy of a slice from a DataFrame.\n",
      "Try using .loc[row_indexer,col_indexer] = value instead\n",
      "\n",
      "See the caveats in the documentation: http://pandas.pydata.org/pandas-docs/stable/indexing.html#indexing-view-versus-copy\n",
      "  \n",
      "/Users/lmoncla/anaconda/envs/LHM-basics/lib/python3.7/site-packages/ipykernel_launcher.py:7: SettingWithCopyWarning: \n",
      "A value is trying to be set on a copy of a slice from a DataFrame.\n",
      "Try using .loc[row_indexer,col_indexer] = value instead\n",
      "\n",
      "See the caveats in the documentation: http://pandas.pydata.org/pandas-docs/stable/indexing.html#indexing-view-versus-copy\n",
      "  import sys\n",
      "/Users/lmoncla/anaconda/envs/LHM-basics/lib/python3.7/site-packages/ipykernel_launcher.py:8: SettingWithCopyWarning: \n",
      "A value is trying to be set on a copy of a slice from a DataFrame.\n",
      "Try using .loc[row_indexer,col_indexer] = value instead\n",
      "\n",
      "See the caveats in the documentation: http://pandas.pydata.org/pandas-docs/stable/indexing.html#indexing-view-versus-copy\n",
      "  \n",
      "/Users/lmoncla/anaconda/envs/LHM-basics/lib/python3.7/site-packages/ipykernel_launcher.py:11: SettingWithCopyWarning: \n",
      "A value is trying to be set on a copy of a slice from a DataFrame.\n",
      "Try using .loc[row_indexer,col_indexer] = value instead\n",
      "\n",
      "See the caveats in the documentation: http://pandas.pydata.org/pandas-docs/stable/indexing.html#indexing-view-versus-copy\n",
      "  # This is added back by InteractiveShellApp.init_path()\n",
      "/Users/lmoncla/anaconda/envs/LHM-basics/lib/python3.7/site-packages/ipykernel_launcher.py:12: SettingWithCopyWarning: \n",
      "A value is trying to be set on a copy of a slice from a DataFrame.\n",
      "Try using .loc[row_indexer,col_indexer] = value instead\n",
      "\n",
      "See the caveats in the documentation: http://pandas.pydata.org/pandas-docs/stable/indexing.html#indexing-view-versus-copy\n",
      "  if sys.path[0] == '':\n",
      "/Users/lmoncla/anaconda/envs/LHM-basics/lib/python3.7/site-packages/ipykernel_launcher.py:14: SettingWithCopyWarning: \n",
      "A value is trying to be set on a copy of a slice from a DataFrame.\n",
      "Try using .loc[row_indexer,col_indexer] = value instead\n",
      "\n",
      "See the caveats in the documentation: http://pandas.pydata.org/pandas-docs/stable/indexing.html#indexing-view-versus-copy\n",
      "  \n",
      "/Users/lmoncla/anaconda/envs/LHM-basics/lib/python3.7/site-packages/ipykernel_launcher.py:9: SettingWithCopyWarning: \n",
      "A value is trying to be set on a copy of a slice from a DataFrame.\n",
      "Try using .loc[row_indexer,col_indexer] = value instead\n",
      "\n",
      "See the caveats in the documentation: http://pandas.pydata.org/pandas-docs/stable/indexing.html#indexing-view-versus-copy\n",
      "  if __name__ == '__main__':\n",
      "/Users/lmoncla/anaconda/envs/LHM-basics/lib/python3.7/site-packages/ipykernel_launcher.py:10: SettingWithCopyWarning: \n",
      "A value is trying to be set on a copy of a slice from a DataFrame.\n",
      "Try using .loc[row_indexer,col_indexer] = value instead\n",
      "\n",
      "See the caveats in the documentation: http://pandas.pydata.org/pandas-docs/stable/indexing.html#indexing-view-versus-copy\n",
      "  # Remove the CWD from sys.path while we load stuff.\n",
      "/Users/lmoncla/anaconda/envs/LHM-basics/lib/python3.7/site-packages/pandas/core/frame.py:3940: SettingWithCopyWarning: \n",
      "A value is trying to be set on a copy of a slice from a DataFrame\n",
      "\n",
      "See the caveats in the documentation: http://pandas.pydata.org/pandas-docs/stable/indexing.html#indexing-view-versus-copy\n",
      "  errors=errors)\n"
     ]
    }
   ],
   "source": [
    "\"\"\"now, input the strain names file/metadata file, the directory containing the vcfs, and return the dataframess\"\"\"\n",
    "\n",
    "strain_names_file = \"/Users/lmoncla/src/ncov-WI-within-host/data/sample-metadata.tsv\"\n",
    "fasta_file = \"../data/consensus-sequences-2021-01-25.fasta\"\n",
    "clades_file = \"../data/clades-file-2020-08-28.txt\"\n",
    "vcf_directory = \"../data/vcfs-all/\"\n",
    "\n",
    "# N transcript was a control; sample/tube 6, UW-30, has an snv at basically every single site after a certain \n",
    "# point in the genome. it has 418 SNVs!!! I'm excluding it; finally, I am going to exclude tube 127, USA/WI-UW-118/2020\n",
    "# which has >50 indels and >50 SNVs. It has a pretty high Ct as well, so I think these are probably errors as it is \n",
    "# a very clear outlier\n",
    "samples_to_ignore = [\"N_transcript\",\"6\", \"127\"]\n",
    "\n",
    "# set the length of homopolymers that you want to use\n",
    "homopolymer_length = 3\n",
    "\n",
    "# set the variant percent that you want to use \n",
    "variant_percent = \"0.03\"\n",
    "\n",
    "snvs_only, indels_only, all_intersection_variants,metadata_dict = return_dataframes(strain_names_file, clades_file,vcf_directory,samples_to_ignore,fasta_file, homopolymer_length)"
   ]
  },
  {
   "cell_type": "code",
   "execution_count": 7,
   "metadata": {},
   "outputs": [],
   "source": [
    "\"\"\"subset data to include only SNVs and indels >3% frequency\"\"\"\n",
    "snvs_only = snvs_only[snvs_only[frequency_column] >= float(variant_percent)]\n",
    "indels_only = indels_only[indels_only[frequency_column] >= float(variant_percent)]\n",
    "\n",
    "\"\"\"subset data to include only SNVs and indels <50% frequency\"\"\"\n",
    "snvs_only = snvs_only[snvs_only[frequency_column] <= float(0.5)]\n",
    "indels_only = indels_only[indels_only[frequency_column] <= float(0.5)]"
   ]
  },
  {
   "cell_type": "code",
   "execution_count": 8,
   "metadata": {
    "scrolled": true
   },
   "outputs": [
    {
     "data": {
      "text/html": [
       "<div>\n",
       "<style scoped>\n",
       "    .dataframe tbody tr th:only-of-type {\n",
       "        vertical-align: middle;\n",
       "    }\n",
       "\n",
       "    .dataframe tbody tr th {\n",
       "        vertical-align: top;\n",
       "    }\n",
       "\n",
       "    .dataframe thead th {\n",
       "        text-align: right;\n",
       "    }\n",
       "</style>\n",
       "<table border=\"1\" class=\"dataframe\">\n",
       "  <thead>\n",
       "    <tr style=\"text-align: right;\">\n",
       "      <th></th>\n",
       "      <th>Unnamed: 0</th>\n",
       "      <th>SNP</th>\n",
       "      <th>POS_x</th>\n",
       "      <th>rep1_percent</th>\n",
       "      <th>rep2_percent</th>\n",
       "      <th>frequency</th>\n",
       "      <th>sampleid</th>\n",
       "      <th>gene</th>\n",
       "      <th>nt_change</th>\n",
       "      <th>aa_change</th>\n",
       "      <th>annotation</th>\n",
       "      <th>strain_name</th>\n",
       "      <th>location</th>\n",
       "      <th>clade</th>\n",
       "      <th>homopolymer</th>\n",
       "      <th>homopolymer_base</th>\n",
       "      <th>type_of_variant</th>\n",
       "    </tr>\n",
       "  </thead>\n",
       "  <tbody>\n",
       "    <tr>\n",
       "      <th>0</th>\n",
       "      <td>0</td>\n",
       "      <td>orf1ab_-delTCATGTTATGGTTG_His83fs_frameshift</td>\n",
       "      <td>509.0</td>\n",
       "      <td>0.0326</td>\n",
       "      <td>0.0114</td>\n",
       "      <td>0.02200</td>\n",
       "      <td>53</td>\n",
       "      <td>orf1ab</td>\n",
       "      <td>-delTCATGTTATGGTTG</td>\n",
       "      <td>His83fs</td>\n",
       "      <td>frameshift</td>\n",
       "      <td>USA/WI-UW-67/2020</td>\n",
       "      <td>Dane County</td>\n",
       "      <td>19B</td>\n",
       "      <td>not</td>\n",
       "      <td>[]</td>\n",
       "      <td>indel</td>\n",
       "    </tr>\n",
       "    <tr>\n",
       "      <th>1</th>\n",
       "      <td>1</td>\n",
       "      <td>orf1ab_dupA_Leu293fs_frameshift</td>\n",
       "      <td>1135.0</td>\n",
       "      <td>0.0161</td>\n",
       "      <td>0.0122</td>\n",
       "      <td>0.01415</td>\n",
       "      <td>53</td>\n",
       "      <td>orf1ab</td>\n",
       "      <td>dupA</td>\n",
       "      <td>Leu293fs</td>\n",
       "      <td>frameshift</td>\n",
       "      <td>USA/WI-UW-67/2020</td>\n",
       "      <td>Dane County</td>\n",
       "      <td>19B</td>\n",
       "      <td>not</td>\n",
       "      <td>[]</td>\n",
       "      <td>indel</td>\n",
       "    </tr>\n",
       "    <tr>\n",
       "      <th>2</th>\n",
       "      <td>6</td>\n",
       "      <td>orf1ab_dupT_Leu2146fs_frameshift</td>\n",
       "      <td>6696.0</td>\n",
       "      <td>0.0335</td>\n",
       "      <td>0.0968</td>\n",
       "      <td>0.06515</td>\n",
       "      <td>53</td>\n",
       "      <td>orf1ab</td>\n",
       "      <td>dupT</td>\n",
       "      <td>Leu2146fs</td>\n",
       "      <td>frameshift</td>\n",
       "      <td>USA/WI-UW-67/2020</td>\n",
       "      <td>Dane County</td>\n",
       "      <td>19B</td>\n",
       "      <td>in</td>\n",
       "      <td>a</td>\n",
       "      <td>indel</td>\n",
       "    </tr>\n",
       "    <tr>\n",
       "      <th>3</th>\n",
       "      <td>8</td>\n",
       "      <td>orf1ab_C&gt;T_Ser2839Ser_synonymous</td>\n",
       "      <td>8782.0</td>\n",
       "      <td>0.9411</td>\n",
       "      <td>0.8919</td>\n",
       "      <td>0.91650</td>\n",
       "      <td>53</td>\n",
       "      <td>orf1ab</td>\n",
       "      <td>C&gt;T</td>\n",
       "      <td>Ser2839Ser</td>\n",
       "      <td>synonymous</td>\n",
       "      <td>USA/WI-UW-67/2020</td>\n",
       "      <td>Dane County</td>\n",
       "      <td>19B</td>\n",
       "      <td>not</td>\n",
       "      <td>[]</td>\n",
       "      <td>snv</td>\n",
       "    </tr>\n",
       "    <tr>\n",
       "      <th>4</th>\n",
       "      <td>11</td>\n",
       "      <td>orf1ab_dupA_Pro3851fs_frameshift</td>\n",
       "      <td>11812.0</td>\n",
       "      <td>0.0150</td>\n",
       "      <td>0.0108</td>\n",
       "      <td>0.01290</td>\n",
       "      <td>53</td>\n",
       "      <td>orf1ab</td>\n",
       "      <td>dupA</td>\n",
       "      <td>Pro3851fs</td>\n",
       "      <td>frameshift</td>\n",
       "      <td>USA/WI-UW-67/2020</td>\n",
       "      <td>Dane County</td>\n",
       "      <td>19B</td>\n",
       "      <td>not</td>\n",
       "      <td>[]</td>\n",
       "      <td>indel</td>\n",
       "    </tr>\n",
       "  </tbody>\n",
       "</table>\n",
       "</div>"
      ],
      "text/plain": [
       "  Unnamed: 0                                           SNP    POS_x  \\\n",
       "0          0  orf1ab_-delTCATGTTATGGTTG_His83fs_frameshift    509.0   \n",
       "1          1               orf1ab_dupA_Leu293fs_frameshift   1135.0   \n",
       "2          6              orf1ab_dupT_Leu2146fs_frameshift   6696.0   \n",
       "3          8              orf1ab_C>T_Ser2839Ser_synonymous   8782.0   \n",
       "4         11              orf1ab_dupA_Pro3851fs_frameshift  11812.0   \n",
       "\n",
       "   rep1_percent  rep2_percent  frequency sampleid    gene           nt_change  \\\n",
       "0        0.0326        0.0114    0.02200       53  orf1ab  -delTCATGTTATGGTTG   \n",
       "1        0.0161        0.0122    0.01415       53  orf1ab                dupA   \n",
       "2        0.0335        0.0968    0.06515       53  orf1ab                dupT   \n",
       "3        0.9411        0.8919    0.91650       53  orf1ab                 C>T   \n",
       "4        0.0150        0.0108    0.01290       53  orf1ab                dupA   \n",
       "\n",
       "    aa_change  annotation        strain_name     location clade homopolymer  \\\n",
       "0     His83fs  frameshift  USA/WI-UW-67/2020  Dane County   19B         not   \n",
       "1    Leu293fs  frameshift  USA/WI-UW-67/2020  Dane County   19B         not   \n",
       "2   Leu2146fs  frameshift  USA/WI-UW-67/2020  Dane County   19B          in   \n",
       "3  Ser2839Ser  synonymous  USA/WI-UW-67/2020  Dane County   19B         not   \n",
       "4   Pro3851fs  frameshift  USA/WI-UW-67/2020  Dane County   19B         not   \n",
       "\n",
       "  homopolymer_base type_of_variant  \n",
       "0               []           indel  \n",
       "1               []           indel  \n",
       "2                a           indel  \n",
       "3               []             snv  \n",
       "4               []           indel  "
      ]
     },
     "execution_count": 8,
     "metadata": {},
     "output_type": "execute_result"
    }
   ],
   "source": [
    "all_intersection_variants.head()"
   ]
  },
  {
   "cell_type": "code",
   "execution_count": 9,
   "metadata": {},
   "outputs": [
    {
     "name": "stdout",
     "output_type": "stream",
     "text": [
      "2266\n"
     ]
    }
   ],
   "source": [
    "print(len(all_intersection_variants))"
   ]
  },
  {
   "cell_type": "code",
   "execution_count": 10,
   "metadata": {},
   "outputs": [
    {
     "name": "stdout",
     "output_type": "stream",
     "text": [
      "229\n",
      "25\n",
      "254\n"
     ]
    }
   ],
   "source": [
    "snvs_to_query = set(snvs_only[variant_column])\n",
    "indels_to_query = set(indels_only[variant_column])\n",
    "all_variants_to_query = snvs_to_query.copy()\n",
    "all_variants_to_query.update(indels_to_query)\n",
    "print(len(snvs_to_query))\n",
    "print(len(indels_to_query))\n",
    "print(len(all_variants_to_query))"
   ]
  },
  {
   "cell_type": "markdown",
   "metadata": {},
   "source": [
    "## A small function to order the SNVs by site"
   ]
  },
  {
   "cell_type": "code",
   "execution_count": 11,
   "metadata": {},
   "outputs": [],
   "source": [
    "\"\"\"given a list of SNVs, sort them by their site number to make the resuling plot easier to read and look at\"\"\"\n",
    "\n",
    "def sort_mutations(muts):\n",
    "    muts_dict = {}\n",
    "    sites_list = []\n",
    "    final_order = []\n",
    "    \n",
    "    for m in muts:\n",
    "        site = int(m[1:-1])\n",
    "        \n",
    "        if site not in muts_dict:\n",
    "            muts_dict[site] = []\n",
    "            \n",
    "        muts_dict[site].append(m)\n",
    "        sites_list.append(site)\n",
    "    \n",
    "    sites_list = list(set(sites_list))\n",
    "    sites_list.sort()\n",
    "    \n",
    "    for s in sites_list:\n",
    "        for x in muts_dict[s]:\n",
    "            final_order.append(x)\n",
    "    \n",
    "    return(final_order)"
   ]
  },
  {
   "cell_type": "markdown",
   "metadata": {},
   "source": [
    "## Do within-host variants appear downstream of the sample they were taken from?\n",
    "\n"
   ]
  },
  {
   "cell_type": "code",
   "execution_count": 28,
   "metadata": {},
   "outputs": [],
   "source": [
    "\"\"\"using baltic's subtree function, enumerate the subtree descending from the supplied node\"\"\"\n",
    "\n",
    "def return_subtree(node, tree):\n",
    "    subtree=tree.subtree(node) ## this function returns a new baltic object that contains a trait-traversed subtree, starting from node k, for as long as the traversal stays within the starting trait value state\n",
    "            \n",
    "    if subtree != None:\n",
    "        subtree.traverse_tree()\n",
    "        subtree.sortBranches()\n",
    "        return(subtree)"
   ]
  },
  {
   "cell_type": "code",
   "execution_count": 12,
   "metadata": {},
   "outputs": [],
   "source": [
    "def return_within_host_muts_for_branch(branch, df):\n",
    "    d = df[df['strain_name'] == branch.name]\n",
    "    within_host_muts = d['nuc_muts'].to_list()\n",
    "    return(within_host_muts)"
   ]
  },
  {
   "cell_type": "code",
   "execution_count": 13,
   "metadata": {},
   "outputs": [],
   "source": [
    "def return_within_host_muts_for_tip_name(tip_name, df):\n",
    "    d = df[df['strain_name'] == tip_name]\n",
    "    within_host_muts = d['nuc_muts'].to_list()\n",
    "    return(within_host_muts)"
   ]
  },
  {
   "cell_type": "code",
   "execution_count": 14,
   "metadata": {},
   "outputs": [],
   "source": [
    "def return_proper_parent_node(node):\n",
    "    \"\"\"given an internal node, traverse back up the tree to find a parental node with a \n",
    "    real branch length (basically, collapse the polytomy). This is necessary for most \n",
    "    tree software, including iqtree and treetime, which both normally atempt to resolve\n",
    "    polytomies, resulting in a fully bifurcating tree with lots of very tiny branches\"\"\"\n",
    "    \n",
    "    #print(node, node.length)\n",
    "    if abs(node.traits['node_attrs']['div'] - node.parent.traits['node_attrs']['div']) < 0.0000000001: \n",
    "        \n",
    "        #print(\"going up 1 node\")\n",
    "        if node.parent !=None:\n",
    "            parent_node = return_proper_parent_node(node.parent)\n",
    "        \n",
    "        else:\n",
    "            #print(\"root is proper parent\")\n",
    "            parent_node = node\n",
    "    \n",
    "    else: \n",
    "        #print(\"current node has proper length\")\n",
    "        parent_node = node\n",
    "    \n",
    "    return(parent_node)"
   ]
  },
  {
   "cell_type": "code",
   "execution_count": 15,
   "metadata": {},
   "outputs": [],
   "source": [
    "def return_nt_muts_on_branch(branch):\n",
    "    nt_muts = []\n",
    "    if 'branch_attrs' in branch.traits:\n",
    "        if 'mutations' in branch.traits['branch_attrs']:\n",
    "            if 'nuc' in branch.traits['branch_attrs']['mutations']:\n",
    "                nt_muts = branch.traits['branch_attrs']['mutations']['nuc']\n",
    "                            \n",
    "    return(nt_muts)"
   ]
  },
  {
   "cell_type": "code",
   "execution_count": 16,
   "metadata": {},
   "outputs": [],
   "source": [
    "\"\"\"Given a starting internal node, and a tip you would like to end at, traverse the full path from that node to\n",
    "tip. Along the way, gather nucleotide mutations that occur along that path. Once you have reached the ending \n",
    "tip, return the list of mutations that fell along that path\"\"\"\n",
    "\n",
    "def return_all_muts_on_path_to_tip(starting_node, ending_tip):\n",
    "    \n",
    "    # set an empty list of mutations and enumerate the children of the starting node; children can be tips or nodes\n",
    "    muts = []\n",
    "    children = starting_node.children\n",
    "    \n",
    "    for child in children:\n",
    "        nt_muts = []\n",
    "        \n",
    "        \"\"\"if the child is a leaf: if leaf is the target end tip, add the mutations that occur on that branch to the list\n",
    "        and return the list; if leaf is not the target end tip, move on\"\"\"\n",
    "        \"\"\"if the child is an internal node: first, test whether that child node contains the target tips in its \n",
    "        children. child.leaves will output a list of the names of all tips descending from that node. If not, pass. \n",
    "        if the node does contain the target end tip in its leaves, keep traversing down that node recursively, \n",
    "        collecting mutations as you go\"\"\"\n",
    "\n",
    "        if child.branchType == \"leaf\":\n",
    "            if child.name != ending_tip:\n",
    "                pass\n",
    "            elif child.name == ending_tip:\n",
    "                nt_muts = return_nt_muts_on_branch(child)\n",
    "                for n in nt_muts:\n",
    "                    muts.append(n)\n",
    "                return(muts)\n",
    "        \n",
    "        \n",
    "        elif child.branchType == \"node\":\n",
    "            if ending_tip not in child.leaves:\n",
    "                pass\n",
    "            else:\n",
    "                nt_muts = return_nt_muts_on_branch(child)\n",
    "                for n in nt_muts:\n",
    "                    muts.append(nt_muts)\n",
    "                return_all_muts_on_path_to_tip(child, ending_tip)\n",
    "    \n",
    "    \n",
    "    # flatten the list so that you don't have nested lists\n",
    "    flat_list = [item for sublist in muts for item in sublist]\n",
    "    return(flat_list)"
   ]
  },
  {
   "cell_type": "code",
   "execution_count": 17,
   "metadata": {},
   "outputs": [],
   "source": [
    "def run_tree_test(input_tree, df_to_run):\n",
    "    on_internal_nodes = 0\n",
    "    on_internal_nodes_with_children = 0\n",
    "    has_WI_children = {}\n",
    "    for k in input_tree.Objects: \n",
    "\n",
    "        \"\"\"if the tip is one of the Wisconson sequences for which we have within-host data, pull out its division, \n",
    "        divergence value, and the divergence of its parent node\"\"\"\n",
    "        if k.name in strain_names_to_query:\n",
    "            has_WI_children[k.name] = []\n",
    "\n",
    "            k_within_host_muts = return_within_host_muts_for_branch(k, df_to_run)\n",
    "\n",
    "            if 'division' in k.traits['node_attrs']:\n",
    "                division = k.traits['node_attrs']['division']['value']\n",
    "                branch_length = k.traits['node_attrs']['div']\n",
    "                parent_branch_length = k.parent.traits['node_attrs']['div']\n",
    "\n",
    "\n",
    "                \"\"\"if you lie on an internal node and are from Wisconsin, find the proper parent (collapsing very small\n",
    "                branches induced by polytomy resolution) and return all children descending from that parent node\"\"\"\n",
    "                if branch_length - parent_branch_length < 0.000000001:\n",
    "                    on_internal_nodes += 1\n",
    "                    #print(k.name, \"lies on internal node\")\n",
    "                    #if division == \"Wisconsin\":\n",
    "                    proper_parent = return_proper_parent_node(k.parent)\n",
    "                    child_tips = proper_parent.leaves\n",
    "                    if len(child_tips) > 0:\n",
    "                        on_internal_nodes_with_children += 1\n",
    "                    #print(child_tips, len(child_tips))\n",
    "\n",
    "                    \"\"\"next, for child, traverse the path from parent to child, enumerating mutations that fall \n",
    "                    along that path\"\"\"\n",
    "                    for c in child_tips:\n",
    "                        mutations = return_all_muts_on_path_to_tip(proper_parent, c)\n",
    "                        for m in mutations: \n",
    "                            if m in k_within_host_muts:\n",
    "                                print(k.name, c, m)\n",
    "                                \n",
    "                                \n",
    "                    \"\"\"finally, for child, if we have within-host data on that child tip, see if any match. The \n",
    "                    fuction I'm using here is slightly different, just in that is input a string instead of baltic\n",
    "                    branch object\"\"\"\n",
    "                    for c in child_tips:\n",
    "                        if c in strain_names_to_query and c != k.name:\n",
    "                            has_WI_children[k.name].append(c)\n",
    "                            child_within_host_muts = return_within_host_muts_for_tip_name(c, df_to_run)\n",
    "                            for m in child_within_host_muts: \n",
    "                                if m in k_within_host_muts: \n",
    "                                    #print(\"within-host mutation shared\", k.name, c, m)\n",
    "                                    pass\n",
    "    return(on_internal_nodes, on_internal_nodes_with_children, has_WI_children)"
   ]
  },
  {
   "cell_type": "code",
   "execution_count": null,
   "metadata": {},
   "outputs": [],
   "source": []
  },
  {
   "cell_type": "code",
   "execution_count": 18,
   "metadata": {},
   "outputs": [
    {
     "name": "stdout",
     "output_type": "stream",
     "text": [
      "\n",
      "Tree height: 1.077257\n",
      "Tree length: 322.284653\n",
      "multitype tree\n",
      "annotations present\n",
      "\n",
      "Numbers of objects in tree: 8894 (4127 nodes and 4767 leaves)\n",
      "\n"
     ]
    }
   ],
   "source": [
    "# test this out first on the Wisconsin-only build json\n",
    "WI_tree_path = \"../data/auspice-jsons/Wisconsin-SARS-CoV-2_ncov_wisconsin_2021-1-15.json\"\n",
    "\n",
    "with open(WI_tree_path) as json_file:\n",
    "    WI_tree_json = json.load(json_file)\n",
    "WI_tree_object=WI_tree_json['tree']\n",
    "WI_meta=WI_tree_json['meta']\n",
    "json_translation={'absoluteTime':lambda k: k.traits['node_attrs']['num_date']['value'],'name':'name'} ## allows baltic to find correct attributes in JSON, height and name are required at a minimum\n",
    "#json_meta={'file':WI_meta,'traitName':analysis_level} ## if you want auspice stylings you can import the meta file used on nextstrain.org\n",
    "\n",
    "WI_tree=bt.loadJSON(WI_tree_object,json_translation)"
   ]
  },
  {
   "cell_type": "code",
   "execution_count": 19,
   "metadata": {},
   "outputs": [
    {
     "name": "stdout",
     "output_type": "stream",
     "text": [
      "141\n"
     ]
    }
   ],
   "source": [
    "strain_names_to_query = list(set(all_intersection_variants['strain_name']))\n",
    "#print(strain_names_to_query)\n",
    "print(len(strain_names_to_query))"
   ]
  },
  {
   "cell_type": "code",
   "execution_count": 20,
   "metadata": {},
   "outputs": [
    {
     "name": "stdout",
     "output_type": "stream",
     "text": [
      "USA/WI-UW-214/2020 USA/WI-WSLH-200068/2020 C1912T\n"
     ]
    }
   ],
   "source": [
    "df_to_run = snvs_only\n",
    "tree_to_use = WI_tree\n",
    "\n",
    "on_internal_nodes, on_internal_nodes_with_children, tips_with_WI_descendants = run_tree_test(tree_to_use, df_to_run)"
   ]
  },
  {
   "cell_type": "code",
   "execution_count": 21,
   "metadata": {},
   "outputs": [
    {
     "name": "stdout",
     "output_type": "stream",
     "text": [
      "120 120 141\n"
     ]
    }
   ],
   "source": [
    "print(on_internal_nodes, on_internal_nodes_with_children, len(strain_names_to_query))"
   ]
  },
  {
   "cell_type": "markdown",
   "metadata": {},
   "source": [
    "So, out of 143 tips, 120 were on internal nodes. Of those, only 1 had downstream tips with a fixed variant. USA/WI-UW-214/2020 is part of a largeish polytomy and the child tip has 2 mutations different, 1 is the within-host variant, and the other is a different variant. "
   ]
  },
  {
   "cell_type": "markdown",
   "metadata": {},
   "source": [
    "## Plot a tree snippet showing this transmission event"
   ]
  },
  {
   "cell_type": "code",
   "execution_count": 80,
   "metadata": {},
   "outputs": [],
   "source": []
  },
  {
   "cell_type": "code",
   "execution_count": 75,
   "metadata": {},
   "outputs": [
    {
     "name": "stdout",
     "output_type": "stream",
     "text": [
      "<baltic.node object at 0x7f8a55b33240>\n",
      "<baltic.tree object at 0x7f8a5a040c88>\n"
     ]
    }
   ],
   "source": [
    "for k in WI_tree.Objects: \n",
    "    if k.name == \"USA/WI-UW-214/2020\":\n",
    "        parental_node = return_proper_parent_node(k)\n",
    "        print(parental_node)\n",
    "        subtree = return_subtree(parental_node, WI_tree)\n",
    "        print(subtree)"
   ]
  },
  {
   "cell_type": "code",
   "execution_count": 81,
   "metadata": {},
   "outputs": [],
   "source": [
    "mpl.rc('font',**{'family':'sans-serif','sans-serif':['Helvetica']})\n",
    "mpl.rc('text', usetex='false') \n",
    "mpl.rcParams.update({'font.size': 10})"
   ]
  },
  {
   "cell_type": "code",
   "execution_count": 82,
   "metadata": {},
   "outputs": [],
   "source": [
    "tip_color = \"#5248AA\"\n",
    "background_color = \"#9DB4C1\"\n",
    "tips_to_color = [\"USA/WI-UW-214/2020\",\"USA/WI-WSLH-200068/2020\"]\n",
    "#7C9BAC\n",
    "#ECC58C\n",
    "#551E32\n",
    "#434A42\n",
    "#9E6240\n",
    "#B4656F"
   ]
  },
  {
   "cell_type": "code",
   "execution_count": 83,
   "metadata": {},
   "outputs": [],
   "source": [
    "filename = \"../figures/individual-pdfs/tree-transmission-example-2020-02-04.pdf\""
   ]
  },
  {
   "cell_type": "code",
   "execution_count": 89,
   "metadata": {},
   "outputs": [
    {
     "data": {
      "image/png": "[encoded data removed]",
      "text/plain": [
       "<Figure size 288x432 with 1 Axes>"
      ]
     },
     "metadata": {},
     "output_type": "display_data"
    }
   ],
   "source": [
    "fig,ax = plt.subplots(figsize=(4,6),facecolor='w')\n",
    "\n",
    "# # this sets the vertical dashed lines on the tree; plot a dashed line every other year from 1990 to 2020\n",
    "x_ls = []\n",
    "for i in range(0,11):\n",
    "    x_ls.append(i)  \n",
    "\n",
    "# # # set date labels to be every other\n",
    "x_labels = []\n",
    "for x in x_ls[::2]:\n",
    "    x_labels.append(str(x))\n",
    "    x_labels.append(\"\")\n",
    "\n",
    "branchWidth=1.5 ## default branch width\n",
    "tipSize = 40\n",
    "\n",
    "# k objects are tips, nodes, branches\n",
    "for k in subtree.Objects: ## iterate over objects in tree\n",
    "    x=k.traits['node_attrs']['div']  # plot divergence instead of time; replace with k.absoluteTime for time tree\n",
    "    y=k.y \n",
    "\n",
    "    if 'node_attrs' in k.parent.traits:\n",
    "        xp=k.parent.traits['node_attrs']['div'] ## get x position of current object's parent\n",
    "    else:\n",
    "        xp=0.0\n",
    "    if x==None: ## matplotlib won't plot Nones, like root\n",
    "        x=0.0\n",
    "    if xp==None:\n",
    "        xp=x\n",
    "\n",
    "    if isinstance(k,bt.leaf) or k.branchType=='leaf': ## if leaf...\n",
    "        if k.name in tips_to_color:\n",
    "            s=tipSize\n",
    "            z=12\n",
    "            label = k.name\n",
    "        else:\n",
    "            s=tipSize/6\n",
    "            z=11\n",
    "            label = ''\n",
    "\n",
    "        if k.name in tips_to_color:\n",
    "            c=tip_color\n",
    "        else: \n",
    "            c=background_color\n",
    "\n",
    "        ax.scatter(x,y,s=s,facecolor=c,edgecolor='none',zorder=z) ## plot circle for every tip\n",
    "        ax.scatter(x,y,s=s+0.8*s,facecolor='k',edgecolor='none',zorder=10) ## plot black circle underneath\n",
    "        ax.text(x+0.3,y-3,label, fontsize=8,zorder=13)\n",
    "\n",
    "    elif isinstance(k,bt.node) or k.branchType=='node': ## if node...\n",
    "        number_children = len(k.leaves)\n",
    "        node_branchwidth = branchWidth + number_children*0.001\n",
    "        c=background_color\n",
    "        ax.plot([x,x],[k.children[-1].y,k.children[0].y],lw=node_branchwidth,color=c,ls='-',zorder=9) #color=node_colors[node_types[k][\"node_community_status\"]]\n",
    "\n",
    "    ax.plot([xp,x],[y,y],lw=node_branchwidth,color=c,ls='-',zorder=9)\n",
    "        \n",
    "\n",
    "# set axis limits, remove border lines         \n",
    "ax.spines['left'].set_visible(False)\n",
    "ax.spines['right'].set_visible(False)\n",
    "ax.spines['top'].set_visible(False)\n",
    "#ax.spines['bottom'].set_visible(False)\n",
    "\n",
    "#ax.set_ylim(-5,tree.ySpan+5)\n",
    "ax.set_xlim(0,10)\n",
    "ax.tick_params(axis='y',labelsize=0,size=0)\n",
    "ax.tick_params(axis='x',labelsize=12,size=5, width=2,color='grey')\n",
    "ax.set_xticks(x_ls)\n",
    "ax.set_xlabel(\"Divergence (nucleotide mutations)\", fontsize=12)\n",
    "ax.set_xticklabels(x_labels, fontsize=12)   # set date labels every 4\n",
    "ax.set_yticklabels([])\n",
    "\n",
    "fig.tight_layout()\n",
    "plt.gcf().subplots_adjust(right=0.88)\n",
    "plt.savefig(filename)\n",
    "\n",
    "plt.show()"
   ]
  },
  {
   "cell_type": "code",
   "execution_count": null,
   "metadata": {},
   "outputs": [],
   "source": []
  }
 ],
 "metadata": {
  "kernelspec": {
   "display_name": "LHM-basics (python3)",
   "language": "python",
   "name": "lhm-basics"
  },
  "language_info": {
   "codemirror_mode": {
    "name": "ipython",
    "version": 3
   },
   "file_extension": ".py",
   "mimetype": "text/x-python",
   "name": "python",
   "nbconvert_exporter": "python",
   "pygments_lexer": "ipython3",
   "version": "3.7.3"
  }
 },
 "nbformat": 4,
 "nbformat_minor": 2
}
