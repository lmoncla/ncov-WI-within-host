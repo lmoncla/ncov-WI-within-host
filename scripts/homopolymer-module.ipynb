{
 "cells": [
  {
   "cell_type": "markdown",
   "metadata": {},
   "source": [
    "# Module for identifying sites that lie within homopolymer regions\n",
    "\n",
    "Gage found a few variants in the dataset that were within or near a homopolymer region. I decided to formalize that and write up a set of functions for identifying homopolymer regions. The following code does the following: \n",
    "\n",
    "1. Read in a fasta file. For each sequence in the fasta file, for each base (A,T,C,G), output all grep matches for at least 5 of that base in a row. \n",
    "2. Given those coordinates, add all of the bases within those coordinates to a list. For each strain, we now have a list of sites that lie within homopolymer regions. \n",
    "3. Given a dataframe, for each unique variable site, if it is within a homopolymer region, annotate it as such. \n",
    "4. If a site is just outside of a homopolymer region (off by 1 base) annotate as near a homopolymer region \n",
    "5. Return the dataframe with an extra column in it"
   ]
  },
  {
   "cell_type": "code",
   "execution_count": 92,
   "metadata": {},
   "outputs": [],
   "source": [
    "import Bio\n",
    "from Bio import SeqIO\n",
    "import re\n",
    "import pandas as pd \n",
    "import numpy as np"
   ]
  },
  {
   "cell_type": "code",
   "execution_count": 93,
   "metadata": {},
   "outputs": [],
   "source": [
    "def return_homopolymer_dict(fasta_file):\n",
    "    \n",
    "    homopolymer_dict = {}\n",
    "\n",
    "    for seq in SeqIO.parse(fasta_file, \"fasta\"):\n",
    "\n",
    "        sequence = str(seq.seq).lower()\n",
    "        sets_of_homopolymers = {}\n",
    "        sets_of_homopolymers['all'] = []\n",
    "\n",
    "        # define a regular expression search for each base to identify stretches of at least 5 in a row\n",
    "        for base in ['a','t','c','g']:\n",
    "            local_list = []\n",
    "            m = re.finditer('[%s]{5,}' % base, sequence)\n",
    "            for match in m:\n",
    "                start = match.span()[0] + 1\n",
    "                stop = match.span()[1] + 1\n",
    "                \n",
    "                for i in range(start, stop):\n",
    "                    local_list.append(i)\n",
    "                    sets_of_homopolymers['all'].append(i)\n",
    "\n",
    "            sets_of_homopolymers[base] = local_list\n",
    "\n",
    "        homopolymer_dict[seq.id] = sets_of_homopolymers\n",
    "    \n",
    "    return(homopolymer_dict)"
   ]
  },
  {
   "cell_type": "code",
   "execution_count": 96,
   "metadata": {},
   "outputs": [],
   "source": [
    "def return_homopolymer_annotation(row, homopolymer_dict):\n",
    "    \n",
    "    site = int(row['POS_x'])\n",
    "    strain = row['strain_name']\n",
    "    \n",
    "    if strain not in homopolymer_dict: \n",
    "        annotation = \"consensus not available\"\n",
    "    \n",
    "    else:\n",
    "        sites_in_homopolymers = homopolymer_dict[strain]['all']\n",
    "\n",
    "        if site in sites_in_homopolymers:\n",
    "            annotation = \"in\"\n",
    "            \n",
    "        elif site-1 in sites_in_homopolymers or site+1 in sites_in_homopolymers:\n",
    "            annotation = \"adjacent\"\n",
    "            \n",
    "        else: \n",
    "            annotation = \"not\"\n",
    "        \n",
    "    return(annotation)"
   ]
  },
  {
   "cell_type": "code",
   "execution_count": 97,
   "metadata": {},
   "outputs": [],
   "source": [
    "def return_annotation(df, homopolymer_dict):            \n",
    "    df['homopolymer'] = df.apply(return_homopolymer_annotation, axis=1, args=[homopolymer_dict])\n",
    "    return(df)"
   ]
  },
  {
   "cell_type": "code",
   "execution_count": 98,
   "metadata": {},
   "outputs": [],
   "source": [
    "def add_homopolymer_annotation(fasta_file_path, df):\n",
    "    homopolymer_dict = return_homopolymer_dict(fasta_file_path)\n",
    "    df_to_return = return_annotation(df, homopolymer_dict)\n",
    "    \n",
    "    return(df_to_return)"
   ]
  },
  {
   "cell_type": "code",
   "execution_count": null,
   "metadata": {},
   "outputs": [],
   "source": []
  }
 ],
 "metadata": {
  "kernelspec": {
   "display_name": "LHM-basics (python3)",
   "language": "python",
   "name": "lhm-basics"
  },
  "language_info": {
   "codemirror_mode": {
    "name": "ipython",
    "version": 3
   },
   "file_extension": ".py",
   "mimetype": "text/x-python",
   "name": "python",
   "nbconvert_exporter": "python",
   "pygments_lexer": "ipython3",
   "version": "3.7.3"
  }
 },
 "nbformat": 4,
 "nbformat_minor": 2
}
