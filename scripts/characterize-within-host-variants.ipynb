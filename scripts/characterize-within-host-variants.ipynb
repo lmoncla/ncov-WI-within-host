{
 "cells": [
  {
   "cell_type": "markdown",
   "metadata": {},
   "source": [
    "# Characterize within-host variants\n",
    "\n",
    "May 8, 2020\n",
    "\n",
    "Kat and Gage have sequenced SARS-CoV2 from putative transmission pairs in Wisconsin. In this data, they see that there is a lot of shared within-host diversity between pairs, but that a lot of this diversity is also shared among non-transmission pairs of samples. This is concerning and a little weird. This was also observed in [this paper](https://www.medrxiv.org/content/10.1101/2020.04.24.20078691v1) that Gage found, although I have not read it closely. \n",
    "\n",
    "There are a few questions that I think would be nice to try to address by looking at the phylogeny: \n",
    "\n",
    "1. Are any of these recurrent within-host mutations also ones identified as problematic/likely errors by people looking at consensus data? If so, these should probably be excluded. I will use this virological post [here](http://virological.org/t/issues-with-sars-cov-2-sequencing-data/473)\n",
    "\n",
    "2. How frequently do within-host variants appear in consensus sequences? I would hypothesize that the vast majority of within-host variation being generated is not particularly advantageous. In this scenario, we would expect to observe only a small fraction of these within-host variants on the phylogeny, and when we do, we expect them to be primarily observed at terminal nodes rather than on internal branches.\n",
    "\n",
    "3. Do any of these within-host variants appear downstream at the consensus level from the host they were sampled in? By this I mean, if we observe a within-host variant in a particular person, is that infection upstream of later sampled cases? If so, is that variant detected at consensus level in any of those offspring infections? We will see. \n",
    "\n",
    "\n",
    "I think that for this analysis, it may be worthwhile to try to help them set up a Wisconsin-focused community build. This could use the new snakemake rules to generate a community build that focuses on Wisconsin but also pulls in sequences from elsewhere. This might be a nice thing to help facilitate and it would absolutely provide them with a better tree for inference than their current Wisconsin-only build. \n",
    "\n",
    "Kat mapped the genomes to this reference: MN908947.3.\n",
    "\n",
    "This is a link to their local nextstrain build http://35.226.31.45/Wisconsin?branchLabel=aa&c=clade_membership&r=location\n",
    "\n",
    "One note here is that indels are labelled differently in Kat's output files than in the nextstrain tree. In the nextstrain tree, `-505A` means that there was an A insertion at 505. `A505-` means that there was a deletion at 505. \n",
    "\n",
    "### Requirements: \n",
    "To run this, you will need to have all of the modules in the following block installed. You will also need to have the most recent version of baltic installed, which is available [here](https://github.com/evogytis/baltic/tree/master/docs)."
   ]
  },
  {
   "cell_type": "code",
   "execution_count": 1,
   "metadata": {},
   "outputs": [],
   "source": [
    "import imp\n",
    "import importlib, json\n",
    "import glob\n",
    "import re,copy,json\n",
    "import requests\n",
    "import pandas as pd \n",
    "import numpy as np\n",
    "    \n",
    "import rpy2\n",
    "%load_ext rpy2.ipython"
   ]
  },
  {
   "cell_type": "code",
   "execution_count": 2,
   "metadata": {},
   "outputs": [],
   "source": [
    "pd.set_option('display.max_columns', 35)"
   ]
  },
  {
   "cell_type": "code",
   "execution_count": 3,
   "metadata": {},
   "outputs": [],
   "source": [
    "# define which column we want to use to look at variants. Use 'nuc_muts' to characterize variants relative to the \n",
    "# Wuhan 1 reference, or 'minor_nuc_muts' to do a consensus-agnostic comparison\n",
    "variant_column = 'minor_nuc_muts'\n",
    "frequency_column = 'minor_frequency'"
   ]
  },
  {
   "cell_type": "markdown",
   "metadata": {},
   "source": [
    "## Read in vcfs and convert to dataframes \n",
    "\n",
    "I will only read in the intersection SNVs, meaning the ones that were detected in both technical sequencing replicates. This code will separate this into 2 dataframes, 1 for SNVs and 1 for indels, and will also look up and add in the strain names (necessary for converting from tube numbers, which is how the csvs are labelled). All of this code is contained in the ipython notebook called `vcf-module.ipynb`, which I am just going to import here. By running `return_dataframes`, this will collate all vcfs in the vcf directory, combine into a dataframe, and format that dataframe properly. "
   ]
  },
  {
   "cell_type": "code",
   "execution_count": 4,
   "metadata": {},
   "outputs": [],
   "source": [
    "\"\"\"to load in an ipython notebook as a module, just run the following. You will now have access to all of the \n",
    "functions written in that jupyter notebook\"\"\"\n",
    "\n",
    "%run vcf-module.ipynb"
   ]
  },
  {
   "cell_type": "code",
   "execution_count": 5,
   "metadata": {},
   "outputs": [],
   "source": [
    "# read in the current date \n",
    "from datetime import date\n",
    "today = date.today()\n",
    "current_date = str(today.strftime(\"%Y-%m-%d\"))"
   ]
  },
  {
   "cell_type": "code",
   "execution_count": 6,
   "metadata": {},
   "outputs": [],
   "source": [
    "\"\"\"now, input the strain names file/metadata file, the directory containing the vcfs, and return the dataframess\"\"\"\n",
    "\n",
    "strain_names_file = \"/Users/lmoncla/src/ncov-WI-within-host/data/sample-metadata.tsv\"\n",
    "fasta_file = \"../data/consensus-sequences-2021-01-25.fasta\"\n",
    "clades_file = \"../data/clades-file-2020-08-28.txt\"\n",
    "vcf_directory = \"../data/vcfs-all/\"\n",
    "\n",
    "# N transcript was a control; I am going to exclude tube 127, USA/WI-UW-118/2020\n",
    "# which has >50 indels and >50 SNVs. It has a pretty high Ct as well, so I think these are probably errors \n",
    "# as it is a very clear outlier\n",
    "# remove 302, 303, 304, 302, 735, and 736 because these are time-series! \n",
    "samples_to_ignore = [\"N_transcript\",\"127\",\"302\",\"303\",\"304\",\"735\",\"736\"]\n",
    "\n",
    "# set the length of homopolymers that you want to use\n",
    "homopolymer_length = 3\n",
    "\n",
    "# set the variant percent that you want to use \n",
    "variant_percent = \"0.03\"\n",
    "\n",
    "snvs_only, all_intersection_variants,metadata_dict, strain_names_dict = return_dataframes(strain_names_file, clades_file,vcf_directory,samples_to_ignore,fasta_file, homopolymer_length)"
   ]
  },
  {
   "cell_type": "code",
   "execution_count": 7,
   "metadata": {},
   "outputs": [
    {
     "name": "stdout",
     "output_type": "stream",
     "text": [
      "[3350.0, 6669.0, 8853.0, 9164.0, 26791.0, 26793.0, 26796.0]\n"
     ]
    }
   ],
   "source": [
    "twist_sites = snvs_only[snvs_only['sampleid'] == \"twist_rna\"]['POS_x'].tolist()\n",
    "print(twist_sites)"
   ]
  },
  {
   "cell_type": "code",
   "execution_count": 8,
   "metadata": {},
   "outputs": [
    {
     "name": "stdout",
     "output_type": "stream",
     "text": [
      "132\n"
     ]
    }
   ],
   "source": [
    "all_original_strains = snvs_only['strain_name'].tolist()\n",
    "all_original_strains = list(set(all_original_strains))\n",
    "print(len(all_original_strains))"
   ]
  },
  {
   "cell_type": "code",
   "execution_count": 9,
   "metadata": {},
   "outputs": [],
   "source": [
    "\"\"\"remove all rows containing variants at twist sites\"\"\"\n",
    "snvs_only = snvs_only[~snvs_only['POS_x'].isin(twist_sites)]"
   ]
  },
  {
   "cell_type": "code",
   "execution_count": 10,
   "metadata": {
    "scrolled": true
   },
   "outputs": [
    {
     "name": "stdout",
     "output_type": "stream",
     "text": [
      "131\n"
     ]
    }
   ],
   "source": [
    "all_strains = snvs_only['strain_name'].tolist()\n",
    "all_strains = list(set(all_strains))\n",
    "print(len(all_strains))\n",
    "#print(set(all_strains))"
   ]
  },
  {
   "cell_type": "code",
   "execution_count": 11,
   "metadata": {},
   "outputs": [
    {
     "name": "stdout",
     "output_type": "stream",
     "text": [
      "USA/twist_rna_control/2020\n"
     ]
    }
   ],
   "source": [
    "\"\"\"print out the strains we have dropped by excluding twist sites\"\"\"\n",
    "for s in all_original_strains:\n",
    "    if s not in all_strains: \n",
    "        print(s)"
   ]
  },
  {
   "cell_type": "code",
   "execution_count": 12,
   "metadata": {},
   "outputs": [],
   "source": [
    "\"\"\"subset data to include only SNVs and indels >3% frequency\"\"\"\n",
    "snvs_only = snvs_only[snvs_only[frequency_column] >= float(variant_percent)]\n",
    "# indels_only = indels_only[indels_only[frequency_column] >= float(variant_percent)]\n",
    "\n",
    "\"\"\"subset data to include only SNVs and indels <50% frequency\"\"\"\n",
    "snvs_only = snvs_only[snvs_only[frequency_column] <= float(0.5)]\n",
    "# indels_only = indels_only[indels_only[frequency_column] <= float(0.5)]"
   ]
  },
  {
   "cell_type": "code",
   "execution_count": 13,
   "metadata": {},
   "outputs": [],
   "source": [
    "strain_names_dict2 = {}\n",
    "for s in strain_names_dict:\n",
    "    tubeid = s\n",
    "    strain_name = strain_names_dict[s]\n",
    "    strain_names_dict2[strain_name] = tubeid"
   ]
  },
  {
   "cell_type": "code",
   "execution_count": 14,
   "metadata": {},
   "outputs": [
    {
     "name": "stdout",
     "output_type": "stream",
     "text": [
      "74 USA/WI-UW-84/2020\n",
      "32 USA/WI-UW-52/2020\n",
      "182 USA/IL-UW-149/2020\n",
      "1293 USA/WI-UW-861/2020\n",
      "61 USA/WI-UW-74/2020\n",
      "388 USA/WI-UW-296/2020\n",
      "887 USA/WI-UW-546/2020\n",
      "1353 USA/WI-UW-895/2020\n",
      "20 USA/WI-UW-41/2020\n",
      "1328 USA/WI-UW-876/2020\n",
      "145 USA/WI-UW-124/2020\n",
      "277 USA/WI-UW-232/2020\n",
      "31 USA/WI-UW-51/2020\n",
      "197 USA/WI-UW-160/2020\n",
      "24P USA/WI-UW-21/2020\n",
      "1297 USA/WI-UW-863/2020\n",
      "158 USA/WI-UW-132/2020\n",
      "283 USA/WI-UW-238/2020\n",
      "289 USA/WI-UW-243/2020\n",
      "128 USA/WI-UW-119/2020\n",
      "5 USA/WI-UW-29/2020\n",
      "21\n",
      "110\n"
     ]
    }
   ],
   "source": [
    "\"\"\"print out the strains we've dropped based on our frequency filtering criteria\"\"\"\n",
    "all_strains_with_variants = snvs_only['strain_name'].tolist()\n",
    "all_strains_with_variants = list(set(all_strains_with_variants))\n",
    "\n",
    "samples_with_no_variants = 0\n",
    "for s in all_strains:\n",
    "    if s not in all_strains_with_variants: \n",
    "        print(strain_names_dict2[s], s)\n",
    "        samples_with_no_variants += 1\n",
    "        \n",
    "print(samples_with_no_variants)\n",
    "print(len(all_strains_with_variants))"
   ]
  },
  {
   "cell_type": "code",
   "execution_count": 15,
   "metadata": {},
   "outputs": [
    {
     "data": {
      "text/html": [
       "<div>\n",
       "<style scoped>\n",
       "    .dataframe tbody tr th:only-of-type {\n",
       "        vertical-align: middle;\n",
       "    }\n",
       "\n",
       "    .dataframe tbody tr th {\n",
       "        vertical-align: top;\n",
       "    }\n",
       "\n",
       "    .dataframe thead th {\n",
       "        text-align: right;\n",
       "    }\n",
       "</style>\n",
       "<table border=\"1\" class=\"dataframe\">\n",
       "  <thead>\n",
       "    <tr style=\"text-align: right;\">\n",
       "      <th></th>\n",
       "      <th>Unnamed: 0</th>\n",
       "      <th>SNP</th>\n",
       "      <th>POS_x</th>\n",
       "      <th>rep1_percent</th>\n",
       "      <th>rep2_percent</th>\n",
       "      <th>frequency</th>\n",
       "      <th>sampleid</th>\n",
       "      <th>gene</th>\n",
       "      <th>nt_change</th>\n",
       "      <th>aa_change</th>\n",
       "      <th>annotation</th>\n",
       "      <th>strain_name</th>\n",
       "      <th>location</th>\n",
       "      <th>clade</th>\n",
       "      <th>homopolymer</th>\n",
       "      <th>homopolymer_base</th>\n",
       "      <th>type_of_variant</th>\n",
       "      <th>aa_site</th>\n",
       "      <th>wt_aa</th>\n",
       "      <th>mut_aa</th>\n",
       "      <th>nt_ref</th>\n",
       "      <th>nt_mut</th>\n",
       "      <th>nuc_muts</th>\n",
       "      <th>minor_frequency</th>\n",
       "      <th>consensus_base</th>\n",
       "      <th>minor_base</th>\n",
       "      <th>consensus_aa</th>\n",
       "      <th>minor_aa</th>\n",
       "      <th>minor_nuc_muts</th>\n",
       "      <th>minor_aa_muts</th>\n",
       "    </tr>\n",
       "  </thead>\n",
       "  <tbody>\n",
       "    <tr>\n",
       "      <th>0</th>\n",
       "      <td>0</td>\n",
       "      <td>CHRSTART-orf1ab_241C&gt;T_intergenic</td>\n",
       "      <td>241.0</td>\n",
       "      <td>0.9590</td>\n",
       "      <td>0.9723</td>\n",
       "      <td>0.96565</td>\n",
       "      <td>95</td>\n",
       "      <td>CHRSTART-orf1ab</td>\n",
       "      <td>241C&gt;T</td>\n",
       "      <td>intergenic</td>\n",
       "      <td>intergenic_region</td>\n",
       "      <td>USA/WI-UW-97/2020</td>\n",
       "      <td>Dane County</td>\n",
       "      <td>20A</td>\n",
       "      <td>adjacent</td>\n",
       "      <td>a</td>\n",
       "      <td>snv</td>\n",
       "      <td>erge</td>\n",
       "      <td>NA</td>\n",
       "      <td>nic</td>\n",
       "      <td>C</td>\n",
       "      <td>T</td>\n",
       "      <td>C241T</td>\n",
       "      <td>0.03435</td>\n",
       "      <td>T</td>\n",
       "      <td>C</td>\n",
       "      <td>nic</td>\n",
       "      <td>NA</td>\n",
       "      <td>T241C</td>\n",
       "      <td>CHRSTART-orf1ab_nicergeNA</td>\n",
       "    </tr>\n",
       "    <tr>\n",
       "      <th>1</th>\n",
       "      <td>1</td>\n",
       "      <td>orf1ab_1299T&gt;C_Cys433Cys_synonymous</td>\n",
       "      <td>1564.0</td>\n",
       "      <td>0.0819</td>\n",
       "      <td>0.0452</td>\n",
       "      <td>0.06355</td>\n",
       "      <td>95</td>\n",
       "      <td>orf1ab</td>\n",
       "      <td>1299T&gt;C</td>\n",
       "      <td>Cys433Cys</td>\n",
       "      <td>synonymous</td>\n",
       "      <td>USA/WI-UW-97/2020</td>\n",
       "      <td>Dane County</td>\n",
       "      <td>20A</td>\n",
       "      <td>not</td>\n",
       "      <td>[]</td>\n",
       "      <td>snv</td>\n",
       "      <td>433</td>\n",
       "      <td>Cys</td>\n",
       "      <td>Cys</td>\n",
       "      <td>T</td>\n",
       "      <td>C</td>\n",
       "      <td>T1564C</td>\n",
       "      <td>0.06355</td>\n",
       "      <td>T</td>\n",
       "      <td>C</td>\n",
       "      <td>Cys</td>\n",
       "      <td>Cys</td>\n",
       "      <td>T1564C</td>\n",
       "      <td>orf1ab_Cys433Cys</td>\n",
       "    </tr>\n",
       "    <tr>\n",
       "      <th>2</th>\n",
       "      <td>2</td>\n",
       "      <td>orf1ab_2772C&gt;T_Phe924Phe_synonymous</td>\n",
       "      <td>3037.0</td>\n",
       "      <td>0.9122</td>\n",
       "      <td>0.9237</td>\n",
       "      <td>0.91795</td>\n",
       "      <td>95</td>\n",
       "      <td>orf1ab</td>\n",
       "      <td>2772C&gt;T</td>\n",
       "      <td>Phe924Phe</td>\n",
       "      <td>synonymous</td>\n",
       "      <td>USA/WI-UW-97/2020</td>\n",
       "      <td>Dane County</td>\n",
       "      <td>20A</td>\n",
       "      <td>not</td>\n",
       "      <td>[]</td>\n",
       "      <td>snv</td>\n",
       "      <td>924</td>\n",
       "      <td>Phe</td>\n",
       "      <td>Phe</td>\n",
       "      <td>C</td>\n",
       "      <td>T</td>\n",
       "      <td>C3037T</td>\n",
       "      <td>0.08205</td>\n",
       "      <td>T</td>\n",
       "      <td>C</td>\n",
       "      <td>Phe</td>\n",
       "      <td>Phe</td>\n",
       "      <td>T3037C</td>\n",
       "      <td>orf1ab_Phe924Phe</td>\n",
       "    </tr>\n",
       "    <tr>\n",
       "      <th>3</th>\n",
       "      <td>3</td>\n",
       "      <td>orf1ab_7586C&gt;T_Ala2529Val_missense</td>\n",
       "      <td>7851.0</td>\n",
       "      <td>0.0846</td>\n",
       "      <td>0.0476</td>\n",
       "      <td>0.06610</td>\n",
       "      <td>95</td>\n",
       "      <td>orf1ab</td>\n",
       "      <td>7586C&gt;T</td>\n",
       "      <td>Ala2529Val</td>\n",
       "      <td>missense</td>\n",
       "      <td>USA/WI-UW-97/2020</td>\n",
       "      <td>Dane County</td>\n",
       "      <td>20A</td>\n",
       "      <td>adjacent</td>\n",
       "      <td>a</td>\n",
       "      <td>snv</td>\n",
       "      <td>2529</td>\n",
       "      <td>Ala</td>\n",
       "      <td>Val</td>\n",
       "      <td>C</td>\n",
       "      <td>T</td>\n",
       "      <td>C7851T</td>\n",
       "      <td>0.06610</td>\n",
       "      <td>C</td>\n",
       "      <td>T</td>\n",
       "      <td>Ala</td>\n",
       "      <td>Val</td>\n",
       "      <td>C7851T</td>\n",
       "      <td>orf1ab_Ala2529Val</td>\n",
       "    </tr>\n",
       "    <tr>\n",
       "      <th>4</th>\n",
       "      <td>4</td>\n",
       "      <td>orf1ab_11152G&gt;T_Val3718Phe_missense</td>\n",
       "      <td>11417.0</td>\n",
       "      <td>0.9558</td>\n",
       "      <td>0.9544</td>\n",
       "      <td>0.95510</td>\n",
       "      <td>95</td>\n",
       "      <td>orf1ab</td>\n",
       "      <td>11152G&gt;T</td>\n",
       "      <td>Val3718Phe</td>\n",
       "      <td>missense</td>\n",
       "      <td>USA/WI-UW-97/2020</td>\n",
       "      <td>Dane County</td>\n",
       "      <td>20A</td>\n",
       "      <td>not</td>\n",
       "      <td>[]</td>\n",
       "      <td>snv</td>\n",
       "      <td>3718</td>\n",
       "      <td>Val</td>\n",
       "      <td>Phe</td>\n",
       "      <td>G</td>\n",
       "      <td>T</td>\n",
       "      <td>G11417T</td>\n",
       "      <td>0.04490</td>\n",
       "      <td>T</td>\n",
       "      <td>G</td>\n",
       "      <td>Phe</td>\n",
       "      <td>Val</td>\n",
       "      <td>T11417G</td>\n",
       "      <td>orf1ab_Phe3718Val</td>\n",
       "    </tr>\n",
       "  </tbody>\n",
       "</table>\n",
       "</div>"
      ],
      "text/plain": [
       "   Unnamed: 0                                  SNP    POS_x  rep1_percent  \\\n",
       "0           0    CHRSTART-orf1ab_241C>T_intergenic    241.0        0.9590   \n",
       "1           1  orf1ab_1299T>C_Cys433Cys_synonymous   1564.0        0.0819   \n",
       "2           2  orf1ab_2772C>T_Phe924Phe_synonymous   3037.0        0.9122   \n",
       "3           3   orf1ab_7586C>T_Ala2529Val_missense   7851.0        0.0846   \n",
       "4           4  orf1ab_11152G>T_Val3718Phe_missense  11417.0        0.9558   \n",
       "\n",
       "   rep2_percent  frequency sampleid             gene nt_change   aa_change  \\\n",
       "0        0.9723    0.96565       95  CHRSTART-orf1ab    241C>T  intergenic   \n",
       "1        0.0452    0.06355       95           orf1ab   1299T>C   Cys433Cys   \n",
       "2        0.9237    0.91795       95           orf1ab   2772C>T   Phe924Phe   \n",
       "3        0.0476    0.06610       95           orf1ab   7586C>T  Ala2529Val   \n",
       "4        0.9544    0.95510       95           orf1ab  11152G>T  Val3718Phe   \n",
       "\n",
       "          annotation        strain_name     location clade homopolymer  \\\n",
       "0  intergenic_region  USA/WI-UW-97/2020  Dane County   20A    adjacent   \n",
       "1         synonymous  USA/WI-UW-97/2020  Dane County   20A         not   \n",
       "2         synonymous  USA/WI-UW-97/2020  Dane County   20A         not   \n",
       "3           missense  USA/WI-UW-97/2020  Dane County   20A    adjacent   \n",
       "4           missense  USA/WI-UW-97/2020  Dane County   20A         not   \n",
       "\n",
       "  homopolymer_base type_of_variant aa_site wt_aa mut_aa nt_ref nt_mut  \\\n",
       "0                a             snv    erge    NA    nic      C      T   \n",
       "1               []             snv     433   Cys    Cys      T      C   \n",
       "2               []             snv     924   Phe    Phe      C      T   \n",
       "3                a             snv    2529   Ala    Val      C      T   \n",
       "4               []             snv    3718   Val    Phe      G      T   \n",
       "\n",
       "  nuc_muts  minor_frequency consensus_base minor_base consensus_aa minor_aa  \\\n",
       "0    C241T          0.03435              T          C          nic       NA   \n",
       "1   T1564C          0.06355              T          C          Cys      Cys   \n",
       "2   C3037T          0.08205              T          C          Phe      Phe   \n",
       "3   C7851T          0.06610              C          T          Ala      Val   \n",
       "4  G11417T          0.04490              T          G          Phe      Val   \n",
       "\n",
       "  minor_nuc_muts              minor_aa_muts  \n",
       "0          T241C  CHRSTART-orf1ab_nicergeNA  \n",
       "1         T1564C           orf1ab_Cys433Cys  \n",
       "2         T3037C           orf1ab_Phe924Phe  \n",
       "3         C7851T          orf1ab_Ala2529Val  \n",
       "4        T11417G          orf1ab_Phe3718Val  "
      ]
     },
     "execution_count": 15,
     "metadata": {},
     "output_type": "execute_result"
    }
   ],
   "source": [
    "#snvs_only.to_csv(\"/Users/lmoncla/src/ncov-WI-within-host/data/all-WI-snvs.tsv\", sep=\"\\t\")\n",
    "snvs_only.head()"
   ]
  },
  {
   "cell_type": "code",
   "execution_count": null,
   "metadata": {},
   "outputs": [],
   "source": []
  },
  {
   "cell_type": "code",
   "execution_count": 16,
   "metadata": {},
   "outputs": [
    {
     "data": {
      "text/plain": [
       "Index(['Unnamed: 0', 'SNP', 'POS_x', 'rep1_percent', 'rep2_percent',\n",
       "       'frequency', 'sampleid', 'gene', 'nt_change', 'aa_change', 'annotation',\n",
       "       'strain_name', 'location', 'clade', 'homopolymer', 'homopolymer_base',\n",
       "       'type_of_variant', 'aa_site', 'wt_aa', 'mut_aa', 'nt_ref', 'nt_mut',\n",
       "       'nuc_muts', 'minor_frequency', 'consensus_base', 'minor_base',\n",
       "       'consensus_aa', 'minor_aa', 'minor_nuc_muts', 'minor_aa_muts'],\n",
       "      dtype='object')"
      ]
     },
     "execution_count": 16,
     "metadata": {},
     "output_type": "execute_result"
    }
   ],
   "source": [
    "snvs_only.columns"
   ]
  },
  {
   "cell_type": "code",
   "execution_count": 17,
   "metadata": {},
   "outputs": [
    {
     "name": "stdout",
     "output_type": "stream",
     "text": [
      "{'intergenic', 'intergenic_region', 'stop', 'missense', 'synonymous'}\n"
     ]
    }
   ],
   "source": [
    "print(set(snvs_only['annotation'].tolist()))\n",
    "# print(set(indels_only['annotation'].tolist()))"
   ]
  },
  {
   "cell_type": "code",
   "execution_count": 21,
   "metadata": {},
   "outputs": [
    {
     "name": "stdout",
     "output_type": "stream",
     "text": [
      "184\n",
      "\n",
      "total samples with a variant:\n",
      "110\n"
     ]
    }
   ],
   "source": [
    "snvs_to_query = set(snvs_only[variant_column].dropna().tolist())\n",
    "print(len(snvs_to_query))\n",
    "print(\"\\ntotal samples with a variant:\")\n",
    "print(len(set(snvs_only['strain_name'].tolist())))"
   ]
  },
  {
   "cell_type": "markdown",
   "metadata": {},
   "source": [
    "## How many variants are there per sample?\n",
    "\n",
    "On average, and a distribution"
   ]
  },
  {
   "cell_type": "code",
   "execution_count": 25,
   "metadata": {},
   "outputs": [],
   "source": [
    "\"\"\"output number of SNVs per sample. This will output the mean and stdev for whatever input you give it. So if \n",
    "you input all variants, including consensus level ones, that is what you will get out\"\"\"\n",
    "\n",
    "def return_number_variants_per_sample(df):\n",
    "\n",
    "    snvs_dict = {}\n",
    "    snvs_list = []\n",
    "    total_snvs = 0\n",
    "    \n",
    "    print(\"printing samples with >15 variants\")\n",
    "    print(\"strain name\\tnumber variants\\t sample id\")\n",
    "    for i in set(df['strain_name'].tolist()):\n",
    "        x = df[df['strain_name'] == i]\n",
    "        snvs_dict[i] = [len(x)]\n",
    "        snvs_list.append(len(x))\n",
    "        total_snvs += len(x)\n",
    "        sampleid = list(set(x['sampleid'].tolist()))[0]\n",
    "        \n",
    "        if len(x) >= 15:\n",
    "            print(i, len(x), sampleid)\n",
    "    \n",
    "    mean_number_snvs = total_snvs/(len(snvs_list))\n",
    "    nparray = np.asarray(snvs_list)\n",
    "    stdev = nparray.std()\n",
    "    median = np.median(nparray)\n",
    "    percentile_95 = np.percentile(nparray,97.5)\n",
    "    percentile_5 = np.percentile(nparray,2.5)\n",
    "    max_snvs = max(snvs_list)\n",
    "    min_snvs = min(snvs_list)\n",
    "    print(\"mean and st dev: \",mean_number_snvs, stdev)\n",
    "    print(\"median: \", median)\n",
    "    print(\"95th percentile: \",percentile_5,percentile_95)\n",
    "    print(\"max:\",max_snvs, \"min:\",min_snvs)\n",
    "    print(len(snvs_list))\n",
    "    \n",
    "    return(snvs_dict)"
   ]
  },
  {
   "cell_type": "code",
   "execution_count": 26,
   "metadata": {
    "scrolled": true
   },
   "outputs": [
    {
     "name": "stdout",
     "output_type": "stream",
     "text": [
      "snvs\n",
      "printing samples with >15 variants\n",
      "strain name\tnumber variants\t sample id\n",
      "mean and st dev:  3.481818181818182 2.5574554761318313\n",
      "median:  3.0\n",
      "95th percentile:  1.0 10.0\n",
      "max: 11 min: 1\n",
      "110\n"
     ]
    }
   ],
   "source": [
    "print(\"snvs\")\n",
    "snvs_dict = return_number_variants_per_sample(snvs_only)"
   ]
  },
  {
   "cell_type": "code",
   "execution_count": 27,
   "metadata": {},
   "outputs": [],
   "source": [
    "# convert to dataframes and combine\n",
    "snvs_per_sample_df = pd.DataFrame.from_dict(snvs_dict, orient=\"index\")\n",
    "snvs_per_sample_df.reset_index(inplace=True)\n",
    "snvs_per_sample_df.columns = ['strain','SNVs']\n",
    "# indels_per_sample_df = pd.DataFrame.from_dict(indels_dict, orient=\"index\")\n",
    "# indels_per_sample_df.reset_index(inplace=True)\n",
    "# indels_per_sample_df.columns = ['strain','indels']\n",
    "\n",
    "# variants_per_sample_df = snvs_per_sample_df.merge(indels_per_sample_df, on='strain', how='outer')\n",
    "# variants_per_sample_df = variants_per_sample_df.fillna(0)\n",
    "# variants_per_sample_df['variants'] = variants_per_sample_df['SNVs'] + variants_per_sample_df['indels']\n",
    "# variants_per_sample_df.head()"
   ]
  },
  {
   "cell_type": "code",
   "execution_count": 36,
   "metadata": {},
   "outputs": [],
   "source": [
    "# convert to counts of number of samples that have x SNVs\n",
    "snv_counts = pd.DataFrame(snvs_per_sample_df['SNVs'].value_counts())\n",
    "snv_counts.reset_index(inplace=True)\n",
    "snv_counts.columns = ['number_of_SNVs','number_of_samples']\n",
    "\n",
    "# indel_counts = pd.DataFrame(variants_per_sample_df['indels'].value_counts())\n",
    "# indel_counts.reset_index(inplace=True)\n",
    "# indel_counts.columns = ['number_of_indels','number_of_samples']\n",
    "\n",
    "# variant_counts = pd.DataFrame(variants_per_sample_df['variants'].value_counts())\n",
    "# variant_counts.reset_index(inplace=True)\n",
    "# variant_counts.columns = ['number_of_variants','number_of_samples']\n",
    "# variant_counts.head()\n"
   ]
  },
  {
   "cell_type": "code",
   "execution_count": 37,
   "metadata": {},
   "outputs": [
    {
     "data": {
      "text/html": [
       "<div>\n",
       "<style scoped>\n",
       "    .dataframe tbody tr th:only-of-type {\n",
       "        vertical-align: middle;\n",
       "    }\n",
       "\n",
       "    .dataframe tbody tr th {\n",
       "        vertical-align: top;\n",
       "    }\n",
       "\n",
       "    .dataframe thead th {\n",
       "        text-align: right;\n",
       "    }\n",
       "</style>\n",
       "<table border=\"1\" class=\"dataframe\">\n",
       "  <thead>\n",
       "    <tr style=\"text-align: right;\">\n",
       "      <th></th>\n",
       "      <th>number_of_SNVs</th>\n",
       "      <th>number_of_samples</th>\n",
       "    </tr>\n",
       "  </thead>\n",
       "  <tbody>\n",
       "    <tr>\n",
       "      <th>0</th>\n",
       "      <td>1</td>\n",
       "      <td>33</td>\n",
       "    </tr>\n",
       "    <tr>\n",
       "      <th>1</th>\n",
       "      <td>2</td>\n",
       "      <td>18</td>\n",
       "    </tr>\n",
       "    <tr>\n",
       "      <th>2</th>\n",
       "      <td>3</td>\n",
       "      <td>15</td>\n",
       "    </tr>\n",
       "    <tr>\n",
       "      <th>3</th>\n",
       "      <td>5</td>\n",
       "      <td>11</td>\n",
       "    </tr>\n",
       "    <tr>\n",
       "      <th>4</th>\n",
       "      <td>4</td>\n",
       "      <td>10</td>\n",
       "    </tr>\n",
       "  </tbody>\n",
       "</table>\n",
       "</div>"
      ],
      "text/plain": [
       "   number_of_SNVs  number_of_samples\n",
       "0               1                 33\n",
       "1               2                 18\n",
       "2               3                 15\n",
       "3               5                 11\n",
       "4               4                 10"
      ]
     },
     "execution_count": 37,
     "metadata": {},
     "output_type": "execute_result"
    }
   ],
   "source": [
    "\"\"\"add in a row for the samples without any variants; 21 represents the ones with only fixed variants\"\"\"\n",
    "zero_counts = pd.DataFrame([[0,21]], columns=['number_of_SNVs','number_of_samples'])\n",
    "snv_counts = snv_counts.append(zero_counts)\n",
    "snv_counts.head()"
   ]
  },
  {
   "cell_type": "code",
   "execution_count": null,
   "metadata": {},
   "outputs": [],
   "source": []
  },
  {
   "cell_type": "code",
   "execution_count": 38,
   "metadata": {},
   "outputs": [
    {
     "data": {
      "image/png": "[encoded data removed]"
     },
     "metadata": {},
     "output_type": "display_data"
    }
   ],
   "source": [
    "%%R -w 1000 -h 500 -u px -i variant_percent,current_date,snv_counts # this sets the size of the plot...otherwise, it will go off the page\\n\",\n",
    "require(ggplot2)\n",
    "library(ggplot2)\n",
    "\n",
    "\n",
    "output_filename = paste(\"SNVs-per-sample-\",variant_percent,\"percent-\",current_date,\".pdf\", sep=\"\")\n",
    "\n",
    "p1 <- ggplot(snv_counts, aes(x=number_of_SNVs, y=number_of_samples))+\n",
    "    geom_col(fill=\"#8B8B8B\")+\n",
    "    #scale_fill_manual(values=c(in_hp=ns_color, not_in_hp=s_color,adjacent=fs_color,no_consensus=\"grey70\"), labels=c(in_hp=\"in homopolymer region\",not_in_hp=\"not in homopolymer region\",adjacent=\"1 nt away from homopolymer\",no_consensus=\"missing consensus\"))+\n",
    "    theme(panel.grid.major=element_line(colour=NA,size=NA))+\n",
    "    theme(panel.grid.minor=element_line(colour=NA,size=NA))+\n",
    "    scale_y_continuous(limits=c(0,35), breaks=seq(0,35,5))+\n",
    "    scale_x_continuous(breaks=seq(0,12,2), limits=c(-0.5,12))+\n",
    "    theme(plot.title=element_text(size=13))+\n",
    "    theme(strip.background = element_rect(colour=NA, fill=NA))+\n",
    "    theme(plot.margin=unit(c(0.1,0.1,0.1,0.1),\"cm\"))+\n",
    "    theme(axis.line.x=element_line(colour=\"black\"))+\n",
    "    theme(axis.line.y=element_line(colour=\"black\"))+\n",
    "    theme(axis.title.y=element_text(size=22, hjust=0.5, vjust=0.5))+\n",
    "    theme(axis.title.x=element_text(size=22, vjust=0.5))+\n",
    "    theme(axis.text.y=element_text(size=20, colour=\"black\"))+\n",
    "    theme(axis.text.x=element_text(hjust=0.5, vjust=0.5, size=20, colour=\"black\"))+\n",
    "    theme(legend.text=element_text(size=16))+\n",
    "    theme(legend.title=element_blank())+\n",
    "    #theme(legend.position = c(0.9, 0.6))+ # (0,0) is bottom left, (1,1) is top right\n",
    "    theme(panel.margin=unit(1, \"lines\"))+\n",
    "    theme(legend.key.size=unit(0.55, \"cm\"))+\n",
    "    theme(panel.background=element_rect(fill=NA))+\n",
    "    theme(legend.key=element_rect(fill=NA))+\n",
    "    labs(x=\"\\nnumber of within-host SNVs\",y=\"number of samples\\n\")\n",
    "#       scale_y_continuous(limits=c(-0.1,1.2), breaks=seq(0,1.2,0.2))+\n",
    "\n",
    "\n",
    "ggsave(output_filename, p1, width = 6, height = 4, path=\"../figures/individual-pdfs/\")\n",
    "p1"
   ]
  },
  {
   "cell_type": "code",
   "execution_count": null,
   "metadata": {},
   "outputs": [],
   "source": []
  }
 ],
 "metadata": {
  "kernelspec": {
   "display_name": "LHM-basics (python3)",
   "language": "python",
   "name": "lhm-basics"
  },
  "language_info": {
   "codemirror_mode": {
    "name": "ipython",
    "version": 3
   },
   "file_extension": ".py",
   "mimetype": "text/x-python",
   "name": "python",
   "nbconvert_exporter": "python",
   "pygments_lexer": "ipython3",
   "version": "3.7.3"
  }
 },
 "nbformat": 4,
 "nbformat_minor": 2
}
