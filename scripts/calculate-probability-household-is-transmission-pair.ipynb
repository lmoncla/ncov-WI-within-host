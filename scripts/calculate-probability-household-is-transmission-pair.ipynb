{
 "cells": [
  {
   "cell_type": "markdown",
   "metadata": {},
   "source": [
    "# Calculate the probability that 2 household sequences are a transmission pair\n",
    "\n",
    "This is a notebook taken directly from Alli Black, [here])(https://github.com/blab/ebola-narrative-ms/blob/master/scripts/mutations-and-serial-intervals.ipynb). Alli developed this really lovely little Poisson method for calculating the expected number of mutations per genome per serial interval given a rate of evolution and genome length. I would like to use this to calculate this same thing for SARS-CoV2 as a way to determine the likelihood that that one transmission pair is within a serial interval given that 3 mutations separate them. "
   ]
  },
  {
   "cell_type": "code",
   "execution_count": 1,
   "metadata": {},
   "outputs": [],
   "source": [
    "import numpy as np\n",
    "%matplotlib inline\n",
    "from scipy.stats import poisson\n",
    "import matplotlib.pyplot as plt\n",
    "import pandas as pd\n",
    "from decimal import Decimal\n",
    "\n",
    "import re,copy,json,imp\n",
    "\n",
    "# for this to work, you will need to download the most recent version of baltic, available here \n",
    "bt = imp.load_source('baltic', '../baltic/baltic.py')\n",
    "\n",
    "import rpy2\n",
    "%load_ext rpy2.ipython"
   ]
  },
  {
   "cell_type": "code",
   "execution_count": 2,
   "metadata": {},
   "outputs": [],
   "source": [
    "# read in the current date \n",
    "from datetime import date\n",
    "today = date.today()\n",
    "current_date = str(today.strftime(\"%Y-%m-%d\"))"
   ]
  },
  {
   "cell_type": "code",
   "execution_count": 3,
   "metadata": {},
   "outputs": [],
   "source": [
    "#purple: 5248AA\n",
    "#blue: 7C9BAC\n",
    "#yellow: ECC58C\n",
    "#red: 551E32\n",
    "#green:434A42"
   ]
  },
  {
   "cell_type": "code",
   "execution_count": 124,
   "metadata": {},
   "outputs": [
    {
     "name": "stdout",
     "output_type": "stream",
     "text": [
      "There are 32.8933 substitutions that accrue on average across the genome after one year.\n",
      "On average we expect 0.5223302943189596 substitutions to accrue over a single serial interval of 5 days.\n"
     ]
    }
   ],
   "source": [
    "#the math\n",
    "subs_per_site_per_year = 0.0011  # from Duchene, mean is 1.1 x 10^-3, credible interval is  7.03 × 10−4 and 1.5 × 10−3\n",
    "genome_length = 29903\n",
    "subs_per_genome_per_year = subs_per_site_per_year * genome_length \n",
    "print(\"There are {} substitutions that accrue on average across the genome after one year.\".format(subs_per_genome_per_year))\n",
    "\n",
    "subs_per_genome_per_day = subs_per_genome_per_year/365.25\n",
    "serial_interval = 5.8 # days; from He paper, the estimate was 5.8 with a 95% CI OF 4.8-6.8\n",
    "subs_per_genome_per_serial_interval = subs_per_genome_per_day * serial_interval\n",
    "print(\"On average we expect {} substitutions to accrue over a single serial interval of 5 days.\".format(subs_per_genome_per_serial_interval))\n",
    "\n",
    "#subs_per_genome_per_serial interval is an average of how many substitutions we would expect to accrue over a serial interval\n",
    "#in reality the observed number of substitutions is discrete, and we see, 0, 1, 2, etc. mutations with different probabilities,\n",
    "#which is what we plot below: the probability of x subsitutions observed given a SINGLE serial interval."
   ]
  },
  {
   "cell_type": "code",
   "execution_count": 115,
   "metadata": {},
   "outputs": [],
   "source": [
    "plt.rc('font',**{'family':'sans-serif','sans-serif':['Helvetica']})\n",
    "plt.rc('text', usetex='false') \n",
    "plt.rcParams.update({'font.size': 18})"
   ]
  },
  {
   "cell_type": "code",
   "execution_count": 116,
   "metadata": {},
   "outputs": [],
   "source": [
    "fontSize = 24\n",
    "width = 6\n",
    "height= 4.3"
   ]
  },
  {
   "cell_type": "code",
   "execution_count": 121,
   "metadata": {},
   "outputs": [
    {
     "data": {
      "image/png": "[encoded data removed]",
      "text/plain": [
       "<Figure size 432x309.6 with 1 Axes>"
      ]
     },
     "metadata": {},
     "output_type": "display_data"
    }
   ],
   "source": [
    "fig,ax = fig, ax = plt.subplots(figsize=(width,height),facecolor='w')\n",
    "\n",
    "x = np.arange(0,5,1)\n",
    "\n",
    "rv = poisson(subs_per_genome_per_serial_interval)\n",
    "ax.vlines(x, 0, rv.pmf(x), colors='#7C9BAC', linestyles='-', lw=80)\n",
    "ax.set_ylabel(\"Pr($x$ mutations) within\\none serial interval\\n\", size = fontSize)\n",
    "ax.set_ylim(0,1)\n",
    "ax.set_xlim(-0.3,4.5)\n",
    "ax.set_xlabel(\"\\nnumber of mutations\", size = fontSize)\n",
    "plt.xticks(np.arange(0, 5, step=1))\n",
    "\n",
    "ax.spines['top'].set_visible(False)\n",
    "ax.spines['bottom'].set_visible(True)\n",
    "ax.spines['left'].set_visible(True)\n",
    "ax.spines['right'].set_visible(False)\n",
    "\n",
    "for tick in ax.get_xticklabels():\n",
    "    tick.set_fontname(\"Helvetica\")\n",
    "    \n",
    "ax.text(1.5,0.8,'$\\lambda$ = '+str(round(subs_per_genome_per_serial_interval,3)), size = fontSize)\n",
    "plt.setp(ax.get_xticklabels(), visible=True, size=fontSize)\n",
    "plt.setp(ax.get_yticklabels(), visible=True, size=fontSize)\n",
    "ax.tick_params(axis='both', which='both', length=0)\n",
    "plt.tight_layout()\n",
    "\n",
    "# ax.vhlines(0.2, -1, 6, colors='white', linestyles='solid', lw=1)\n",
    "# ax.vlines(0.4, -1, 6, colors='white', linestyles='solid', lw=1)\n",
    "\n",
    "plt.savefig(\"../figures/individual-pdfs/serial-interval-mutations-5.8-2021-04-23.pdf\", dpi=300)"
   ]
  },
  {
   "cell_type": "code",
   "execution_count": 14,
   "metadata": {},
   "outputs": [
    {
     "name": "stdout",
     "output_type": "stream",
     "text": [
      "0.008737560514986118\n"
     ]
    }
   ],
   "source": [
    "n_serial_intervals = 1\n",
    "n_mutations_to_assess_probability_of = 3\n",
    "\n",
    "poisson_distribution = poisson(subs_per_genome_per_serial_interval*n_serial_intervals)\n",
    "\n",
    "probabilities_of_n_mutations_given_poisson_dist = poisson_distribution.pmf(n_mutations_to_assess_probability_of) #gives probability of x mutations for all of the mutations counts you're wondering about.\n",
    "print(probabilities_of_n_mutations_given_poisson_dist)\n",
    "#probability_based_observation_counts = (100*probabilities_of_n_mutations_given_poisson_dist)\n",
    "#print(probability_based_observation_counts)\n"
   ]
  },
  {
   "cell_type": "markdown",
   "metadata": {},
   "source": [
    "# Results across serial intervals\n",
    " \n",
    "* serial interval of 4.8, probability of 3 mutations is 0.008\n",
    "* serial interval of 5.8, probability of 3 mutations is 0.014\n",
    "* serial interval of 6.8, probability of 3 mutations is 0.021"
   ]
  },
  {
   "cell_type": "code",
   "execution_count": 55,
   "metadata": {},
   "outputs": [],
   "source": [
    "# make a plot evaluating the probabilities across a range of serial intervals and clock rates\n",
    "#the math\n",
    "subs_per_site_per_years = [0.000703,0.0011,0.0015] \n",
    "serial_intervals = [4,5,6,7,8] # days; from He paper, the estimate was 5.8 with a 95% CI OF 4.8-6.8\n",
    "muts_to_assess = [0,1,2,3,4]\n",
    "genome_length = 29903\n",
    "\n",
    "df = pd.DataFrame()\n",
    "\n",
    "\n",
    "for s in subs_per_site_per_years:\n",
    "    subs_per_genome_per_year = s * genome_length \n",
    "    for i in serial_intervals:\n",
    "        subs_per_genome_per_day = subs_per_genome_per_year/365.25\n",
    "        subs_per_genome_per_serial_interval = subs_per_genome_per_day * i\n",
    "        rv = poisson(subs_per_genome_per_serial_interval)\n",
    "        \n",
    "        for m in muts_to_assess:\n",
    "            prob_muts = rv.pmf(m)\n",
    "            # convert decimal into scientific\n",
    "            scientific = '%.2E' % Decimal(str(s))\n",
    "            local_df = pd.DataFrame({\"serial_interval\":[i], \"substitution_rate\":scientific, \"n_muts\":m, \"prob\":prob_muts})\n",
    "            df = df.append(local_df)"
   ]
  },
  {
   "cell_type": "code",
   "execution_count": 56,
   "metadata": {},
   "outputs": [
    {
     "data": {
      "text/html": [
       "<div>\n",
       "<style scoped>\n",
       "    .dataframe tbody tr th:only-of-type {\n",
       "        vertical-align: middle;\n",
       "    }\n",
       "\n",
       "    .dataframe tbody tr th {\n",
       "        vertical-align: top;\n",
       "    }\n",
       "\n",
       "    .dataframe thead th {\n",
       "        text-align: right;\n",
       "    }\n",
       "</style>\n",
       "<table border=\"1\" class=\"dataframe\">\n",
       "  <thead>\n",
       "    <tr style=\"text-align: right;\">\n",
       "      <th></th>\n",
       "      <th>serial_interval</th>\n",
       "      <th>substitution_rate</th>\n",
       "      <th>n_muts</th>\n",
       "      <th>prob</th>\n",
       "    </tr>\n",
       "  </thead>\n",
       "  <tbody>\n",
       "    <tr>\n",
       "      <th>0</th>\n",
       "      <td>4</td>\n",
       "      <td>7.03E-04</td>\n",
       "      <td>0</td>\n",
       "      <td>0.794360</td>\n",
       "    </tr>\n",
       "    <tr>\n",
       "      <th>0</th>\n",
       "      <td>4</td>\n",
       "      <td>7.03E-04</td>\n",
       "      <td>1</td>\n",
       "      <td>0.182876</td>\n",
       "    </tr>\n",
       "    <tr>\n",
       "      <th>0</th>\n",
       "      <td>4</td>\n",
       "      <td>7.03E-04</td>\n",
       "      <td>2</td>\n",
       "      <td>0.021051</td>\n",
       "    </tr>\n",
       "    <tr>\n",
       "      <th>0</th>\n",
       "      <td>4</td>\n",
       "      <td>7.03E-04</td>\n",
       "      <td>3</td>\n",
       "      <td>0.001615</td>\n",
       "    </tr>\n",
       "    <tr>\n",
       "      <th>0</th>\n",
       "      <td>4</td>\n",
       "      <td>7.03E-04</td>\n",
       "      <td>4</td>\n",
       "      <td>0.000093</td>\n",
       "    </tr>\n",
       "  </tbody>\n",
       "</table>\n",
       "</div>"
      ],
      "text/plain": [
       "   serial_interval substitution_rate  n_muts      prob\n",
       "0                4          7.03E-04       0  0.794360\n",
       "0                4          7.03E-04       1  0.182876\n",
       "0                4          7.03E-04       2  0.021051\n",
       "0                4          7.03E-04       3  0.001615\n",
       "0                4          7.03E-04       4  0.000093"
      ]
     },
     "execution_count": 56,
     "metadata": {},
     "output_type": "execute_result"
    }
   ],
   "source": [
    "df.head()"
   ]
  },
  {
   "cell_type": "code",
   "execution_count": 113,
   "metadata": {},
   "outputs": [
    {
     "data": {
      "text/html": [
       "<div>\n",
       "<style scoped>\n",
       "    .dataframe tbody tr th:only-of-type {\n",
       "        vertical-align: middle;\n",
       "    }\n",
       "\n",
       "    .dataframe tbody tr th {\n",
       "        vertical-align: top;\n",
       "    }\n",
       "\n",
       "    .dataframe thead th {\n",
       "        text-align: right;\n",
       "    }\n",
       "</style>\n",
       "<table border=\"1\" class=\"dataframe\">\n",
       "  <thead>\n",
       "    <tr style=\"text-align: right;\">\n",
       "      <th></th>\n",
       "      <th>serial_interval</th>\n",
       "      <th>substitution_rate</th>\n",
       "      <th>n_muts</th>\n",
       "      <th>prob</th>\n",
       "    </tr>\n",
       "  </thead>\n",
       "  <tbody>\n",
       "    <tr>\n",
       "      <th>0</th>\n",
       "      <td>4</td>\n",
       "      <td>7.03E-04</td>\n",
       "      <td>2</td>\n",
       "      <td>0.021051</td>\n",
       "    </tr>\n",
       "    <tr>\n",
       "      <th>0</th>\n",
       "      <td>5</td>\n",
       "      <td>7.03E-04</td>\n",
       "      <td>2</td>\n",
       "      <td>0.031052</td>\n",
       "    </tr>\n",
       "    <tr>\n",
       "      <th>0</th>\n",
       "      <td>6</td>\n",
       "      <td>7.03E-04</td>\n",
       "      <td>2</td>\n",
       "      <td>0.042214</td>\n",
       "    </tr>\n",
       "    <tr>\n",
       "      <th>0</th>\n",
       "      <td>7</td>\n",
       "      <td>7.03E-04</td>\n",
       "      <td>2</td>\n",
       "      <td>0.054245</td>\n",
       "    </tr>\n",
       "    <tr>\n",
       "      <th>0</th>\n",
       "      <td>8</td>\n",
       "      <td>7.03E-04</td>\n",
       "      <td>2</td>\n",
       "      <td>0.066887</td>\n",
       "    </tr>\n",
       "    <tr>\n",
       "      <th>0</th>\n",
       "      <td>4</td>\n",
       "      <td>1.10E-03</td>\n",
       "      <td>2</td>\n",
       "      <td>0.045256</td>\n",
       "    </tr>\n",
       "    <tr>\n",
       "      <th>0</th>\n",
       "      <td>5</td>\n",
       "      <td>1.10E-03</td>\n",
       "      <td>2</td>\n",
       "      <td>0.064623</td>\n",
       "    </tr>\n",
       "    <tr>\n",
       "      <th>0</th>\n",
       "      <td>6</td>\n",
       "      <td>1.10E-03</td>\n",
       "      <td>2</td>\n",
       "      <td>0.085043</td>\n",
       "    </tr>\n",
       "    <tr>\n",
       "      <th>0</th>\n",
       "      <td>7</td>\n",
       "      <td>1.10E-03</td>\n",
       "      <td>2</td>\n",
       "      <td>0.105784</td>\n",
       "    </tr>\n",
       "    <tr>\n",
       "      <th>0</th>\n",
       "      <td>8</td>\n",
       "      <td>1.10E-03</td>\n",
       "      <td>2</td>\n",
       "      <td>0.126268</td>\n",
       "    </tr>\n",
       "    <tr>\n",
       "      <th>0</th>\n",
       "      <td>4</td>\n",
       "      <td>1.50E-03</td>\n",
       "      <td>2</td>\n",
       "      <td>0.073822</td>\n",
       "    </tr>\n",
       "    <tr>\n",
       "      <th>0</th>\n",
       "      <td>5</td>\n",
       "      <td>1.50E-03</td>\n",
       "      <td>2</td>\n",
       "      <td>0.102017</td>\n",
       "    </tr>\n",
       "    <tr>\n",
       "      <th>0</th>\n",
       "      <td>6</td>\n",
       "      <td>1.50E-03</td>\n",
       "      <td>2</td>\n",
       "      <td>0.129928</td>\n",
       "    </tr>\n",
       "    <tr>\n",
       "      <th>0</th>\n",
       "      <td>7</td>\n",
       "      <td>1.50E-03</td>\n",
       "      <td>2</td>\n",
       "      <td>0.156410</td>\n",
       "    </tr>\n",
       "    <tr>\n",
       "      <th>0</th>\n",
       "      <td>8</td>\n",
       "      <td>1.50E-03</td>\n",
       "      <td>2</td>\n",
       "      <td>0.180681</td>\n",
       "    </tr>\n",
       "  </tbody>\n",
       "</table>\n",
       "</div>"
      ],
      "text/plain": [
       "   serial_interval substitution_rate  n_muts      prob\n",
       "0                4          7.03E-04       2  0.021051\n",
       "0                5          7.03E-04       2  0.031052\n",
       "0                6          7.03E-04       2  0.042214\n",
       "0                7          7.03E-04       2  0.054245\n",
       "0                8          7.03E-04       2  0.066887\n",
       "0                4          1.10E-03       2  0.045256\n",
       "0                5          1.10E-03       2  0.064623\n",
       "0                6          1.10E-03       2  0.085043\n",
       "0                7          1.10E-03       2  0.105784\n",
       "0                8          1.10E-03       2  0.126268\n",
       "0                4          1.50E-03       2  0.073822\n",
       "0                5          1.50E-03       2  0.102017\n",
       "0                6          1.50E-03       2  0.129928\n",
       "0                7          1.50E-03       2  0.156410\n",
       "0                8          1.50E-03       2  0.180681"
      ]
     },
     "execution_count": 113,
     "metadata": {},
     "output_type": "execute_result"
    }
   ],
   "source": [
    "df[df['n_muts'] == 2]"
   ]
  },
  {
   "cell_type": "code",
   "execution_count": null,
   "metadata": {},
   "outputs": [],
   "source": []
  },
  {
   "cell_type": "code",
   "execution_count": 57,
   "metadata": {},
   "outputs": [],
   "source": [
    "purple = \"#5248AA\"\n",
    "blue = \"#7C9BAC\"\n",
    "yellow = \"#ECC58C\"\n",
    "red = \"#551E32\"\n",
    "green = \"#434A42\""
   ]
  },
  {
   "cell_type": "code",
   "execution_count": null,
   "metadata": {},
   "outputs": [],
   "source": []
  },
  {
   "cell_type": "code",
   "execution_count": 111,
   "metadata": {},
   "outputs": [
    {
     "data": {
      "image/png": "[encoded data removed]"
     },
     "metadata": {},
     "output_type": "display_data"
    }
   ],
   "source": [
    "%%R -w 1000 -h 500 -u px -i df,current_date,purple,blue,yellow,red,green # this sets the size of the plot...otherwise, it will go off the page\\n\",\n",
    "require(ggplot2)\n",
    "library(ggplot2)\n",
    "\n",
    "\n",
    "output_filename = paste(\"Supplemental-figure-8-\",current_date,\".png\", sep=\"\")\n",
    "\n",
    "df$substitution_rate = gsub(\"E\", \" x 10\", df$substitution_rate)\n",
    "df$substitution_rate = gsub(\"-03\", \"^-3\", df$substitution_rate)\n",
    "df$substitution_rate = gsub(\"-04\", \"^-4\", df$substitution_rate)\n",
    "df$substitution_ratef = factor(df$substitution_rate, levels=c(\"7.03 x 10^-4\",\"1.10 x 10^-3\",\"1.50 x 10^-3\"), \n",
    "                              labels=c(\"7.03~x~10^{-4}\",\"1.10~x~10^{-3}\",\"1.15~x~10^{-3}\"))\n",
    "\n",
    "df$serial_interval = as.character(df$serial_interval)\n",
    "df$group <- paste(df$substitution_rate,df$serial_interval,sep=\"_\")\n",
    "\n",
    "p1 <- ggplot(df, aes(x=n_muts, y=prob, color=serial_interval))+\n",
    "    geom_point(size=3)+\n",
    "    facet_grid(.~substitution_ratef, labeller = label_parsed)+\n",
    "    #geom_line()+\n",
    "    geom_hline(yintercept=0.05, linetype=3)+\n",
    "    scale_color_manual(values=c(\"4\"=red,\"5\"=blue,\"6\"=purple,\"7\"=yellow,\"8\"=green))+\n",
    "    #scale_shape_manual(values=c(\"0.000703\"=6,\"0.0011\"=14,\"0.0015\"=8))+\n",
    "    theme(panel.grid.major=element_line(colour=NA,size=NA))+\n",
    "    theme(panel.grid.minor=element_line(colour=NA,size=NA))+\n",
    "    scale_y_continuous(limits=c(0,1), breaks=seq(0,1,0.2))+\n",
    "    scale_x_continuous(breaks=seq(0,4,1), limits=c(-0.5,4))+\n",
    "    theme(plot.title=element_text(size=13))+\n",
    "    theme(strip.background = element_rect(colour=NA, fill=NA))+\n",
    "    theme(plot.margin=unit(c(0.1,0.1,0.1,0.1),\"cm\"))+\n",
    "    theme(axis.line.x=element_line(colour=\"black\"))+\n",
    "    theme(axis.line.y=element_line(colour=\"black\"))+\n",
    "    theme(axis.title.y=element_text(size=22, hjust=0.5, vjust=0.5))+\n",
    "    theme(axis.title.x=element_text(size=22, vjust=0.5))+\n",
    "    theme(axis.text.y=element_text(size=20, colour=\"black\"))+\n",
    "    theme(axis.text.x=element_text(hjust=0.5, vjust=0.5, size=20, colour=\"black\"))+\n",
    "    theme(legend.text=element_text(size=16))+\n",
    "    theme(legend.title=element_text(size=20))+\n",
    "    #theme(legend.position = c(0.9, 0.6))+ # (0,0) is bottom left, (1,1) is top right\n",
    "    theme(panel.margin=unit(1, \"lines\"))+\n",
    "    theme(legend.key.size=unit(0.55, \"cm\"))+\n",
    "    theme(panel.background=element_rect(fill=NA))+\n",
    "    theme(legend.key=element_rect(fill=NA))+\n",
    "    theme(strip.text=element_text(size=20))+\n",
    "    labs(y=\"\\nPr(x mutations) within\\none serial interval\\n\",x=\"\\nnumber of mutations\\n\", color=\"serial interval\\n(days)\")\n",
    "#       scale_y_continuous(limits=c(-0.1,1.2), breaks=seq(0,1.2,0.2))+\n",
    "\n",
    "\n",
    "ggsave(output_filename, p1, width = 12, height = 5, path=\"../figures/individual-pdfs/\")\n",
    "p1"
   ]
  },
  {
   "cell_type": "code",
   "execution_count": null,
   "metadata": {},
   "outputs": [],
   "source": []
  },
  {
   "cell_type": "code",
   "execution_count": null,
   "metadata": {},
   "outputs": [],
   "source": []
  },
  {
   "cell_type": "code",
   "execution_count": null,
   "metadata": {},
   "outputs": [],
   "source": []
  },
  {
   "cell_type": "code",
   "execution_count": 7,
   "metadata": {},
   "outputs": [],
   "source": [
    "def get_probability_given_n_muts_and_n_serial_intervals(subs_per_genome_per_serial_interval, n_serial_intervals, n_mutations_to_assess_probability_of):\n",
    "    '''\n",
    "    this returns a numpy array with an integer count representing out of 100 trials, how many times you'd expect to see x mutations.\n",
    "    subs_per_genome_per_serial_interval is a float describing the number of substitutions you'd expect to see across the genome after a single serial interval.\n",
    "    n_serial_intervals is an integer that describes how many serial intervals you're interested in.\n",
    "    n_mutations_to_assess_probability_of is a list of integers from 0 to however many you choose that represents 0 mutations, 1 mutation etc.\n",
    "    '''\n",
    "    poisson_distribution = poisson(subs_per_genome_per_serial_interval*n_serial_intervals)\n",
    "    return poisson_distribution.pmf(n_mutations_to_assess_probability_of) \n"
   ]
  },
  {
   "cell_type": "markdown",
   "metadata": {},
   "source": [
    "# Given a tree, compute the number of mutations between each household pair\n",
    "\n",
    "I would like to read in a tree and compute, for each pair, the number of mutations that separate those pairs. I can then write out the probability that each one is a transmission event within 1 serial interval. "
   ]
  },
  {
   "cell_type": "code",
   "execution_count": null,
   "metadata": {},
   "outputs": [],
   "source": []
  },
  {
   "cell_type": "code",
   "execution_count": 18,
   "metadata": {},
   "outputs": [],
   "source": [
    "\"\"\"This is a small, recursive function to return the TMRCA for 2 tips. Starting with the parental node of tip1,\n",
    "go recursively backwards in the tree until you find an internal node whose children contains both tip1 and \n",
    "tip2. Return that node.\"\"\"\n",
    "\n",
    "def return_TMRCA_node(input_node,tip1,tip2):\n",
    "    \n",
    "    # for a given internal node, generate a list of all its children, i.e., tips descending from that node\n",
    "    node = input_node\n",
    "    children = list(node.children)   # .children will output all of the direct descendants as baltic objects\n",
    "    leaves = list(node.leaves)       # .leaves will output the names of all tips descending from the node\n",
    "    \n",
    "    if tip2 in leaves and tip1 in leaves: \n",
    "        node_to_return = node\n",
    "    else:\n",
    "        node_to_return = return_TMRCA_node(node.parent,tip1,tip2)\n",
    "    \n",
    "    return(node_to_return)"
   ]
  },
  {
   "cell_type": "code",
   "execution_count": 19,
   "metadata": {},
   "outputs": [],
   "source": [
    "\"\"\"given 2 tips and a tree, iterate through the tree. when we reach tip 1, run return_TMRCA_node, to find the \n",
    "internal node that is the TMRCA for tips 1 and 2. Extract its date and return the node object and date\"\"\"\n",
    "\n",
    "def return_TMRCA(tip1,tip2,tree):\n",
    "    for k in tree.Objects: \n",
    "        if k.branchType == \"leaf\" and k.name == tip1:\n",
    "            tmrca_node = return_TMRCA_node(k.parent,tip1,tip2)\n",
    "            \n",
    "    return(tmrca_node)"
   ]
  },
  {
   "cell_type": "code",
   "execution_count": 20,
   "metadata": {},
   "outputs": [],
   "source": [
    "def return_mutations_on_branch(node):\n",
    "    mutations = []\n",
    "    \n",
    "    if 'branch_attrs' in node.traits:\n",
    "        if 'mutations' in node.traits['branch_attrs']:\n",
    "            if 'nuc' in node.traits['branch_attrs']['mutations']:\n",
    "                mutations = node.traits['branch_attrs']['mutations']['nuc']\n",
    "    else:\n",
    "        mutations = []\n",
    "        \n",
    "    return(mutations)"
   ]
  },
  {
   "cell_type": "code",
   "execution_count": 21,
   "metadata": {},
   "outputs": [],
   "source": [
    "\"\"\"Given a starting internal node, and a tip you would like to end at, traverse the full path from that node to\n",
    "tip. Along the way, gather nucleotide mutations that occur along that path. Once you have reached the ending \n",
    "tip, return the list of mutations that fell along that path\"\"\"\n",
    "\n",
    "def return_divergence_on_path_to_tip(starting_node, ending_tip):\n",
    "    \n",
    "    total_mutations_on_path = []\n",
    "    children = starting_node.children\n",
    "    \n",
    "    for child in children:\n",
    "        \n",
    "        \"\"\"if the child is a leaf: if leaf is the target end tip, collect its mutations and return; \n",
    "        if leaf is not the target end tip, move on\"\"\"\n",
    "        \"\"\"if the child is an internal node: first, test whether that child node contains the target tips in its \n",
    "        children. child.leaves will output a list of the names of all tips descending from that node. If not, pass. \n",
    "        if the node does contain the target end tip in its leaves, keep traversing down that node recursively\"\"\"\n",
    "\n",
    "        if child.branchType == \"leaf\":\n",
    "            if child.name != ending_tip:\n",
    "                pass\n",
    "            elif child.name == ending_tip:\n",
    "                child_mutations = return_mutations_on_branch(child)\n",
    "                for m in child_mutations:\n",
    "                    total_mutations_on_path.append(m)\n",
    "                return(total_mutations_on_path)\n",
    "         \n",
    "        elif child.branchType == \"node\":\n",
    "            if ending_tip not in child.leaves:\n",
    "                pass\n",
    "            else:\n",
    "                node_mutations = return_mutations_on_branch(child)\n",
    "                for m in node_mutations:\n",
    "                    total_mutations_on_path.append(m)\n",
    "                child_mutations = return_divergence_on_path_to_tip(child, ending_tip)\n",
    "    \n",
    "    for m in child_mutations:\n",
    "        total_mutations_on_path.append(m)\n",
    "        \n",
    "    return(total_mutations_on_path)"
   ]
  },
  {
   "cell_type": "code",
   "execution_count": 22,
   "metadata": {},
   "outputs": [],
   "source": [
    "import itertools\n",
    "\n",
    "def generate_all_combinations_pairs(list_of_elements):\n",
    "    all_pairs = []\n",
    "    for pair in itertools.combinations(list_of_elements, 2):\n",
    "        all_pairs.append(list(pair))\n",
    "    return(all_pairs)"
   ]
  },
  {
   "cell_type": "code",
   "execution_count": 27,
   "metadata": {},
   "outputs": [],
   "source": [
    "def return_divergence_between_tips(list_of_households, tree):\n",
    "    return_df = pd.DataFrame()\n",
    "    \n",
    "    for household in list_of_households:\n",
    "        all_pairs = generate_all_combinations_pairs(household)\n",
    "        for a in all_pairs:\n",
    "            tip1 = a[0]\n",
    "            tip2 = a[1]\n",
    "            print(tip1,tip2)\n",
    "            parental_node = return_TMRCA(tip1,tip2,tree)\n",
    "            parent_divergence = parental_node.traits['node_attrs']['div']\n",
    "            tip1_divergence = return_divergence_on_path_to_tip(parental_node, tip1)\n",
    "            tip2_divergence = return_divergence_on_path_to_tip(parental_node, tip2)\n",
    "\n",
    "            node_to_tip1 = tip1_divergence\n",
    "            node_to_tip2 = tip2_divergence\n",
    "            total_mutations = node_to_tip1 + node_to_tip2\n",
    "            \n",
    "            probability = get_probability_given_n_muts_and_n_serial_intervals(subs_per_genome_per_serial_interval, n_serial_intervals, len(total_mutations))\n",
    "            \n",
    "            df = pd.DataFrame.from_dict({\"tip1\":[tip1],\"tip2\":[tip2],\"muts_between_tips\":[len(total_mutations)],\n",
    "                                       \"muts\":[total_mutations],\"probability_1_serial_inteval\":[probability]})\n",
    "            return_df = return_df.append(df)\n",
    "            \n",
    "    return(return_df)"
   ]
  },
  {
   "cell_type": "code",
   "execution_count": null,
   "metadata": {},
   "outputs": [],
   "source": []
  },
  {
   "cell_type": "code",
   "execution_count": 28,
   "metadata": {},
   "outputs": [],
   "source": [
    "household_groups = [#[\"USA/WI-UW-27/2020\",\"USA/WI-UW-85/2020\"],  # UW-27 is tube 3, which had a tube switch\n",
    "                      #[\"USA/WI-UW-40/2020\",\"USA/WI-UW-97/2020\"],  # UW-40 is tube 19, and it only has 1 replicate\n",
    "                      [\"USA/WI-UW-41/2020\",\"USA/WI-UW-48/2020\"],\n",
    "                      [\"USA/WI-UW-65/2020\",\"USA/WI-UW-32/2020\"],\n",
    "                      [\"USA/WI-UW-69/2020\",\"USA/WI-UW-61/2020\"],\n",
    "                      [\"USA/WI-UW-70/2020\",\"USA/WI-UW-67/2020\"],\n",
    "                      [\"USA/WI-UW-74/2020\",\"USA/WI-UW-29/2020\"],\n",
    "                      [\"USA/WI-UW-119/2020\",\"USA/WI-UW-120/2020\"],  # 119 is missing a consensus genome\n",
    "                      #[\"USA/WI-UW-124/2020\",\"USA/WI-UW-351/2020\"],  # 351 has only 1 replicate\n",
    "                      [\"USA/WI-UW-158/2020\",\"USA/WI-UW-160/2020\"],\n",
    "                      #[\"USA/WI-UW-264/2020\",\"USA/WI-UW-356/2020\"],  # 356 is tube 321, only has 1 replicate\n",
    "                      [\"USA/WI-UW-333/2020\",\"USA/WI-UW-334/2020\"],\n",
    "                      [\"USA/WI-UW-476/2020\",\"USA/WI-UW-438/2020\",\"USA/WI-UW-432/2020\"],\n",
    "                      [\"USA/WI-UW-544/2020\",\"USA/WI-UW-551/2020\",\"USA/WI-UW-575/2020\"],\n",
    "                      [\"USA/WI-UW-546/2020\",\"USA/WI-UW-586/2020\",\"USA/WI-UW-443/2020\"],\n",
    "                      [\"USA/WI-UW-577/2020\",\"USA/WI-UW-536/2020\"],\n",
    "                      [\"USA/WI-UW-598/2020\",\"USA/WI-UW-602/2020\"], #\"USA/WI-UW-689/2020\", # UW-689 is tube 1049 and only has 1 replicate\n",
    "                      [\"USA/WI-UW-601/2020\",\"USA/WI-UW-780/2020\"],\n",
    "                      [\"USA/WI-UW-756/2020\",\"USA/WI-UW-893/2020\"],\n",
    "                      [\"USA/WI-UW-784/2020\",\"USA/WI-UW-798/2020\"],\n",
    "                      [\"USA/WI-UW-747/2020\",\"USA/WI-UW-697/2020\"],\n",
    "                      [\"USA/WI-UW-897/2020\",\"USA/WI-UW-906/2020\"],\n",
    "                      [\"USA/WI-UW-874/2020\",\"USA/WI-UW-986/2020\",\"USA/WI-UW-997/2020\",\"USA/WI-UW-991/2020\"],\n",
    "                      [\"USA/WI-UW-895/2020\",\"USA/WI-UW-876/2020\",\"USA/WI-UW-863/2020\"]]  # uw-931, tube 1414 only has 1 replicate\n",
    "                      #[\"USA/WI-UW-927/2020\",\"USA/WI-UW-861/2020\"]]  # 861, tube 1293 has only 1 replicate\n"
   ]
  },
  {
   "cell_type": "code",
   "execution_count": 29,
   "metadata": {},
   "outputs": [
    {
     "name": "stdout",
     "output_type": "stream",
     "text": [
      "\n",
      "Tree height: 1.111506\n",
      "Tree length: 463.819988\n",
      "multitype tree\n",
      "annotations present\n",
      "\n",
      "Numbers of objects in tree: 11805 (5499 nodes and 6306 leaves)\n",
      "\n"
     ]
    }
   ],
   "source": [
    "# test this out first on the Wisconsin-only build json\n",
    "WI_tree_path = \"../data/auspice-jsons/Wisconsin-SARS-CoV-2_ncov_wisconsin_all_2021-2-16.json\"\n",
    "\n",
    "with open(WI_tree_path) as json_file:\n",
    "    WI_tree_json = json.load(json_file)\n",
    "WI_tree_object=WI_tree_json['tree']\n",
    "WI_meta=WI_tree_json['meta']\n",
    "json_translation={'absoluteTime':lambda k: k.traits['node_attrs']['num_date']['value'],'name':'name'} ## allows baltic to find correct attributes in JSON, height and name are required at a minimum\n",
    "#json_meta={'file':WI_meta,'traitName':analysis_level} ## if you want auspice stylings you can import the meta file used on nextstrain.org\n",
    "\n",
    "WI_tree=bt.loadJSON(WI_tree_object,json_translation)"
   ]
  },
  {
   "cell_type": "code",
   "execution_count": 30,
   "metadata": {},
   "outputs": [
    {
     "name": "stdout",
     "output_type": "stream",
     "text": [
      "USA/WI-UW-41/2020 USA/WI-UW-48/2020\n",
      "USA/WI-UW-65/2020 USA/WI-UW-32/2020\n",
      "USA/WI-UW-69/2020 USA/WI-UW-61/2020\n",
      "USA/WI-UW-70/2020 USA/WI-UW-67/2020\n",
      "USA/WI-UW-74/2020 USA/WI-UW-29/2020\n",
      "USA/WI-UW-119/2020 USA/WI-UW-120/2020\n"
     ]
    },
    {
     "ename": "UnboundLocalError",
     "evalue": "local variable 'tmrca_node' referenced before assignment",
     "output_type": "error",
     "traceback": [
      "\u001b[0;31m---------------------------------------------------------------------------\u001b[0m",
      "\u001b[0;31mUnboundLocalError\u001b[0m                         Traceback (most recent call last)",
      "\u001b[0;32m<ipython-input-30-e015e6cb1dad>\u001b[0m in \u001b[0;36m<module>\u001b[0;34m\u001b[0m\n\u001b[0;32m----> 1\u001b[0;31m \u001b[0mdf\u001b[0m \u001b[0;34m=\u001b[0m \u001b[0mreturn_divergence_between_tips\u001b[0m\u001b[0;34m(\u001b[0m\u001b[0mhousehold_groups\u001b[0m\u001b[0;34m,\u001b[0m \u001b[0mWI_tree\u001b[0m\u001b[0;34m)\u001b[0m\u001b[0;34m\u001b[0m\u001b[0;34m\u001b[0m\u001b[0m\n\u001b[0m\u001b[1;32m      2\u001b[0m \u001b[0mdf\u001b[0m\u001b[0;34m.\u001b[0m\u001b[0mhead\u001b[0m\u001b[0;34m(\u001b[0m\u001b[0;34m)\u001b[0m\u001b[0;34m\u001b[0m\u001b[0;34m\u001b[0m\u001b[0m\n",
      "\u001b[0;32m<ipython-input-27-d82b06b7de95>\u001b[0m in \u001b[0;36mreturn_divergence_between_tips\u001b[0;34m(list_of_households, tree)\u001b[0m\n\u001b[1;32m      8\u001b[0m             \u001b[0mtip2\u001b[0m \u001b[0;34m=\u001b[0m \u001b[0ma\u001b[0m\u001b[0;34m[\u001b[0m\u001b[0;36m1\u001b[0m\u001b[0;34m]\u001b[0m\u001b[0;34m\u001b[0m\u001b[0;34m\u001b[0m\u001b[0m\n\u001b[1;32m      9\u001b[0m             \u001b[0mprint\u001b[0m\u001b[0;34m(\u001b[0m\u001b[0mtip1\u001b[0m\u001b[0;34m,\u001b[0m\u001b[0mtip2\u001b[0m\u001b[0;34m)\u001b[0m\u001b[0;34m\u001b[0m\u001b[0;34m\u001b[0m\u001b[0m\n\u001b[0;32m---> 10\u001b[0;31m             \u001b[0mparental_node\u001b[0m \u001b[0;34m=\u001b[0m \u001b[0mreturn_TMRCA\u001b[0m\u001b[0;34m(\u001b[0m\u001b[0mtip1\u001b[0m\u001b[0;34m,\u001b[0m\u001b[0mtip2\u001b[0m\u001b[0;34m,\u001b[0m\u001b[0mtree\u001b[0m\u001b[0;34m)\u001b[0m\u001b[0;34m\u001b[0m\u001b[0;34m\u001b[0m\u001b[0m\n\u001b[0m\u001b[1;32m     11\u001b[0m             \u001b[0mparent_divergence\u001b[0m \u001b[0;34m=\u001b[0m \u001b[0mparental_node\u001b[0m\u001b[0;34m.\u001b[0m\u001b[0mtraits\u001b[0m\u001b[0;34m[\u001b[0m\u001b[0;34m'node_attrs'\u001b[0m\u001b[0;34m]\u001b[0m\u001b[0;34m[\u001b[0m\u001b[0;34m'div'\u001b[0m\u001b[0;34m]\u001b[0m\u001b[0;34m\u001b[0m\u001b[0;34m\u001b[0m\u001b[0m\n\u001b[1;32m     12\u001b[0m             \u001b[0mtip1_divergence\u001b[0m \u001b[0;34m=\u001b[0m \u001b[0mreturn_divergence_on_path_to_tip\u001b[0m\u001b[0;34m(\u001b[0m\u001b[0mparental_node\u001b[0m\u001b[0;34m,\u001b[0m \u001b[0mtip1\u001b[0m\u001b[0;34m)\u001b[0m\u001b[0;34m\u001b[0m\u001b[0;34m\u001b[0m\u001b[0m\n",
      "\u001b[0;32m<ipython-input-19-b2070b20c56b>\u001b[0m in \u001b[0;36mreturn_TMRCA\u001b[0;34m(tip1, tip2, tree)\u001b[0m\n\u001b[1;32m      7\u001b[0m             \u001b[0mtmrca_node\u001b[0m \u001b[0;34m=\u001b[0m \u001b[0mreturn_TMRCA_node\u001b[0m\u001b[0;34m(\u001b[0m\u001b[0mk\u001b[0m\u001b[0;34m.\u001b[0m\u001b[0mparent\u001b[0m\u001b[0;34m,\u001b[0m\u001b[0mtip1\u001b[0m\u001b[0;34m,\u001b[0m\u001b[0mtip2\u001b[0m\u001b[0;34m)\u001b[0m\u001b[0;34m\u001b[0m\u001b[0;34m\u001b[0m\u001b[0m\n\u001b[1;32m      8\u001b[0m \u001b[0;34m\u001b[0m\u001b[0m\n\u001b[0;32m----> 9\u001b[0;31m     \u001b[0;32mreturn\u001b[0m\u001b[0;34m(\u001b[0m\u001b[0mtmrca_node\u001b[0m\u001b[0;34m)\u001b[0m\u001b[0;34m\u001b[0m\u001b[0;34m\u001b[0m\u001b[0m\n\u001b[0m",
      "\u001b[0;31mUnboundLocalError\u001b[0m: local variable 'tmrca_node' referenced before assignment"
     ]
    }
   ],
   "source": [
    "df = return_divergence_between_tips(household_groups, WI_tree)\n",
    "df.head()"
   ]
  },
  {
   "cell_type": "code",
   "execution_count": 17,
   "metadata": {},
   "outputs": [
    {
     "ename": "NameError",
     "evalue": "name 'df' is not defined",
     "output_type": "error",
     "traceback": [
      "\u001b[0;31m---------------------------------------------------------------------------\u001b[0m",
      "\u001b[0;31mNameError\u001b[0m                                 Traceback (most recent call last)",
      "\u001b[0;32m<ipython-input-17-e7cab0d61459>\u001b[0m in \u001b[0;36m<module>\u001b[0;34m\u001b[0m\n\u001b[0;32m----> 1\u001b[0;31m \u001b[0msloth\u001b[0m \u001b[0;34m=\u001b[0m \u001b[0mdf\u001b[0m\u001b[0;34m[\u001b[0m\u001b[0mdf\u001b[0m\u001b[0;34m[\u001b[0m\u001b[0;34m\"muts_between_tips\"\u001b[0m\u001b[0;34m]\u001b[0m \u001b[0;34m>\u001b[0m \u001b[0;36m1\u001b[0m\u001b[0;34m]\u001b[0m\u001b[0;34m\u001b[0m\u001b[0;34m\u001b[0m\u001b[0m\n\u001b[0m\u001b[1;32m      2\u001b[0m \u001b[0msloth\u001b[0m\u001b[0;34m\u001b[0m\u001b[0;34m\u001b[0m\u001b[0m\n",
      "\u001b[0;31mNameError\u001b[0m: name 'df' is not defined"
     ]
    }
   ],
   "source": [
    "sloth = df[df[\"muts_between_tips\"] > 1]\n",
    "sloth"
   ]
  },
  {
   "cell_type": "code",
   "execution_count": 24,
   "metadata": {},
   "outputs": [
    {
     "name": "stdout",
     "output_type": "stream",
     "text": [
      "[['USA/WI-UW-476/2020', 'USA/WI-UW-438/2020'], ['USA/WI-UW-476/2020', 'USA/WI-UW-432/2020'], ['USA/WI-UW-784/2020', 'USA/WI-UW-722/2020'], ['USA/WI-UW-784/2020', 'USA/WI-UW-749/2020'], ['USA/WI-UW-784/2020', 'USA/WI-UW-694/2020'], ['USA/WI-UW-784/2020', 'USA/WI-UW-721/2020'], ['USA/WI-UW-784/2020', 'USA/WI-UW-798/2020'], ['USA/WI-UW-855/2020', 'USA/WI-UW-897/2020'], ['USA/WI-UW-897/2020', 'USA/WI-UW-916/2020'], ['USA/WI-UW-897/2020', 'USA/WI-UW-906/2020']]\n"
     ]
    }
   ],
   "source": [
    "# pull lists of all pairs that are > 2 mutations apart\n",
    "\n",
    "tips_to_exclude = df[df[\"muts_between_tips\"] > 2]\n",
    "tip1s = tips_to_exclude['tip1'].tolist()\n",
    "tip2s = tips_to_exclude['tip2'].tolist()\n",
    "\n",
    "final_list = []\n",
    "for i in range (0, len(tip1s)): \n",
    "    local_list = [tip1s[i],tip2s[i]]\n",
    "    final_list.append(local_list)\n",
    "    \n",
    "print(final_list)"
   ]
  },
  {
   "cell_type": "code",
   "execution_count": 31,
   "metadata": {},
   "outputs": [],
   "source": [
    "df.to_csv(\"../data/pairwise-consensus-diffs-btwn-tips-2020-12-08.tsv\", sep=\"\\t\")"
   ]
  },
  {
   "cell_type": "code",
   "execution_count": null,
   "metadata": {},
   "outputs": [],
   "source": []
  }
 ],
 "metadata": {
  "kernelspec": {
   "display_name": "LHM-basics (python3)",
   "language": "python",
   "name": "lhm-basics"
  },
  "language_info": {
   "codemirror_mode": {
    "name": "ipython",
    "version": 3
   },
   "file_extension": ".py",
   "mimetype": "text/x-python",
   "name": "python",
   "nbconvert_exporter": "python",
   "pygments_lexer": "ipython3",
   "version": "3.7.3"
  }
 },
 "nbformat": 4,
 "nbformat_minor": 2
}
