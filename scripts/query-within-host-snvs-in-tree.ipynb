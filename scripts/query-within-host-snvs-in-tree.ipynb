{
 "cells": [
  {
   "cell_type": "markdown",
   "metadata": {},
   "source": [
    "# Determine whether within-host variants detected in Wisconsin transmission pairs are present on the SARS-CoV2 phylogeny\n",
    "\n",
    "May 8, 2020\n",
    "\n",
    "Kat and Gage have sequenced SARS-CoV2 from putative transmission pairs in Wisconsin. In this data, they see that there is a lot of shared within-host diversity between pairs, but that a lot of this diversity is also shared among non-transmission pairs of samples. This is concerning and a little weird. This was also observed in [this paper](https://www.medrxiv.org/content/10.1101/2020.04.24.20078691v1) that Gage found, although I have not read it closely. \n",
    "\n",
    "There are a few questions that I think would be nice to try to address by looking at the phylogeny: \n",
    "\n",
    "1. Are any of these recurrent within-host mutations also ones identified as problematic/likely errors by people looking at consensus data? If so, these should probably be excluded. I will use this virological post [here](http://virological.org/t/issues-with-sars-cov-2-sequencing-data/473)\n",
    "\n",
    "2. How frequently do within-host variants appear in consensus sequences? I would hypothesize that the vast majority of within-host variation being generated is not particularly advantageous. In this scenario, we would expect to observe only a small fraction of these within-host variants on the phylogeny, and when we do, we expect them to be primarily observed at terminal nodes rather than on internal branches.\n",
    "\n",
    "3. Do any of these within-host variants appear downstream at the consensus level from the host they were sampled in? By this I mean, if we observe a within-host variant in a particular person, is that infection upstream of later sampled cases? If so, is that variant detected at consensus level in any of those offspring infections? We will see. \n",
    "\n",
    "\n",
    "I think that for this analysis, it may be worthwhile to try to help them set up a Wisconsin-focused community build. This could use the new snakemake rules to generate a community build that focuses on Wisconsin but also pulls in sequences from elsewhere. This might be a nice thing to help facilitate and it would absolutely provide them with a better tree for inference than their current Wisconsin-only build. \n",
    "\n",
    "Kat mapped the genomes to this reference: MN908947.3.\n",
    "\n",
    "This is a link to their local nextstrain build http://35.226.31.45/Wisconsin?branchLabel=aa&c=clade_membership&r=location\n",
    "\n",
    "One note here is that indels are labelled differently in Kat's output files than in the nextstrain tree. In the nextstrain tree, `-505A` means that there was an A insertion at 505. `A505-` means that there was a deletion at 505. \n",
    "\n",
    "### Requirements: \n",
    "To run this, you will need to have all of the modules in the following block installed. You will also need to have the most recent version of baltic installed, which is available [here](https://github.com/evogytis/baltic/tree/master/docs)."
   ]
  },
  {
   "cell_type": "code",
   "execution_count": 7,
   "metadata": {},
   "outputs": [
    {
     "name": "stdout",
     "output_type": "stream",
     "text": [
      "The rpy2.ipython extension is already loaded. To reload it, use:\n",
      "  %reload_ext rpy2.ipython\n"
     ]
    }
   ],
   "source": [
    "import imp\n",
    "import importlib, json\n",
    "import glob\n",
    "import re,copy,json\n",
    "import Bio.Phylo\n",
    "import requests\n",
    "import pandas as pd \n",
    "import numpy as np\n",
    "\n",
    "# for this to work, you will need to download the most recent version of baltic, available here \n",
    "bt = imp.load_source('baltic', '/Users/lmoncla/src/baltic/baltic/baltic.py')\n",
    "\n",
    "import copy\n",
    "from scipy.special import binom\n",
    "import datetime as dt\n",
    "\n",
    "%matplotlib inline\n",
    "import matplotlib as mpl\n",
    "from matplotlib import pyplot as plt\n",
    "import matplotlib.patheffects as path_effects\n",
    "import matplotlib.lines as mlines\n",
    "from matplotlib.font_manager import FontProperties\n",
    "import matplotlib.colors as clr\n",
    "import textwrap as textwrap\n",
    "from textwrap import wrap\n",
    "\n",
    "from IPython.display import HTML\n",
    "\n",
    "\n",
    "try:\n",
    "    from StringIO import StringIO as sio\n",
    "    from cStringIO import StringIO as csio\n",
    "except ImportError:\n",
    "    from io import StringIO as sio\n",
    "    from io import BytesIO as csio\n",
    "    \n",
    "    \n",
    "import rpy2\n",
    "%load_ext rpy2.ipython"
   ]
  },
  {
   "cell_type": "code",
   "execution_count": 8,
   "metadata": {},
   "outputs": [],
   "source": [
    "# define colors\n",
    "s_color = \"#A5CDA2\"\n",
    "ns_color = \"#0E7908\"\n",
    "stop_color = \"#073C04\"\n",
    "fs_color = \"#00357D\"\n",
    "fs_stop_color = \"#00142F\""
   ]
  },
  {
   "cell_type": "markdown",
   "metadata": {},
   "source": [
    "## Read in vcfs and convert to dataframes \n",
    "\n",
    "I will only read in the intersection SNVs, meaning the ones that were detected in both technical sequencing replicates. This code will separate this into 2 dataframes, 1 for SNVs and 1 for indels, and will also look up and add in the strain names (necessary for converting from tube numbers, which is how the csvs are labelled). All of this code is contained in the ipython notebook called `vcf-module.ipynb`, which I am just going to import here. By running `return_dataframes`, this will collate all vcfs in the vcf directory, combine into a dataframe, and format that dataframe properly. "
   ]
  },
  {
   "cell_type": "code",
   "execution_count": 11,
   "metadata": {},
   "outputs": [],
   "source": [
    "\"\"\"to load in an ipython notebook as a module, just run the following. You will now have access to all of the \n",
    "functions written in that jupyter notebook\"\"\"\n",
    "\n",
    "%run vcf-module.ipynb"
   ]
  },
  {
   "cell_type": "code",
   "execution_count": 13,
   "metadata": {},
   "outputs": [
    {
     "name": "stderr",
     "output_type": "stream",
     "text": [
      "/Users/lmoncla/anaconda/envs/LHM-basics/lib/python3.7/site-packages/ipykernel_launcher.py:4: SettingWithCopyWarning: \n",
      "A value is trying to be set on a copy of a slice from a DataFrame.\n",
      "Try using .loc[row_indexer,col_indexer] = value instead\n",
      "\n",
      "See the caveats in the documentation: http://pandas.pydata.org/pandas-docs/stable/indexing.html#indexing-view-versus-copy\n",
      "  after removing the cwd from sys.path.\n",
      "/Users/lmoncla/anaconda/envs/LHM-basics/lib/python3.7/site-packages/ipykernel_launcher.py:5: SettingWithCopyWarning: \n",
      "A value is trying to be set on a copy of a slice from a DataFrame.\n",
      "Try using .loc[row_indexer,col_indexer] = value instead\n",
      "\n",
      "See the caveats in the documentation: http://pandas.pydata.org/pandas-docs/stable/indexing.html#indexing-view-versus-copy\n",
      "  \"\"\"\n",
      "/Users/lmoncla/anaconda/envs/LHM-basics/lib/python3.7/site-packages/ipykernel_launcher.py:6: SettingWithCopyWarning: \n",
      "A value is trying to be set on a copy of a slice from a DataFrame.\n",
      "Try using .loc[row_indexer,col_indexer] = value instead\n",
      "\n",
      "See the caveats in the documentation: http://pandas.pydata.org/pandas-docs/stable/indexing.html#indexing-view-versus-copy\n",
      "  \n",
      "/Users/lmoncla/anaconda/envs/LHM-basics/lib/python3.7/site-packages/ipykernel_launcher.py:9: SettingWithCopyWarning: \n",
      "A value is trying to be set on a copy of a slice from a DataFrame.\n",
      "Try using .loc[row_indexer,col_indexer] = value instead\n",
      "\n",
      "See the caveats in the documentation: http://pandas.pydata.org/pandas-docs/stable/indexing.html#indexing-view-versus-copy\n",
      "  if __name__ == '__main__':\n",
      "/Users/lmoncla/anaconda/envs/LHM-basics/lib/python3.7/site-packages/ipykernel_launcher.py:10: SettingWithCopyWarning: \n",
      "A value is trying to be set on a copy of a slice from a DataFrame.\n",
      "Try using .loc[row_indexer,col_indexer] = value instead\n",
      "\n",
      "See the caveats in the documentation: http://pandas.pydata.org/pandas-docs/stable/indexing.html#indexing-view-versus-copy\n",
      "  # Remove the CWD from sys.path while we load stuff.\n",
      "/Users/lmoncla/anaconda/envs/LHM-basics/lib/python3.7/site-packages/ipykernel_launcher.py:12: SettingWithCopyWarning: \n",
      "A value is trying to be set on a copy of a slice from a DataFrame.\n",
      "Try using .loc[row_indexer,col_indexer] = value instead\n",
      "\n",
      "See the caveats in the documentation: http://pandas.pydata.org/pandas-docs/stable/indexing.html#indexing-view-versus-copy\n",
      "  if sys.path[0] == '':\n",
      "/Users/lmoncla/anaconda/envs/LHM-basics/lib/python3.7/site-packages/ipykernel_launcher.py:8: SettingWithCopyWarning: \n",
      "A value is trying to be set on a copy of a slice from a DataFrame.\n",
      "Try using .loc[row_indexer,col_indexer] = value instead\n",
      "\n",
      "See the caveats in the documentation: http://pandas.pydata.org/pandas-docs/stable/indexing.html#indexing-view-versus-copy\n",
      "  \n",
      "/Users/lmoncla/anaconda/envs/LHM-basics/lib/python3.7/site-packages/ipykernel_launcher.py:11: SettingWithCopyWarning: \n",
      "A value is trying to be set on a copy of a slice from a DataFrame.\n",
      "Try using .loc[row_indexer,col_indexer] = value instead\n",
      "\n",
      "See the caveats in the documentation: http://pandas.pydata.org/pandas-docs/stable/indexing.html#indexing-view-versus-copy\n",
      "  # This is added back by InteractiveShellApp.init_path()\n",
      "/Users/lmoncla/anaconda/envs/LHM-basics/lib/python3.7/site-packages/ipykernel_launcher.py:14: SettingWithCopyWarning: \n",
      "A value is trying to be set on a copy of a slice from a DataFrame.\n",
      "Try using .loc[row_indexer,col_indexer] = value instead\n",
      "\n",
      "See the caveats in the documentation: http://pandas.pydata.org/pandas-docs/stable/indexing.html#indexing-view-versus-copy\n",
      "  \n"
     ]
    }
   ],
   "source": [
    "\"\"\"now, input the strain names file/metadata file, the directory containing the vcfs, and return the dataframess\"\"\"\n",
    "\n",
    "strain_names_file = \"/Users/lmoncla/src/ncov-WI-within-host/data/sample-metadata.tsv\"\n",
    "vcf_directory = \"/Users/lmoncla/src/ncov-WI-within-host/data/vcfs-all/\"\n",
    "samples_to_ignore = [\"N_transcript\"]\n",
    "\n",
    "snvs_only, indels_only, all_intersection_variants,metadata_dict = return_dataframes(strain_names_file, vcf_directory,samples_to_ignore)"
   ]
  },
  {
   "cell_type": "code",
   "execution_count": 14,
   "metadata": {},
   "outputs": [
    {
     "data": {
      "text/html": [
       "<div>\n",
       "<style scoped>\n",
       "    .dataframe tbody tr th:only-of-type {\n",
       "        vertical-align: middle;\n",
       "    }\n",
       "\n",
       "    .dataframe tbody tr th {\n",
       "        vertical-align: top;\n",
       "    }\n",
       "\n",
       "    .dataframe thead th {\n",
       "        text-align: right;\n",
       "    }\n",
       "</style>\n",
       "<table border=\"1\" class=\"dataframe\">\n",
       "  <thead>\n",
       "    <tr style=\"text-align: right;\">\n",
       "      <th></th>\n",
       "      <th>Unnamed: 0</th>\n",
       "      <th>SNP</th>\n",
       "      <th>POS_x</th>\n",
       "      <th>rep1_percent</th>\n",
       "      <th>rep2_percent</th>\n",
       "      <th>frequency</th>\n",
       "      <th>sampleid</th>\n",
       "      <th>annotation</th>\n",
       "      <th>gene</th>\n",
       "      <th>nt_change</th>\n",
       "      <th>aa_change</th>\n",
       "      <th>strain_name</th>\n",
       "    </tr>\n",
       "  </thead>\n",
       "  <tbody>\n",
       "    <tr>\n",
       "      <th>0</th>\n",
       "      <td>0</td>\n",
       "      <td>orf1ab_-delTCATGTTATGGTTG_His83fs_frameshift</td>\n",
       "      <td>509.0</td>\n",
       "      <td>0.0326</td>\n",
       "      <td>0.0114</td>\n",
       "      <td>0.02200</td>\n",
       "      <td>53</td>\n",
       "      <td>frameshift</td>\n",
       "      <td>orf1ab</td>\n",
       "      <td>-delTCATGTTATGGTTG</td>\n",
       "      <td>His83fs</td>\n",
       "      <td>USA/WI-UW-67/2020</td>\n",
       "    </tr>\n",
       "    <tr>\n",
       "      <th>1</th>\n",
       "      <td>1</td>\n",
       "      <td>orf1ab_dupA_Leu293fs_frameshift</td>\n",
       "      <td>1135.0</td>\n",
       "      <td>0.0161</td>\n",
       "      <td>0.0122</td>\n",
       "      <td>0.01415</td>\n",
       "      <td>53</td>\n",
       "      <td>frameshift</td>\n",
       "      <td>orf1ab</td>\n",
       "      <td>dupA</td>\n",
       "      <td>Leu293fs</td>\n",
       "      <td>USA/WI-UW-67/2020</td>\n",
       "    </tr>\n",
       "    <tr>\n",
       "      <th>2</th>\n",
       "      <td>7</td>\n",
       "      <td>orf1ab_dupT_Leu2146fs_frameshift</td>\n",
       "      <td>6696.0</td>\n",
       "      <td>0.0335</td>\n",
       "      <td>0.0968</td>\n",
       "      <td>0.06515</td>\n",
       "      <td>53</td>\n",
       "      <td>frameshift</td>\n",
       "      <td>orf1ab</td>\n",
       "      <td>dupT</td>\n",
       "      <td>Leu2146fs</td>\n",
       "      <td>USA/WI-UW-67/2020</td>\n",
       "    </tr>\n",
       "    <tr>\n",
       "      <th>3</th>\n",
       "      <td>9</td>\n",
       "      <td>orf1ab_C&gt;T_Ser2839Ser_synonymous</td>\n",
       "      <td>8782.0</td>\n",
       "      <td>0.9411</td>\n",
       "      <td>0.8919</td>\n",
       "      <td>0.91650</td>\n",
       "      <td>53</td>\n",
       "      <td>synonymous</td>\n",
       "      <td>orf1ab</td>\n",
       "      <td>C&gt;T</td>\n",
       "      <td>Ser2839Ser</td>\n",
       "      <td>USA/WI-UW-67/2020</td>\n",
       "    </tr>\n",
       "    <tr>\n",
       "      <th>4</th>\n",
       "      <td>12</td>\n",
       "      <td>orf1ab_C&gt;T_As297Asp_synonymous</td>\n",
       "      <td>10156.0</td>\n",
       "      <td>0.0175</td>\n",
       "      <td>0.0104</td>\n",
       "      <td>0.01395</td>\n",
       "      <td>53</td>\n",
       "      <td>synonymous</td>\n",
       "      <td>orf1ab</td>\n",
       "      <td>C&gt;T</td>\n",
       "      <td>As297Asp</td>\n",
       "      <td>USA/WI-UW-67/2020</td>\n",
       "    </tr>\n",
       "  </tbody>\n",
       "</table>\n",
       "</div>"
      ],
      "text/plain": [
       "  Unnamed: 0                                           SNP    POS_x  \\\n",
       "0          0  orf1ab_-delTCATGTTATGGTTG_His83fs_frameshift    509.0   \n",
       "1          1               orf1ab_dupA_Leu293fs_frameshift   1135.0   \n",
       "2          7              orf1ab_dupT_Leu2146fs_frameshift   6696.0   \n",
       "3          9              orf1ab_C>T_Ser2839Ser_synonymous   8782.0   \n",
       "4         12                orf1ab_C>T_As297Asp_synonymous  10156.0   \n",
       "\n",
       "   rep1_percent  rep2_percent  frequency sampleid  annotation    gene  \\\n",
       "0        0.0326        0.0114    0.02200       53  frameshift  orf1ab   \n",
       "1        0.0161        0.0122    0.01415       53  frameshift  orf1ab   \n",
       "2        0.0335        0.0968    0.06515       53  frameshift  orf1ab   \n",
       "3        0.9411        0.8919    0.91650       53  synonymous  orf1ab   \n",
       "4        0.0175        0.0104    0.01395       53  synonymous  orf1ab   \n",
       "\n",
       "            nt_change   aa_change        strain_name  \n",
       "0  -delTCATGTTATGGTTG     His83fs  USA/WI-UW-67/2020  \n",
       "1                dupA    Leu293fs  USA/WI-UW-67/2020  \n",
       "2                dupT   Leu2146fs  USA/WI-UW-67/2020  \n",
       "3                 C>T  Ser2839Ser  USA/WI-UW-67/2020  \n",
       "4                 C>T    As297Asp  USA/WI-UW-67/2020  "
      ]
     },
     "execution_count": 14,
     "metadata": {},
     "output_type": "execute_result"
    }
   ],
   "source": [
    "all_intersection_snvs.head()"
   ]
  },
  {
   "cell_type": "code",
   "execution_count": 15,
   "metadata": {},
   "outputs": [
    {
     "name": "stdout",
     "output_type": "stream",
     "text": [
      "3028\n"
     ]
    }
   ],
   "source": [
    "print(len(all_intersection_snvs))"
   ]
  },
  {
   "cell_type": "code",
   "execution_count": 16,
   "metadata": {},
   "outputs": [
    {
     "name": "stdout",
     "output_type": "stream",
     "text": [
      "474\n",
      "149\n",
      "623\n"
     ]
    }
   ],
   "source": [
    "snvs_to_query = set(snvs_only['minor_nuc_muts'])\n",
    "indels_to_query = set(indels_only['minor_nuc_muts'])\n",
    "all_variants_to_query = snvs_to_query.copy()\n",
    "all_variants_to_query.update(indels_to_query)\n",
    "print(len(snvs_to_query))\n",
    "print(len(indels_to_query))\n",
    "print(len(all_variants_to_query))"
   ]
  },
  {
   "cell_type": "markdown",
   "metadata": {},
   "source": [
    "## Functions for parsing tree from nextstrain\n",
    "\n",
    "The idea here will be to answer the following questions: \n",
    "1. What proportion of within-host variants are present on the tree? \n",
    "2. Do within-host variants have a skew towards being on internal vs. terminal branches, relative to the rest of the tree? If within-host variants are mostly deleterious, we would hypothesize that they should occur on the tree rarely and should be localized primarily to internal nodes. \n",
    "3. Are variants that are detected within-host in a given sample ever detected at consensus downstream of that sample? If the bottleneck is small and random, then I would not really expect to see this. If however, the bottleneck is really wide, then we might expect to observe this more often. The results here will need to be intergrated with Kat's actual estimates. "
   ]
  },
  {
   "cell_type": "code",
   "execution_count": 18,
   "metadata": {},
   "outputs": [],
   "source": [
    "def generate_snvs_dict_for_tree(query_list):\n",
    "    snvs_on_tree = {}\n",
    "    for q in query_list: \n",
    "        snvs_on_tree[q] = {\"branches_with_snv\":[], \"arose_on_tip\":0, \"arose_on_internal_node\":0}\n",
    "    \n",
    "    return(snvs_on_tree)"
   ]
  },
  {
   "cell_type": "code",
   "execution_count": 19,
   "metadata": {},
   "outputs": [],
   "source": [
    "def enumerate_mutations_on_branches(tree, snvs_on_tree):    \n",
    "    for k in tree.Objects:\n",
    "        if 'branch_attrs' in k.traits:\n",
    "            if 'mutations' in k.traits['branch_attrs']:\n",
    "                if 'nuc' in k.traits['branch_attrs']['mutations']:\n",
    "                    nt_muts = k.traits['branch_attrs']['mutations']['nuc']\n",
    "                    for n in nt_muts: \n",
    "                        if n in snvs_on_tree:\n",
    "                            snvs_on_tree[n][\"branches_with_snv\"].append(k.name)\n",
    "                            \n",
    "                            if k.branchType == \"node\":\n",
    "                                leaves = 0 #len(k.leaves)\n",
    "                                nodes = 1\n",
    "                            elif k.branchType == \"leaf\":\n",
    "                                leaves = 1\n",
    "                                nodes = 0\n",
    "                            \n",
    "                            snvs_on_tree[n][\"arose_on_tip\"] += leaves\n",
    "                            snvs_on_tree[n][\"arose_on_internal_node\"] += nodes\n",
    "                            \n",
    "    return(snvs_on_tree)"
   ]
  },
  {
   "cell_type": "code",
   "execution_count": 20,
   "metadata": {},
   "outputs": [],
   "source": [
    "def enumerate_all_tree_muts(tree):\n",
    "    \n",
    "    all_snps_on_tree = {}\n",
    "    total_snps = {\"internal_nodes\": 0, \"tips\":0}\n",
    "    \n",
    "    for k in tree.Objects:\n",
    "        if 'branch_attrs' in k.traits:\n",
    "            if 'mutations' in k.traits['branch_attrs']:\n",
    "                if 'nuc' in k.traits['branch_attrs']['mutations']:\n",
    "                    nt_muts = k.traits['branch_attrs']['mutations']['nuc']\n",
    "                    for n in nt_muts:\n",
    "                        if n not in all_snps_on_tree: \n",
    "                            all_snps_on_tree[n] = {\"branches_with_snv\":[], \"arose_on_tip\":0, \"arose_on_internal_node\":0}\n",
    "                        \n",
    "                        all_snps_on_tree[n][\"branches_with_snv\"].append(k.name)\n",
    "\n",
    "                        if k.branchType == \"node\":\n",
    "                            leaves = 0 #len(k.leaves)\n",
    "                            nodes = 1\n",
    "                        elif k.branchType == \"leaf\":\n",
    "                            leaves = 1\n",
    "                            nodes = 0\n",
    "\n",
    "                        all_snps_on_tree[n][\"arose_on_tip\"] += leaves\n",
    "                        all_snps_on_tree[n][\"arose_on_internal_node\"] += nodes\n",
    "                            \n",
    "                    \n",
    "                    if k.branchType == \"node\":\n",
    "                        total_snps[\"internal_nodes\"] += len(nt_muts)\n",
    "                    elif k.branchType == \"leaf\":\n",
    "                        total_snps['tips'] += len(nt_muts)\n",
    "                        \n",
    "    return(all_snps_on_tree, total_snps)"
   ]
  },
  {
   "cell_type": "markdown",
   "metadata": {},
   "source": [
    "## Grab the most recent json file from nextstrain, and read it in as a baltic tree object \n",
    "\n",
    "The current `json_translation` defined here will translate auspice v2 jsons attributes into the proper tree attributes. This will not work for auspice v1 jsons. All ncov jsons are in v2. "
   ]
  },
  {
   "cell_type": "code",
   "execution_count": 21,
   "metadata": {},
   "outputs": [
    {
     "name": "stdout",
     "output_type": "stream",
     "text": [
      "\n",
      "Tree height: 0.681219\n",
      "Tree length: 379.602248\n",
      "multitype tree\n",
      "annotations present\n",
      "\n",
      "Numbers of objects in tree: 8566 (3925 nodes and 4641 leaves)\n",
      "\n"
     ]
    }
   ],
   "source": [
    "json_url='http://data.nextstrain.org/ncov_global.json'\n",
    "tree_json=json.load(csio(requests.get(json_url).content))\n",
    "analysis_level = \"division\"\n",
    "\n",
    "tree_object=tree_json['tree']\n",
    "meta=tree_json['meta']\n",
    "json_translation={'absoluteTime':lambda k: k.traits['node_attrs']['num_date']['value'],'name':'name'} ## allows baltic to find correct attributes in JSON, height and name are required at a minimum\n",
    "json_meta={'file':meta,'traitName':analysis_level} ## if you want auspice stylings you can import the meta file used on nextstrain.org\n",
    "\n",
    "tree=bt.loadJSON(tree_object,json_translation,json_meta)"
   ]
  },
  {
   "cell_type": "code",
   "execution_count": 41,
   "metadata": {},
   "outputs": [],
   "source": [
    "variants_to_query = all_variants_to_query\n",
    "# variants_to_query = indels_to_query"
   ]
  },
  {
   "cell_type": "code",
   "execution_count": 42,
   "metadata": {},
   "outputs": [],
   "source": [
    "snvs_on_tree_dict = generate_snvs_dict_for_tree(variants_to_query)\n",
    "snvs_on_tree_dict = enumerate_mutations_on_branches(tree, snvs_on_tree_dict)\n",
    "full_tree_muts,tree_mut_counts = enumerate_all_tree_muts(tree)"
   ]
  },
  {
   "cell_type": "code",
   "execution_count": null,
   "metadata": {},
   "outputs": [],
   "source": []
  },
  {
   "cell_type": "code",
   "execution_count": 43,
   "metadata": {},
   "outputs": [
    {
     "data": {
      "text/html": [
       "<div>\n",
       "<style scoped>\n",
       "    .dataframe tbody tr th:only-of-type {\n",
       "        vertical-align: middle;\n",
       "    }\n",
       "\n",
       "    .dataframe tbody tr th {\n",
       "        vertical-align: top;\n",
       "    }\n",
       "\n",
       "    .dataframe thead th {\n",
       "        text-align: right;\n",
       "    }\n",
       "</style>\n",
       "<table border=\"1\" class=\"dataframe\">\n",
       "  <thead>\n",
       "    <tr style=\"text-align: right;\">\n",
       "      <th></th>\n",
       "      <th>snv</th>\n",
       "      <th>branches_with_snv</th>\n",
       "      <th>arose_on_tip</th>\n",
       "      <th>arose_on_internal_node</th>\n",
       "    </tr>\n",
       "  </thead>\n",
       "  <tbody>\n",
       "    <tr>\n",
       "      <th>0</th>\n",
       "      <td>-1605A</td>\n",
       "      <td>[Ecuador/HEE-01/2020]</td>\n",
       "      <td>1</td>\n",
       "      <td>0</td>\n",
       "    </tr>\n",
       "    <tr>\n",
       "      <th>1</th>\n",
       "      <td>-1606T</td>\n",
       "      <td>[Ecuador/HEE-01/2020]</td>\n",
       "      <td>1</td>\n",
       "      <td>0</td>\n",
       "    </tr>\n",
       "    <tr>\n",
       "      <th>2</th>\n",
       "      <td>-1607G</td>\n",
       "      <td>[Ecuador/HEE-01/2020]</td>\n",
       "      <td>1</td>\n",
       "      <td>0</td>\n",
       "    </tr>\n",
       "    <tr>\n",
       "      <th>3</th>\n",
       "      <td>-26158G</td>\n",
       "      <td>[India/GBRC338a/2020]</td>\n",
       "      <td>1</td>\n",
       "      <td>0</td>\n",
       "    </tr>\n",
       "    <tr>\n",
       "      <th>4</th>\n",
       "      <td>-26159T</td>\n",
       "      <td>[India/GBRC338a/2020]</td>\n",
       "      <td>1</td>\n",
       "      <td>0</td>\n",
       "    </tr>\n",
       "  </tbody>\n",
       "</table>\n",
       "</div>"
      ],
      "text/plain": [
       "       snv      branches_with_snv  arose_on_tip  arose_on_internal_node\n",
       "0   -1605A  [Ecuador/HEE-01/2020]             1                       0\n",
       "1   -1606T  [Ecuador/HEE-01/2020]             1                       0\n",
       "2   -1607G  [Ecuador/HEE-01/2020]             1                       0\n",
       "3  -26158G  [India/GBRC338a/2020]             1                       0\n",
       "4  -26159T  [India/GBRC338a/2020]             1                       0"
      ]
     },
     "execution_count": 43,
     "metadata": {},
     "output_type": "execute_result"
    }
   ],
   "source": [
    "full_tree_df = pd.DataFrame.from_dict(full_tree_muts, orient=\"index\")\n",
    "full_tree_df.reset_index(inplace=True)\n",
    "full_tree_df.columns = ['snv','branches_with_snv','arose_on_tip','arose_on_internal_node']\n",
    "full_tree_df.head()"
   ]
  },
  {
   "cell_type": "code",
   "execution_count": 44,
   "metadata": {
    "scrolled": true
   },
   "outputs": [
    {
     "name": "stdout",
     "output_type": "stream",
     "text": [
      "{'internal_nodes': 3105, 'tips': 10041}\n"
     ]
    }
   ],
   "source": [
    "snps_on_tips = full_tree_df['arose_on_tip'].sum()\n",
    "snps_on_nodes = full_tree_df['arose_on_internal_node'].sum()\n",
    "print(tree_mut_counts)"
   ]
  },
  {
   "cell_type": "code",
   "execution_count": 45,
   "metadata": {},
   "outputs": [
    {
     "data": {
      "text/html": [
       "<div>\n",
       "<style scoped>\n",
       "    .dataframe tbody tr th:only-of-type {\n",
       "        vertical-align: middle;\n",
       "    }\n",
       "\n",
       "    .dataframe tbody tr th {\n",
       "        vertical-align: top;\n",
       "    }\n",
       "\n",
       "    .dataframe thead th {\n",
       "        text-align: right;\n",
       "    }\n",
       "</style>\n",
       "<table border=\"1\" class=\"dataframe\">\n",
       "  <thead>\n",
       "    <tr style=\"text-align: right;\">\n",
       "      <th></th>\n",
       "      <th>snv</th>\n",
       "      <th>branches_with_snv</th>\n",
       "      <th>arose_on_tip</th>\n",
       "      <th>arose_on_internal_node</th>\n",
       "    </tr>\n",
       "  </thead>\n",
       "  <tbody>\n",
       "    <tr>\n",
       "      <th>0</th>\n",
       "      <td>-1026T</td>\n",
       "      <td>[]</td>\n",
       "      <td>0</td>\n",
       "      <td>0</td>\n",
       "    </tr>\n",
       "    <tr>\n",
       "      <th>1</th>\n",
       "      <td>-10386T</td>\n",
       "      <td>[]</td>\n",
       "      <td>0</td>\n",
       "      <td>0</td>\n",
       "    </tr>\n",
       "    <tr>\n",
       "      <th>2</th>\n",
       "      <td>-10605T</td>\n",
       "      <td>[]</td>\n",
       "      <td>0</td>\n",
       "      <td>0</td>\n",
       "    </tr>\n",
       "    <tr>\n",
       "      <th>3</th>\n",
       "      <td>-10619A</td>\n",
       "      <td>[]</td>\n",
       "      <td>0</td>\n",
       "      <td>0</td>\n",
       "    </tr>\n",
       "    <tr>\n",
       "      <th>4</th>\n",
       "      <td>-11074T</td>\n",
       "      <td>[]</td>\n",
       "      <td>0</td>\n",
       "      <td>0</td>\n",
       "    </tr>\n",
       "  </tbody>\n",
       "</table>\n",
       "</div>"
      ],
      "text/plain": [
       "       snv branches_with_snv  arose_on_tip  arose_on_internal_node\n",
       "0   -1026T                []             0                       0\n",
       "1  -10386T                []             0                       0\n",
       "2  -10605T                []             0                       0\n",
       "3  -10619A                []             0                       0\n",
       "4  -11074T                []             0                       0"
      ]
     },
     "execution_count": 45,
     "metadata": {},
     "output_type": "execute_result"
    }
   ],
   "source": [
    "df = pd.DataFrame.from_dict(snvs_on_tree_dict, orient=\"index\")\n",
    "df.reset_index(inplace=True)\n",
    "df.columns = ['snv','branches_with_snv','arose_on_tip','arose_on_internal_node']\n",
    "df1 = df[['snv','arose_on_tip','arose_on_internal_node']]\n",
    "df.head()"
   ]
  },
  {
   "cell_type": "code",
   "execution_count": 46,
   "metadata": {},
   "outputs": [
    {
     "name": "stdout",
     "output_type": "stream",
     "text": [
      "466\n",
      "623\n",
      "the total fraction of within-host SNVs that are found on the tree is  0.2520064205457464\n",
      "the total fraction of within-host SNVs that are NOT found on the tree is  0.7479935794542536\n"
     ]
    }
   ],
   "source": [
    "# print number/fraction of SNVs that are never on the tree \n",
    "not_on_tree = len(df[(df['arose_on_tip'] == 0) & (df['arose_on_internal_node'] == 0)])\n",
    "print(not_on_tree)\n",
    "print(len(df))\n",
    "print(\"the total fraction of within-host SNVs that are found on the tree is \", (len(df)-not_on_tree)/len(df))\n",
    "print(\"the total fraction of within-host SNVs that are NOT found on the tree is \", not_on_tree/len(df))"
   ]
  },
  {
   "cell_type": "markdown",
   "metadata": {},
   "source": [
    "### Question 1: What fraction of variants are on the tree? \n",
    "\n",
    "SNVs: 33% are found on the tree, 67% are not\n",
    "\n",
    "indels: 0% are found on the tree\n",
    "\n",
    "overall: 25% of variants are found on the tree, 75% are not"
   ]
  },
  {
   "cell_type": "code",
   "execution_count": 47,
   "metadata": {},
   "outputs": [
    {
     "name": "stdout",
     "output_type": "stream",
     "text": [
      "338 113\n"
     ]
    }
   ],
   "source": [
    "# for all within-host variants added together, print the number of times they appear on tips and on internal nodes\n",
    "within_host_on_tips = df['arose_on_tip'].sum()\n",
    "within_host_on_nodes = df['arose_on_internal_node'].sum()\n",
    "print(within_host_on_tips, within_host_on_nodes)"
   ]
  },
  {
   "cell_type": "code",
   "execution_count": 48,
   "metadata": {},
   "outputs": [
    {
     "data": {
      "text/plain": [
       "(0.9249598768941146, 0.49895442222451636)"
      ]
     },
     "execution_count": 48,
     "metadata": {},
     "output_type": "execute_result"
    }
   ],
   "source": [
    "# do a Fisher's exact test, testing whether within-host variants have a different ratio of internal node to terminal\n",
    "# node appearance than other mutations on the tree\n",
    "import scipy\n",
    "from scipy import stats\n",
    "table = [[snps_on_nodes,snps_on_tips],[within_host_on_nodes,within_host_on_tips]]\n",
    "stats.fisher_exact(table)"
   ]
  },
  {
   "cell_type": "markdown",
   "metadata": {},
   "source": [
    "This suggests that they do not. For both within-host variants and mutations on the tree, the ratio of mutations on internal vs. terminal nodes is ~1:3"
   ]
  },
  {
   "cell_type": "code",
   "execution_count": 49,
   "metadata": {},
   "outputs": [
    {
     "name": "stdout",
     "output_type": "stream",
     "text": [
      "G11083T 0.02843120737636356\n",
      "T27384C 0.021497004999597544\n"
     ]
    }
   ],
   "source": [
    "# compare with Fishers exact test \n",
    "# now run on actual data\n",
    "import scipy \n",
    "from scipy import stats\n",
    "\n",
    "p_values = {}\n",
    "\n",
    "for index, row in df.iterrows():\n",
    "    mutation = row['snv']\n",
    "    on_tips = row['arose_on_tip']\n",
    "    on_internal_nodes = row['arose_on_internal_node']\n",
    "    \n",
    "    table = [[snps_on_nodes,snps_on_tips],[on_internal_nodes,on_tips]]\n",
    "    p_value = (stats.fisher_exact(table))[1]\n",
    "        \n",
    "    if p_value < 0.05:\n",
    "        print(mutation, p_value)\n",
    "        \n",
    "    # assign stars\n",
    "    if p_value > 0.01 and p_value < 0.05:\n",
    "        significance = \"*\"\n",
    "\n",
    "    elif p_value > 0.001 and p_value < 0.01:\n",
    "        significance = \"**\"\n",
    "        \n",
    "    elif p_value > 0.0001 and p_value < 0.001:\n",
    "        significance = \"***\"\n",
    "    \n",
    "    elif p_value < 0.0001:\n",
    "        significance = \"****\"\n",
    "        \n",
    "    else: \n",
    "        significance = \"\"\n",
    "            \n",
    "    p_values[mutation] = {\"p_value\":p_value, \"significance\":significance}"
   ]
  },
  {
   "cell_type": "code",
   "execution_count": 51,
   "metadata": {},
   "outputs": [],
   "source": [
    "## p_values"
   ]
  },
  {
   "cell_type": "code",
   "execution_count": 52,
   "metadata": {},
   "outputs": [
    {
     "name": "stdout",
     "output_type": "stream",
     "text": [
      "480\n",
      "143\n",
      "623\n"
     ]
    }
   ],
   "source": [
    "print(len(df[df['arose_on_tip'] == 0]))\n",
    "print(len(df[df['arose_on_tip'] > 0]))\n",
    "print(len(df))"
   ]
  },
  {
   "cell_type": "code",
   "execution_count": 53,
   "metadata": {},
   "outputs": [
    {
     "name": "stdout",
     "output_type": "stream",
     "text": [
      "558\n",
      "65\n",
      "623\n"
     ]
    }
   ],
   "source": [
    "print(len(df[df['arose_on_internal_node'] == 0]))\n",
    "print(len(df[df['arose_on_internal_node'] > 0]))\n",
    "print(len(df))"
   ]
  },
  {
   "cell_type": "code",
   "execution_count": 71,
   "metadata": {},
   "outputs": [
    {
     "data": {
      "text/html": [
       "<div>\n",
       "<style scoped>\n",
       "    .dataframe tbody tr th:only-of-type {\n",
       "        vertical-align: middle;\n",
       "    }\n",
       "\n",
       "    .dataframe tbody tr th {\n",
       "        vertical-align: top;\n",
       "    }\n",
       "\n",
       "    .dataframe thead th {\n",
       "        text-align: right;\n",
       "    }\n",
       "</style>\n",
       "<table border=\"1\" class=\"dataframe\">\n",
       "  <thead>\n",
       "    <tr style=\"text-align: right;\">\n",
       "      <th></th>\n",
       "      <th>snv</th>\n",
       "      <th>branches_with_snv</th>\n",
       "      <th>arose_on_tip</th>\n",
       "      <th>arose_on_internal_node</th>\n",
       "    </tr>\n",
       "  </thead>\n",
       "  <tbody>\n",
       "    <tr>\n",
       "      <th>105</th>\n",
       "      <td>A11983G</td>\n",
       "      <td>[Ecuador/USFQ-097/2020, NODE_0003139]</td>\n",
       "      <td>1</td>\n",
       "      <td>1</td>\n",
       "    </tr>\n",
       "    <tr>\n",
       "      <th>151</th>\n",
       "      <td>A29433G</td>\n",
       "      <td>[NODE_0000288]</td>\n",
       "      <td>0</td>\n",
       "      <td>1</td>\n",
       "    </tr>\n",
       "    <tr>\n",
       "      <th>168</th>\n",
       "      <td>C10138T</td>\n",
       "      <td>[NODE_0000543, NODE_0000158, Norway/2858/2020]</td>\n",
       "      <td>1</td>\n",
       "      <td>2</td>\n",
       "    </tr>\n",
       "    <tr>\n",
       "      <th>170</th>\n",
       "      <td>C10228T</td>\n",
       "      <td>[Israel/CVL-n26150/2020, NODE_0004628, Oman/20...</td>\n",
       "      <td>2</td>\n",
       "      <td>1</td>\n",
       "    </tr>\n",
       "    <tr>\n",
       "      <th>178</th>\n",
       "      <td>C11575T</td>\n",
       "      <td>[NODE_0002230, HongKong/HKU-200723-056/2020]</td>\n",
       "      <td>1</td>\n",
       "      <td>1</td>\n",
       "    </tr>\n",
       "  </tbody>\n",
       "</table>\n",
       "</div>"
      ],
      "text/plain": [
       "         snv                                  branches_with_snv  arose_on_tip  \\\n",
       "105  A11983G              [Ecuador/USFQ-097/2020, NODE_0003139]             1   \n",
       "151  A29433G                                     [NODE_0000288]             0   \n",
       "168  C10138T     [NODE_0000543, NODE_0000158, Norway/2858/2020]             1   \n",
       "170  C10228T  [Israel/CVL-n26150/2020, NODE_0004628, Oman/20...             2   \n",
       "178  C11575T       [NODE_0002230, HongKong/HKU-200723-056/2020]             1   \n",
       "\n",
       "     arose_on_internal_node  \n",
       "105                       1  \n",
       "151                       1  \n",
       "168                       2  \n",
       "170                       1  \n",
       "178                       1  "
      ]
     },
     "execution_count": 71,
     "metadata": {},
     "output_type": "execute_result"
    }
   ],
   "source": [
    "df2 = df[df['arose_on_internal_node'] > 0]\n",
    "df2.head()"
   ]
  },
  {
   "cell_type": "code",
   "execution_count": null,
   "metadata": {},
   "outputs": [],
   "source": [
    "df3 = df[df['arose_on_tip'] > 0]\n",
    "df3"
   ]
  },
  {
   "cell_type": "code",
   "execution_count": null,
   "metadata": {},
   "outputs": [],
   "source": []
  },
  {
   "cell_type": "code",
   "execution_count": 91,
   "metadata": {},
   "outputs": [
    {
     "data": {
      "text/html": [
       "<div>\n",
       "<style scoped>\n",
       "    .dataframe tbody tr th:only-of-type {\n",
       "        vertical-align: middle;\n",
       "    }\n",
       "\n",
       "    .dataframe tbody tr th {\n",
       "        vertical-align: top;\n",
       "    }\n",
       "\n",
       "    .dataframe thead th {\n",
       "        text-align: right;\n",
       "    }\n",
       "</style>\n",
       "<table border=\"1\" class=\"dataframe\">\n",
       "  <thead>\n",
       "    <tr style=\"text-align: right;\">\n",
       "      <th></th>\n",
       "      <th>snv</th>\n",
       "      <th>branches_with_snv</th>\n",
       "      <th>arose_on_tip</th>\n",
       "      <th>arose_on_internal_node</th>\n",
       "    </tr>\n",
       "  </thead>\n",
       "  <tbody>\n",
       "    <tr>\n",
       "      <th>0</th>\n",
       "      <td>-1026T</td>\n",
       "      <td>[]</td>\n",
       "      <td>0</td>\n",
       "      <td>0</td>\n",
       "    </tr>\n",
       "    <tr>\n",
       "      <th>1</th>\n",
       "      <td>-10386T</td>\n",
       "      <td>[]</td>\n",
       "      <td>0</td>\n",
       "      <td>0</td>\n",
       "    </tr>\n",
       "    <tr>\n",
       "      <th>2</th>\n",
       "      <td>-10605T</td>\n",
       "      <td>[]</td>\n",
       "      <td>0</td>\n",
       "      <td>0</td>\n",
       "    </tr>\n",
       "    <tr>\n",
       "      <th>3</th>\n",
       "      <td>-10619A</td>\n",
       "      <td>[]</td>\n",
       "      <td>0</td>\n",
       "      <td>0</td>\n",
       "    </tr>\n",
       "    <tr>\n",
       "      <th>4</th>\n",
       "      <td>-11074T</td>\n",
       "      <td>[]</td>\n",
       "      <td>0</td>\n",
       "      <td>0</td>\n",
       "    </tr>\n",
       "  </tbody>\n",
       "</table>\n",
       "</div>"
      ],
      "text/plain": [
       "       snv branches_with_snv  arose_on_tip  arose_on_internal_node\n",
       "0   -1026T                []             0                       0\n",
       "1  -10386T                []             0                       0\n",
       "2  -10605T                []             0                       0\n",
       "3  -10619A                []             0                       0\n",
       "4  -11074T                []             0                       0"
      ]
     },
     "execution_count": 91,
     "metadata": {},
     "output_type": "execute_result"
    }
   ],
   "source": [
    "df.head()"
   ]
  },
  {
   "cell_type": "code",
   "execution_count": 92,
   "metadata": {},
   "outputs": [
    {
     "data": {
      "text/html": [
       "<div>\n",
       "<style scoped>\n",
       "    .dataframe tbody tr th:only-of-type {\n",
       "        vertical-align: middle;\n",
       "    }\n",
       "\n",
       "    .dataframe tbody tr th {\n",
       "        vertical-align: top;\n",
       "    }\n",
       "\n",
       "    .dataframe thead th {\n",
       "        text-align: right;\n",
       "    }\n",
       "</style>\n",
       "<table border=\"1\" class=\"dataframe\">\n",
       "  <thead>\n",
       "    <tr style=\"text-align: right;\">\n",
       "      <th></th>\n",
       "      <th>snv</th>\n",
       "      <th>total_counts</th>\n",
       "      <th>variable</th>\n",
       "      <th>value</th>\n",
       "    </tr>\n",
       "  </thead>\n",
       "  <tbody>\n",
       "    <tr>\n",
       "      <th>0</th>\n",
       "      <td>-1026T</td>\n",
       "      <td>0</td>\n",
       "      <td>arose_on_tip</td>\n",
       "      <td>0</td>\n",
       "    </tr>\n",
       "    <tr>\n",
       "      <th>1</th>\n",
       "      <td>-10386T</td>\n",
       "      <td>0</td>\n",
       "      <td>arose_on_tip</td>\n",
       "      <td>0</td>\n",
       "    </tr>\n",
       "    <tr>\n",
       "      <th>2</th>\n",
       "      <td>-10605T</td>\n",
       "      <td>0</td>\n",
       "      <td>arose_on_tip</td>\n",
       "      <td>0</td>\n",
       "    </tr>\n",
       "    <tr>\n",
       "      <th>3</th>\n",
       "      <td>-10619A</td>\n",
       "      <td>0</td>\n",
       "      <td>arose_on_tip</td>\n",
       "      <td>0</td>\n",
       "    </tr>\n",
       "    <tr>\n",
       "      <th>4</th>\n",
       "      <td>-11074T</td>\n",
       "      <td>0</td>\n",
       "      <td>arose_on_tip</td>\n",
       "      <td>0</td>\n",
       "    </tr>\n",
       "  </tbody>\n",
       "</table>\n",
       "</div>"
      ],
      "text/plain": [
       "       snv  total_counts      variable  value\n",
       "0   -1026T             0  arose_on_tip      0\n",
       "1  -10386T             0  arose_on_tip      0\n",
       "2  -10605T             0  arose_on_tip      0\n",
       "3  -10619A             0  arose_on_tip      0\n",
       "4  -11074T             0  arose_on_tip      0"
      ]
     },
     "execution_count": 92,
     "metadata": {},
     "output_type": "execute_result"
    }
   ],
   "source": [
    "df_to_plot = df.copy()\n",
    "df_to_plot['total_counts'] = df_to_plot['arose_on_tip'] + df_to_plot['arose_on_internal_node']\n",
    "df_to_plot = df_to_plot.melt(value_vars=['arose_on_tip','arose_on_internal_node'], id_vars=['snv','total_counts'])\n",
    "df_to_plot.head()"
   ]
  },
  {
   "cell_type": "code",
   "execution_count": 93,
   "metadata": {},
   "outputs": [
    {
     "data": {
      "text/html": [
       "<div>\n",
       "<style scoped>\n",
       "    .dataframe tbody tr th:only-of-type {\n",
       "        vertical-align: middle;\n",
       "    }\n",
       "\n",
       "    .dataframe tbody tr th {\n",
       "        vertical-align: top;\n",
       "    }\n",
       "\n",
       "    .dataframe thead th {\n",
       "        text-align: right;\n",
       "    }\n",
       "</style>\n",
       "<table border=\"1\" class=\"dataframe\">\n",
       "  <thead>\n",
       "    <tr style=\"text-align: right;\">\n",
       "      <th></th>\n",
       "      <th>snv</th>\n",
       "      <th>total_counts</th>\n",
       "      <th>variable</th>\n",
       "      <th>value</th>\n",
       "      <th>p-value</th>\n",
       "      <th>significance</th>\n",
       "    </tr>\n",
       "  </thead>\n",
       "  <tbody>\n",
       "    <tr>\n",
       "      <th>0</th>\n",
       "      <td>-1026T</td>\n",
       "      <td>0</td>\n",
       "      <td>arose_on_tip</td>\n",
       "      <td>0</td>\n",
       "      <td>1.0</td>\n",
       "      <td></td>\n",
       "    </tr>\n",
       "    <tr>\n",
       "      <th>1</th>\n",
       "      <td>-1026T</td>\n",
       "      <td>0</td>\n",
       "      <td>arose_on_internal_node</td>\n",
       "      <td>0</td>\n",
       "      <td>1.0</td>\n",
       "      <td></td>\n",
       "    </tr>\n",
       "    <tr>\n",
       "      <th>2</th>\n",
       "      <td>-10386T</td>\n",
       "      <td>0</td>\n",
       "      <td>arose_on_tip</td>\n",
       "      <td>0</td>\n",
       "      <td>1.0</td>\n",
       "      <td></td>\n",
       "    </tr>\n",
       "    <tr>\n",
       "      <th>3</th>\n",
       "      <td>-10386T</td>\n",
       "      <td>0</td>\n",
       "      <td>arose_on_internal_node</td>\n",
       "      <td>0</td>\n",
       "      <td>1.0</td>\n",
       "      <td></td>\n",
       "    </tr>\n",
       "    <tr>\n",
       "      <th>4</th>\n",
       "      <td>-10605T</td>\n",
       "      <td>0</td>\n",
       "      <td>arose_on_tip</td>\n",
       "      <td>0</td>\n",
       "      <td>1.0</td>\n",
       "      <td></td>\n",
       "    </tr>\n",
       "  </tbody>\n",
       "</table>\n",
       "</div>"
      ],
      "text/plain": [
       "       snv  total_counts                variable  value  p-value significance\n",
       "0   -1026T             0            arose_on_tip      0      1.0             \n",
       "1   -1026T             0  arose_on_internal_node      0      1.0             \n",
       "2  -10386T             0            arose_on_tip      0      1.0             \n",
       "3  -10386T             0  arose_on_internal_node      0      1.0             \n",
       "4  -10605T             0            arose_on_tip      0      1.0             "
      ]
     },
     "execution_count": 93,
     "metadata": {},
     "output_type": "execute_result"
    }
   ],
   "source": [
    "# add in p-values column\n",
    "p_values_df = pd.DataFrame.from_dict(p_values, orient=\"index\")\n",
    "p_values_df.reset_index(inplace=True)\n",
    "p_values_df.columns = [\"snv\",\"p-value\",\"significance\"]\n",
    "\n",
    "\n",
    "df_to_plot = df_to_plot.merge(p_values_df, on=['snv'])\n",
    "df_to_plot.head()"
   ]
  },
  {
   "cell_type": "code",
   "execution_count": 100,
   "metadata": {},
   "outputs": [
    {
     "data": {
      "text/html": [
       "<div>\n",
       "<style scoped>\n",
       "    .dataframe tbody tr th:only-of-type {\n",
       "        vertical-align: middle;\n",
       "    }\n",
       "\n",
       "    .dataframe tbody tr th {\n",
       "        vertical-align: top;\n",
       "    }\n",
       "\n",
       "    .dataframe thead th {\n",
       "        text-align: right;\n",
       "    }\n",
       "</style>\n",
       "<table border=\"1\" class=\"dataframe\">\n",
       "  <thead>\n",
       "    <tr style=\"text-align: right;\">\n",
       "      <th></th>\n",
       "      <th>snv</th>\n",
       "      <th>total_counts</th>\n",
       "      <th>variable</th>\n",
       "      <th>value</th>\n",
       "      <th>p-value</th>\n",
       "      <th>significance</th>\n",
       "    </tr>\n",
       "  </thead>\n",
       "  <tbody>\n",
       "    <tr>\n",
       "      <th>198</th>\n",
       "      <td>A10874G</td>\n",
       "      <td>2</td>\n",
       "      <td>arose_on_tip</td>\n",
       "      <td>2</td>\n",
       "      <td>1.000000</td>\n",
       "      <td></td>\n",
       "    </tr>\n",
       "    <tr>\n",
       "      <th>204</th>\n",
       "      <td>A11451G</td>\n",
       "      <td>1</td>\n",
       "      <td>arose_on_tip</td>\n",
       "      <td>1</td>\n",
       "      <td>1.000000</td>\n",
       "      <td></td>\n",
       "    </tr>\n",
       "    <tr>\n",
       "      <th>210</th>\n",
       "      <td>A11983G</td>\n",
       "      <td>2</td>\n",
       "      <td>arose_on_tip</td>\n",
       "      <td>1</td>\n",
       "      <td>0.416675</td>\n",
       "      <td></td>\n",
       "    </tr>\n",
       "    <tr>\n",
       "      <th>211</th>\n",
       "      <td>A11983G</td>\n",
       "      <td>2</td>\n",
       "      <td>arose_on_internal_node</td>\n",
       "      <td>1</td>\n",
       "      <td>0.416675</td>\n",
       "      <td></td>\n",
       "    </tr>\n",
       "    <tr>\n",
       "      <th>212</th>\n",
       "      <td>A12557G</td>\n",
       "      <td>1</td>\n",
       "      <td>arose_on_tip</td>\n",
       "      <td>1</td>\n",
       "      <td>1.000000</td>\n",
       "      <td></td>\n",
       "    </tr>\n",
       "  </tbody>\n",
       "</table>\n",
       "</div>"
      ],
      "text/plain": [
       "         snv  total_counts                variable  value   p-value  \\\n",
       "198  A10874G             2            arose_on_tip      2  1.000000   \n",
       "204  A11451G             1            arose_on_tip      1  1.000000   \n",
       "210  A11983G             2            arose_on_tip      1  0.416675   \n",
       "211  A11983G             2  arose_on_internal_node      1  0.416675   \n",
       "212  A12557G             1            arose_on_tip      1  1.000000   \n",
       "\n",
       "    significance  \n",
       "198               \n",
       "204               \n",
       "210               \n",
       "211               \n",
       "212               "
      ]
     },
     "execution_count": 100,
     "metadata": {},
     "output_type": "execute_result"
    }
   ],
   "source": [
    "df_to_plot = df_to_plot[~df_to_plot['snv'].str.contains(\"-\")]\n",
    "df_to_plot = df_to_plot[df_to_plot['value'] > 0]\n",
    "df_to_plot.head()"
   ]
  },
  {
   "cell_type": "code",
   "execution_count": 101,
   "metadata": {},
   "outputs": [],
   "source": [
    "tip_color = \"#C75643\"\n",
    "node_color = \"#545AB7\""
   ]
  },
  {
   "cell_type": "code",
   "execution_count": 104,
   "metadata": {},
   "outputs": [
    {
     "data": {
      "image/png": "[encoded data removed]"
     },
     "metadata": {},
     "output_type": "display_data"
    }
   ],
   "source": [
    "%%R -w 800 -h 500 -u px -i df_to_plot,tip_color,node_color  # this sets the size of the plot...otherwise, it will go off the page\n",
    "\n",
    "require(ggplot2)\n",
    "library(ggplot2)\n",
    "library(RColorBrewer)\n",
    "\n",
    "p <- ggplot(data=df_to_plot, aes(x=snv, y=value, color=variable, fill=variable)) + \n",
    "    geom_col()+\n",
    "    geom_text(data=df_to_plot, aes(x=snv, y=total_counts + 0.5, label=significance), color=\"black\",size=15)+\n",
    "    labs(x=\"\\nSNV\",y=\"observations on tree\\n\")+\n",
    "    scale_color_manual(values=c(arose_on_tip=tip_color,arose_on_internal_node=node_color), guide=FALSE)+\n",
    "    scale_fill_manual(values=c(arose_on_tip=tip_color,arose_on_internal_node=node_color), labels=c(\"tip\", \"internal node\"))+\n",
    "    scale_y_continuous(breaks=seq(0,55,5), limits=c(0,55))+\n",
    "    theme(panel.grid.major=element_line(colour=NA,size=NA))+    \n",
    "    theme(panel.grid.minor=element_line(colour=NA,size=NA))+    \n",
    "    theme(strip.background = element_rect(colour=NA, fill=NA))+\n",
    "    theme(axis.line.x=element_line(colour=\"black\"))+\n",
    "    theme(axis.line.y=element_line(colour=\"black\"))+\n",
    "    theme(axis.title=element_text(size=22, vjust=5))+\n",
    "    theme(axis.text.y=element_text(size=18, colour=\"black\"))+\n",
    "    theme(axis.text.x=element_text(size=10, colour=\"black\", angle=90, hjust=0.95))+\n",
    "    theme(legend.text=element_text(size=18))+\n",
    "    theme(legend.title=element_text(size=22))+\n",
    "    theme(panel.margin=unit(1, \"lines\"))+\n",
    "    theme(plot.margin=unit(c(1,4,1,1),\"cm\"))+\n",
    "    theme(legend.key.size=unit(0.7, \"cm\"))+\n",
    "    theme(panel.background=element_rect(fill=NA))+\n",
    "    theme(legend.key=element_rect(fill=NA))+\n",
    "    theme(legend.position = c(1.0, 0.75))+\n",
    "    guides(fill=guide_legend(title=\"where SNV arose\"))\n",
    "\n",
    "ggsave(\"SNVs-on-tree-2020-08-20.pdf\", width = 24, height = 10, device = \"pdf\", path = \"/Users/lmoncla/src/ncov-WI-within-host/figures/\", dpi = 300)\n",
    "p"
   ]
  },
  {
   "cell_type": "code",
   "execution_count": null,
   "metadata": {},
   "outputs": [],
   "source": []
  },
  {
   "cell_type": "markdown",
   "metadata": {},
   "source": [
    "## Do within-host variants appear downstream of the sample they were taken from?\n",
    "\n"
   ]
  },
  {
   "cell_type": "code",
   "execution_count": 114,
   "metadata": {},
   "outputs": [],
   "source": [
    "def return_within_host_muts_for_branch(branch, df):\n",
    "    d = df[df['strain_name'] == branch.name]\n",
    "    within_host_muts = d['nuc_muts'].to_list()\n",
    "    return(within_host_muts)"
   ]
  },
  {
   "cell_type": "code",
   "execution_count": 125,
   "metadata": {},
   "outputs": [],
   "source": [
    "def return_within_host_muts_for_tip_name(tip_name, df):\n",
    "    d = df[df['strain_name'] == tip_name]\n",
    "    within_host_muts = d['nuc_muts'].to_list()\n",
    "    return(within_host_muts)"
   ]
  },
  {
   "cell_type": "code",
   "execution_count": 115,
   "metadata": {},
   "outputs": [],
   "source": [
    "def return_proper_parent_node(node):\n",
    "    \"\"\"given an internal node, traverse back up the tree to find a parental node with a \n",
    "    real branch length (basically, collapse the polytomy). This is necessary for most \n",
    "    tree software, including iqtree and treetime, which both normally atempt to resolve\n",
    "    polytomies, resulting in a fully bifurcating tree with lots of very tiny branches\"\"\"\n",
    "    \n",
    "    #print(node, node.length)\n",
    "    if abs(node.traits['node_attrs']['div'] - node.parent.traits['node_attrs']['div']) < 0.0000000001: \n",
    "        \n",
    "        #print(\"going up 1 node\")\n",
    "        if node.parent !=None:\n",
    "            parent_node = return_proper_parent_node(node.parent)\n",
    "        \n",
    "        else:\n",
    "            #print(\"root is proper parent\")\n",
    "            parent_node = node\n",
    "    \n",
    "    else: \n",
    "        #print(\"current node has proper length\")\n",
    "        parent_node = node\n",
    "    \n",
    "    return(parent_node)"
   ]
  },
  {
   "cell_type": "code",
   "execution_count": 116,
   "metadata": {},
   "outputs": [],
   "source": [
    "def return_nt_muts_on_branch(branch):\n",
    "    nt_muts = []\n",
    "    if 'branch_attrs' in branch.traits:\n",
    "        if 'mutations' in branch.traits['branch_attrs']:\n",
    "            if 'nuc' in branch.traits['branch_attrs']['mutations']:\n",
    "                nt_muts = branch.traits['branch_attrs']['mutations']['nuc']\n",
    "                            \n",
    "    return(nt_muts)"
   ]
  },
  {
   "cell_type": "code",
   "execution_count": 117,
   "metadata": {},
   "outputs": [],
   "source": [
    "\"\"\"Given a starting internal node, and a tip you would like to end at, traverse the full path from that node to\n",
    "tip. Along the way, gather nucleotide mutations that occur along that path. Once you have reached the ending \n",
    "tip, return the list of mutations that fell along that path\"\"\"\n",
    "\n",
    "def return_all_muts_on_path_to_tip(starting_node, ending_tip):\n",
    "    \n",
    "    # set an empty list of mutations and enumerate the children of the starting node; children can be tips or nodes\n",
    "    muts = []\n",
    "    children = starting_node.children\n",
    "    \n",
    "    for child in children:\n",
    "        nt_muts = []\n",
    "        \n",
    "        \"\"\"if the child is a leaf: if leaf is the target end tip, add the mutations that occur on that branch to the list\n",
    "        and return the list; if leaf is not the target end tip, move on\"\"\"\n",
    "        \"\"\"if the child is an internal node: first, test whether that child node contains the target tips in its \n",
    "        children. child.leaves will output a list of the names of all tips descending from that node. If not, pass. \n",
    "        if the node does contain the target end tip in its leaves, keep traversing down that node recursively, \n",
    "        collecting mutations as you go\"\"\"\n",
    "\n",
    "        if child.branchType == \"leaf\":\n",
    "            if child.name != ending_tip:\n",
    "                pass\n",
    "            elif child.name == ending_tip:\n",
    "                nt_muts = return_nt_muts_on_branch(child)\n",
    "                for n in nt_muts:\n",
    "                    muts.append(n)\n",
    "                return(muts)\n",
    "        \n",
    "        \n",
    "        elif child.branchType == \"node\":\n",
    "            if ending_tip not in child.leaves:\n",
    "                pass\n",
    "            else:\n",
    "                nt_muts = return_nt_muts_on_branch(child)\n",
    "                for n in nt_muts:\n",
    "                    muts.append(nt_muts)\n",
    "                return_all_muts_on_path_to_tip(child, ending_tip)\n",
    "    \n",
    "    \n",
    "    # flatten the list so that you don't have nested lists\n",
    "    flat_list = [item for sublist in muts for item in sublist]\n",
    "    return(flat_list)"
   ]
  },
  {
   "cell_type": "code",
   "execution_count": 143,
   "metadata": {},
   "outputs": [],
   "source": [
    "def run_tree_test(input_tree, df_to_run):\n",
    "    on_internal_nodes = 0\n",
    "    has_WI_children = {}\n",
    "    for k in input_tree.Objects: \n",
    "\n",
    "        \"\"\"if the tip is one of the Wisconson sequences for which we have within-host data, pull out its division, \n",
    "        divergence value, and the divergence of its parent node\"\"\"\n",
    "        if k.name in strain_names_to_query:\n",
    "            has_WI_children[k.name] = []\n",
    "\n",
    "            k_within_host_muts = return_within_host_muts_for_branch(k, df_to_run)\n",
    "\n",
    "            if 'division' in k.traits['node_attrs']:\n",
    "                division = k.traits['node_attrs']['division']['value']\n",
    "                branch_length = k.traits['node_attrs']['div']\n",
    "                parent_branch_length = k.parent.traits['node_attrs']['div']\n",
    "\n",
    "\n",
    "                \"\"\"if you lie on an internal node and are from Wisconsin, find the proper parent (collapsing very small\n",
    "                branches induced by polytomy resolution) and return all children descending from that parent node\"\"\"\n",
    "                if branch_length - parent_branch_length < 0.000000001:\n",
    "                    on_internal_nodes += 1\n",
    "                    #print(k.name, \"lies on internal node\")\n",
    "                    #if division == \"Wisconsin\":\n",
    "                    proper_parent = return_proper_parent_node(k.parent)\n",
    "                    child_tips = proper_parent.leaves\n",
    "                    #print(child_tips)\n",
    "\n",
    "                    \"\"\"next, for child, traverse the path from parent to child, enumerating mutations that fall \n",
    "                    along that path\"\"\"\n",
    "                    for c in child_tips:\n",
    "                        mutations = return_all_muts_on_path_to_tip(proper_parent, c)\n",
    "                        for m in mutations: \n",
    "                            if m in k_within_host_muts:\n",
    "                                print(k.name, c, m)\n",
    "                                \n",
    "                                \n",
    "                    \"\"\"finally, for child, if we have within-host data on that child tip, see if any match. The \n",
    "                    fuction I'm using here is slightly different, just in that is input a string instead of baltic\n",
    "                    branch object\"\"\"\n",
    "                    for c in child_tips:\n",
    "                        if c in strain_names_to_query and c != k.name:\n",
    "                            has_WI_children[k.name].append(c)\n",
    "                            child_within_host_muts = return_within_host_muts_for_tip_name(c, df_to_run)\n",
    "                            for m in child_within_host_muts: \n",
    "                                if m in k_within_host_muts: \n",
    "                                    #print(\"within-host mutation shared\", k.name, c, m)\n",
    "                                    pass\n",
    "    return(on_internal_nodes, has_WI_children)"
   ]
  },
  {
   "cell_type": "code",
   "execution_count": null,
   "metadata": {},
   "outputs": [],
   "source": []
  },
  {
   "cell_type": "code",
   "execution_count": 127,
   "metadata": {},
   "outputs": [
    {
     "name": "stdout",
     "output_type": "stream",
     "text": [
      "\n",
      "Tree height: 0.632565\n",
      "Tree length: 418.027815\n",
      "multitype tree\n",
      "annotations present\n",
      "\n",
      "Numbers of objects in tree: 15126 (7176 nodes and 7950 leaves)\n",
      "\n"
     ]
    }
   ],
   "source": [
    "# test this out first on the Wisconsin-only build json\n",
    "WI_tree_path = \"/Users/lmoncla/src/ncov-WI-within-host/data/ncov_wisconsin_global-context.json\"\n",
    "\n",
    "with open(WI_tree_path) as json_file:\n",
    "    WI_tree_json = json.load(json_file)\n",
    "WI_tree_object=WI_tree_json['tree']\n",
    "WI_meta=tree_json['meta']\n",
    "json_translation={'absoluteTime':lambda k: k.traits['node_attrs']['num_date']['value'],'name':'name'} ## allows baltic to find correct attributes in JSON, height and name are required at a minimum\n",
    "json_meta={'file':meta,'traitName':analysis_level} ## if you want auspice stylings you can import the meta file used on nextstrain.org\n",
    "\n",
    "WI_tree=bt.loadJSON(WI_tree_object,json_translation,json_meta)"
   ]
  },
  {
   "cell_type": "code",
   "execution_count": 128,
   "metadata": {},
   "outputs": [
    {
     "name": "stdout",
     "output_type": "stream",
     "text": [
      "100\n"
     ]
    }
   ],
   "source": [
    "strain_names_to_query = list(set(all_intersection_variants['strain_name']))\n",
    "#print(strain_names_to_query)\n",
    "print(len(strain_names_to_query))"
   ]
  },
  {
   "cell_type": "code",
   "execution_count": 144,
   "metadata": {},
   "outputs": [
    {
     "name": "stdout",
     "output_type": "stream",
     "text": [
      "USA/WI-UW-118/2020 France/PL1643/2020 C12049T\n",
      "USA/WI-UW-118/2020 PuertoRico/CDC-S18/2020 C8664T\n",
      "USA/WI-UW-118/2020 Sweden/20-51703/2020 C12049T\n"
     ]
    }
   ],
   "source": [
    "df_to_run = snvs_only\n",
    "tree_to_use = WI_tree\n",
    "\n",
    "on_internal_nodes, tips_with_WI_descendants = run_tree_test(tree_to_use, df_to_run)"
   ]
  },
  {
   "cell_type": "code",
   "execution_count": 145,
   "metadata": {},
   "outputs": [
    {
     "name": "stdout",
     "output_type": "stream",
     "text": [
      "77 100\n"
     ]
    }
   ],
   "source": [
    "print(on_internal_nodes, len(strain_names_to_query))"
   ]
  },
  {
   "cell_type": "markdown",
   "metadata": {},
   "source": [
    "So, out of 100 tips, 77 were on internal nodes. Of those, only 1 had downstream tips with fixed variants. Even this example is not a great one I don't think. "
   ]
  },
  {
   "cell_type": "code",
   "execution_count": null,
   "metadata": {},
   "outputs": [],
   "source": []
  },
  {
   "cell_type": "code",
   "execution_count": 150,
   "metadata": {},
   "outputs": [],
   "source": [
    "def compute_shared_variant_proportion(sample1,sample2,df):\n",
    "    shared_variants = 0\n",
    "    \n",
    "    s1_df = df[df['strain_name'] == sample1]\n",
    "    variants_in_s1 = set(s1_df['minor_nuc_muts'].tolist())\n",
    "    \n",
    "    s2_df = df[df['strain_name'] == sample2]\n",
    "    variants_in_s2 = set(s2_df['minor_nuc_muts'].tolist())\n",
    "    \n",
    "    total_variants = len(variants_in_s1) + len(variants_in_s2)\n",
    "    if total_variants == 0:\n",
    "        proportion_shared = 0\n",
    "    \n",
    "    else:\n",
    "        for v in variants_in_s1:\n",
    "            if v in variants_in_s2:\n",
    "                shared_variants += 2\n",
    "            \n",
    "        proportion_shared = float(shared_variants/total_variants)\n",
    "        number_shared = shared_variants\n",
    "            \n",
    "    return(proportion_shared, number_shared)"
   ]
  },
  {
   "cell_type": "code",
   "execution_count": 157,
   "metadata": {},
   "outputs": [],
   "source": [
    "# now enumerate, for tips with WI descendants, what is the probability that they share variants with one of their des?\n",
    "desc_df = pd.DataFrame()\n",
    "already_looked_at = []\n",
    "\n",
    "for t in tips_with_WI_descendants:\n",
    "    desc = tips_with_WI_descendants[t]\n",
    "    if len(desc) > 0:\n",
    "        for d in desc:\n",
    "            if set([t,d]) not in already_looked_at:      \n",
    "                prop_shared,number_shared = compute_shared_variant_proportion(t,d,df_to_run)\n",
    "                #print(prop_shared, number_shared)\n",
    "                local_dict = {\"ancestor\":[t],\"descendant\":[d],\"proportion_shared\":[prop_shared],\"number_shared\":[number_shared]}\n",
    "                local_df = pd.DataFrame.from_dict(local_dict)\n",
    "\n",
    "                desc_df = desc_df.append(local_df)\n",
    "                already_looked_at.append(set([t,d]))"
   ]
  },
  {
   "cell_type": "code",
   "execution_count": 159,
   "metadata": {},
   "outputs": [
    {
     "data": {
      "text/html": [
       "<div>\n",
       "<style scoped>\n",
       "    .dataframe tbody tr th:only-of-type {\n",
       "        vertical-align: middle;\n",
       "    }\n",
       "\n",
       "    .dataframe tbody tr th {\n",
       "        vertical-align: top;\n",
       "    }\n",
       "\n",
       "    .dataframe thead th {\n",
       "        text-align: right;\n",
       "    }\n",
       "</style>\n",
       "<table border=\"1\" class=\"dataframe\">\n",
       "  <thead>\n",
       "    <tr style=\"text-align: right;\">\n",
       "      <th></th>\n",
       "      <th>ancestor</th>\n",
       "      <th>descendant</th>\n",
       "      <th>proportion_shared</th>\n",
       "      <th>number_shared</th>\n",
       "    </tr>\n",
       "  </thead>\n",
       "  <tbody>\n",
       "    <tr>\n",
       "      <th>0</th>\n",
       "      <td>USA/WI-UW-70/2020</td>\n",
       "      <td>USA/WI-UW-129/2020</td>\n",
       "      <td>0.533333</td>\n",
       "      <td>16</td>\n",
       "    </tr>\n",
       "    <tr>\n",
       "      <th>0</th>\n",
       "      <td>USA/WI-UW-70/2020</td>\n",
       "      <td>USA/WI-UW-146/2020</td>\n",
       "      <td>0.142857</td>\n",
       "      <td>4</td>\n",
       "    </tr>\n",
       "    <tr>\n",
       "      <th>0</th>\n",
       "      <td>USA/WI-UW-70/2020</td>\n",
       "      <td>USA/WI-UW-66/2020</td>\n",
       "      <td>0.529412</td>\n",
       "      <td>18</td>\n",
       "    </tr>\n",
       "    <tr>\n",
       "      <th>0</th>\n",
       "      <td>USA/WI-UW-70/2020</td>\n",
       "      <td>USA/WI-UW-132/2020</td>\n",
       "      <td>0.562500</td>\n",
       "      <td>18</td>\n",
       "    </tr>\n",
       "    <tr>\n",
       "      <th>0</th>\n",
       "      <td>USA/WI-UW-70/2020</td>\n",
       "      <td>USA/WI-UW-117/2020</td>\n",
       "      <td>0.260870</td>\n",
       "      <td>6</td>\n",
       "    </tr>\n",
       "  </tbody>\n",
       "</table>\n",
       "</div>"
      ],
      "text/plain": [
       "            ancestor          descendant  proportion_shared  number_shared\n",
       "0  USA/WI-UW-70/2020  USA/WI-UW-129/2020           0.533333             16\n",
       "0  USA/WI-UW-70/2020  USA/WI-UW-146/2020           0.142857              4\n",
       "0  USA/WI-UW-70/2020   USA/WI-UW-66/2020           0.529412             18\n",
       "0  USA/WI-UW-70/2020  USA/WI-UW-132/2020           0.562500             18\n",
       "0  USA/WI-UW-70/2020  USA/WI-UW-117/2020           0.260870              6"
      ]
     },
     "execution_count": 159,
     "metadata": {},
     "output_type": "execute_result"
    }
   ],
   "source": [
    "desc_df.head()"
   ]
  },
  {
   "cell_type": "code",
   "execution_count": 160,
   "metadata": {},
   "outputs": [
    {
     "data": {
      "text/plain": [
       "0.43295305437002196"
      ]
     },
     "execution_count": 160,
     "metadata": {},
     "output_type": "execute_result"
    }
   ],
   "source": [
    "desc_df['proportion_shared'].mean()"
   ]
  },
  {
   "cell_type": "code",
   "execution_count": 206,
   "metadata": {},
   "outputs": [],
   "source": [
    "def return_unique_clusters(desc_dict):\n",
    "    \n",
    "    unique_clusters = []\n",
    "    sorted_desc_dict = {k: v for k, v in sorted(desc_dict.items(), key=lambda item: len(item[1]), reverse=True)}\n",
    "\n",
    "    for t in sorted_desc_dict:\n",
    "        descendants_list = sorted_desc_dict[t]\n",
    "\n",
    "        if len(descendants_list) > 0:\n",
    "            total_in_set = set(descendants_list + [t])\n",
    "\n",
    "            # if this set of strains doesn't already exist in our unique clusters\n",
    "            if len(unique_clusters) == 0:\n",
    "                unique_clusters.append(total_in_set)\n",
    "\n",
    "            elif total_in_set not in unique_clusters:\n",
    "\n",
    "                # check to see if the current total set is a subset of an existing cluster\n",
    "                is_subset = []\n",
    "                for u in unique_clusters:\n",
    "                    is_subset.append(total_in_set.issubset(u))\n",
    "\n",
    "                #print(set(is_subset))\n",
    "                if set(is_subset) == {False}:\n",
    "                    unique_clusters.append(total_in_set)\n",
    "\n",
    "    return(unique_clusters)"
   ]
  },
  {
   "cell_type": "code",
   "execution_count": 242,
   "metadata": {},
   "outputs": [],
   "source": [
    "def return_cluster_defining_mutations(unique_clusters,df):\n",
    "    cluster_id = 0\n",
    "    output_df = pd.DataFrame()\n",
    "    \n",
    "    for cluster in unique_clusters:\n",
    "        # assign a cluster id\n",
    "        cluster_id += 1\n",
    "        \n",
    "        # subset the dataframe to only strains in that cluster\n",
    "        cluster_df = df[df['strain_name'].isin(cluster)]\n",
    "        \n",
    "        # gather all unique within-host variants that are observed in members of that cluster\n",
    "        cluster_muts = cluster_df['minor_nuc_muts'].tolist()\n",
    "        non_single_cluster_muts = []\n",
    "        for c in cluster_muts: \n",
    "            if cluster_muts.count(c) > 1: #len(cluster)/2:  # if found in at least half\n",
    "                non_single_cluster_muts.append(c)\n",
    "                \n",
    "        cluster_muts = set(cluster_muts)\n",
    "        non_single_cluster_muts = set(non_single_cluster_muts)\n",
    "        \n",
    "        # for each strain in cluster, how many of the cluster muts do they have? \n",
    "        for strain in cluster:\n",
    "            shared_muts = 0\n",
    "            strain_df = df[df['strain_name'] == strain]\n",
    "            strain_muts = set(strain_df['minor_nuc_muts'].tolist())\n",
    "            for s in strain_muts: \n",
    "                if s in non_single_cluster_muts: \n",
    "                    shared_muts += 1\n",
    "            local_dict = {\"strain_name\":[strain],\"cluster\":[str(cluster_id)],\"number_cluster_muts\":[float(shared_muts)],\n",
    "                         \"total_non_single_muts_in_cluster\":[len(non_single_cluster_muts)],\"total_strain_in_cluster\":[len(cluster)]}\n",
    "            local_df = pd.DataFrame.from_dict(local_dict)\n",
    "            \n",
    "            \n",
    "            output_df = output_df.append(local_df)\n",
    "\n",
    "    return(output_df)"
   ]
  },
  {
   "cell_type": "code",
   "execution_count": 243,
   "metadata": {},
   "outputs": [
    {
     "data": {
      "text/html": [
       "<div>\n",
       "<style scoped>\n",
       "    .dataframe tbody tr th:only-of-type {\n",
       "        vertical-align: middle;\n",
       "    }\n",
       "\n",
       "    .dataframe tbody tr th {\n",
       "        vertical-align: top;\n",
       "    }\n",
       "\n",
       "    .dataframe thead th {\n",
       "        text-align: right;\n",
       "    }\n",
       "</style>\n",
       "<table border=\"1\" class=\"dataframe\">\n",
       "  <thead>\n",
       "    <tr style=\"text-align: right;\">\n",
       "      <th></th>\n",
       "      <th>strain_name</th>\n",
       "      <th>cluster</th>\n",
       "      <th>number_cluster_muts</th>\n",
       "      <th>total_non_single_muts_in_cluster</th>\n",
       "      <th>total_strain_in_cluster</th>\n",
       "    </tr>\n",
       "  </thead>\n",
       "  <tbody>\n",
       "    <tr>\n",
       "      <th>0</th>\n",
       "      <td>USA/WI-UW-217/2020</td>\n",
       "      <td>1</td>\n",
       "      <td>6.0</td>\n",
       "      <td>27</td>\n",
       "      <td>25</td>\n",
       "    </tr>\n",
       "    <tr>\n",
       "      <th>0</th>\n",
       "      <td>USA/WI-UW-246/2020</td>\n",
       "      <td>1</td>\n",
       "      <td>6.0</td>\n",
       "      <td>27</td>\n",
       "      <td>25</td>\n",
       "    </tr>\n",
       "    <tr>\n",
       "      <th>0</th>\n",
       "      <td>USA/WI-UW-231/2020</td>\n",
       "      <td>1</td>\n",
       "      <td>4.0</td>\n",
       "      <td>27</td>\n",
       "      <td>25</td>\n",
       "    </tr>\n",
       "    <tr>\n",
       "      <th>0</th>\n",
       "      <td>USA/WI-UW-306/2020</td>\n",
       "      <td>1</td>\n",
       "      <td>7.0</td>\n",
       "      <td>27</td>\n",
       "      <td>25</td>\n",
       "    </tr>\n",
       "    <tr>\n",
       "      <th>0</th>\n",
       "      <td>USA/WI-UW-232/2020</td>\n",
       "      <td>1</td>\n",
       "      <td>5.0</td>\n",
       "      <td>27</td>\n",
       "      <td>25</td>\n",
       "    </tr>\n",
       "  </tbody>\n",
       "</table>\n",
       "</div>"
      ],
      "text/plain": [
       "          strain_name cluster  number_cluster_muts  \\\n",
       "0  USA/WI-UW-217/2020       1                  6.0   \n",
       "0  USA/WI-UW-246/2020       1                  6.0   \n",
       "0  USA/WI-UW-231/2020       1                  4.0   \n",
       "0  USA/WI-UW-306/2020       1                  7.0   \n",
       "0  USA/WI-UW-232/2020       1                  5.0   \n",
       "\n",
       "   total_non_single_muts_in_cluster  total_strain_in_cluster  \n",
       "0                                27                       25  \n",
       "0                                27                       25  \n",
       "0                                27                       25  \n",
       "0                                27                       25  \n",
       "0                                27                       25  "
      ]
     },
     "execution_count": 243,
     "metadata": {},
     "output_type": "execute_result"
    }
   ],
   "source": [
    "unique_clusters = return_unique_clusters(tips_with_WI_descendants)\n",
    "\n",
    "cluster_df = return_cluster_defining_mutations(unique_clusters,df_to_run)\n",
    "cluster_df.head()"
   ]
  },
  {
   "cell_type": "code",
   "execution_count": 244,
   "metadata": {},
   "outputs": [],
   "source": [
    "# write to csv\n",
    "cluster_df.to_csv(\"/Users/lmoncla/src/ncov-WI-within-host/data/annotations-2020-08-21.csv\")"
   ]
  },
  {
   "cell_type": "markdown",
   "metadata": {},
   "source": [
    "### now I want to do a permutation test where I compare the proportion of variants shared within a cluster vs. between clusters "
   ]
  },
  {
   "cell_type": "code",
   "execution_count": 249,
   "metadata": {},
   "outputs": [],
   "source": [
    "def pick_2_random_numbers(list_to_sample_from):\n",
    "    \n",
    "    import random\n",
    "    selections = random.sample(list_to_sample_from, 2)\n",
    "    return(selections[0],selections[1])"
   ]
  },
  {
   "cell_type": "code",
   "execution_count": 250,
   "metadata": {},
   "outputs": [],
   "source": [
    "def run_permutation_test(iterations, df_to_run):\n",
    "    \n",
    "    # run a bunch of times\n",
    "    output_prop_list = []\n",
    "    output_number_list = []\n",
    "\n",
    "    for i in range(iterations):\n",
    "        # query all strains\n",
    "        list_to_query = set(df_to_run['strain_name'].tolist())\n",
    "        s1,s2 = pick_2_random_numbers(list_to_query)\n",
    "    \n",
    "        # with those random pairs of samples, compute the proportion of snvs that are shared\n",
    "        proportion_variants_shared,number_variants_shared = compute_shared_variant_proportion(s1,s2,df_to_run)\n",
    "        output_prop_list.append(proportion_variants_shared)\n",
    "#         output_number_list.append(number_variants_shared)\n",
    "        \n",
    "    # return dataframes\n",
    "    output_prop_df = pd.DataFrame(output_prop_list)\n",
    "    output_prop_df.columns = ['proportion_shared']\n",
    "    \n",
    "#     output_number_df = pd.DataFrame(output_number_list)\n",
    "#     output_number_df.columns = ['number_shared']\n",
    "\n",
    "    return(output_prop_list, output_prop_df)"
   ]
  },
  {
   "cell_type": "code",
   "execution_count": 266,
   "metadata": {},
   "outputs": [],
   "source": [
    "# run on\n",
    "iterations = 1000\n",
    "\n",
    "cluster1 = cluster_df[cluster_df['cluster'] == \"1\"]\n",
    "cluster1_df = snvs_only[snvs_only['strain_name'].isin(cluster1['strain_name'].tolist())]\n",
    "\n",
    "cluster2 = cluster_df[cluster_df['cluster'] == \"2\"]\n",
    "cluster2_df = snvs_only[snvs_only['strain_name'].isin(cluster2['strain_name'].tolist())]\n",
    "\n",
    "cluster1_prop_list, cluster1_prop_df = run_permutation_test(iterations, cluster1_df)\n",
    "cluster2_prop_list, cluster2_prop_df = run_permutation_test(iterations, cluster2_df)\n",
    "snvs_prop_list, snvs_prop_df = run_permutation_test(iterations, snvs_only)"
   ]
  },
  {
   "cell_type": "code",
   "execution_count": 267,
   "metadata": {},
   "outputs": [],
   "source": [
    "x = cluster1_prop_df\n",
    "x['test'] = \"cluster1\"\n",
    "z = cluster2_prop_df\n",
    "z['test'] = \"cluster2\"\n",
    "y = snvs_prop_df\n",
    "y['test'] = \"all\"\n",
    "combined_df = x.append(y.append(z))"
   ]
  },
  {
   "cell_type": "code",
   "execution_count": 270,
   "metadata": {},
   "outputs": [
    {
     "data": {
      "image/png": "[encoded data removed]"
     },
     "metadata": {},
     "output_type": "display_data"
    }
   ],
   "source": [
    "%%R -w 800 -h 500 -u px -i combined_df # this sets the size of the plot...otherwise, it will go off the page\n",
    "\n",
    "require(ggplot2)\n",
    "library(ggplot2)\n",
    "library(RColorBrewer)\n",
    "\n",
    "p <- ggplot(data=combined_df, aes(x=proportion_shared, color=test,fill=test)) + \n",
    "    geom_histogram(binwidth=0.05, position='dodge')+\n",
    "    #geom_label(data=df2, aes(x=fraction_shared,y=y,label=pair),label.size=NA, size=6)\n",
    "    labs(x=\"\\nproportion variants shared among pairs\",y=\"counts\\n\")+\n",
    "    scale_color_manual(values=c(\"grey60\",\"burlywood1\",\"burlywood3\"), guide=FALSE)+\n",
    "    scale_fill_manual(values=c(\"grey60\",\"burlywood1\",\"burlywood3\"))+\n",
    "# #     scale_fill_manual(values=c(arose_on_tip=tip_color,arose_on_internal_node=node_color), labels=c(\"tip\", \"internal node\"))+\n",
    "# #    scale_y_continuous(breaks=seq(0,35,5), limits=c(0,35))+\n",
    "    theme(panel.grid.major=element_line(colour=NA,size=NA))+    \n",
    "    theme(panel.grid.minor=element_line(colour=NA,size=NA))+    \n",
    "    theme(strip.background = element_rect(colour=NA, fill=NA))+\n",
    "    theme(axis.line.x=element_line(colour=\"black\"))+\n",
    "    theme(axis.line.y=element_line(colour=\"black\"))+\n",
    "    theme(axis.title=element_text(size=22, vjust=5))+\n",
    "    theme(axis.text.y=element_text(size=18, colour=\"black\"))+\n",
    "    theme(axis.text.x=element_text(size=18, colour=\"black\", hjust=0.95))+\n",
    "    theme(legend.text=element_text(size=18))+\n",
    "    theme(legend.title=element_text(size=22))+\n",
    "    theme(panel.margin=unit(1, \"lines\"))+\n",
    "    theme(plot.margin=unit(c(1,4,1,1),\"cm\"))+\n",
    "    theme(legend.key.size=unit(0.7, \"cm\"))+\n",
    "    theme(panel.background=element_rect(fill=NA))+\n",
    "    theme(legend.key=element_rect(fill=NA))+\n",
    "    theme(legend.position = c(1.0, 0.75))\n",
    "\n",
    "#ggsave(\"shared-variants-geo-permutation-test-2020-08-20-indels.pdf\", width = 12, height = 6, device = \"pdf\", path = \"/Users/lmoncla/src/ncov-WI-within-host/figures/\", dpi = 300)\n",
    "p"
   ]
  },
  {
   "cell_type": "code",
   "execution_count": null,
   "metadata": {},
   "outputs": [],
   "source": []
  }
 ],
 "metadata": {
  "kernelspec": {
   "display_name": "LHM-basics (python3)",
   "language": "python",
   "name": "lhm-basics"
  },
  "language_info": {
   "codemirror_mode": {
    "name": "ipython",
    "version": 3
   },
   "file_extension": ".py",
   "mimetype": "text/x-python",
   "name": "python",
   "nbconvert_exporter": "python",
   "pygments_lexer": "ipython3",
   "version": "3.7.3"
  }
 },
 "nbformat": 4,
 "nbformat_minor": 2
}
