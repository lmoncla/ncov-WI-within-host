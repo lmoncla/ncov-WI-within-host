{
 "cells": [
  {
   "cell_type": "markdown",
   "metadata": {},
   "source": [
    "# Determine whether within-host variants detected in Wisconsin transmission pairs are present on the SARS-CoV2 phylogeny\n",
    "\n",
    "May 8, 2020\n",
    "\n",
    "Kat and Gage have sequenced SARS-CoV2 from putative transmission pairs in Wisconsin. In this data, they see that there is a lot of shared within-host diversity between pairs, but that a lot of this diversity is also shared among non-transmission pairs of samples. This is concerning and a little weird. This was also observed in [this paper](https://www.medrxiv.org/content/10.1101/2020.04.24.20078691v1) that Gage found, although I have not read it closely. \n",
    "\n",
    "There are a few questions that I think would be nice to try to address by looking at the phylogeny: \n",
    "\n",
    "1. Are any of these recurrent within-host mutations also ones identified as problematic/likely errors by people looking at consensus data? If so, these should probably be excluded. I will use this virological post [here](http://virological.org/t/issues-with-sars-cov-2-sequencing-data/473)\n",
    "\n",
    "2. How frequently do within-host variants appear in consensus sequences? I would hypothesize that the vast majority of within-host variation being generated is not particularly advantageous. In this scenario, we would expect to observe only a small fraction of these within-host variants on the phylogeny, and when we do, we expect them to be primarily observed at terminal nodes rather than on internal branches.\n",
    "\n",
    "3. Do any of these within-host variants appear downstream at the consensus level from the host they were sampled in? By this I mean, if we observe a within-host variant in a particular person, is that infection upstream of later sampled cases? If so, is that variant detected at consensus level in any of those offspring infections? We will see. \n",
    "\n",
    "\n",
    "I think that for this analysis, it may be worthwhile to try to help them set up a Wisconsin-focused community build. This could use the new snakemake rules to generate a community build that focuses on Wisconsin but also pulls in sequences from elsewhere. This might be a nice thing to help facilitate and it would absolutely provide them with a better tree for inference than their current Wisconsin-only build. \n",
    "\n",
    "Kat mapped the genomes to this reference: MN908947.3.\n",
    "\n",
    "This is a link to their local nextstrain build http://35.226.31.45/Wisconsin?branchLabel=aa&c=clade_membership&r=location\n",
    "\n",
    "One note here is that indels are labelled differently in Kat's output files than in the nextstrain tree. In the nextstrain tree, `-505A` means that there was an A insertion at 505. `A505-` means that there was a deletion at 505. \n",
    "\n",
    "### Requirements: \n",
    "To run this, you will need to have all of the modules in the following block installed. You will also need to have the most recent version of baltic installed, which is available [here](https://github.com/evogytis/baltic/tree/master/docs)."
   ]
  },
  {
   "cell_type": "code",
   "execution_count": 1,
   "metadata": {},
   "outputs": [],
   "source": [
    "import imp\n",
    "import importlib, json\n",
    "import glob\n",
    "import re,copy,json\n",
    "import Bio.Phylo\n",
    "import requests\n",
    "import pandas as pd \n",
    "import numpy as np\n",
    "\n",
    "# for this to work, you will need to download the most recent version of baltic, available here \n",
    "bt = imp.load_source('baltic', '../baltic/baltic.py')\n",
    "\n",
    "import copy\n",
    "from scipy.special import binom\n",
    "import datetime as dt\n",
    "\n",
    "%matplotlib inline\n",
    "import matplotlib as mpl\n",
    "from matplotlib import pyplot as plt\n",
    "import matplotlib.patheffects as path_effects\n",
    "import matplotlib.lines as mlines\n",
    "from matplotlib.font_manager import FontProperties\n",
    "import matplotlib.colors as clr\n",
    "import textwrap as textwrap\n",
    "from textwrap import wrap\n",
    "\n",
    "from IPython.display import HTML\n",
    "\n",
    "\n",
    "try:\n",
    "    from StringIO import StringIO as sio\n",
    "    from cStringIO import StringIO as csio\n",
    "except ImportError:\n",
    "    from io import StringIO as sio\n",
    "    from io import BytesIO as csio\n",
    "    \n",
    "    \n",
    "import rpy2\n",
    "%load_ext rpy2.ipython"
   ]
  },
  {
   "cell_type": "code",
   "execution_count": 2,
   "metadata": {},
   "outputs": [],
   "source": [
    "# define which column we want to use to look at variants. Use 'nuc_muts' to characterize variants relative to the \n",
    "# Wuhan 1 reference, or 'minor_nuc_muts' to do a consensus-agnostic comparison\n",
    "variant_column = 'minor_nuc_muts'\n",
    "frequency_column = 'minor_frequency'"
   ]
  },
  {
   "cell_type": "markdown",
   "metadata": {},
   "source": [
    "## Read in vcfs and convert to dataframes \n",
    "\n",
    "I will only read in the intersection SNVs, meaning the ones that were detected in both technical sequencing replicates. This code will separate this into 2 dataframes, 1 for SNVs and 1 for indels, and will also look up and add in the strain names (necessary for converting from tube numbers, which is how the csvs are labelled). All of this code is contained in the ipython notebook called `vcf-module.ipynb`, which I am just going to import here. By running `return_dataframes`, this will collate all vcfs in the vcf directory, combine into a dataframe, and format that dataframe properly. "
   ]
  },
  {
   "cell_type": "code",
   "execution_count": 3,
   "metadata": {},
   "outputs": [],
   "source": [
    "\"\"\"to load in an ipython notebook as a module, just run the following. You will now have access to all of the \n",
    "functions written in that jupyter notebook\"\"\"\n",
    "\n",
    "%run vcf-module.ipynb"
   ]
  },
  {
   "cell_type": "code",
   "execution_count": 4,
   "metadata": {},
   "outputs": [],
   "source": [
    "# read in the current date \n",
    "from datetime import date\n",
    "today = date.today()\n",
    "current_date = str(today.strftime(\"%Y-%m-%d\"))"
   ]
  },
  {
   "cell_type": "code",
   "execution_count": 5,
   "metadata": {},
   "outputs": [],
   "source": [
    "\"\"\"now, input the strain names file/metadata file, the directory containing the vcfs, and return the dataframess\"\"\"\n",
    "\n",
    "strain_names_file = \"/Users/lmoncla/src/ncov-WI-within-host/data/sample-metadata.tsv\"\n",
    "fasta_file = \"../data/consensus-sequences-2021-01-25.fasta\"\n",
    "clades_file = \"../data/clades-file-2020-08-28.txt\"\n",
    "vcf_directory = \"../data/vcfs-all/\"\n",
    "\n",
    "# N transcript was a control; sample/tube 6, UW-30, has an snv at basically every single site after a certain \n",
    "# point in the genome. it has 418 SNVs!!! I'm excluding it; finally, I am going to exclude tube 127, USA/WI-UW-118/2020\n",
    "# which has >50 indels and >50 SNVs. It has a pretty high Ct as well, so I think these are probably errors as it is \n",
    "# a very clear outlier\n",
    "# remove 302, 303, 304, 302, 735, and 736 because these are time-series! \n",
    "samples_to_ignore = [\"N_transcript\",\"127\",\"302\",\"303\",\"304\",\"735\",\"736\"]\n",
    "\n",
    "# set the length of homopolymers that you want to use\n",
    "homopolymer_length = 3\n",
    "\n",
    "# set the variant percent that you want to use \n",
    "variant_percent = \"0.03\"\n",
    "\n",
    "snvs_only, all_intersection_variants,metadata_dict, strain_names_dict = return_dataframes(strain_names_file, clades_file,vcf_directory,samples_to_ignore,fasta_file, homopolymer_length)"
   ]
  },
  {
   "cell_type": "code",
   "execution_count": 6,
   "metadata": {},
   "outputs": [],
   "source": [
    "\"\"\"gather twist sites\"\"\"\n",
    "twist_sites = snvs_only[snvs_only['sampleid'] == \"twist_rna\"]['POS_x'].tolist()\n",
    "\n",
    "\"\"\"remove all rows containing variants at twist sites\"\"\"\n",
    "snvs_only = snvs_only[~snvs_only['POS_x'].isin(twist_sites)]"
   ]
  },
  {
   "cell_type": "code",
   "execution_count": 7,
   "metadata": {},
   "outputs": [],
   "source": [
    "\"\"\"subset data to include only SNVs and indels >3% frequency\"\"\"\n",
    "snvs_only = snvs_only[snvs_only[frequency_column] >= float(variant_percent)]\n",
    "\n",
    "\"\"\"subset data to include only SNVs and indels <50% frequency\"\"\"\n",
    "snvs_only = snvs_only[snvs_only[frequency_column] <= float(0.5)]"
   ]
  },
  {
   "cell_type": "code",
   "execution_count": 8,
   "metadata": {
    "scrolled": true
   },
   "outputs": [
    {
     "data": {
      "text/html": [
       "<div>\n",
       "<style scoped>\n",
       "    .dataframe tbody tr th:only-of-type {\n",
       "        vertical-align: middle;\n",
       "    }\n",
       "\n",
       "    .dataframe tbody tr th {\n",
       "        vertical-align: top;\n",
       "    }\n",
       "\n",
       "    .dataframe thead th {\n",
       "        text-align: right;\n",
       "    }\n",
       "</style>\n",
       "<table border=\"1\" class=\"dataframe\">\n",
       "  <thead>\n",
       "    <tr style=\"text-align: right;\">\n",
       "      <th></th>\n",
       "      <th>Unnamed: 0</th>\n",
       "      <th>SNP</th>\n",
       "      <th>POS_x</th>\n",
       "      <th>rep1_percent</th>\n",
       "      <th>rep2_percent</th>\n",
       "      <th>frequency</th>\n",
       "      <th>sampleid</th>\n",
       "      <th>gene</th>\n",
       "      <th>nt_change</th>\n",
       "      <th>aa_change</th>\n",
       "      <th>annotation</th>\n",
       "      <th>strain_name</th>\n",
       "      <th>location</th>\n",
       "      <th>clade</th>\n",
       "      <th>homopolymer</th>\n",
       "      <th>homopolymer_base</th>\n",
       "      <th>type_of_variant</th>\n",
       "    </tr>\n",
       "  </thead>\n",
       "  <tbody>\n",
       "    <tr>\n",
       "      <th>0</th>\n",
       "      <td>0</td>\n",
       "      <td>orf1ab_C&gt;T_Ser2839Ser_synonymous</td>\n",
       "      <td>8782.0</td>\n",
       "      <td>0.9376</td>\n",
       "      <td>0.8802</td>\n",
       "      <td>0.90890</td>\n",
       "      <td>53</td>\n",
       "      <td>orf1ab</td>\n",
       "      <td>C&gt;T</td>\n",
       "      <td>Ser2839Ser</td>\n",
       "      <td>synonymous</td>\n",
       "      <td>USA/WI-UW-67/2020</td>\n",
       "      <td>Dane County</td>\n",
       "      <td>19B</td>\n",
       "      <td>not</td>\n",
       "      <td>[]</td>\n",
       "      <td>snv</td>\n",
       "    </tr>\n",
       "    <tr>\n",
       "      <th>1</th>\n",
       "      <td>1</td>\n",
       "      <td>orf1ab_G&gt;A_Val5373Ile_missense</td>\n",
       "      <td>16381.0</td>\n",
       "      <td>0.9064</td>\n",
       "      <td>0.9449</td>\n",
       "      <td>0.92565</td>\n",
       "      <td>53</td>\n",
       "      <td>orf1ab</td>\n",
       "      <td>G&gt;A</td>\n",
       "      <td>Val5373Ile</td>\n",
       "      <td>missense</td>\n",
       "      <td>USA/WI-UW-67/2020</td>\n",
       "      <td>Dane County</td>\n",
       "      <td>19B</td>\n",
       "      <td>not</td>\n",
       "      <td>[]</td>\n",
       "      <td>snv</td>\n",
       "    </tr>\n",
       "    <tr>\n",
       "      <th>2</th>\n",
       "      <td>2</td>\n",
       "      <td>orf1ab_T&gt;C_Thr5871Thr_synonymous</td>\n",
       "      <td>17877.0</td>\n",
       "      <td>0.9543</td>\n",
       "      <td>0.9387</td>\n",
       "      <td>0.94650</td>\n",
       "      <td>53</td>\n",
       "      <td>orf1ab</td>\n",
       "      <td>T&gt;C</td>\n",
       "      <td>Thr5871Thr</td>\n",
       "      <td>synonymous</td>\n",
       "      <td>USA/WI-UW-67/2020</td>\n",
       "      <td>Dane County</td>\n",
       "      <td>19B</td>\n",
       "      <td>not</td>\n",
       "      <td>[]</td>\n",
       "      <td>snv</td>\n",
       "    </tr>\n",
       "    <tr>\n",
       "      <th>3</th>\n",
       "      <td>3</td>\n",
       "      <td>orf1ab_C&gt;T_Phe6684Phe_synonymous</td>\n",
       "      <td>20316.0</td>\n",
       "      <td>0.9047</td>\n",
       "      <td>0.9040</td>\n",
       "      <td>0.90435</td>\n",
       "      <td>53</td>\n",
       "      <td>orf1ab</td>\n",
       "      <td>C&gt;T</td>\n",
       "      <td>Phe6684Phe</td>\n",
       "      <td>synonymous</td>\n",
       "      <td>USA/WI-UW-67/2020</td>\n",
       "      <td>Dane County</td>\n",
       "      <td>19B</td>\n",
       "      <td>not</td>\n",
       "      <td>[]</td>\n",
       "      <td>snv</td>\n",
       "    </tr>\n",
       "    <tr>\n",
       "      <th>4</th>\n",
       "      <td>4</td>\n",
       "      <td>ORF3a_G&gt;T_Pro36Pro_synonymous</td>\n",
       "      <td>25500.0</td>\n",
       "      <td>0.9523</td>\n",
       "      <td>0.9624</td>\n",
       "      <td>0.95735</td>\n",
       "      <td>53</td>\n",
       "      <td>ORF3a</td>\n",
       "      <td>G&gt;T</td>\n",
       "      <td>Pro36Pro</td>\n",
       "      <td>synonymous</td>\n",
       "      <td>USA/WI-UW-67/2020</td>\n",
       "      <td>Dane County</td>\n",
       "      <td>19B</td>\n",
       "      <td>not</td>\n",
       "      <td>[]</td>\n",
       "      <td>snv</td>\n",
       "    </tr>\n",
       "  </tbody>\n",
       "</table>\n",
       "</div>"
      ],
      "text/plain": [
       "   Unnamed: 0                               SNP    POS_x  rep1_percent  \\\n",
       "0           0  orf1ab_C>T_Ser2839Ser_synonymous   8782.0        0.9376   \n",
       "1           1    orf1ab_G>A_Val5373Ile_missense  16381.0        0.9064   \n",
       "2           2  orf1ab_T>C_Thr5871Thr_synonymous  17877.0        0.9543   \n",
       "3           3  orf1ab_C>T_Phe6684Phe_synonymous  20316.0        0.9047   \n",
       "4           4     ORF3a_G>T_Pro36Pro_synonymous  25500.0        0.9523   \n",
       "\n",
       "   rep2_percent  frequency sampleid    gene nt_change   aa_change  annotation  \\\n",
       "0        0.8802    0.90890       53  orf1ab       C>T  Ser2839Ser  synonymous   \n",
       "1        0.9449    0.92565       53  orf1ab       G>A  Val5373Ile    missense   \n",
       "2        0.9387    0.94650       53  orf1ab       T>C  Thr5871Thr  synonymous   \n",
       "3        0.9040    0.90435       53  orf1ab       C>T  Phe6684Phe  synonymous   \n",
       "4        0.9624    0.95735       53   ORF3a       G>T    Pro36Pro  synonymous   \n",
       "\n",
       "         strain_name     location clade homopolymer homopolymer_base  \\\n",
       "0  USA/WI-UW-67/2020  Dane County   19B         not               []   \n",
       "1  USA/WI-UW-67/2020  Dane County   19B         not               []   \n",
       "2  USA/WI-UW-67/2020  Dane County   19B         not               []   \n",
       "3  USA/WI-UW-67/2020  Dane County   19B         not               []   \n",
       "4  USA/WI-UW-67/2020  Dane County   19B         not               []   \n",
       "\n",
       "  type_of_variant  \n",
       "0             snv  \n",
       "1             snv  \n",
       "2             snv  \n",
       "3             snv  \n",
       "4             snv  "
      ]
     },
     "execution_count": 8,
     "metadata": {},
     "output_type": "execute_result"
    }
   ],
   "source": [
    "all_intersection_variants.head()"
   ]
  },
  {
   "cell_type": "code",
   "execution_count": 9,
   "metadata": {},
   "outputs": [
    {
     "name": "stdout",
     "output_type": "stream",
     "text": [
      "1173\n"
     ]
    }
   ],
   "source": [
    "print(len(all_intersection_variants))"
   ]
  },
  {
   "cell_type": "code",
   "execution_count": 10,
   "metadata": {},
   "outputs": [
    {
     "name": "stdout",
     "output_type": "stream",
     "text": [
      "185\n"
     ]
    }
   ],
   "source": [
    "snvs_to_query = set(snvs_only[variant_column])\n",
    "print(len(snvs_to_query))"
   ]
  },
  {
   "cell_type": "markdown",
   "metadata": {},
   "source": [
    "## A small function to order the SNVs by site"
   ]
  },
  {
   "cell_type": "code",
   "execution_count": 11,
   "metadata": {},
   "outputs": [],
   "source": [
    "\"\"\"given a list of SNVs, sort them by their site number to make the resuling plot easier to read and look at\"\"\"\n",
    "\n",
    "def sort_mutations(muts):\n",
    "    muts_dict = {}\n",
    "    sites_list = []\n",
    "    final_order = []\n",
    "    \n",
    "    for m in muts:\n",
    "        site = int(m[1:-1])\n",
    "        \n",
    "        if site not in muts_dict:\n",
    "            muts_dict[site] = []\n",
    "            \n",
    "        muts_dict[site].append(m)\n",
    "        sites_list.append(site)\n",
    "    \n",
    "    sites_list = list(set(sites_list))\n",
    "    sites_list.sort()\n",
    "    \n",
    "    for s in sites_list:\n",
    "        for x in muts_dict[s]:\n",
    "            final_order.append(x)\n",
    "    \n",
    "    return(final_order)"
   ]
  },
  {
   "cell_type": "markdown",
   "metadata": {},
   "source": [
    "## Functions for parsing tree from nextstrain\n",
    "\n",
    "The idea here will be to answer the following questions: \n",
    "1. What proportion of within-host variants are present on the tree? \n",
    "2. Do within-host variants have a skew towards being on internal vs. terminal branches, relative to the rest of the tree? If within-host variants are mostly deleterious, we would hypothesize that they should occur on the tree rarely and should be localized primarily to internal nodes. \n",
    "3. Are variants that are detected within-host in a given sample ever detected at consensus downstream of that sample? If the bottleneck is small and random, then I would not really expect to see this. If however, the bottleneck is really wide, then we might expect to observe this more often. The results here will need to be intergrated with Kat's actual estimates. "
   ]
  },
  {
   "cell_type": "code",
   "execution_count": 12,
   "metadata": {},
   "outputs": [],
   "source": [
    "def generate_snvs_dict_for_tree(query_list):\n",
    "    snvs_on_tree = {}\n",
    "    for q in query_list: \n",
    "        snvs_on_tree[q] = {\"branches_with_snv\":[], \"arose_on_tip\":0, \"arose_on_internal_node\":0}\n",
    "    \n",
    "    return(snvs_on_tree)"
   ]
  },
  {
   "cell_type": "code",
   "execution_count": 13,
   "metadata": {},
   "outputs": [],
   "source": [
    "def enumerate_mutations_on_branches(tree, snvs_on_tree):    \n",
    "    for k in tree.Objects:\n",
    "        if 'branch_attrs' in k.traits:\n",
    "            if 'mutations' in k.traits['branch_attrs']:\n",
    "                if 'nuc' in k.traits['branch_attrs']['mutations']:\n",
    "                    nt_muts = k.traits['branch_attrs']['mutations']['nuc']\n",
    "                    for n in nt_muts: \n",
    "                        if n in snvs_on_tree:\n",
    "                            snvs_on_tree[n][\"branches_with_snv\"].append(k.name)\n",
    "                            \n",
    "                            if k.branchType == \"node\":\n",
    "                                leaves = 0 #len(k.leaves)\n",
    "                                nodes = 1\n",
    "                            elif k.branchType == \"leaf\":\n",
    "                                leaves = 1\n",
    "                                nodes = 0\n",
    "                            \n",
    "                            snvs_on_tree[n][\"arose_on_tip\"] += leaves\n",
    "                            snvs_on_tree[n][\"arose_on_internal_node\"] += nodes\n",
    "                            \n",
    "    return(snvs_on_tree)"
   ]
  },
  {
   "cell_type": "code",
   "execution_count": 14,
   "metadata": {},
   "outputs": [],
   "source": [
    "def enumerate_all_tree_muts(tree):\n",
    "    \n",
    "    all_snps_on_tree = {}\n",
    "    total_snps = {\"internal_nodes\": 0, \"tips\":0}\n",
    "    \n",
    "    for k in tree.Objects:\n",
    "        if 'branch_attrs' in k.traits:\n",
    "            if 'mutations' in k.traits['branch_attrs']:\n",
    "                if 'nuc' in k.traits['branch_attrs']['mutations']:\n",
    "                    nt_muts = k.traits['branch_attrs']['mutations']['nuc']\n",
    "                    for n in nt_muts:\n",
    "                        if n not in all_snps_on_tree: \n",
    "                            all_snps_on_tree[n] = {\"branches_with_snv\":[], \"arose_on_tip\":0, \"arose_on_internal_node\":0}\n",
    "                        \n",
    "                        all_snps_on_tree[n][\"branches_with_snv\"].append(k.name)\n",
    "\n",
    "                        if k.branchType == \"node\":\n",
    "                            leaves = 0 #len(k.leaves)\n",
    "                            nodes = 1\n",
    "                        elif k.branchType == \"leaf\":\n",
    "                            leaves = 1\n",
    "                            nodes = 0\n",
    "\n",
    "                        all_snps_on_tree[n][\"arose_on_tip\"] += leaves\n",
    "                        all_snps_on_tree[n][\"arose_on_internal_node\"] += nodes\n",
    "                            \n",
    "                    \n",
    "                    if k.branchType == \"node\":\n",
    "                        total_snps[\"internal_nodes\"] += len(nt_muts)\n",
    "                    elif k.branchType == \"leaf\":\n",
    "                        total_snps['tips'] += len(nt_muts)\n",
    "                        \n",
    "    return(all_snps_on_tree, total_snps)"
   ]
  },
  {
   "cell_type": "markdown",
   "metadata": {},
   "source": [
    "## Grab the most recent json file from nextstrain, and read it in as a baltic tree object \n",
    "\n",
    "The current `json_translation` defined here will translate auspice v2 jsons attributes into the proper tree attributes. This will not work for auspice v1 jsons. All ncov jsons are in v2. "
   ]
  },
  {
   "cell_type": "code",
   "execution_count": 15,
   "metadata": {},
   "outputs": [
    {
     "name": "stdout",
     "output_type": "stream",
     "text": [
      "\n",
      "Tree height: 1.146986\n",
      "Tree length: 853.200612\n",
      "multitype tree\n",
      "annotations present\n",
      "\n",
      "Numbers of objects in tree: 7295 (3356 nodes and 3939 leaves)\n",
      "\n"
     ]
    }
   ],
   "source": [
    "# most recent global ncov json\n",
    "json_url='http://data.nextstrain.org/ncov_global.json'\n",
    "tree_json=json.load(csio(requests.get(json_url).content))\n",
    "\n",
    "# or, instead we can use the wisconsin nextstrain build which incorporates global context. That might make more sense\n",
    "#tree_path = \"/Users/lmoncla/src/ncov-WI-within-host/data/ncov_wisconsin_statewide.json\"\n",
    "# with open(tree_path) as json_file:\n",
    "#     tree_json = json.load(json_file)\n",
    "\n",
    "analysis_level = \"division\"\n",
    "\n",
    "tree_object=tree_json['tree']\n",
    "meta=tree_json['meta']\n",
    "json_translation={'absoluteTime':lambda k: k.traits['node_attrs']['num_date']['value'],'name':'name'} ## allows baltic to find correct attributes in JSON, height and name are required at a minimum\n",
    "#json_meta={'file':meta,'traitName':analysis_level} ## if you want auspice stylings you can import the meta file used on nextstrain.org\n",
    "\n",
    "tree=bt.loadJSON(tree_object,json_translation)"
   ]
  },
  {
   "cell_type": "code",
   "execution_count": 16,
   "metadata": {},
   "outputs": [],
   "source": [
    "variants_to_query = snvs_to_query"
   ]
  },
  {
   "cell_type": "code",
   "execution_count": 17,
   "metadata": {},
   "outputs": [],
   "source": [
    "snvs_on_tree_dict = generate_snvs_dict_for_tree(variants_to_query)\n",
    "snvs_on_tree_dict = enumerate_mutations_on_branches(tree, snvs_on_tree_dict)\n",
    "full_tree_muts,tree_mut_counts = enumerate_all_tree_muts(tree)"
   ]
  },
  {
   "cell_type": "code",
   "execution_count": null,
   "metadata": {},
   "outputs": [],
   "source": []
  },
  {
   "cell_type": "code",
   "execution_count": 18,
   "metadata": {},
   "outputs": [
    {
     "data": {
      "text/html": [
       "<div>\n",
       "<style scoped>\n",
       "    .dataframe tbody tr th:only-of-type {\n",
       "        vertical-align: middle;\n",
       "    }\n",
       "\n",
       "    .dataframe tbody tr th {\n",
       "        vertical-align: top;\n",
       "    }\n",
       "\n",
       "    .dataframe thead th {\n",
       "        text-align: right;\n",
       "    }\n",
       "</style>\n",
       "<table border=\"1\" class=\"dataframe\">\n",
       "  <thead>\n",
       "    <tr style=\"text-align: right;\">\n",
       "      <th></th>\n",
       "      <th>snv</th>\n",
       "      <th>branches_with_snv</th>\n",
       "      <th>arose_on_tip</th>\n",
       "      <th>arose_on_internal_node</th>\n",
       "    </tr>\n",
       "  </thead>\n",
       "  <tbody>\n",
       "    <tr>\n",
       "      <th>0</th>\n",
       "      <td>-11288T</td>\n",
       "      <td>[NODE_0000693, NODE_0000724, SouthAfrica/KRISP...</td>\n",
       "      <td>11</td>\n",
       "      <td>3</td>\n",
       "    </tr>\n",
       "    <tr>\n",
       "      <th>1</th>\n",
       "      <td>-11289C</td>\n",
       "      <td>[NODE_0000693, SouthAfrica/KRISP-K008203/2021,...</td>\n",
       "      <td>10</td>\n",
       "      <td>2</td>\n",
       "    </tr>\n",
       "    <tr>\n",
       "      <th>2</th>\n",
       "      <td>-11289G</td>\n",
       "      <td>[NODE_0000724, Botswana/CV1404955/2021]</td>\n",
       "      <td>1</td>\n",
       "      <td>1</td>\n",
       "    </tr>\n",
       "    <tr>\n",
       "      <th>3</th>\n",
       "      <td>-11290T</td>\n",
       "      <td>[NODE_0000693, NODE_0000727, SouthAfrica/KRISP...</td>\n",
       "      <td>11</td>\n",
       "      <td>3</td>\n",
       "    </tr>\n",
       "    <tr>\n",
       "      <th>4</th>\n",
       "      <td>-11291G</td>\n",
       "      <td>[NODE_0000693, SouthAfrica/KRISP-K008203/2021,...</td>\n",
       "      <td>10</td>\n",
       "      <td>2</td>\n",
       "    </tr>\n",
       "  </tbody>\n",
       "</table>\n",
       "</div>"
      ],
      "text/plain": [
       "       snv                                  branches_with_snv  arose_on_tip  \\\n",
       "0  -11288T  [NODE_0000693, NODE_0000724, SouthAfrica/KRISP...            11   \n",
       "1  -11289C  [NODE_0000693, SouthAfrica/KRISP-K008203/2021,...            10   \n",
       "2  -11289G            [NODE_0000724, Botswana/CV1404955/2021]             1   \n",
       "3  -11290T  [NODE_0000693, NODE_0000727, SouthAfrica/KRISP...            11   \n",
       "4  -11291G  [NODE_0000693, SouthAfrica/KRISP-K008203/2021,...            10   \n",
       "\n",
       "   arose_on_internal_node  \n",
       "0                       3  \n",
       "1                       2  \n",
       "2                       1  \n",
       "3                       3  \n",
       "4                       2  "
      ]
     },
     "execution_count": 18,
     "metadata": {},
     "output_type": "execute_result"
    }
   ],
   "source": [
    "full_tree_df = pd.DataFrame.from_dict(full_tree_muts, orient=\"index\")\n",
    "full_tree_df.reset_index(inplace=True)\n",
    "full_tree_df.columns = ['snv','branches_with_snv','arose_on_tip','arose_on_internal_node']\n",
    "full_tree_df.head()"
   ]
  },
  {
   "cell_type": "code",
   "execution_count": 19,
   "metadata": {
    "scrolled": true
   },
   "outputs": [
    {
     "name": "stdout",
     "output_type": "stream",
     "text": [
      "{'internal_nodes': 4637, 'tips': 17200}\n"
     ]
    }
   ],
   "source": [
    "snps_on_tips = full_tree_df['arose_on_tip'].sum()\n",
    "snps_on_nodes = full_tree_df['arose_on_internal_node'].sum()\n",
    "print(tree_mut_counts)"
   ]
  },
  {
   "cell_type": "code",
   "execution_count": 20,
   "metadata": {
    "scrolled": true
   },
   "outputs": [
    {
     "data": {
      "text/html": [
       "<div>\n",
       "<style scoped>\n",
       "    .dataframe tbody tr th:only-of-type {\n",
       "        vertical-align: middle;\n",
       "    }\n",
       "\n",
       "    .dataframe tbody tr th {\n",
       "        vertical-align: top;\n",
       "    }\n",
       "\n",
       "    .dataframe thead th {\n",
       "        text-align: right;\n",
       "    }\n",
       "</style>\n",
       "<table border=\"1\" class=\"dataframe\">\n",
       "  <thead>\n",
       "    <tr style=\"text-align: right;\">\n",
       "      <th></th>\n",
       "      <th>snv</th>\n",
       "      <th>branches_with_snv</th>\n",
       "      <th>arose_on_tip</th>\n",
       "      <th>arose_on_internal_node</th>\n",
       "    </tr>\n",
       "  </thead>\n",
       "  <tbody>\n",
       "    <tr>\n",
       "      <th>0</th>\n",
       "      <td>NaN</td>\n",
       "      <td>[]</td>\n",
       "      <td>0</td>\n",
       "      <td>0</td>\n",
       "    </tr>\n",
       "    <tr>\n",
       "      <th>1</th>\n",
       "      <td>T8818C</td>\n",
       "      <td>[]</td>\n",
       "      <td>0</td>\n",
       "      <td>0</td>\n",
       "    </tr>\n",
       "    <tr>\n",
       "      <th>2</th>\n",
       "      <td>A11983G</td>\n",
       "      <td>[Finland/28A90S17/2020, NODE_0002540, NODE_000...</td>\n",
       "      <td>1</td>\n",
       "      <td>2</td>\n",
       "    </tr>\n",
       "    <tr>\n",
       "      <th>3</th>\n",
       "      <td>T12459C</td>\n",
       "      <td>[]</td>\n",
       "      <td>0</td>\n",
       "      <td>0</td>\n",
       "    </tr>\n",
       "    <tr>\n",
       "      <th>4</th>\n",
       "      <td>G28919T</td>\n",
       "      <td>[]</td>\n",
       "      <td>0</td>\n",
       "      <td>0</td>\n",
       "    </tr>\n",
       "  </tbody>\n",
       "</table>\n",
       "</div>"
      ],
      "text/plain": [
       "       snv                                  branches_with_snv  arose_on_tip  \\\n",
       "0      NaN                                                 []             0   \n",
       "1   T8818C                                                 []             0   \n",
       "2  A11983G  [Finland/28A90S17/2020, NODE_0002540, NODE_000...             1   \n",
       "3  T12459C                                                 []             0   \n",
       "4  G28919T                                                 []             0   \n",
       "\n",
       "   arose_on_internal_node  \n",
       "0                       0  \n",
       "1                       0  \n",
       "2                       2  \n",
       "3                       0  \n",
       "4                       0  "
      ]
     },
     "execution_count": 20,
     "metadata": {},
     "output_type": "execute_result"
    }
   ],
   "source": [
    "df = pd.DataFrame.from_dict(snvs_on_tree_dict, orient=\"index\")\n",
    "df.reset_index(inplace=True)\n",
    "df.columns = ['snv','branches_with_snv','arose_on_tip','arose_on_internal_node']\n",
    "df1 = df[['snv','arose_on_tip','arose_on_internal_node']]\n",
    "df.head()"
   ]
  },
  {
   "cell_type": "code",
   "execution_count": 21,
   "metadata": {},
   "outputs": [
    {
     "name": "stdout",
     "output_type": "stream",
     "text": [
      "SNVS not on tree: 108\n",
      "SNVS on tree: 77\n",
      "total SNVS: 185\n",
      "the total fraction of within-host variants that are found on the tree is  0.41621621621621624\n",
      "the total fraction of within-host variants that are NOT found on the tree is  0.5837837837837838\n"
     ]
    }
   ],
   "source": [
    "# print number/fraction of SNVs that are never on the tree \n",
    "not_on_tree = len(df[(df['arose_on_tip'] == 0) & (df['arose_on_internal_node'] == 0)])\n",
    "print(\"SNVS not on tree:\", not_on_tree)\n",
    "print(\"SNVS on tree:\", len(df) - not_on_tree)\n",
    "print(\"total SNVS:\", len(df))\n",
    "print(\"the total fraction of within-host variants that are found on the tree is \", (len(df)-not_on_tree)/len(df))\n",
    "print(\"the total fraction of within-host variants that are NOT found on the tree is \", not_on_tree/len(df))"
   ]
  },
  {
   "cell_type": "markdown",
   "metadata": {},
   "source": [
    "### Question 1: What fraction of variants are on the tree? \n",
    "\n",
    "SNVs: 30% are found on the tree, 70% are not\n",
    "\n",
    "indels: 0% are found on the tree\n",
    "\n",
    "overall: 20% of variants are found on the tree, 80% are not"
   ]
  },
  {
   "cell_type": "code",
   "execution_count": 22,
   "metadata": {},
   "outputs": [
    {
     "name": "stdout",
     "output_type": "stream",
     "text": [
      "411 128\n"
     ]
    }
   ],
   "source": [
    "# for all within-host variants added together, print the number of times they appear on tips and on internal nodes\n",
    "within_host_on_tips = df['arose_on_tip'].sum()\n",
    "within_host_on_nodes = df['arose_on_internal_node'].sum()\n",
    "print(within_host_on_tips, within_host_on_nodes)"
   ]
  },
  {
   "cell_type": "code",
   "execution_count": 24,
   "metadata": {},
   "outputs": [
    {
     "name": "stdout",
     "output_type": "stream",
     "text": [
      "0.8656463481104651 0.1660572804496328\n",
      "[[4637, 17200], [128, 411]]\n"
     ]
    }
   ],
   "source": [
    "# do a Fisher's exact test, testing whether within-host variants have a different ratio of internal node to terminal\n",
    "# node appearance than other mutations on the tree\n",
    "import scipy\n",
    "from scipy import stats\n",
    "table = [[snps_on_nodes,snps_on_tips],[within_host_on_nodes,within_host_on_tips]]\n",
    "odds_ratio,pvalue = stats.fisher_exact(table)\n",
    "\n",
    "print(odds_ratio, pvalue)\n",
    "print(table)"
   ]
  },
  {
   "cell_type": "code",
   "execution_count": 25,
   "metadata": {},
   "outputs": [
    {
     "name": "stdout",
     "output_type": "stream",
     "text": [
      "C27970T 0.03222856111158187\n",
      "[[4637, 17200], [3, 1]]\n",
      "C28887T 0.028495782535597935\n",
      "[[4637, 17200], [10, 15]]\n"
     ]
    }
   ],
   "source": [
    "# compare with Fishers exact test \n",
    "# now run on actual data\n",
    "import scipy \n",
    "from scipy import stats\n",
    "\n",
    "p_values = {}\n",
    "\n",
    "for index, row in df.iterrows():\n",
    "    mutation = row['snv']\n",
    "    on_tips = row['arose_on_tip']\n",
    "    on_internal_nodes = row['arose_on_internal_node']\n",
    "    \n",
    "    table = [[snps_on_nodes,snps_on_tips],[on_internal_nodes,on_tips]]\n",
    "    odds_ratio, p_value = (stats.fisher_exact(table))\n",
    "            \n",
    "    if p_value < 0.05:\n",
    "        print(mutation, p_value)\n",
    "        print(table)\n",
    "        \n",
    "    # assign stars\n",
    "    if p_value > 0.01 and p_value < 0.05:\n",
    "        significance = \"*\"\n",
    "\n",
    "    elif p_value > 0.001 and p_value < 0.01:\n",
    "        significance = \"**\"\n",
    "        \n",
    "    elif p_value > 0.0001 and p_value < 0.001:\n",
    "        significance = \"***\"\n",
    "    \n",
    "    elif p_value < 0.0001:\n",
    "        significance = \"****\"\n",
    "        \n",
    "    else: \n",
    "        significance = \"\"\n",
    "            \n",
    "    p_values[mutation] = {\"p_value\":p_value, \"significance\":significance}"
   ]
  },
  {
   "cell_type": "code",
   "execution_count": 26,
   "metadata": {},
   "outputs": [
    {
     "name": "stdout",
     "output_type": "stream",
     "text": [
      "108\n",
      "77\n",
      "185\n"
     ]
    }
   ],
   "source": [
    "print(len(df[df['arose_on_tip'] == 0]))\n",
    "print(len(df[df['arose_on_tip'] > 0]))\n",
    "print(len(df))"
   ]
  },
  {
   "cell_type": "code",
   "execution_count": 27,
   "metadata": {},
   "outputs": [
    {
     "name": "stdout",
     "output_type": "stream",
     "text": [
      "144\n",
      "41\n",
      "185\n"
     ]
    }
   ],
   "source": [
    "print(len(df[df['arose_on_internal_node'] == 0]))\n",
    "print(len(df[df['arose_on_internal_node'] > 0]))\n",
    "print(len(df))"
   ]
  },
  {
   "cell_type": "code",
   "execution_count": 28,
   "metadata": {
    "scrolled": true
   },
   "outputs": [
    {
     "data": {
      "text/html": [
       "<div>\n",
       "<style scoped>\n",
       "    .dataframe tbody tr th:only-of-type {\n",
       "        vertical-align: middle;\n",
       "    }\n",
       "\n",
       "    .dataframe tbody tr th {\n",
       "        vertical-align: top;\n",
       "    }\n",
       "\n",
       "    .dataframe thead th {\n",
       "        text-align: right;\n",
       "    }\n",
       "</style>\n",
       "<table border=\"1\" class=\"dataframe\">\n",
       "  <thead>\n",
       "    <tr style=\"text-align: right;\">\n",
       "      <th></th>\n",
       "      <th>snv</th>\n",
       "      <th>branches_with_snv</th>\n",
       "      <th>arose_on_tip</th>\n",
       "      <th>arose_on_internal_node</th>\n",
       "    </tr>\n",
       "  </thead>\n",
       "  <tbody>\n",
       "    <tr>\n",
       "      <th>0</th>\n",
       "      <td>NaN</td>\n",
       "      <td>[]</td>\n",
       "      <td>0</td>\n",
       "      <td>0</td>\n",
       "    </tr>\n",
       "    <tr>\n",
       "      <th>1</th>\n",
       "      <td>T8818C</td>\n",
       "      <td>[]</td>\n",
       "      <td>0</td>\n",
       "      <td>0</td>\n",
       "    </tr>\n",
       "    <tr>\n",
       "      <th>2</th>\n",
       "      <td>A11983G</td>\n",
       "      <td>[Finland/28A90S17/2020, NODE_0002540, NODE_000...</td>\n",
       "      <td>1</td>\n",
       "      <td>2</td>\n",
       "    </tr>\n",
       "    <tr>\n",
       "      <th>3</th>\n",
       "      <td>T12459C</td>\n",
       "      <td>[]</td>\n",
       "      <td>0</td>\n",
       "      <td>0</td>\n",
       "    </tr>\n",
       "    <tr>\n",
       "      <th>4</th>\n",
       "      <td>G28919T</td>\n",
       "      <td>[]</td>\n",
       "      <td>0</td>\n",
       "      <td>0</td>\n",
       "    </tr>\n",
       "  </tbody>\n",
       "</table>\n",
       "</div>"
      ],
      "text/plain": [
       "       snv                                  branches_with_snv  arose_on_tip  \\\n",
       "0      NaN                                                 []             0   \n",
       "1   T8818C                                                 []             0   \n",
       "2  A11983G  [Finland/28A90S17/2020, NODE_0002540, NODE_000...             1   \n",
       "3  T12459C                                                 []             0   \n",
       "4  G28919T                                                 []             0   \n",
       "\n",
       "   arose_on_internal_node  \n",
       "0                       0  \n",
       "1                       0  \n",
       "2                       2  \n",
       "3                       0  \n",
       "4                       0  "
      ]
     },
     "execution_count": 28,
     "metadata": {},
     "output_type": "execute_result"
    }
   ],
   "source": [
    "df.head()"
   ]
  },
  {
   "cell_type": "code",
   "execution_count": 29,
   "metadata": {},
   "outputs": [
    {
     "data": {
      "text/html": [
       "<div>\n",
       "<style scoped>\n",
       "    .dataframe tbody tr th:only-of-type {\n",
       "        vertical-align: middle;\n",
       "    }\n",
       "\n",
       "    .dataframe tbody tr th {\n",
       "        vertical-align: top;\n",
       "    }\n",
       "\n",
       "    .dataframe thead th {\n",
       "        text-align: right;\n",
       "    }\n",
       "</style>\n",
       "<table border=\"1\" class=\"dataframe\">\n",
       "  <thead>\n",
       "    <tr style=\"text-align: right;\">\n",
       "      <th></th>\n",
       "      <th>snv</th>\n",
       "      <th>total_counts</th>\n",
       "      <th>variable</th>\n",
       "      <th>value</th>\n",
       "    </tr>\n",
       "  </thead>\n",
       "  <tbody>\n",
       "    <tr>\n",
       "      <th>0</th>\n",
       "      <td>NaN</td>\n",
       "      <td>0</td>\n",
       "      <td>arose_on_tip</td>\n",
       "      <td>0</td>\n",
       "    </tr>\n",
       "    <tr>\n",
       "      <th>1</th>\n",
       "      <td>T8818C</td>\n",
       "      <td>0</td>\n",
       "      <td>arose_on_tip</td>\n",
       "      <td>0</td>\n",
       "    </tr>\n",
       "    <tr>\n",
       "      <th>2</th>\n",
       "      <td>A11983G</td>\n",
       "      <td>3</td>\n",
       "      <td>arose_on_tip</td>\n",
       "      <td>1</td>\n",
       "    </tr>\n",
       "    <tr>\n",
       "      <th>3</th>\n",
       "      <td>T12459C</td>\n",
       "      <td>0</td>\n",
       "      <td>arose_on_tip</td>\n",
       "      <td>0</td>\n",
       "    </tr>\n",
       "    <tr>\n",
       "      <th>4</th>\n",
       "      <td>G28919T</td>\n",
       "      <td>0</td>\n",
       "      <td>arose_on_tip</td>\n",
       "      <td>0</td>\n",
       "    </tr>\n",
       "  </tbody>\n",
       "</table>\n",
       "</div>"
      ],
      "text/plain": [
       "       snv  total_counts      variable  value\n",
       "0      NaN             0  arose_on_tip      0\n",
       "1   T8818C             0  arose_on_tip      0\n",
       "2  A11983G             3  arose_on_tip      1\n",
       "3  T12459C             0  arose_on_tip      0\n",
       "4  G28919T             0  arose_on_tip      0"
      ]
     },
     "execution_count": 29,
     "metadata": {},
     "output_type": "execute_result"
    }
   ],
   "source": [
    "df_to_plot = df.copy()\n",
    "df_to_plot['total_counts'] = df_to_plot['arose_on_tip'] + df_to_plot['arose_on_internal_node']\n",
    "df_to_plot = df_to_plot.melt(value_vars=['arose_on_tip','arose_on_internal_node'], id_vars=['snv','total_counts'])\n",
    "df_to_plot.head()"
   ]
  },
  {
   "cell_type": "code",
   "execution_count": 30,
   "metadata": {},
   "outputs": [
    {
     "data": {
      "text/html": [
       "<div>\n",
       "<style scoped>\n",
       "    .dataframe tbody tr th:only-of-type {\n",
       "        vertical-align: middle;\n",
       "    }\n",
       "\n",
       "    .dataframe tbody tr th {\n",
       "        vertical-align: top;\n",
       "    }\n",
       "\n",
       "    .dataframe thead th {\n",
       "        text-align: right;\n",
       "    }\n",
       "</style>\n",
       "<table border=\"1\" class=\"dataframe\">\n",
       "  <thead>\n",
       "    <tr style=\"text-align: right;\">\n",
       "      <th></th>\n",
       "      <th>snv</th>\n",
       "      <th>total_counts</th>\n",
       "      <th>variable</th>\n",
       "      <th>value</th>\n",
       "      <th>p-value</th>\n",
       "      <th>significance</th>\n",
       "    </tr>\n",
       "  </thead>\n",
       "  <tbody>\n",
       "    <tr>\n",
       "      <th>0</th>\n",
       "      <td>NaN</td>\n",
       "      <td>0</td>\n",
       "      <td>arose_on_tip</td>\n",
       "      <td>0</td>\n",
       "      <td>1.000000</td>\n",
       "      <td></td>\n",
       "    </tr>\n",
       "    <tr>\n",
       "      <th>1</th>\n",
       "      <td>NaN</td>\n",
       "      <td>0</td>\n",
       "      <td>arose_on_internal_node</td>\n",
       "      <td>0</td>\n",
       "      <td>1.000000</td>\n",
       "      <td></td>\n",
       "    </tr>\n",
       "    <tr>\n",
       "      <th>2</th>\n",
       "      <td>T8818C</td>\n",
       "      <td>0</td>\n",
       "      <td>arose_on_tip</td>\n",
       "      <td>0</td>\n",
       "      <td>1.000000</td>\n",
       "      <td></td>\n",
       "    </tr>\n",
       "    <tr>\n",
       "      <th>3</th>\n",
       "      <td>T8818C</td>\n",
       "      <td>0</td>\n",
       "      <td>arose_on_internal_node</td>\n",
       "      <td>0</td>\n",
       "      <td>1.000000</td>\n",
       "      <td></td>\n",
       "    </tr>\n",
       "    <tr>\n",
       "      <th>4</th>\n",
       "      <td>A11983G</td>\n",
       "      <td>3</td>\n",
       "      <td>arose_on_tip</td>\n",
       "      <td>1</td>\n",
       "      <td>0.116172</td>\n",
       "      <td></td>\n",
       "    </tr>\n",
       "  </tbody>\n",
       "</table>\n",
       "</div>"
      ],
      "text/plain": [
       "       snv  total_counts                variable  value   p-value significance\n",
       "0      NaN             0            arose_on_tip      0  1.000000             \n",
       "1      NaN             0  arose_on_internal_node      0  1.000000             \n",
       "2   T8818C             0            arose_on_tip      0  1.000000             \n",
       "3   T8818C             0  arose_on_internal_node      0  1.000000             \n",
       "4  A11983G             3            arose_on_tip      1  0.116172             "
      ]
     },
     "execution_count": 30,
     "metadata": {},
     "output_type": "execute_result"
    }
   ],
   "source": [
    "# add in p-values column\n",
    "p_values_df = pd.DataFrame.from_dict(p_values, orient=\"index\")\n",
    "p_values_df.reset_index(inplace=True)\n",
    "p_values_df.columns = [\"snv\",\"p-value\",\"significance\"]\n",
    "\n",
    "\n",
    "df_to_plot = df_to_plot.merge(p_values_df, on=['snv'])\n",
    "df_to_plot.head()"
   ]
  },
  {
   "cell_type": "code",
   "execution_count": 31,
   "metadata": {},
   "outputs": [
    {
     "name": "stdout",
     "output_type": "stream",
     "text": [
      "370\n",
      "368\n"
     ]
    }
   ],
   "source": [
    "print(len(df_to_plot))\n",
    "df_to_plot.dropna(inplace=True)\n",
    "print(len(df_to_plot))"
   ]
  },
  {
   "cell_type": "code",
   "execution_count": null,
   "metadata": {},
   "outputs": [],
   "source": []
  },
  {
   "cell_type": "code",
   "execution_count": 32,
   "metadata": {
    "scrolled": true
   },
   "outputs": [
    {
     "data": {
      "text/html": [
       "<div>\n",
       "<style scoped>\n",
       "    .dataframe tbody tr th:only-of-type {\n",
       "        vertical-align: middle;\n",
       "    }\n",
       "\n",
       "    .dataframe tbody tr th {\n",
       "        vertical-align: top;\n",
       "    }\n",
       "\n",
       "    .dataframe thead th {\n",
       "        text-align: right;\n",
       "    }\n",
       "</style>\n",
       "<table border=\"1\" class=\"dataframe\">\n",
       "  <thead>\n",
       "    <tr style=\"text-align: right;\">\n",
       "      <th></th>\n",
       "      <th>snv</th>\n",
       "      <th>total_counts</th>\n",
       "      <th>variable</th>\n",
       "      <th>value</th>\n",
       "      <th>p-value</th>\n",
       "      <th>significance</th>\n",
       "    </tr>\n",
       "  </thead>\n",
       "  <tbody>\n",
       "    <tr>\n",
       "      <th>2</th>\n",
       "      <td>T8818C</td>\n",
       "      <td>0</td>\n",
       "      <td>arose_on_tip</td>\n",
       "      <td>0</td>\n",
       "      <td>1.000000</td>\n",
       "      <td></td>\n",
       "    </tr>\n",
       "    <tr>\n",
       "      <th>3</th>\n",
       "      <td>T8818C</td>\n",
       "      <td>0</td>\n",
       "      <td>arose_on_internal_node</td>\n",
       "      <td>0</td>\n",
       "      <td>1.000000</td>\n",
       "      <td></td>\n",
       "    </tr>\n",
       "    <tr>\n",
       "      <th>4</th>\n",
       "      <td>A11983G</td>\n",
       "      <td>3</td>\n",
       "      <td>arose_on_tip</td>\n",
       "      <td>1</td>\n",
       "      <td>0.116172</td>\n",
       "      <td></td>\n",
       "    </tr>\n",
       "    <tr>\n",
       "      <th>5</th>\n",
       "      <td>A11983G</td>\n",
       "      <td>3</td>\n",
       "      <td>arose_on_internal_node</td>\n",
       "      <td>2</td>\n",
       "      <td>0.116172</td>\n",
       "      <td></td>\n",
       "    </tr>\n",
       "    <tr>\n",
       "      <th>6</th>\n",
       "      <td>T12459C</td>\n",
       "      <td>0</td>\n",
       "      <td>arose_on_tip</td>\n",
       "      <td>0</td>\n",
       "      <td>1.000000</td>\n",
       "      <td></td>\n",
       "    </tr>\n",
       "  </tbody>\n",
       "</table>\n",
       "</div>"
      ],
      "text/plain": [
       "       snv  total_counts                variable  value   p-value significance\n",
       "2   T8818C             0            arose_on_tip      0  1.000000             \n",
       "3   T8818C             0  arose_on_internal_node      0  1.000000             \n",
       "4  A11983G             3            arose_on_tip      1  0.116172             \n",
       "5  A11983G             3  arose_on_internal_node      2  0.116172             \n",
       "6  T12459C             0            arose_on_tip      0  1.000000             "
      ]
     },
     "execution_count": 32,
     "metadata": {},
     "output_type": "execute_result"
    }
   ],
   "source": [
    "df_to_plot = df_to_plot[~df_to_plot['snv'].str.contains(\"-\")]\n",
    "#df_to_plot = df_to_plot[df_to_plot['value'] > 0]\n",
    "df_to_plot.head()"
   ]
  },
  {
   "cell_type": "code",
   "execution_count": 33,
   "metadata": {},
   "outputs": [],
   "source": [
    "muts_to_sort = list(set(df_to_plot['snv'].tolist()))\n",
    "order_of_variants = sort_mutations(muts_to_sort)"
   ]
  },
  {
   "cell_type": "code",
   "execution_count": 34,
   "metadata": {},
   "outputs": [],
   "source": [
    "node_color = \"#ECC58C\"\n",
    "tip_color = \"#7C9BAC\"\n",
    "# original blue and red\n",
    "# node_color = \"#C75643\"\n",
    "# tip_color = \"#545AB7\""
   ]
  },
  {
   "cell_type": "code",
   "execution_count": 35,
   "metadata": {},
   "outputs": [],
   "source": [
    "# only plot variants that were found on the tree at least X times\n",
    "times_detected_cutoff_to_plot = 10"
   ]
  },
  {
   "cell_type": "code",
   "execution_count": 36,
   "metadata": {},
   "outputs": [
    {
     "name": "stderr",
     "output_type": "stream",
     "text": [
      "/Users/lmoncla/anaconda/envs/LHM-basics/lib/python3.7/site-packages/rpy2/robjects/pandas2ri.py:191: FutureWarning: from_items is deprecated. Please use DataFrame.from_dict(dict(items), ...) instead. DataFrame.from_dict(OrderedDict(items)) may be used to preserve the key order.\n",
      "  res = PandasDataFrame.from_items(items)\n",
      "/Users/lmoncla/anaconda/envs/LHM-basics/lib/python3.7/site-packages/rpy2/rinterface/__init__.py:146: RRuntimeWarning: Loading required package: ggplot2\n",
      "\n",
      "  warnings.warn(x, RRuntimeWarning)\n"
     ]
    },
    {
     "data": {
      "image/png": "[encoded data removed]"
     },
     "metadata": {},
     "output_type": "display_data"
    }
   ],
   "source": [
    "%%R -w 800 -h 500 -u px -i times_detected_cutoff_to_plot,order_of_variants,variant_percent,current_date,df_to_plot,tip_color,node_color  # this sets the size of the plot...otherwise, it will go off the page\n",
    "\n",
    "require(ggplot2)\n",
    "library(ggplot2)\n",
    "library(RColorBrewer)\n",
    "\n",
    "df_to_plot <- df_to_plot[(df_to_plot$total_counts>=times_detected_cutoff_to_plot),]\n",
    "\n",
    "output_filename = paste(\"SNVs-on-global-tree-\",times_detected_cutoff_to_plot,\"x-\",variant_percent,\"percent-\",current_date,\".pdf\", sep=\"\")\n",
    "df_to_plot$snv_f = factor(df_to_plot$snv, levels=c(order_of_variants))\n",
    "\n",
    "p <- ggplot(data=df_to_plot, aes(x=snv_f, y=value, color=variable, fill=variable)) + \n",
    "    geom_col()+\n",
    "    geom_text(data=df_to_plot, aes(x=snv_f, y=total_counts + 0.5, label=significance), color=\"black\",size=11)+\n",
    "    labs(x=\"\\nvariant\",y=\"observations on tree\\n\")+\n",
    "    scale_color_manual(values=c(arose_on_tip=tip_color,arose_on_internal_node=node_color), guide=FALSE)+\n",
    "    scale_fill_manual(values=c(arose_on_tip=tip_color,arose_on_internal_node=node_color), labels=c(arose_on_tip=\"tip\", arose_on_internal_node=\"internal node\"))+\n",
    "    scale_y_continuous(breaks=seq(0,60,10), limits=c(0,60))+\n",
    "    theme(panel.grid.major=element_line(colour=NA,size=NA))+    \n",
    "    theme(panel.grid.minor=element_line(colour=NA,size=NA))+    \n",
    "    theme(strip.background = element_rect(colour=NA, fill=NA))+\n",
    "    theme(axis.line.x=element_line(colour=\"black\"))+\n",
    "    theme(axis.line.y=element_line(colour=\"black\"))+\n",
    "    theme(axis.title=element_text(size=28, vjust=5))+\n",
    "    theme(axis.text.y=element_text(size=24, colour=\"black\"))+\n",
    "    theme(axis.text.x=element_text(size=24, colour=\"black\", angle=90, hjust=0.95, vjust=0.5))+\n",
    "    theme(legend.text=element_text(size=24))+\n",
    "    theme(legend.title=element_text(size=24))+\n",
    "    theme(panel.margin=unit(1, \"lines\"))+\n",
    "    theme(plot.margin=unit(c(1,4,1,1),\"cm\"))+\n",
    "    theme(legend.key.size=unit(0.7, \"cm\"))+\n",
    "    theme(panel.background=element_rect(fill=NA))+\n",
    "    theme(legend.key=element_rect(fill=NA))+\n",
    "    theme(legend.position = c(0.25, 0.9))+\n",
    "    guides(fill=guide_legend(title=\"where SNV arose\"))\n",
    "\n",
    "ggsave(output_filename, width = 10, height = 7, device = \"pdf\", path = \"../figures/individual-pdfs/\", dpi = 300)\n",
    "p"
   ]
  },
  {
   "cell_type": "code",
   "execution_count": 37,
   "metadata": {},
   "outputs": [],
   "source": [
    "# only plot variants that were found on the tree at least X times\n",
    "times_detected_cutoff_to_plot = 0"
   ]
  },
  {
   "cell_type": "code",
   "execution_count": 38,
   "metadata": {},
   "outputs": [
    {
     "data": {
      "image/png": "[encoded data removed]"
     },
     "metadata": {},
     "output_type": "display_data"
    }
   ],
   "source": [
    "%%R -w 800 -h 500 -u px -i times_detected_cutoff_to_plot,order_of_variants,variant_percent,current_date,df_to_plot,tip_color,node_color  # this sets the size of the plot...otherwise, it will go off the page\n",
    "\n",
    "require(ggplot2)\n",
    "library(ggplot2)\n",
    "library(RColorBrewer)\n",
    "\n",
    "df_to_plot <- df_to_plot[(df_to_plot$total_counts>=times_detected_cutoff_to_plot),]\n",
    "\n",
    "output_filename = paste(\"SNVs-on-global-tree-all-\",variant_percent,\"percent-\",current_date,\".pdf\", sep=\"\")\n",
    "df_to_plot$snv_f = factor(df_to_plot$snv, levels=c(order_of_variants))\n",
    "\n",
    "p <- ggplot(data=df_to_plot, aes(x=snv_f, y=value, color=variable, fill=variable)) + \n",
    "    geom_col()+\n",
    "    geom_text(data=df_to_plot, aes(x=snv_f, y=total_counts + 0.5, label=significance), color=\"black\",size=8)+\n",
    "    labs(x=\"\\nvariant\",y=\"observations on tree\\n\")+\n",
    "    scale_color_manual(values=c(arose_on_tip=tip_color,arose_on_internal_node=node_color), guide=FALSE)+\n",
    "    scale_fill_manual(values=c(arose_on_tip=tip_color,arose_on_internal_node=node_color), labels=c(arose_on_tip=\"tip\", arose_on_internal_node=\"internal node\"))+\n",
    "    scale_y_continuous(breaks=seq(0,60,10), limits=c(0,60))+\n",
    "    theme(panel.grid.major=element_line(colour=NA,size=NA))+    \n",
    "    theme(panel.grid.minor=element_line(colour=NA,size=NA))+    \n",
    "    theme(strip.background = element_rect(colour=NA, fill=NA))+\n",
    "    theme(axis.line.x=element_line(colour=\"black\"))+\n",
    "    theme(axis.line.y=element_line(colour=\"black\"))+\n",
    "    theme(axis.title=element_text(size=24, vjust=5))+\n",
    "    theme(axis.text.y=element_text(size=24, colour=\"black\"))+\n",
    "    theme(axis.text.x=element_text(size=12, colour=\"black\", angle=90, hjust=0.95, vjust=0.5))+\n",
    "    theme(legend.text=element_text(size=20))+\n",
    "    theme(legend.title=element_text(size=24))+\n",
    "    theme(panel.margin=unit(1, \"lines\"))+\n",
    "    theme(plot.margin=unit(c(1,4,1,1),\"cm\"))+\n",
    "    theme(legend.key.size=unit(0.7, \"cm\"))+\n",
    "    theme(panel.background=element_rect(fill=NA))+\n",
    "    theme(legend.key=element_rect(fill=NA))+\n",
    "    theme(legend.position = c(1.0, 0.95))+\n",
    "    guides(fill=guide_legend(title=\"where SNV arose\"))\n",
    "\n",
    "ggsave(output_filename, width = 40, height = 8, device = \"pdf\", path = \"../figures/individual-pdfs/\", dpi = 300)\n",
    "p"
   ]
  },
  {
   "cell_type": "code",
   "execution_count": null,
   "metadata": {},
   "outputs": [],
   "source": []
  },
  {
   "cell_type": "markdown",
   "metadata": {},
   "source": [
    "## Are SNVs detected multiple times within-host more likely to be detected on the tree? "
   ]
  },
  {
   "cell_type": "code",
   "execution_count": 39,
   "metadata": {},
   "outputs": [
    {
     "data": {
      "text/html": [
       "<div>\n",
       "<style scoped>\n",
       "    .dataframe tbody tr th:only-of-type {\n",
       "        vertical-align: middle;\n",
       "    }\n",
       "\n",
       "    .dataframe tbody tr th {\n",
       "        vertical-align: top;\n",
       "    }\n",
       "\n",
       "    .dataframe thead th {\n",
       "        text-align: right;\n",
       "    }\n",
       "</style>\n",
       "<table border=\"1\" class=\"dataframe\">\n",
       "  <thead>\n",
       "    <tr style=\"text-align: right;\">\n",
       "      <th></th>\n",
       "      <th>snv</th>\n",
       "      <th>within_host_counts</th>\n",
       "    </tr>\n",
       "  </thead>\n",
       "  <tbody>\n",
       "    <tr>\n",
       "      <th>0</th>\n",
       "      <td>T3037C</td>\n",
       "      <td>21</td>\n",
       "    </tr>\n",
       "    <tr>\n",
       "      <th>1</th>\n",
       "      <td>G15168A</td>\n",
       "      <td>18</td>\n",
       "    </tr>\n",
       "    <tr>\n",
       "      <th>2</th>\n",
       "      <td>T241C</td>\n",
       "      <td>18</td>\n",
       "    </tr>\n",
       "    <tr>\n",
       "      <th>3</th>\n",
       "      <td>T20316C</td>\n",
       "      <td>15</td>\n",
       "    </tr>\n",
       "    <tr>\n",
       "      <th>4</th>\n",
       "      <td>G15150T</td>\n",
       "      <td>12</td>\n",
       "    </tr>\n",
       "  </tbody>\n",
       "</table>\n",
       "</div>"
      ],
      "text/plain": [
       "       snv  within_host_counts\n",
       "0   T3037C                  21\n",
       "1  G15168A                  18\n",
       "2    T241C                  18\n",
       "3  T20316C                  15\n",
       "4  G15150T                  12"
      ]
     },
     "execution_count": 39,
     "metadata": {},
     "output_type": "execute_result"
    }
   ],
   "source": [
    "s = snvs_only['minor_nuc_muts'].value_counts().rename_axis('snv').reset_index(name='within_host_counts')\n",
    "s.head()"
   ]
  },
  {
   "cell_type": "code",
   "execution_count": 40,
   "metadata": {},
   "outputs": [
    {
     "data": {
      "text/html": [
       "<div>\n",
       "<style scoped>\n",
       "    .dataframe tbody tr th:only-of-type {\n",
       "        vertical-align: middle;\n",
       "    }\n",
       "\n",
       "    .dataframe tbody tr th {\n",
       "        vertical-align: top;\n",
       "    }\n",
       "\n",
       "    .dataframe thead th {\n",
       "        text-align: right;\n",
       "    }\n",
       "</style>\n",
       "<table border=\"1\" class=\"dataframe\">\n",
       "  <thead>\n",
       "    <tr style=\"text-align: right;\">\n",
       "      <th></th>\n",
       "      <th>snv</th>\n",
       "      <th>arose_on_tip</th>\n",
       "      <th>arose_on_internal_node</th>\n",
       "      <th>total_tree_counts</th>\n",
       "      <th>within_host_counts</th>\n",
       "    </tr>\n",
       "  </thead>\n",
       "  <tbody>\n",
       "    <tr>\n",
       "      <th>0</th>\n",
       "      <td>T8818C</td>\n",
       "      <td>0</td>\n",
       "      <td>0</td>\n",
       "      <td>0</td>\n",
       "      <td>1</td>\n",
       "    </tr>\n",
       "    <tr>\n",
       "      <th>1</th>\n",
       "      <td>A11983G</td>\n",
       "      <td>1</td>\n",
       "      <td>2</td>\n",
       "      <td>3</td>\n",
       "      <td>1</td>\n",
       "    </tr>\n",
       "    <tr>\n",
       "      <th>2</th>\n",
       "      <td>T12459C</td>\n",
       "      <td>0</td>\n",
       "      <td>0</td>\n",
       "      <td>0</td>\n",
       "      <td>1</td>\n",
       "    </tr>\n",
       "    <tr>\n",
       "      <th>3</th>\n",
       "      <td>G28919T</td>\n",
       "      <td>0</td>\n",
       "      <td>0</td>\n",
       "      <td>0</td>\n",
       "      <td>1</td>\n",
       "    </tr>\n",
       "    <tr>\n",
       "      <th>4</th>\n",
       "      <td>C29738T</td>\n",
       "      <td>3</td>\n",
       "      <td>1</td>\n",
       "      <td>4</td>\n",
       "      <td>1</td>\n",
       "    </tr>\n",
       "  </tbody>\n",
       "</table>\n",
       "</div>"
      ],
      "text/plain": [
       "       snv  arose_on_tip  arose_on_internal_node  total_tree_counts  \\\n",
       "0   T8818C             0                       0                  0   \n",
       "1  A11983G             1                       2                  3   \n",
       "2  T12459C             0                       0                  0   \n",
       "3  G28919T             0                       0                  0   \n",
       "4  C29738T             3                       1                  4   \n",
       "\n",
       "   within_host_counts  \n",
       "0                   1  \n",
       "1                   1  \n",
       "2                   1  \n",
       "3                   1  \n",
       "4                   1  "
      ]
     },
     "execution_count": 40,
     "metadata": {},
     "output_type": "execute_result"
    }
   ],
   "source": [
    "within_vs_tree = df.copy()\n",
    "within_vs_tree['total_tree_counts'] = within_vs_tree['arose_on_tip'] + within_vs_tree['arose_on_internal_node']\n",
    "within_vs_tree = within_vs_tree[['snv','arose_on_tip','arose_on_internal_node','total_tree_counts']]\n",
    "within_vs_tree = within_vs_tree.merge(s, on=['snv']).drop_duplicates()\n",
    "within_vs_tree.head()"
   ]
  },
  {
   "cell_type": "code",
   "execution_count": 41,
   "metadata": {},
   "outputs": [],
   "source": [
    "def return_label(row):\n",
    "    tree_counts = int(row['total_tree_counts'])\n",
    "    wh_counts = int(row['within_host_counts'])\n",
    "    snv = row['snv']\n",
    "    \n",
    "    if tree_counts >= 5 and wh_counts >= 5:\n",
    "        label = snv\n",
    "    #elif tree_counts >=20 or wh_counts >= 20:\n",
    "        #label = snv\n",
    "    else:\n",
    "        label = \"\"\n",
    "        \n",
    "    return(label)"
   ]
  },
  {
   "cell_type": "code",
   "execution_count": 42,
   "metadata": {},
   "outputs": [
    {
     "data": {
      "text/html": [
       "<div>\n",
       "<style scoped>\n",
       "    .dataframe tbody tr th:only-of-type {\n",
       "        vertical-align: middle;\n",
       "    }\n",
       "\n",
       "    .dataframe tbody tr th {\n",
       "        vertical-align: top;\n",
       "    }\n",
       "\n",
       "    .dataframe thead th {\n",
       "        text-align: right;\n",
       "    }\n",
       "</style>\n",
       "<table border=\"1\" class=\"dataframe\">\n",
       "  <thead>\n",
       "    <tr style=\"text-align: right;\">\n",
       "      <th></th>\n",
       "      <th>snv</th>\n",
       "      <th>arose_on_tip</th>\n",
       "      <th>arose_on_internal_node</th>\n",
       "      <th>total_tree_counts</th>\n",
       "      <th>within_host_counts</th>\n",
       "      <th>label</th>\n",
       "    </tr>\n",
       "  </thead>\n",
       "  <tbody>\n",
       "    <tr>\n",
       "      <th>0</th>\n",
       "      <td>T8818C</td>\n",
       "      <td>0</td>\n",
       "      <td>0</td>\n",
       "      <td>0</td>\n",
       "      <td>1</td>\n",
       "      <td></td>\n",
       "    </tr>\n",
       "    <tr>\n",
       "      <th>1</th>\n",
       "      <td>A11983G</td>\n",
       "      <td>1</td>\n",
       "      <td>2</td>\n",
       "      <td>3</td>\n",
       "      <td>1</td>\n",
       "      <td></td>\n",
       "    </tr>\n",
       "    <tr>\n",
       "      <th>2</th>\n",
       "      <td>T12459C</td>\n",
       "      <td>0</td>\n",
       "      <td>0</td>\n",
       "      <td>0</td>\n",
       "      <td>1</td>\n",
       "      <td></td>\n",
       "    </tr>\n",
       "    <tr>\n",
       "      <th>3</th>\n",
       "      <td>G28919T</td>\n",
       "      <td>0</td>\n",
       "      <td>0</td>\n",
       "      <td>0</td>\n",
       "      <td>1</td>\n",
       "      <td></td>\n",
       "    </tr>\n",
       "    <tr>\n",
       "      <th>4</th>\n",
       "      <td>C29738T</td>\n",
       "      <td>3</td>\n",
       "      <td>1</td>\n",
       "      <td>4</td>\n",
       "      <td>1</td>\n",
       "      <td></td>\n",
       "    </tr>\n",
       "  </tbody>\n",
       "</table>\n",
       "</div>"
      ],
      "text/plain": [
       "       snv  arose_on_tip  arose_on_internal_node  total_tree_counts  \\\n",
       "0   T8818C             0                       0                  0   \n",
       "1  A11983G             1                       2                  3   \n",
       "2  T12459C             0                       0                  0   \n",
       "3  G28919T             0                       0                  0   \n",
       "4  C29738T             3                       1                  4   \n",
       "\n",
       "   within_host_counts label  \n",
       "0                   1        \n",
       "1                   1        \n",
       "2                   1        \n",
       "3                   1        \n",
       "4                   1        "
      ]
     },
     "execution_count": 42,
     "metadata": {},
     "output_type": "execute_result"
    }
   ],
   "source": [
    "# add in a column for a label\n",
    "within_vs_tree['label'] = within_vs_tree.apply(return_label, axis=1)\n",
    "within_vs_tree.head()"
   ]
  },
  {
   "cell_type": "code",
   "execution_count": null,
   "metadata": {},
   "outputs": [],
   "source": []
  },
  {
   "cell_type": "code",
   "execution_count": 43,
   "metadata": {},
   "outputs": [
    {
     "data": {
      "text/html": [
       "<div>\n",
       "<style scoped>\n",
       "    .dataframe tbody tr th:only-of-type {\n",
       "        vertical-align: middle;\n",
       "    }\n",
       "\n",
       "    .dataframe tbody tr th {\n",
       "        vertical-align: top;\n",
       "    }\n",
       "\n",
       "    .dataframe thead th {\n",
       "        text-align: right;\n",
       "    }\n",
       "</style>\n",
       "<table border=\"1\" class=\"dataframe\">\n",
       "  <thead>\n",
       "    <tr style=\"text-align: right;\">\n",
       "      <th></th>\n",
       "      <th>snv</th>\n",
       "      <th>total_tree_counts</th>\n",
       "      <th>within_host_counts</th>\n",
       "      <th>label</th>\n",
       "      <th>variable</th>\n",
       "      <th>value</th>\n",
       "      <th>p-value</th>\n",
       "      <th>significance</th>\n",
       "    </tr>\n",
       "  </thead>\n",
       "  <tbody>\n",
       "    <tr>\n",
       "      <th>0</th>\n",
       "      <td>T8818C</td>\n",
       "      <td>0</td>\n",
       "      <td>1</td>\n",
       "      <td></td>\n",
       "      <td>arose_on_tip</td>\n",
       "      <td>0</td>\n",
       "      <td>1.000000</td>\n",
       "      <td></td>\n",
       "    </tr>\n",
       "    <tr>\n",
       "      <th>1</th>\n",
       "      <td>T8818C</td>\n",
       "      <td>0</td>\n",
       "      <td>1</td>\n",
       "      <td></td>\n",
       "      <td>arose_on_internal_node</td>\n",
       "      <td>0</td>\n",
       "      <td>1.000000</td>\n",
       "      <td></td>\n",
       "    </tr>\n",
       "    <tr>\n",
       "      <th>2</th>\n",
       "      <td>A11983G</td>\n",
       "      <td>3</td>\n",
       "      <td>1</td>\n",
       "      <td></td>\n",
       "      <td>arose_on_tip</td>\n",
       "      <td>1</td>\n",
       "      <td>0.116172</td>\n",
       "      <td></td>\n",
       "    </tr>\n",
       "    <tr>\n",
       "      <th>3</th>\n",
       "      <td>A11983G</td>\n",
       "      <td>3</td>\n",
       "      <td>1</td>\n",
       "      <td></td>\n",
       "      <td>arose_on_internal_node</td>\n",
       "      <td>2</td>\n",
       "      <td>0.116172</td>\n",
       "      <td></td>\n",
       "    </tr>\n",
       "    <tr>\n",
       "      <th>4</th>\n",
       "      <td>T12459C</td>\n",
       "      <td>0</td>\n",
       "      <td>1</td>\n",
       "      <td></td>\n",
       "      <td>arose_on_tip</td>\n",
       "      <td>0</td>\n",
       "      <td>1.000000</td>\n",
       "      <td></td>\n",
       "    </tr>\n",
       "  </tbody>\n",
       "</table>\n",
       "</div>"
      ],
      "text/plain": [
       "       snv  total_tree_counts  within_host_counts label  \\\n",
       "0   T8818C                  0                   1         \n",
       "1   T8818C                  0                   1         \n",
       "2  A11983G                  3                   1         \n",
       "3  A11983G                  3                   1         \n",
       "4  T12459C                  0                   1         \n",
       "\n",
       "                 variable  value   p-value significance  \n",
       "0            arose_on_tip      0  1.000000               \n",
       "1  arose_on_internal_node      0  1.000000               \n",
       "2            arose_on_tip      1  0.116172               \n",
       "3  arose_on_internal_node      2  0.116172               \n",
       "4            arose_on_tip      0  1.000000               "
      ]
     },
     "execution_count": 43,
     "metadata": {},
     "output_type": "execute_result"
    }
   ],
   "source": [
    "# plot the same plot as above, but now with only SNVs detected multiple times \n",
    "df_to_plot2 = within_vs_tree.copy()\n",
    "df_to_plot2 = df_to_plot2.melt(value_vars=['arose_on_tip','arose_on_internal_node'], id_vars=['snv','total_tree_counts','within_host_counts','label'])\n",
    "df_to_plot2 = df_to_plot2.merge(p_values_df, on=['snv'])\n",
    "df_to_plot2.dropna(inplace=True)\n",
    "df_to_plot2.head()"
   ]
  },
  {
   "cell_type": "code",
   "execution_count": 44,
   "metadata": {},
   "outputs": [],
   "source": [
    "muts_to_sort = list(set(df_to_plot2['snv'].tolist()))\n",
    "order_of_variants = sort_mutations(muts_to_sort)"
   ]
  },
  {
   "cell_type": "code",
   "execution_count": 45,
   "metadata": {},
   "outputs": [],
   "source": [
    "times_detected_cutoff_to_plot = 2"
   ]
  },
  {
   "cell_type": "code",
   "execution_count": 46,
   "metadata": {},
   "outputs": [
    {
     "data": {
      "image/png": "[encoded data removed]"
     },
     "metadata": {},
     "output_type": "display_data"
    }
   ],
   "source": [
    "%%R -w 800 -h 500 -u px -i order_of_variants,times_detected_cutoff_to_plot,variant_percent,current_date,df_to_plot2,tip_color,node_color  # this sets the size of the plot...otherwise, it will go off the page\n",
    "\n",
    "require(ggplot2)\n",
    "library(ggplot2)\n",
    "library(RColorBrewer)\n",
    "\n",
    "df_to_plot2 <- df_to_plot2[(df_to_plot2$within_host_counts>=times_detected_cutoff_to_plot),]\n",
    "df_to_plot2$snv_f = factor(df_to_plot2$snv, levels=c(order_of_variants))\n",
    "\n",
    "output_filename = paste(\"SNVs-on-global-tree-at-least-\",times_detected_cutoff_to_plot,\"times-detected-\",variant_percent,\"percent-\",current_date,\".pdf\", sep=\"\")\n",
    "\n",
    "p <- ggplot(data=df_to_plot2, aes(x=snv_f, y=value, color=variable, fill=variable)) + \n",
    "    geom_col()+\n",
    "    geom_text(data=df_to_plot2, aes(x=snv_f, y=total_tree_counts + 0.5, label=significance), color=\"black\",size=15)+\n",
    "    labs(x=\"\\nSNV\",y=\"observations on tree\\n\")+\n",
    "    scale_color_manual(values=c(arose_on_tip=tip_color,arose_on_internal_node=node_color), guide=FALSE)+\n",
    "    scale_fill_manual(values=c(arose_on_tip=tip_color,arose_on_internal_node=node_color), labels=c(arose_on_tip=\"tip\", arose_on_internal_node=\"internal node\"))+\n",
    "    #scale_y_continuous(breaks=seq(0,70,10), limits=c(0,70))+\n",
    "    theme(panel.grid.major=element_line(colour=NA,size=NA))+    \n",
    "    theme(panel.grid.minor=element_line(colour=NA,size=NA))+    \n",
    "    theme(strip.background = element_rect(colour=NA, fill=NA))+\n",
    "    theme(axis.line.x=element_line(colour=\"black\"))+\n",
    "    theme(axis.line.y=element_line(colour=\"black\"))+\n",
    "    theme(axis.title=element_text(size=22, vjust=5))+\n",
    "    theme(axis.text.y=element_text(size=18, colour=\"black\"))+\n",
    "    theme(axis.text.x=element_text(size=10, colour=\"black\", angle=90, hjust=1,vjust=0.5))+\n",
    "    theme(legend.text=element_text(size=18))+\n",
    "    theme(legend.title=element_text(size=22))+\n",
    "    theme(panel.margin=unit(1, \"lines\"))+\n",
    "    theme(plot.margin=unit(c(1,4,1,1),\"cm\"))+\n",
    "    theme(legend.key.size=unit(0.7, \"cm\"))+\n",
    "    theme(panel.background=element_rect(fill=NA))+\n",
    "    theme(legend.key=element_rect(fill=NA))+\n",
    "    theme(legend.position = c(0.2, 0.75))+\n",
    "    guides(fill=guide_legend(title=\"where SNV arose\"))\n",
    "\n",
    "ggsave(output_filename, width = 12, height = 10, device = \"pdf\", path = \"../figures/\", dpi = 300)\n",
    "p"
   ]
  },
  {
   "cell_type": "code",
   "execution_count": null,
   "metadata": {},
   "outputs": [],
   "source": []
  },
  {
   "cell_type": "code",
   "execution_count": 52,
   "metadata": {},
   "outputs": [
    {
     "data": {
      "image/png": "[encoded data removed]"
     },
     "metadata": {},
     "output_type": "display_data"
    }
   ],
   "source": [
    "%%R -w 800 -h 500 -u px -i variant_percent,current_date,within_vs_tree  # this sets the size of the plot...otherwise, it will go off the page\n",
    "\n",
    "require(ggplot2)\n",
    "library(ggplot2)\n",
    "library(RColorBrewer)\n",
    "\n",
    "output_filename = paste(\"SNVs-counts-on-global-tree-vs-wh-\",variant_percent,\"percent-\",current_date,\".pdf\", sep=\"\")\n",
    "\n",
    "p <- ggplot(data=within_vs_tree, aes(x=within_host_counts, y=total_tree_counts)) + \n",
    "    geom_jitter(alpha=0.6)+\n",
    "    labs(x=\"\\nobservations within-host\",y=\"observations on tree\\n\")+\n",
    "    geom_text(aes(x=within_host_counts+1,y=total_tree_counts + 1.5,label=label), size=3.5)+\n",
    "    scale_color_manual(values=c(arose_on_tip=tip_color,arose_on_internal_node=node_color), guide=FALSE)+\n",
    "    scale_fill_manual(values=c(arose_on_tip=tip_color,arose_on_internal_node=node_color), labels=c(\"tip\", \"internal node\"))+\n",
    "    scale_y_continuous(breaks=seq(0,40,10), limits=c(0,40))+\n",
    "    scale_x_continuous(breaks=seq(0,40,10), limits=c(0,40))+\n",
    "    theme(panel.grid.major=element_line(colour=NA,size=NA))+    \n",
    "    theme(panel.grid.minor=element_line(colour=NA,size=NA))+    \n",
    "    theme(strip.background = element_rect(colour=NA, fill=NA))+\n",
    "    theme(axis.line.x=element_line(colour=\"black\"))+\n",
    "    theme(axis.line.y=element_line(colour=\"black\"))+\n",
    "    theme(axis.title=element_text(size=22, vjust=5))+\n",
    "    theme(axis.text.y=element_text(size=18, colour=\"black\"))+\n",
    "    theme(axis.text.x=element_text(size=18, colour=\"black\"))+\n",
    "    theme(legend.text=element_text(size=18))+\n",
    "    theme(legend.title=element_text(size=22))+\n",
    "    theme(panel.margin=unit(1, \"lines\"))+\n",
    "    theme(plot.margin=unit(c(1,4,1,1),\"cm\"))+\n",
    "    theme(legend.key.size=unit(0.7, \"cm\"))+\n",
    "    theme(panel.background=element_rect(fill=NA))+\n",
    "    theme(legend.key=element_rect(fill=NA))+\n",
    "    theme(legend.position = c(1.0, 0.75))+\n",
    "    guides(fill=guide_legend(title=\"where SNV arose\"))\n",
    "\n",
    "ggsave(output_filename, width = 7, height = 5, device = \"pdf\", path = \"../figures/individual-pdfs/\", dpi = 300)\n",
    "p"
   ]
  },
  {
   "cell_type": "code",
   "execution_count": null,
   "metadata": {},
   "outputs": [],
   "source": []
  },
  {
   "cell_type": "code",
   "execution_count": null,
   "metadata": {},
   "outputs": [],
   "source": []
  }
 ],
 "metadata": {
  "kernelspec": {
   "display_name": "LHM-basics (python3)",
   "language": "python",
   "name": "lhm-basics"
  },
  "language_info": {
   "codemirror_mode": {
    "name": "ipython",
    "version": 3
   },
   "file_extension": ".py",
   "mimetype": "text/x-python",
   "name": "python",
   "nbconvert_exporter": "python",
   "pygments_lexer": "ipython3",
   "version": "3.7.3"
  }
 },
 "nbformat": 4,
 "nbformat_minor": 2
}
