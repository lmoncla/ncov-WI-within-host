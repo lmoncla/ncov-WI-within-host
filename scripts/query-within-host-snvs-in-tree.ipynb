{
 "cells": [
  {
   "cell_type": "markdown",
   "metadata": {},
   "source": [
    "# Determine whether within-host variants detected in Wisconsin transmission pairs are present on the SARS-CoV2 phylogeny\n",
    "\n",
    "May 8, 2020\n",
    "\n",
    "Kat and Gage have sequenced SARS-CoV2 from putative transmission pairs in Wisconsin. In this data, they see that there is a lot of shared within-host diversity between pairs, but that a lot of this diversity is also shared among non-transmission pairs of samples. This is concerning and a little weird. This was also observed in [this paper](https://www.medrxiv.org/content/10.1101/2020.04.24.20078691v1) that Gage found, although I have not read it closely. \n",
    "\n",
    "There are a few questions that I think would be nice to try to address by looking at the phylogeny: \n",
    "\n",
    "1. Are any of these recurrent within-host mutations also ones identified as problematic/likely errors by people looking at consensus data? If so, these should probably be excluded. I will use this virological post [here](http://virological.org/t/issues-with-sars-cov-2-sequencing-data/473)\n",
    "\n",
    "2. How frequently do within-host variants appear in consensus sequences? I would hypothesize that the vast majority of within-host variation being generated is not particularly advantageous. In this scenario, we would expect to observe only a small fraction of these within-host variants on the phylogeny, and when we do, we expect them to be primarily observed at terminal nodes rather than on internal branches.\n",
    "\n",
    "3. Do any of these within-host variants appear downstream at the consensus level from the host they were sampled in? By this I mean, if we observe a within-host variant in a particular person, is that infection upstream of later sampled cases? If so, is that variant detected at consensus level in any of those offspring infections? We will see. \n",
    "\n",
    "\n",
    "I think that for this analysis, it may be worthwhile to try to help them set up a Wisconsin-focused community build. This could use the new snakemake rules to generate a community build that focuses on Wisconsin but also pulls in sequences from elsewhere. This might be a nice thing to help facilitate and it would absolutely provide them with a better tree for inference than their current Wisconsin-only build. \n",
    "\n",
    "Kat mapped the genomes to this reference: MN908947.3.\n",
    "\n",
    "This is a link to their local nextstrain build http://35.226.31.45/Wisconsin?branchLabel=aa&c=clade_membership&r=location\n",
    "\n",
    "One note here is that indels are labelled differently in Kat's output files than in the nextstrain tree. In the nextstrain tree, `-505A` means that there was an A insertion at 505. `A505-` means that there was a deletion at 505. \n",
    "\n",
    "### Requirements: \n",
    "To run this, you will need to have all of the modules in the following block installed. You will also need to have the most recent version of baltic installed, which is available [here](https://github.com/evogytis/baltic/tree/master/docs)."
   ]
  },
  {
   "cell_type": "code",
   "execution_count": 79,
   "metadata": {},
   "outputs": [
    {
     "name": "stdout",
     "output_type": "stream",
     "text": [
      "The rpy2.ipython extension is already loaded. To reload it, use:\n",
      "  %reload_ext rpy2.ipython\n"
     ]
    }
   ],
   "source": [
    "import imp\n",
    "import importlib, json\n",
    "import glob\n",
    "import re,copy,json\n",
    "import Bio.Phylo\n",
    "import requests\n",
    "import pandas as pd \n",
    "import numpy as np\n",
    "\n",
    "# for this to work, you will need to download the most recent version of baltic, available here \n",
    "bt = imp.load_source('baltic', '/Users/lmoncla/src/baltic/baltic/baltic.py')\n",
    "\n",
    "import copy\n",
    "from scipy.special import binom\n",
    "import datetime as dt\n",
    "\n",
    "%matplotlib inline\n",
    "import matplotlib as mpl\n",
    "from matplotlib import pyplot as plt\n",
    "import matplotlib.patheffects as path_effects\n",
    "import matplotlib.lines as mlines\n",
    "from matplotlib.font_manager import FontProperties\n",
    "import matplotlib.colors as clr\n",
    "import textwrap as textwrap\n",
    "from textwrap import wrap\n",
    "\n",
    "from IPython.display import HTML\n",
    "\n",
    "\n",
    "try:\n",
    "    from StringIO import StringIO as sio\n",
    "    from cStringIO import StringIO as csio\n",
    "except ImportError:\n",
    "    from io import StringIO as sio\n",
    "    from io import BytesIO as csio\n",
    "    \n",
    "    \n",
    "import rpy2\n",
    "%load_ext rpy2.ipython"
   ]
  },
  {
   "cell_type": "code",
   "execution_count": 80,
   "metadata": {},
   "outputs": [],
   "source": [
    "# define colors\n",
    "s_color = \"#A5CDA2\"\n",
    "ns_color = \"#0E7908\"\n",
    "stop_color = \"#073C04\"\n",
    "fs_color = \"#00357D\"\n",
    "fs_stop_color = \"#00142F\""
   ]
  },
  {
   "cell_type": "markdown",
   "metadata": {},
   "source": [
    "## Read in vcfs and convert to dataframes \n",
    "\n",
    "I will only read in the intersection SNVs, meaning the ones that were detected in both technical sequencing replicates. This code will separate this into 2 dataframes, 1 for SNVs and 1 for indels, and will also look up and add in the strain names (necessary for converting from tube numbers, which is how the csvs are labelled). All of this code is contained in the ipython notebook called `vcf-module.ipynb`, which I am just going to import here. By running `return_dataframes`, this will collate all vcfs in the vcf directory, combine into a dataframe, and format that dataframe properly. "
   ]
  },
  {
   "cell_type": "code",
   "execution_count": 81,
   "metadata": {},
   "outputs": [],
   "source": [
    "\"\"\"to load in an ipython notebook as a module, just run the following. You will now have access to all of the \n",
    "functions written in that jupyter notebook\"\"\"\n",
    "\n",
    "%run vcf-module.ipynb"
   ]
  },
  {
   "cell_type": "code",
   "execution_count": 82,
   "metadata": {},
   "outputs": [],
   "source": [
    "# read in the current date \n",
    "from datetime import date\n",
    "today = date.today()\n",
    "current_date = str(today.strftime(\"%Y-%m-%d\"))"
   ]
  },
  {
   "cell_type": "code",
   "execution_count": 83,
   "metadata": {},
   "outputs": [
    {
     "name": "stderr",
     "output_type": "stream",
     "text": [
      "/Users/lmoncla/anaconda/envs/LHM-basics/lib/python3.7/site-packages/ipykernel_launcher.py:6: SettingWithCopyWarning: \n",
      "A value is trying to be set on a copy of a slice from a DataFrame.\n",
      "Try using .loc[row_indexer,col_indexer] = value instead\n",
      "\n",
      "See the caveats in the documentation: http://pandas.pydata.org/pandas-docs/stable/indexing.html#indexing-view-versus-copy\n",
      "  \n",
      "/Users/lmoncla/anaconda/envs/LHM-basics/lib/python3.7/site-packages/ipykernel_launcher.py:7: SettingWithCopyWarning: \n",
      "A value is trying to be set on a copy of a slice from a DataFrame.\n",
      "Try using .loc[row_indexer,col_indexer] = value instead\n",
      "\n",
      "See the caveats in the documentation: http://pandas.pydata.org/pandas-docs/stable/indexing.html#indexing-view-versus-copy\n",
      "  import sys\n",
      "/Users/lmoncla/anaconda/envs/LHM-basics/lib/python3.7/site-packages/ipykernel_launcher.py:8: SettingWithCopyWarning: \n",
      "A value is trying to be set on a copy of a slice from a DataFrame.\n",
      "Try using .loc[row_indexer,col_indexer] = value instead\n",
      "\n",
      "See the caveats in the documentation: http://pandas.pydata.org/pandas-docs/stable/indexing.html#indexing-view-versus-copy\n",
      "  \n",
      "/Users/lmoncla/anaconda/envs/LHM-basics/lib/python3.7/site-packages/ipykernel_launcher.py:11: SettingWithCopyWarning: \n",
      "A value is trying to be set on a copy of a slice from a DataFrame.\n",
      "Try using .loc[row_indexer,col_indexer] = value instead\n",
      "\n",
      "See the caveats in the documentation: http://pandas.pydata.org/pandas-docs/stable/indexing.html#indexing-view-versus-copy\n",
      "  # This is added back by InteractiveShellApp.init_path()\n",
      "/Users/lmoncla/anaconda/envs/LHM-basics/lib/python3.7/site-packages/ipykernel_launcher.py:12: SettingWithCopyWarning: \n",
      "A value is trying to be set on a copy of a slice from a DataFrame.\n",
      "Try using .loc[row_indexer,col_indexer] = value instead\n",
      "\n",
      "See the caveats in the documentation: http://pandas.pydata.org/pandas-docs/stable/indexing.html#indexing-view-versus-copy\n",
      "  if sys.path[0] == '':\n",
      "/Users/lmoncla/anaconda/envs/LHM-basics/lib/python3.7/site-packages/ipykernel_launcher.py:14: SettingWithCopyWarning: \n",
      "A value is trying to be set on a copy of a slice from a DataFrame.\n",
      "Try using .loc[row_indexer,col_indexer] = value instead\n",
      "\n",
      "See the caveats in the documentation: http://pandas.pydata.org/pandas-docs/stable/indexing.html#indexing-view-versus-copy\n",
      "  \n",
      "/Users/lmoncla/anaconda/envs/LHM-basics/lib/python3.7/site-packages/ipykernel_launcher.py:9: SettingWithCopyWarning: \n",
      "A value is trying to be set on a copy of a slice from a DataFrame.\n",
      "Try using .loc[row_indexer,col_indexer] = value instead\n",
      "\n",
      "See the caveats in the documentation: http://pandas.pydata.org/pandas-docs/stable/indexing.html#indexing-view-versus-copy\n",
      "  if __name__ == '__main__':\n",
      "/Users/lmoncla/anaconda/envs/LHM-basics/lib/python3.7/site-packages/ipykernel_launcher.py:10: SettingWithCopyWarning: \n",
      "A value is trying to be set on a copy of a slice from a DataFrame.\n",
      "Try using .loc[row_indexer,col_indexer] = value instead\n",
      "\n",
      "See the caveats in the documentation: http://pandas.pydata.org/pandas-docs/stable/indexing.html#indexing-view-versus-copy\n",
      "  # Remove the CWD from sys.path while we load stuff.\n",
      "/Users/lmoncla/anaconda/envs/LHM-basics/lib/python3.7/site-packages/pandas/core/frame.py:3940: SettingWithCopyWarning: \n",
      "A value is trying to be set on a copy of a slice from a DataFrame\n",
      "\n",
      "See the caveats in the documentation: http://pandas.pydata.org/pandas-docs/stable/indexing.html#indexing-view-versus-copy\n",
      "  errors=errors)\n"
     ]
    }
   ],
   "source": [
    "\"\"\"now, input the strain names file/metadata file, the directory containing the vcfs, and return the dataframess\"\"\"\n",
    "\n",
    "strain_names_file = \"/Users/lmoncla/src/ncov-WI-within-host/data/sample-metadata.tsv\"\n",
    "fasta_file = \"../data/consensus-sequences-2021-01-25.fasta\"\n",
    "clades_file = \"../data/clades-file-2020-08-28.txt\"\n",
    "vcf_directory = \"../data/vcfs-all/\"\n",
    "\n",
    "# N transcript was a control; sample/tube 6, UW-30, has an snv at basically every single site after a certain \n",
    "# point in the genome. it has 418 SNVs!!! I'm excluding it\n",
    "samples_to_ignore = [\"N_transcript\",\"6\"]\n",
    "\n",
    "# set the length of homopolymers that you want to use\n",
    "homopolymer_length = 3\n",
    "\n",
    "# set the variant percent that you want to use \n",
    "variant_percent = \"0.03\"\n",
    "\n",
    "snvs_only, indels_only, all_intersection_variants,metadata_dict = return_dataframes(strain_names_file, clades_file,vcf_directory,samples_to_ignore,fasta_file, homopolymer_length)"
   ]
  },
  {
   "cell_type": "code",
   "execution_count": 84,
   "metadata": {},
   "outputs": [],
   "source": [
    "\"\"\"subset data to include only SNVs and indels >3% frequency\"\"\"\n",
    "snvs_only = snvs_only[snvs_only['minor_frequency'] >= float(variant_percent)]\n",
    "indels_only = indels_only[indels_only['minor_frequency'] >= float(variant_percent)]"
   ]
  },
  {
   "cell_type": "code",
   "execution_count": 85,
   "metadata": {
    "scrolled": true
   },
   "outputs": [
    {
     "data": {
      "text/html": [
       "<div>\n",
       "<style scoped>\n",
       "    .dataframe tbody tr th:only-of-type {\n",
       "        vertical-align: middle;\n",
       "    }\n",
       "\n",
       "    .dataframe tbody tr th {\n",
       "        vertical-align: top;\n",
       "    }\n",
       "\n",
       "    .dataframe thead th {\n",
       "        text-align: right;\n",
       "    }\n",
       "</style>\n",
       "<table border=\"1\" class=\"dataframe\">\n",
       "  <thead>\n",
       "    <tr style=\"text-align: right;\">\n",
       "      <th></th>\n",
       "      <th>Unnamed: 0</th>\n",
       "      <th>SNP</th>\n",
       "      <th>POS_x</th>\n",
       "      <th>rep1_percent</th>\n",
       "      <th>rep2_percent</th>\n",
       "      <th>frequency</th>\n",
       "      <th>sampleid</th>\n",
       "      <th>gene</th>\n",
       "      <th>nt_change</th>\n",
       "      <th>aa_change</th>\n",
       "      <th>annotation</th>\n",
       "      <th>strain_name</th>\n",
       "      <th>location</th>\n",
       "      <th>clade</th>\n",
       "      <th>homopolymer</th>\n",
       "      <th>homopolymer_base</th>\n",
       "      <th>type_of_variant</th>\n",
       "    </tr>\n",
       "  </thead>\n",
       "  <tbody>\n",
       "    <tr>\n",
       "      <th>0</th>\n",
       "      <td>0</td>\n",
       "      <td>orf1ab_-delTCATGTTATGGTTG_His83fs_frameshift</td>\n",
       "      <td>509.0</td>\n",
       "      <td>0.0326</td>\n",
       "      <td>0.0114</td>\n",
       "      <td>0.02200</td>\n",
       "      <td>53</td>\n",
       "      <td>orf1ab</td>\n",
       "      <td>-delTCATGTTATGGTTG</td>\n",
       "      <td>His83fs</td>\n",
       "      <td>frameshift</td>\n",
       "      <td>USA/WI-UW-67/2020</td>\n",
       "      <td>Dane County</td>\n",
       "      <td>19B</td>\n",
       "      <td>not</td>\n",
       "      <td>[]</td>\n",
       "      <td>indel</td>\n",
       "    </tr>\n",
       "    <tr>\n",
       "      <th>1</th>\n",
       "      <td>1</td>\n",
       "      <td>orf1ab_dupA_Leu293fs_frameshift</td>\n",
       "      <td>1135.0</td>\n",
       "      <td>0.0161</td>\n",
       "      <td>0.0122</td>\n",
       "      <td>0.01415</td>\n",
       "      <td>53</td>\n",
       "      <td>orf1ab</td>\n",
       "      <td>dupA</td>\n",
       "      <td>Leu293fs</td>\n",
       "      <td>frameshift</td>\n",
       "      <td>USA/WI-UW-67/2020</td>\n",
       "      <td>Dane County</td>\n",
       "      <td>19B</td>\n",
       "      <td>adjacent</td>\n",
       "      <td>a</td>\n",
       "      <td>indel</td>\n",
       "    </tr>\n",
       "    <tr>\n",
       "      <th>2</th>\n",
       "      <td>6</td>\n",
       "      <td>orf1ab_dupT_Leu2146fs_frameshift</td>\n",
       "      <td>6696.0</td>\n",
       "      <td>0.0335</td>\n",
       "      <td>0.0968</td>\n",
       "      <td>0.06515</td>\n",
       "      <td>53</td>\n",
       "      <td>orf1ab</td>\n",
       "      <td>dupT</td>\n",
       "      <td>Leu2146fs</td>\n",
       "      <td>frameshift</td>\n",
       "      <td>USA/WI-UW-67/2020</td>\n",
       "      <td>Dane County</td>\n",
       "      <td>19B</td>\n",
       "      <td>adjacent</td>\n",
       "      <td>t</td>\n",
       "      <td>indel</td>\n",
       "    </tr>\n",
       "    <tr>\n",
       "      <th>3</th>\n",
       "      <td>8</td>\n",
       "      <td>orf1ab_C&gt;T_Ser2839Ser_synonymous</td>\n",
       "      <td>8782.0</td>\n",
       "      <td>0.9411</td>\n",
       "      <td>0.8919</td>\n",
       "      <td>0.91650</td>\n",
       "      <td>53</td>\n",
       "      <td>orf1ab</td>\n",
       "      <td>C&gt;T</td>\n",
       "      <td>Ser2839Ser</td>\n",
       "      <td>synonymous</td>\n",
       "      <td>USA/WI-UW-67/2020</td>\n",
       "      <td>Dane County</td>\n",
       "      <td>19B</td>\n",
       "      <td>not</td>\n",
       "      <td>[]</td>\n",
       "      <td>snv</td>\n",
       "    </tr>\n",
       "    <tr>\n",
       "      <th>4</th>\n",
       "      <td>11</td>\n",
       "      <td>orf1ab_dupA_Pro3851fs_frameshift</td>\n",
       "      <td>11812.0</td>\n",
       "      <td>0.0150</td>\n",
       "      <td>0.0108</td>\n",
       "      <td>0.01290</td>\n",
       "      <td>53</td>\n",
       "      <td>orf1ab</td>\n",
       "      <td>dupA</td>\n",
       "      <td>Pro3851fs</td>\n",
       "      <td>frameshift</td>\n",
       "      <td>USA/WI-UW-67/2020</td>\n",
       "      <td>Dane County</td>\n",
       "      <td>19B</td>\n",
       "      <td>adjacent</td>\n",
       "      <td>a</td>\n",
       "      <td>indel</td>\n",
       "    </tr>\n",
       "  </tbody>\n",
       "</table>\n",
       "</div>"
      ],
      "text/plain": [
       "  Unnamed: 0                                           SNP    POS_x  \\\n",
       "0          0  orf1ab_-delTCATGTTATGGTTG_His83fs_frameshift    509.0   \n",
       "1          1               orf1ab_dupA_Leu293fs_frameshift   1135.0   \n",
       "2          6              orf1ab_dupT_Leu2146fs_frameshift   6696.0   \n",
       "3          8              orf1ab_C>T_Ser2839Ser_synonymous   8782.0   \n",
       "4         11              orf1ab_dupA_Pro3851fs_frameshift  11812.0   \n",
       "\n",
       "   rep1_percent  rep2_percent  frequency sampleid    gene           nt_change  \\\n",
       "0        0.0326        0.0114    0.02200       53  orf1ab  -delTCATGTTATGGTTG   \n",
       "1        0.0161        0.0122    0.01415       53  orf1ab                dupA   \n",
       "2        0.0335        0.0968    0.06515       53  orf1ab                dupT   \n",
       "3        0.9411        0.8919    0.91650       53  orf1ab                 C>T   \n",
       "4        0.0150        0.0108    0.01290       53  orf1ab                dupA   \n",
       "\n",
       "    aa_change  annotation        strain_name     location clade homopolymer  \\\n",
       "0     His83fs  frameshift  USA/WI-UW-67/2020  Dane County   19B         not   \n",
       "1    Leu293fs  frameshift  USA/WI-UW-67/2020  Dane County   19B    adjacent   \n",
       "2   Leu2146fs  frameshift  USA/WI-UW-67/2020  Dane County   19B    adjacent   \n",
       "3  Ser2839Ser  synonymous  USA/WI-UW-67/2020  Dane County   19B         not   \n",
       "4   Pro3851fs  frameshift  USA/WI-UW-67/2020  Dane County   19B    adjacent   \n",
       "\n",
       "  homopolymer_base type_of_variant  \n",
       "0               []           indel  \n",
       "1                a           indel  \n",
       "2                t           indel  \n",
       "3               []             snv  \n",
       "4                a           indel  "
      ]
     },
     "execution_count": 85,
     "metadata": {},
     "output_type": "execute_result"
    }
   ],
   "source": [
    "all_intersection_variants.head()"
   ]
  },
  {
   "cell_type": "code",
   "execution_count": 86,
   "metadata": {},
   "outputs": [
    {
     "name": "stdout",
     "output_type": "stream",
     "text": [
      "2386\n"
     ]
    }
   ],
   "source": [
    "print(len(all_intersection_variants))"
   ]
  },
  {
   "cell_type": "code",
   "execution_count": 87,
   "metadata": {},
   "outputs": [
    {
     "name": "stdout",
     "output_type": "stream",
     "text": [
      "288\n",
      "74\n",
      "362\n"
     ]
    }
   ],
   "source": [
    "snvs_to_query = set(snvs_only['minor_nuc_muts'])\n",
    "indels_to_query = set(indels_only['minor_nuc_muts'])\n",
    "all_variants_to_query = snvs_to_query.copy()\n",
    "all_variants_to_query.update(indels_to_query)\n",
    "print(len(snvs_to_query))\n",
    "print(len(indels_to_query))\n",
    "print(len(all_variants_to_query))"
   ]
  },
  {
   "cell_type": "markdown",
   "metadata": {},
   "source": [
    "## A small function to order the SNVs by site"
   ]
  },
  {
   "cell_type": "code",
   "execution_count": 88,
   "metadata": {},
   "outputs": [],
   "source": [
    "\"\"\"given a list of SNVs, sort them by their site number to make the resuling plot easier to read and look at\"\"\"\n",
    "\n",
    "def sort_mutations(muts):\n",
    "    muts_dict = {}\n",
    "    sites_list = []\n",
    "    final_order = []\n",
    "    \n",
    "    for m in muts:\n",
    "        site = int(m[1:-1])\n",
    "        \n",
    "        if site not in muts_dict:\n",
    "            muts_dict[site] = []\n",
    "            \n",
    "        muts_dict[site].append(m)\n",
    "        sites_list.append(site)\n",
    "    \n",
    "    sites_list = list(set(sites_list))\n",
    "    sites_list.sort()\n",
    "    \n",
    "    for s in sites_list:\n",
    "        for x in muts_dict[s]:\n",
    "            final_order.append(x)\n",
    "    \n",
    "    return(final_order)"
   ]
  },
  {
   "cell_type": "markdown",
   "metadata": {},
   "source": [
    "## Functions for parsing tree from nextstrain\n",
    "\n",
    "The idea here will be to answer the following questions: \n",
    "1. What proportion of within-host variants are present on the tree? \n",
    "2. Do within-host variants have a skew towards being on internal vs. terminal branches, relative to the rest of the tree? If within-host variants are mostly deleterious, we would hypothesize that they should occur on the tree rarely and should be localized primarily to internal nodes. \n",
    "3. Are variants that are detected within-host in a given sample ever detected at consensus downstream of that sample? If the bottleneck is small and random, then I would not really expect to see this. If however, the bottleneck is really wide, then we might expect to observe this more often. The results here will need to be intergrated with Kat's actual estimates. "
   ]
  },
  {
   "cell_type": "code",
   "execution_count": 89,
   "metadata": {},
   "outputs": [],
   "source": [
    "def generate_snvs_dict_for_tree(query_list):\n",
    "    snvs_on_tree = {}\n",
    "    for q in query_list: \n",
    "        snvs_on_tree[q] = {\"branches_with_snv\":[], \"arose_on_tip\":0, \"arose_on_internal_node\":0}\n",
    "    \n",
    "    return(snvs_on_tree)"
   ]
  },
  {
   "cell_type": "code",
   "execution_count": 90,
   "metadata": {},
   "outputs": [],
   "source": [
    "def enumerate_mutations_on_branches(tree, snvs_on_tree):    \n",
    "    for k in tree.Objects:\n",
    "        if 'branch_attrs' in k.traits:\n",
    "            if 'mutations' in k.traits['branch_attrs']:\n",
    "                if 'nuc' in k.traits['branch_attrs']['mutations']:\n",
    "                    nt_muts = k.traits['branch_attrs']['mutations']['nuc']\n",
    "                    for n in nt_muts: \n",
    "                        if n in snvs_on_tree:\n",
    "                            snvs_on_tree[n][\"branches_with_snv\"].append(k.name)\n",
    "                            \n",
    "                            if k.branchType == \"node\":\n",
    "                                leaves = 0 #len(k.leaves)\n",
    "                                nodes = 1\n",
    "                            elif k.branchType == \"leaf\":\n",
    "                                leaves = 1\n",
    "                                nodes = 0\n",
    "                            \n",
    "                            snvs_on_tree[n][\"arose_on_tip\"] += leaves\n",
    "                            snvs_on_tree[n][\"arose_on_internal_node\"] += nodes\n",
    "                            \n",
    "    return(snvs_on_tree)"
   ]
  },
  {
   "cell_type": "code",
   "execution_count": 91,
   "metadata": {},
   "outputs": [],
   "source": [
    "def enumerate_all_tree_muts(tree):\n",
    "    \n",
    "    all_snps_on_tree = {}\n",
    "    total_snps = {\"internal_nodes\": 0, \"tips\":0}\n",
    "    \n",
    "    for k in tree.Objects:\n",
    "        if 'branch_attrs' in k.traits:\n",
    "            if 'mutations' in k.traits['branch_attrs']:\n",
    "                if 'nuc' in k.traits['branch_attrs']['mutations']:\n",
    "                    nt_muts = k.traits['branch_attrs']['mutations']['nuc']\n",
    "                    for n in nt_muts:\n",
    "                        if n not in all_snps_on_tree: \n",
    "                            all_snps_on_tree[n] = {\"branches_with_snv\":[], \"arose_on_tip\":0, \"arose_on_internal_node\":0}\n",
    "                        \n",
    "                        all_snps_on_tree[n][\"branches_with_snv\"].append(k.name)\n",
    "\n",
    "                        if k.branchType == \"node\":\n",
    "                            leaves = 0 #len(k.leaves)\n",
    "                            nodes = 1\n",
    "                        elif k.branchType == \"leaf\":\n",
    "                            leaves = 1\n",
    "                            nodes = 0\n",
    "\n",
    "                        all_snps_on_tree[n][\"arose_on_tip\"] += leaves\n",
    "                        all_snps_on_tree[n][\"arose_on_internal_node\"] += nodes\n",
    "                            \n",
    "                    \n",
    "                    if k.branchType == \"node\":\n",
    "                        total_snps[\"internal_nodes\"] += len(nt_muts)\n",
    "                    elif k.branchType == \"leaf\":\n",
    "                        total_snps['tips'] += len(nt_muts)\n",
    "                        \n",
    "    return(all_snps_on_tree, total_snps)"
   ]
  },
  {
   "cell_type": "markdown",
   "metadata": {},
   "source": [
    "## Grab the most recent json file from nextstrain, and read it in as a baltic tree object \n",
    "\n",
    "The current `json_translation` defined here will translate auspice v2 jsons attributes into the proper tree attributes. This will not work for auspice v1 jsons. All ncov jsons are in v2. "
   ]
  },
  {
   "cell_type": "code",
   "execution_count": 92,
   "metadata": {},
   "outputs": [
    {
     "name": "stdout",
     "output_type": "stream",
     "text": [
      "\n",
      "Tree height: 1.058367\n",
      "Tree length: 748.581610\n",
      "multitype tree\n",
      "annotations present\n",
      "\n",
      "Numbers of objects in tree: 7338 (3408 nodes and 3930 leaves)\n",
      "\n"
     ]
    }
   ],
   "source": [
    "# most recent global ncov json\n",
    "json_url='http://data.nextstrain.org/ncov_global.json'\n",
    "tree_json=json.load(csio(requests.get(json_url).content))\n",
    "\n",
    "# or, instead we can use the wisconsin nextstrain build which incorporates global context. That might make more sense\n",
    "#tree_path = \"/Users/lmoncla/src/ncov-WI-within-host/data/ncov_wisconsin_statewide.json\"\n",
    "# with open(tree_path) as json_file:\n",
    "#     tree_json = json.load(json_file)\n",
    "\n",
    "analysis_level = \"division\"\n",
    "\n",
    "tree_object=tree_json['tree']\n",
    "meta=tree_json['meta']\n",
    "json_translation={'absoluteTime':lambda k: k.traits['node_attrs']['num_date']['value'],'name':'name'} ## allows baltic to find correct attributes in JSON, height and name are required at a minimum\n",
    "#json_meta={'file':meta,'traitName':analysis_level} ## if you want auspice stylings you can import the meta file used on nextstrain.org\n",
    "\n",
    "tree=bt.loadJSON(tree_object,json_translation)"
   ]
  },
  {
   "cell_type": "code",
   "execution_count": 93,
   "metadata": {},
   "outputs": [],
   "source": [
    "#variants_to_query = all_variants_to_query\n",
    "#variants_to_query = indels_to_query\n",
    "variants_to_query = snvs_to_query"
   ]
  },
  {
   "cell_type": "code",
   "execution_count": 94,
   "metadata": {},
   "outputs": [],
   "source": [
    "snvs_on_tree_dict = generate_snvs_dict_for_tree(variants_to_query)\n",
    "snvs_on_tree_dict = enumerate_mutations_on_branches(tree, snvs_on_tree_dict)\n",
    "full_tree_muts,tree_mut_counts = enumerate_all_tree_muts(tree)"
   ]
  },
  {
   "cell_type": "code",
   "execution_count": null,
   "metadata": {},
   "outputs": [],
   "source": []
  },
  {
   "cell_type": "code",
   "execution_count": 95,
   "metadata": {},
   "outputs": [
    {
     "data": {
      "text/html": [
       "<div>\n",
       "<style scoped>\n",
       "    .dataframe tbody tr th:only-of-type {\n",
       "        vertical-align: middle;\n",
       "    }\n",
       "\n",
       "    .dataframe tbody tr th {\n",
       "        vertical-align: top;\n",
       "    }\n",
       "\n",
       "    .dataframe thead th {\n",
       "        text-align: right;\n",
       "    }\n",
       "</style>\n",
       "<table border=\"1\" class=\"dataframe\">\n",
       "  <thead>\n",
       "    <tr style=\"text-align: right;\">\n",
       "      <th></th>\n",
       "      <th>snv</th>\n",
       "      <th>branches_with_snv</th>\n",
       "      <th>arose_on_tip</th>\n",
       "      <th>arose_on_internal_node</th>\n",
       "    </tr>\n",
       "  </thead>\n",
       "  <tbody>\n",
       "    <tr>\n",
       "      <th>0</th>\n",
       "      <td>-11288T</td>\n",
       "      <td>[SouthAfrica/KRISP-EC-K005347/2020, SouthAfric...</td>\n",
       "      <td>4</td>\n",
       "      <td>1</td>\n",
       "    </tr>\n",
       "    <tr>\n",
       "      <th>1</th>\n",
       "      <td>-11289C</td>\n",
       "      <td>[SouthAfrica/KRISP-EC-K005347/2020, SouthAfric...</td>\n",
       "      <td>6</td>\n",
       "      <td>1</td>\n",
       "    </tr>\n",
       "    <tr>\n",
       "      <th>2</th>\n",
       "      <td>-11290T</td>\n",
       "      <td>[SouthAfrica/KRISP-EC-K005347/2020, SouthAfric...</td>\n",
       "      <td>6</td>\n",
       "      <td>1</td>\n",
       "    </tr>\n",
       "    <tr>\n",
       "      <th>3</th>\n",
       "      <td>-11291A</td>\n",
       "      <td>[USA/MI-MDHHS-SC23042/2021]</td>\n",
       "      <td>1</td>\n",
       "      <td>0</td>\n",
       "    </tr>\n",
       "    <tr>\n",
       "      <th>4</th>\n",
       "      <td>-11291G</td>\n",
       "      <td>[SouthAfrica/KRISP-EC-K005347/2020, SouthAfric...</td>\n",
       "      <td>5</td>\n",
       "      <td>1</td>\n",
       "    </tr>\n",
       "  </tbody>\n",
       "</table>\n",
       "</div>"
      ],
      "text/plain": [
       "       snv                                  branches_with_snv  arose_on_tip  \\\n",
       "0  -11288T  [SouthAfrica/KRISP-EC-K005347/2020, SouthAfric...             4   \n",
       "1  -11289C  [SouthAfrica/KRISP-EC-K005347/2020, SouthAfric...             6   \n",
       "2  -11290T  [SouthAfrica/KRISP-EC-K005347/2020, SouthAfric...             6   \n",
       "3  -11291A                        [USA/MI-MDHHS-SC23042/2021]             1   \n",
       "4  -11291G  [SouthAfrica/KRISP-EC-K005347/2020, SouthAfric...             5   \n",
       "\n",
       "   arose_on_internal_node  \n",
       "0                       1  \n",
       "1                       1  \n",
       "2                       1  \n",
       "3                       0  \n",
       "4                       1  "
      ]
     },
     "execution_count": 95,
     "metadata": {},
     "output_type": "execute_result"
    }
   ],
   "source": [
    "full_tree_df = pd.DataFrame.from_dict(full_tree_muts, orient=\"index\")\n",
    "full_tree_df.reset_index(inplace=True)\n",
    "full_tree_df.columns = ['snv','branches_with_snv','arose_on_tip','arose_on_internal_node']\n",
    "full_tree_df.head()"
   ]
  },
  {
   "cell_type": "code",
   "execution_count": 96,
   "metadata": {
    "scrolled": true
   },
   "outputs": [
    {
     "name": "stdout",
     "output_type": "stream",
     "text": [
      "{'internal_nodes': 4336, 'tips': 15438}\n"
     ]
    }
   ],
   "source": [
    "snps_on_tips = full_tree_df['arose_on_tip'].sum()\n",
    "snps_on_nodes = full_tree_df['arose_on_internal_node'].sum()\n",
    "print(tree_mut_counts)"
   ]
  },
  {
   "cell_type": "code",
   "execution_count": 97,
   "metadata": {
    "scrolled": true
   },
   "outputs": [
    {
     "data": {
      "text/html": [
       "<div>\n",
       "<style scoped>\n",
       "    .dataframe tbody tr th:only-of-type {\n",
       "        vertical-align: middle;\n",
       "    }\n",
       "\n",
       "    .dataframe tbody tr th {\n",
       "        vertical-align: top;\n",
       "    }\n",
       "\n",
       "    .dataframe thead th {\n",
       "        text-align: right;\n",
       "    }\n",
       "</style>\n",
       "<table border=\"1\" class=\"dataframe\">\n",
       "  <thead>\n",
       "    <tr style=\"text-align: right;\">\n",
       "      <th></th>\n",
       "      <th>snv</th>\n",
       "      <th>branches_with_snv</th>\n",
       "      <th>arose_on_tip</th>\n",
       "      <th>arose_on_internal_node</th>\n",
       "    </tr>\n",
       "  </thead>\n",
       "  <tbody>\n",
       "    <tr>\n",
       "      <th>0</th>\n",
       "      <td>NaN</td>\n",
       "      <td>[]</td>\n",
       "      <td>0</td>\n",
       "      <td>0</td>\n",
       "    </tr>\n",
       "    <tr>\n",
       "      <th>1</th>\n",
       "      <td>G18745T</td>\n",
       "      <td>[USA/MD-CDC-2-3714081/2020, CzechRepublic/NRL-...</td>\n",
       "      <td>2</td>\n",
       "      <td>0</td>\n",
       "    </tr>\n",
       "    <tr>\n",
       "      <th>2</th>\n",
       "      <td>G18816T</td>\n",
       "      <td>[England/MILK-B8C845/2020, SouthAfrica/KRISP-K...</td>\n",
       "      <td>6</td>\n",
       "      <td>0</td>\n",
       "    </tr>\n",
       "    <tr>\n",
       "      <th>3</th>\n",
       "      <td>G21119C</td>\n",
       "      <td>[]</td>\n",
       "      <td>0</td>\n",
       "      <td>0</td>\n",
       "    </tr>\n",
       "    <tr>\n",
       "      <th>4</th>\n",
       "      <td>C5144T</td>\n",
       "      <td>[NODE_0001695, NODE_0003272, USA/MI-UM-1003413...</td>\n",
       "      <td>5</td>\n",
       "      <td>3</td>\n",
       "    </tr>\n",
       "  </tbody>\n",
       "</table>\n",
       "</div>"
      ],
      "text/plain": [
       "       snv                                  branches_with_snv  arose_on_tip  \\\n",
       "0      NaN                                                 []             0   \n",
       "1  G18745T  [USA/MD-CDC-2-3714081/2020, CzechRepublic/NRL-...             2   \n",
       "2  G18816T  [England/MILK-B8C845/2020, SouthAfrica/KRISP-K...             6   \n",
       "3  G21119C                                                 []             0   \n",
       "4   C5144T  [NODE_0001695, NODE_0003272, USA/MI-UM-1003413...             5   \n",
       "\n",
       "   arose_on_internal_node  \n",
       "0                       0  \n",
       "1                       0  \n",
       "2                       0  \n",
       "3                       0  \n",
       "4                       3  "
      ]
     },
     "execution_count": 97,
     "metadata": {},
     "output_type": "execute_result"
    }
   ],
   "source": [
    "df = pd.DataFrame.from_dict(snvs_on_tree_dict, orient=\"index\")\n",
    "df.reset_index(inplace=True)\n",
    "df.columns = ['snv','branches_with_snv','arose_on_tip','arose_on_internal_node']\n",
    "df1 = df[['snv','arose_on_tip','arose_on_internal_node']]\n",
    "df.head()"
   ]
  },
  {
   "cell_type": "code",
   "execution_count": 98,
   "metadata": {},
   "outputs": [
    {
     "name": "stdout",
     "output_type": "stream",
     "text": [
      "191\n",
      "288\n",
      "the total fraction of within-host variants that are found on the tree is  0.3368055555555556\n",
      "the total fraction of within-host variants that are NOT found on the tree is  0.6631944444444444\n"
     ]
    }
   ],
   "source": [
    "# print number/fraction of SNVs that are never on the tree \n",
    "not_on_tree = len(df[(df['arose_on_tip'] == 0) & (df['arose_on_internal_node'] == 0)])\n",
    "print(not_on_tree)\n",
    "print(len(df))\n",
    "print(\"the total fraction of within-host variants that are found on the tree is \", (len(df)-not_on_tree)/len(df))\n",
    "print(\"the total fraction of within-host variants that are NOT found on the tree is \", not_on_tree/len(df))"
   ]
  },
  {
   "cell_type": "markdown",
   "metadata": {},
   "source": [
    "### Question 1: What fraction of variants are on the tree? \n",
    "\n",
    "SNVs: 33% are found on the tree, 66% are not\n",
    "\n",
    "indels: 0% are found on the tree\n",
    "\n",
    "overall: 20% of variants are found on the tree, 80% are not"
   ]
  },
  {
   "cell_type": "code",
   "execution_count": 99,
   "metadata": {},
   "outputs": [
    {
     "name": "stdout",
     "output_type": "stream",
     "text": [
      "403 150\n"
     ]
    }
   ],
   "source": [
    "# for all within-host variants added together, print the number of times they appear on tips and on internal nodes\n",
    "within_host_on_tips = df['arose_on_tip'].sum()\n",
    "within_host_on_nodes = df['arose_on_internal_node'].sum()\n",
    "print(within_host_on_tips, within_host_on_nodes)"
   ]
  },
  {
   "cell_type": "code",
   "execution_count": 100,
   "metadata": {},
   "outputs": [
    {
     "name": "stdout",
     "output_type": "stream",
     "text": [
      "0.7545917001338688 0.004930068097345445\n",
      "[[4336, 15438], [150, 403]]\n"
     ]
    }
   ],
   "source": [
    "# do a Fisher's exact test, testing whether within-host variants have a different ratio of internal node to terminal\n",
    "# node appearance than other mutations on the tree\n",
    "import scipy\n",
    "from scipy import stats\n",
    "table = [[snps_on_nodes,snps_on_tips],[within_host_on_nodes,within_host_on_tips]]\n",
    "odds_ratio,pvalue = stats.fisher_exact(table)\n",
    "\n",
    "print(odds_ratio, pvalue)\n",
    "print(table)"
   ]
  },
  {
   "cell_type": "markdown",
   "metadata": {},
   "source": [
    "I'm a little bit concerned that this result changes based on the tree I use. When I just ran this on the global nextstrain tree, I'm getting a ratio of mutations on internval vs. terminal nodes that is ~ 1:4. On the Wisconsin tree with global context, I am getting a ratio of 1:3. For both within-host variants, the ratio of mutations on internal vs. terminal nodes is ~1:3. So for one tree I am getting a significant deviation and for the other I am not. "
   ]
  },
  {
   "cell_type": "code",
   "execution_count": 101,
   "metadata": {},
   "outputs": [
    {
     "name": "stdout",
     "output_type": "stream",
     "text": [
      "G21305A 0.023657695286235077\n",
      "[[4336, 15438], [4, 2]]\n",
      "C25810T 0.03527116320585796\n",
      "[[4336, 15438], [3, 1]]\n",
      "A11983G 0.04810874461545021\n",
      "[[4336, 15438], [2, 0]]\n",
      "C28887T 0.005561636135823814\n",
      "[[4336, 15438], [12, 13]]\n",
      "G28975T 0.03134678926953466\n",
      "[[4336, 15438], [9, 12]]\n"
     ]
    }
   ],
   "source": [
    "# compare with Fishers exact test \n",
    "# now run on actual data\n",
    "import scipy \n",
    "from scipy import stats\n",
    "\n",
    "p_values = {}\n",
    "\n",
    "for index, row in df.iterrows():\n",
    "    mutation = row['snv']\n",
    "    on_tips = row['arose_on_tip']\n",
    "    on_internal_nodes = row['arose_on_internal_node']\n",
    "    \n",
    "    table = [[snps_on_nodes,snps_on_tips],[on_internal_nodes,on_tips]]\n",
    "    odds_ratio, p_value = (stats.fisher_exact(table))\n",
    "            \n",
    "    if p_value < 0.05:\n",
    "        print(mutation, p_value)\n",
    "        print(table)\n",
    "        \n",
    "    # assign stars\n",
    "    if p_value > 0.01 and p_value < 0.05:\n",
    "        significance = \"*\"\n",
    "\n",
    "    elif p_value > 0.001 and p_value < 0.01:\n",
    "        significance = \"**\"\n",
    "        \n",
    "    elif p_value > 0.0001 and p_value < 0.001:\n",
    "        significance = \"***\"\n",
    "    \n",
    "    elif p_value < 0.0001:\n",
    "        significance = \"****\"\n",
    "        \n",
    "    else: \n",
    "        significance = \"\"\n",
    "            \n",
    "    p_values[mutation] = {\"p_value\":p_value, \"significance\":significance}"
   ]
  },
  {
   "cell_type": "code",
   "execution_count": 102,
   "metadata": {},
   "outputs": [
    {
     "name": "stdout",
     "output_type": "stream",
     "text": [
      "194\n",
      "94\n",
      "288\n"
     ]
    }
   ],
   "source": [
    "print(len(df[df['arose_on_tip'] == 0]))\n",
    "print(len(df[df['arose_on_tip'] > 0]))\n",
    "print(len(df))"
   ]
  },
  {
   "cell_type": "code",
   "execution_count": 103,
   "metadata": {},
   "outputs": [
    {
     "name": "stdout",
     "output_type": "stream",
     "text": [
      "231\n",
      "57\n",
      "288\n"
     ]
    }
   ],
   "source": [
    "print(len(df[df['arose_on_internal_node'] == 0]))\n",
    "print(len(df[df['arose_on_internal_node'] > 0]))\n",
    "print(len(df))"
   ]
  },
  {
   "cell_type": "code",
   "execution_count": 104,
   "metadata": {
    "scrolled": true
   },
   "outputs": [
    {
     "data": {
      "text/html": [
       "<div>\n",
       "<style scoped>\n",
       "    .dataframe tbody tr th:only-of-type {\n",
       "        vertical-align: middle;\n",
       "    }\n",
       "\n",
       "    .dataframe tbody tr th {\n",
       "        vertical-align: top;\n",
       "    }\n",
       "\n",
       "    .dataframe thead th {\n",
       "        text-align: right;\n",
       "    }\n",
       "</style>\n",
       "<table border=\"1\" class=\"dataframe\">\n",
       "  <thead>\n",
       "    <tr style=\"text-align: right;\">\n",
       "      <th></th>\n",
       "      <th>snv</th>\n",
       "      <th>branches_with_snv</th>\n",
       "      <th>arose_on_tip</th>\n",
       "      <th>arose_on_internal_node</th>\n",
       "    </tr>\n",
       "  </thead>\n",
       "  <tbody>\n",
       "    <tr>\n",
       "      <th>0</th>\n",
       "      <td>NaN</td>\n",
       "      <td>[]</td>\n",
       "      <td>0</td>\n",
       "      <td>0</td>\n",
       "    </tr>\n",
       "    <tr>\n",
       "      <th>1</th>\n",
       "      <td>G18745T</td>\n",
       "      <td>[USA/MD-CDC-2-3714081/2020, CzechRepublic/NRL-...</td>\n",
       "      <td>2</td>\n",
       "      <td>0</td>\n",
       "    </tr>\n",
       "    <tr>\n",
       "      <th>2</th>\n",
       "      <td>G18816T</td>\n",
       "      <td>[England/MILK-B8C845/2020, SouthAfrica/KRISP-K...</td>\n",
       "      <td>6</td>\n",
       "      <td>0</td>\n",
       "    </tr>\n",
       "    <tr>\n",
       "      <th>3</th>\n",
       "      <td>G21119C</td>\n",
       "      <td>[]</td>\n",
       "      <td>0</td>\n",
       "      <td>0</td>\n",
       "    </tr>\n",
       "    <tr>\n",
       "      <th>4</th>\n",
       "      <td>C5144T</td>\n",
       "      <td>[NODE_0001695, NODE_0003272, USA/MI-UM-1003413...</td>\n",
       "      <td>5</td>\n",
       "      <td>3</td>\n",
       "    </tr>\n",
       "  </tbody>\n",
       "</table>\n",
       "</div>"
      ],
      "text/plain": [
       "       snv                                  branches_with_snv  arose_on_tip  \\\n",
       "0      NaN                                                 []             0   \n",
       "1  G18745T  [USA/MD-CDC-2-3714081/2020, CzechRepublic/NRL-...             2   \n",
       "2  G18816T  [England/MILK-B8C845/2020, SouthAfrica/KRISP-K...             6   \n",
       "3  G21119C                                                 []             0   \n",
       "4   C5144T  [NODE_0001695, NODE_0003272, USA/MI-UM-1003413...             5   \n",
       "\n",
       "   arose_on_internal_node  \n",
       "0                       0  \n",
       "1                       0  \n",
       "2                       0  \n",
       "3                       0  \n",
       "4                       3  "
      ]
     },
     "execution_count": 104,
     "metadata": {},
     "output_type": "execute_result"
    }
   ],
   "source": [
    "df.head()"
   ]
  },
  {
   "cell_type": "code",
   "execution_count": 105,
   "metadata": {},
   "outputs": [
    {
     "data": {
      "text/html": [
       "<div>\n",
       "<style scoped>\n",
       "    .dataframe tbody tr th:only-of-type {\n",
       "        vertical-align: middle;\n",
       "    }\n",
       "\n",
       "    .dataframe tbody tr th {\n",
       "        vertical-align: top;\n",
       "    }\n",
       "\n",
       "    .dataframe thead th {\n",
       "        text-align: right;\n",
       "    }\n",
       "</style>\n",
       "<table border=\"1\" class=\"dataframe\">\n",
       "  <thead>\n",
       "    <tr style=\"text-align: right;\">\n",
       "      <th></th>\n",
       "      <th>snv</th>\n",
       "      <th>total_counts</th>\n",
       "      <th>variable</th>\n",
       "      <th>value</th>\n",
       "    </tr>\n",
       "  </thead>\n",
       "  <tbody>\n",
       "    <tr>\n",
       "      <th>0</th>\n",
       "      <td>NaN</td>\n",
       "      <td>0</td>\n",
       "      <td>arose_on_tip</td>\n",
       "      <td>0</td>\n",
       "    </tr>\n",
       "    <tr>\n",
       "      <th>1</th>\n",
       "      <td>G18745T</td>\n",
       "      <td>2</td>\n",
       "      <td>arose_on_tip</td>\n",
       "      <td>2</td>\n",
       "    </tr>\n",
       "    <tr>\n",
       "      <th>2</th>\n",
       "      <td>G18816T</td>\n",
       "      <td>6</td>\n",
       "      <td>arose_on_tip</td>\n",
       "      <td>6</td>\n",
       "    </tr>\n",
       "    <tr>\n",
       "      <th>3</th>\n",
       "      <td>G21119C</td>\n",
       "      <td>0</td>\n",
       "      <td>arose_on_tip</td>\n",
       "      <td>0</td>\n",
       "    </tr>\n",
       "    <tr>\n",
       "      <th>4</th>\n",
       "      <td>C5144T</td>\n",
       "      <td>8</td>\n",
       "      <td>arose_on_tip</td>\n",
       "      <td>5</td>\n",
       "    </tr>\n",
       "  </tbody>\n",
       "</table>\n",
       "</div>"
      ],
      "text/plain": [
       "       snv  total_counts      variable  value\n",
       "0      NaN             0  arose_on_tip      0\n",
       "1  G18745T             2  arose_on_tip      2\n",
       "2  G18816T             6  arose_on_tip      6\n",
       "3  G21119C             0  arose_on_tip      0\n",
       "4   C5144T             8  arose_on_tip      5"
      ]
     },
     "execution_count": 105,
     "metadata": {},
     "output_type": "execute_result"
    }
   ],
   "source": [
    "df_to_plot = df.copy()\n",
    "df_to_plot['total_counts'] = df_to_plot['arose_on_tip'] + df_to_plot['arose_on_internal_node']\n",
    "df_to_plot = df_to_plot.melt(value_vars=['arose_on_tip','arose_on_internal_node'], id_vars=['snv','total_counts'])\n",
    "df_to_plot.head()"
   ]
  },
  {
   "cell_type": "code",
   "execution_count": 106,
   "metadata": {},
   "outputs": [
    {
     "data": {
      "text/html": [
       "<div>\n",
       "<style scoped>\n",
       "    .dataframe tbody tr th:only-of-type {\n",
       "        vertical-align: middle;\n",
       "    }\n",
       "\n",
       "    .dataframe tbody tr th {\n",
       "        vertical-align: top;\n",
       "    }\n",
       "\n",
       "    .dataframe thead th {\n",
       "        text-align: right;\n",
       "    }\n",
       "</style>\n",
       "<table border=\"1\" class=\"dataframe\">\n",
       "  <thead>\n",
       "    <tr style=\"text-align: right;\">\n",
       "      <th></th>\n",
       "      <th>snv</th>\n",
       "      <th>total_counts</th>\n",
       "      <th>variable</th>\n",
       "      <th>value</th>\n",
       "      <th>p-value</th>\n",
       "      <th>significance</th>\n",
       "    </tr>\n",
       "  </thead>\n",
       "  <tbody>\n",
       "    <tr>\n",
       "      <th>0</th>\n",
       "      <td>NaN</td>\n",
       "      <td>0</td>\n",
       "      <td>arose_on_tip</td>\n",
       "      <td>0</td>\n",
       "      <td>1.000000</td>\n",
       "      <td></td>\n",
       "    </tr>\n",
       "    <tr>\n",
       "      <th>1</th>\n",
       "      <td>NaN</td>\n",
       "      <td>0</td>\n",
       "      <td>arose_on_internal_node</td>\n",
       "      <td>0</td>\n",
       "      <td>1.000000</td>\n",
       "      <td></td>\n",
       "    </tr>\n",
       "    <tr>\n",
       "      <th>2</th>\n",
       "      <td>G18745T</td>\n",
       "      <td>2</td>\n",
       "      <td>arose_on_tip</td>\n",
       "      <td>2</td>\n",
       "      <td>1.000000</td>\n",
       "      <td></td>\n",
       "    </tr>\n",
       "    <tr>\n",
       "      <th>3</th>\n",
       "      <td>G18745T</td>\n",
       "      <td>2</td>\n",
       "      <td>arose_on_internal_node</td>\n",
       "      <td>0</td>\n",
       "      <td>1.000000</td>\n",
       "      <td></td>\n",
       "    </tr>\n",
       "    <tr>\n",
       "      <th>4</th>\n",
       "      <td>G18816T</td>\n",
       "      <td>6</td>\n",
       "      <td>arose_on_tip</td>\n",
       "      <td>6</td>\n",
       "      <td>0.350369</td>\n",
       "      <td></td>\n",
       "    </tr>\n",
       "  </tbody>\n",
       "</table>\n",
       "</div>"
      ],
      "text/plain": [
       "       snv  total_counts                variable  value   p-value significance\n",
       "0      NaN             0            arose_on_tip      0  1.000000             \n",
       "1      NaN             0  arose_on_internal_node      0  1.000000             \n",
       "2  G18745T             2            arose_on_tip      2  1.000000             \n",
       "3  G18745T             2  arose_on_internal_node      0  1.000000             \n",
       "4  G18816T             6            arose_on_tip      6  0.350369             "
      ]
     },
     "execution_count": 106,
     "metadata": {},
     "output_type": "execute_result"
    }
   ],
   "source": [
    "# add in p-values column\n",
    "p_values_df = pd.DataFrame.from_dict(p_values, orient=\"index\")\n",
    "p_values_df.reset_index(inplace=True)\n",
    "p_values_df.columns = [\"snv\",\"p-value\",\"significance\"]\n",
    "\n",
    "\n",
    "df_to_plot = df_to_plot.merge(p_values_df, on=['snv'])\n",
    "df_to_plot.head()"
   ]
  },
  {
   "cell_type": "code",
   "execution_count": 107,
   "metadata": {},
   "outputs": [
    {
     "name": "stdout",
     "output_type": "stream",
     "text": [
      "576\n",
      "574\n"
     ]
    }
   ],
   "source": [
    "print(len(df_to_plot))\n",
    "df_to_plot.dropna(inplace=True)\n",
    "print(len(df_to_plot))"
   ]
  },
  {
   "cell_type": "code",
   "execution_count": null,
   "metadata": {},
   "outputs": [],
   "source": []
  },
  {
   "cell_type": "code",
   "execution_count": 108,
   "metadata": {
    "scrolled": true
   },
   "outputs": [
    {
     "data": {
      "text/html": [
       "<div>\n",
       "<style scoped>\n",
       "    .dataframe tbody tr th:only-of-type {\n",
       "        vertical-align: middle;\n",
       "    }\n",
       "\n",
       "    .dataframe tbody tr th {\n",
       "        vertical-align: top;\n",
       "    }\n",
       "\n",
       "    .dataframe thead th {\n",
       "        text-align: right;\n",
       "    }\n",
       "</style>\n",
       "<table border=\"1\" class=\"dataframe\">\n",
       "  <thead>\n",
       "    <tr style=\"text-align: right;\">\n",
       "      <th></th>\n",
       "      <th>snv</th>\n",
       "      <th>total_counts</th>\n",
       "      <th>variable</th>\n",
       "      <th>value</th>\n",
       "      <th>p-value</th>\n",
       "      <th>significance</th>\n",
       "    </tr>\n",
       "  </thead>\n",
       "  <tbody>\n",
       "    <tr>\n",
       "      <th>2</th>\n",
       "      <td>G18745T</td>\n",
       "      <td>2</td>\n",
       "      <td>arose_on_tip</td>\n",
       "      <td>2</td>\n",
       "      <td>1.000000</td>\n",
       "      <td></td>\n",
       "    </tr>\n",
       "    <tr>\n",
       "      <th>4</th>\n",
       "      <td>G18816T</td>\n",
       "      <td>6</td>\n",
       "      <td>arose_on_tip</td>\n",
       "      <td>6</td>\n",
       "      <td>0.350369</td>\n",
       "      <td></td>\n",
       "    </tr>\n",
       "    <tr>\n",
       "      <th>8</th>\n",
       "      <td>C5144T</td>\n",
       "      <td>8</td>\n",
       "      <td>arose_on_tip</td>\n",
       "      <td>5</td>\n",
       "      <td>0.384956</td>\n",
       "      <td></td>\n",
       "    </tr>\n",
       "    <tr>\n",
       "      <th>9</th>\n",
       "      <td>C5144T</td>\n",
       "      <td>8</td>\n",
       "      <td>arose_on_internal_node</td>\n",
       "      <td>3</td>\n",
       "      <td>0.384956</td>\n",
       "      <td></td>\n",
       "    </tr>\n",
       "    <tr>\n",
       "      <th>10</th>\n",
       "      <td>C3037T</td>\n",
       "      <td>2</td>\n",
       "      <td>arose_on_tip</td>\n",
       "      <td>1</td>\n",
       "      <td>0.390526</td>\n",
       "      <td></td>\n",
       "    </tr>\n",
       "  </tbody>\n",
       "</table>\n",
       "</div>"
      ],
      "text/plain": [
       "        snv  total_counts                variable  value   p-value  \\\n",
       "2   G18745T             2            arose_on_tip      2  1.000000   \n",
       "4   G18816T             6            arose_on_tip      6  0.350369   \n",
       "8    C5144T             8            arose_on_tip      5  0.384956   \n",
       "9    C5144T             8  arose_on_internal_node      3  0.384956   \n",
       "10   C3037T             2            arose_on_tip      1  0.390526   \n",
       "\n",
       "   significance  \n",
       "2                \n",
       "4                \n",
       "8                \n",
       "9                \n",
       "10               "
      ]
     },
     "execution_count": 108,
     "metadata": {},
     "output_type": "execute_result"
    }
   ],
   "source": [
    "df_to_plot = df_to_plot[~df_to_plot['snv'].str.contains(\"-\")]\n",
    "df_to_plot = df_to_plot[df_to_plot['value'] > 0]\n",
    "df_to_plot.head()"
   ]
  },
  {
   "cell_type": "code",
   "execution_count": 109,
   "metadata": {},
   "outputs": [],
   "source": [
    "muts_to_sort = list(set(df_to_plot['snv'].tolist()))\n",
    "order_of_variants = sort_mutations(muts_to_sort)"
   ]
  },
  {
   "cell_type": "code",
   "execution_count": 110,
   "metadata": {},
   "outputs": [],
   "source": [
    "tip_color = \"#C75643\"\n",
    "node_color = \"#545AB7\""
   ]
  },
  {
   "cell_type": "code",
   "execution_count": 111,
   "metadata": {},
   "outputs": [
    {
     "data": {
      "image/png": "[encoded data removed]"
     },
     "metadata": {},
     "output_type": "display_data"
    }
   ],
   "source": [
    "%%R -w 800 -h 500 -u px -i order_of_variants,variant_percent,current_date,df_to_plot,tip_color,node_color  # this sets the size of the plot...otherwise, it will go off the page\n",
    "\n",
    "require(ggplot2)\n",
    "library(ggplot2)\n",
    "library(RColorBrewer)\n",
    "\n",
    "output_filename = paste(\"SNVs-on-global-tree-\",variant_percent,\"percent-\",current_date,\".pdf\", sep=\"\")\n",
    "df_to_plot$snv_f = factor(df_to_plot$snv, levels=c(order_of_variants))\n",
    "\n",
    "p <- ggplot(data=df_to_plot, aes(x=snv_f, y=value, color=variable, fill=variable)) + \n",
    "    geom_col()+\n",
    "    geom_text(data=df_to_plot, aes(x=snv_f, y=total_counts + 0.5, label=significance), color=\"black\",size=15)+\n",
    "    labs(x=\"\\nSNV\",y=\"observations on tree\\n\")+\n",
    "    scale_color_manual(values=c(arose_on_tip=tip_color,arose_on_internal_node=node_color), guide=FALSE)+\n",
    "    scale_fill_manual(values=c(arose_on_tip=tip_color,arose_on_internal_node=node_color), labels=c(\"tip\", \"internal node\"))+\n",
    "    scale_y_continuous(breaks=seq(0,70,10), limits=c(0,70))+\n",
    "    theme(panel.grid.major=element_line(colour=NA,size=NA))+    \n",
    "    theme(panel.grid.minor=element_line(colour=NA,size=NA))+    \n",
    "    theme(strip.background = element_rect(colour=NA, fill=NA))+\n",
    "    theme(axis.line.x=element_line(colour=\"black\"))+\n",
    "    theme(axis.line.y=element_line(colour=\"black\"))+\n",
    "    theme(axis.title=element_text(size=22, vjust=5))+\n",
    "    theme(axis.text.y=element_text(size=18, colour=\"black\"))+\n",
    "    theme(axis.text.x=element_text(size=10, colour=\"black\", angle=90, hjust=0.95))+\n",
    "    theme(legend.text=element_text(size=18))+\n",
    "    theme(legend.title=element_text(size=22))+\n",
    "    theme(panel.margin=unit(1, \"lines\"))+\n",
    "    theme(plot.margin=unit(c(1,4,1,1),\"cm\"))+\n",
    "    theme(legend.key.size=unit(0.7, \"cm\"))+\n",
    "    theme(panel.background=element_rect(fill=NA))+\n",
    "    theme(legend.key=element_rect(fill=NA))+\n",
    "    theme(legend.position = c(1.0, 0.75))+\n",
    "    guides(fill=guide_legend(title=\"where SNV arose\"))\n",
    "\n",
    "ggsave(output_filename, width = 24, height = 10, device = \"pdf\", path = \"../figures/\", dpi = 300)\n",
    "p"
   ]
  },
  {
   "cell_type": "markdown",
   "metadata": {},
   "source": [
    "## Are SNVs detected multiple times within-host more likely to be detected on the tree? "
   ]
  },
  {
   "cell_type": "code",
   "execution_count": 112,
   "metadata": {},
   "outputs": [
    {
     "data": {
      "text/html": [
       "<div>\n",
       "<style scoped>\n",
       "    .dataframe tbody tr th:only-of-type {\n",
       "        vertical-align: middle;\n",
       "    }\n",
       "\n",
       "    .dataframe tbody tr th {\n",
       "        vertical-align: top;\n",
       "    }\n",
       "\n",
       "    .dataframe thead th {\n",
       "        text-align: right;\n",
       "    }\n",
       "</style>\n",
       "<table border=\"1\" class=\"dataframe\">\n",
       "  <thead>\n",
       "    <tr style=\"text-align: right;\">\n",
       "      <th></th>\n",
       "      <th>snv</th>\n",
       "      <th>within_host_counts</th>\n",
       "    </tr>\n",
       "  </thead>\n",
       "  <tbody>\n",
       "    <tr>\n",
       "      <th>0</th>\n",
       "      <td>T241C</td>\n",
       "      <td>47</td>\n",
       "    </tr>\n",
       "    <tr>\n",
       "      <th>1</th>\n",
       "      <td>T3037C</td>\n",
       "      <td>45</td>\n",
       "    </tr>\n",
       "    <tr>\n",
       "      <th>2</th>\n",
       "      <td>T14408C</td>\n",
       "      <td>42</td>\n",
       "    </tr>\n",
       "    <tr>\n",
       "      <th>3</th>\n",
       "      <td>G15150T</td>\n",
       "      <td>22</td>\n",
       "    </tr>\n",
       "    <tr>\n",
       "      <th>4</th>\n",
       "      <td>T20316C</td>\n",
       "      <td>13</td>\n",
       "    </tr>\n",
       "  </tbody>\n",
       "</table>\n",
       "</div>"
      ],
      "text/plain": [
       "       snv  within_host_counts\n",
       "0    T241C                  47\n",
       "1   T3037C                  45\n",
       "2  T14408C                  42\n",
       "3  G15150T                  22\n",
       "4  T20316C                  13"
      ]
     },
     "execution_count": 112,
     "metadata": {},
     "output_type": "execute_result"
    }
   ],
   "source": [
    "s = snvs_only['minor_nuc_muts'].value_counts().rename_axis('snv').reset_index(name='within_host_counts')\n",
    "s.head()"
   ]
  },
  {
   "cell_type": "code",
   "execution_count": 113,
   "metadata": {},
   "outputs": [
    {
     "data": {
      "text/html": [
       "<div>\n",
       "<style scoped>\n",
       "    .dataframe tbody tr th:only-of-type {\n",
       "        vertical-align: middle;\n",
       "    }\n",
       "\n",
       "    .dataframe tbody tr th {\n",
       "        vertical-align: top;\n",
       "    }\n",
       "\n",
       "    .dataframe thead th {\n",
       "        text-align: right;\n",
       "    }\n",
       "</style>\n",
       "<table border=\"1\" class=\"dataframe\">\n",
       "  <thead>\n",
       "    <tr style=\"text-align: right;\">\n",
       "      <th></th>\n",
       "      <th>snv</th>\n",
       "      <th>arose_on_tip</th>\n",
       "      <th>arose_on_internal_node</th>\n",
       "      <th>total_tree_counts</th>\n",
       "      <th>within_host_counts</th>\n",
       "    </tr>\n",
       "  </thead>\n",
       "  <tbody>\n",
       "    <tr>\n",
       "      <th>0</th>\n",
       "      <td>G18745T</td>\n",
       "      <td>2</td>\n",
       "      <td>0</td>\n",
       "      <td>2</td>\n",
       "      <td>1</td>\n",
       "    </tr>\n",
       "    <tr>\n",
       "      <th>1</th>\n",
       "      <td>G18816T</td>\n",
       "      <td>6</td>\n",
       "      <td>0</td>\n",
       "      <td>6</td>\n",
       "      <td>1</td>\n",
       "    </tr>\n",
       "    <tr>\n",
       "      <th>2</th>\n",
       "      <td>G21119C</td>\n",
       "      <td>0</td>\n",
       "      <td>0</td>\n",
       "      <td>0</td>\n",
       "      <td>1</td>\n",
       "    </tr>\n",
       "    <tr>\n",
       "      <th>3</th>\n",
       "      <td>C5144T</td>\n",
       "      <td>5</td>\n",
       "      <td>3</td>\n",
       "      <td>8</td>\n",
       "      <td>1</td>\n",
       "    </tr>\n",
       "    <tr>\n",
       "      <th>4</th>\n",
       "      <td>C3037T</td>\n",
       "      <td>1</td>\n",
       "      <td>1</td>\n",
       "      <td>2</td>\n",
       "      <td>2</td>\n",
       "    </tr>\n",
       "  </tbody>\n",
       "</table>\n",
       "</div>"
      ],
      "text/plain": [
       "       snv  arose_on_tip  arose_on_internal_node  total_tree_counts  \\\n",
       "0  G18745T             2                       0                  2   \n",
       "1  G18816T             6                       0                  6   \n",
       "2  G21119C             0                       0                  0   \n",
       "3   C5144T             5                       3                  8   \n",
       "4   C3037T             1                       1                  2   \n",
       "\n",
       "   within_host_counts  \n",
       "0                   1  \n",
       "1                   1  \n",
       "2                   1  \n",
       "3                   1  \n",
       "4                   2  "
      ]
     },
     "execution_count": 113,
     "metadata": {},
     "output_type": "execute_result"
    }
   ],
   "source": [
    "within_vs_tree = df.copy()\n",
    "within_vs_tree['total_tree_counts'] = within_vs_tree['arose_on_tip'] + within_vs_tree['arose_on_internal_node']\n",
    "within_vs_tree = within_vs_tree[['snv','arose_on_tip','arose_on_internal_node','total_tree_counts']]\n",
    "within_vs_tree = within_vs_tree.merge(s, on=['snv']).drop_duplicates()\n",
    "within_vs_tree.head()"
   ]
  },
  {
   "cell_type": "code",
   "execution_count": 114,
   "metadata": {},
   "outputs": [],
   "source": [
    "def return_label(row):\n",
    "    tree_counts = int(row['total_tree_counts'])\n",
    "    wh_counts = int(row['within_host_counts'])\n",
    "    snv = row['snv']\n",
    "    \n",
    "    if tree_counts >= 5 and wh_counts >= 5:\n",
    "        label = snv\n",
    "    #elif tree_counts >=20 or wh_counts >= 20:\n",
    "        #label = snv\n",
    "    else:\n",
    "        label = \"\"\n",
    "        \n",
    "    return(label)"
   ]
  },
  {
   "cell_type": "code",
   "execution_count": 115,
   "metadata": {},
   "outputs": [
    {
     "data": {
      "text/html": [
       "<div>\n",
       "<style scoped>\n",
       "    .dataframe tbody tr th:only-of-type {\n",
       "        vertical-align: middle;\n",
       "    }\n",
       "\n",
       "    .dataframe tbody tr th {\n",
       "        vertical-align: top;\n",
       "    }\n",
       "\n",
       "    .dataframe thead th {\n",
       "        text-align: right;\n",
       "    }\n",
       "</style>\n",
       "<table border=\"1\" class=\"dataframe\">\n",
       "  <thead>\n",
       "    <tr style=\"text-align: right;\">\n",
       "      <th></th>\n",
       "      <th>snv</th>\n",
       "      <th>arose_on_tip</th>\n",
       "      <th>arose_on_internal_node</th>\n",
       "      <th>total_tree_counts</th>\n",
       "      <th>within_host_counts</th>\n",
       "      <th>label</th>\n",
       "    </tr>\n",
       "  </thead>\n",
       "  <tbody>\n",
       "    <tr>\n",
       "      <th>0</th>\n",
       "      <td>G18745T</td>\n",
       "      <td>2</td>\n",
       "      <td>0</td>\n",
       "      <td>2</td>\n",
       "      <td>1</td>\n",
       "      <td></td>\n",
       "    </tr>\n",
       "    <tr>\n",
       "      <th>1</th>\n",
       "      <td>G18816T</td>\n",
       "      <td>6</td>\n",
       "      <td>0</td>\n",
       "      <td>6</td>\n",
       "      <td>1</td>\n",
       "      <td></td>\n",
       "    </tr>\n",
       "    <tr>\n",
       "      <th>2</th>\n",
       "      <td>G21119C</td>\n",
       "      <td>0</td>\n",
       "      <td>0</td>\n",
       "      <td>0</td>\n",
       "      <td>1</td>\n",
       "      <td></td>\n",
       "    </tr>\n",
       "    <tr>\n",
       "      <th>3</th>\n",
       "      <td>C5144T</td>\n",
       "      <td>5</td>\n",
       "      <td>3</td>\n",
       "      <td>8</td>\n",
       "      <td>1</td>\n",
       "      <td></td>\n",
       "    </tr>\n",
       "    <tr>\n",
       "      <th>4</th>\n",
       "      <td>C3037T</td>\n",
       "      <td>1</td>\n",
       "      <td>1</td>\n",
       "      <td>2</td>\n",
       "      <td>2</td>\n",
       "      <td></td>\n",
       "    </tr>\n",
       "  </tbody>\n",
       "</table>\n",
       "</div>"
      ],
      "text/plain": [
       "       snv  arose_on_tip  arose_on_internal_node  total_tree_counts  \\\n",
       "0  G18745T             2                       0                  2   \n",
       "1  G18816T             6                       0                  6   \n",
       "2  G21119C             0                       0                  0   \n",
       "3   C5144T             5                       3                  8   \n",
       "4   C3037T             1                       1                  2   \n",
       "\n",
       "   within_host_counts label  \n",
       "0                   1        \n",
       "1                   1        \n",
       "2                   1        \n",
       "3                   1        \n",
       "4                   2        "
      ]
     },
     "execution_count": 115,
     "metadata": {},
     "output_type": "execute_result"
    }
   ],
   "source": [
    "# add in a column for a label\n",
    "within_vs_tree['label'] = within_vs_tree.apply(return_label, axis=1)\n",
    "within_vs_tree.head()"
   ]
  },
  {
   "cell_type": "code",
   "execution_count": null,
   "metadata": {},
   "outputs": [],
   "source": []
  },
  {
   "cell_type": "code",
   "execution_count": 116,
   "metadata": {},
   "outputs": [
    {
     "data": {
      "text/html": [
       "<div>\n",
       "<style scoped>\n",
       "    .dataframe tbody tr th:only-of-type {\n",
       "        vertical-align: middle;\n",
       "    }\n",
       "\n",
       "    .dataframe tbody tr th {\n",
       "        vertical-align: top;\n",
       "    }\n",
       "\n",
       "    .dataframe thead th {\n",
       "        text-align: right;\n",
       "    }\n",
       "</style>\n",
       "<table border=\"1\" class=\"dataframe\">\n",
       "  <thead>\n",
       "    <tr style=\"text-align: right;\">\n",
       "      <th></th>\n",
       "      <th>snv</th>\n",
       "      <th>total_tree_counts</th>\n",
       "      <th>within_host_counts</th>\n",
       "      <th>label</th>\n",
       "      <th>variable</th>\n",
       "      <th>value</th>\n",
       "      <th>p-value</th>\n",
       "      <th>significance</th>\n",
       "    </tr>\n",
       "  </thead>\n",
       "  <tbody>\n",
       "    <tr>\n",
       "      <th>0</th>\n",
       "      <td>G18745T</td>\n",
       "      <td>2</td>\n",
       "      <td>1</td>\n",
       "      <td></td>\n",
       "      <td>arose_on_tip</td>\n",
       "      <td>2</td>\n",
       "      <td>1.000000</td>\n",
       "      <td></td>\n",
       "    </tr>\n",
       "    <tr>\n",
       "      <th>1</th>\n",
       "      <td>G18745T</td>\n",
       "      <td>2</td>\n",
       "      <td>1</td>\n",
       "      <td></td>\n",
       "      <td>arose_on_internal_node</td>\n",
       "      <td>0</td>\n",
       "      <td>1.000000</td>\n",
       "      <td></td>\n",
       "    </tr>\n",
       "    <tr>\n",
       "      <th>2</th>\n",
       "      <td>G18816T</td>\n",
       "      <td>6</td>\n",
       "      <td>1</td>\n",
       "      <td></td>\n",
       "      <td>arose_on_tip</td>\n",
       "      <td>6</td>\n",
       "      <td>0.350369</td>\n",
       "      <td></td>\n",
       "    </tr>\n",
       "    <tr>\n",
       "      <th>3</th>\n",
       "      <td>G18816T</td>\n",
       "      <td>6</td>\n",
       "      <td>1</td>\n",
       "      <td></td>\n",
       "      <td>arose_on_internal_node</td>\n",
       "      <td>0</td>\n",
       "      <td>0.350369</td>\n",
       "      <td></td>\n",
       "    </tr>\n",
       "    <tr>\n",
       "      <th>4</th>\n",
       "      <td>G21119C</td>\n",
       "      <td>0</td>\n",
       "      <td>1</td>\n",
       "      <td></td>\n",
       "      <td>arose_on_tip</td>\n",
       "      <td>0</td>\n",
       "      <td>1.000000</td>\n",
       "      <td></td>\n",
       "    </tr>\n",
       "  </tbody>\n",
       "</table>\n",
       "</div>"
      ],
      "text/plain": [
       "       snv  total_tree_counts  within_host_counts label  \\\n",
       "0  G18745T                  2                   1         \n",
       "1  G18745T                  2                   1         \n",
       "2  G18816T                  6                   1         \n",
       "3  G18816T                  6                   1         \n",
       "4  G21119C                  0                   1         \n",
       "\n",
       "                 variable  value   p-value significance  \n",
       "0            arose_on_tip      2  1.000000               \n",
       "1  arose_on_internal_node      0  1.000000               \n",
       "2            arose_on_tip      6  0.350369               \n",
       "3  arose_on_internal_node      0  0.350369               \n",
       "4            arose_on_tip      0  1.000000               "
      ]
     },
     "execution_count": 116,
     "metadata": {},
     "output_type": "execute_result"
    }
   ],
   "source": [
    "# plot the same plot as above, but now with only SNVs detected multiple times \n",
    "df_to_plot2 = within_vs_tree.copy()\n",
    "df_to_plot2 = df_to_plot2.melt(value_vars=['arose_on_tip','arose_on_internal_node'], id_vars=['snv','total_tree_counts','within_host_counts','label'])\n",
    "df_to_plot2 = df_to_plot2.merge(p_values_df, on=['snv'])\n",
    "df_to_plot2.dropna(inplace=True)\n",
    "df_to_plot2.head()"
   ]
  },
  {
   "cell_type": "code",
   "execution_count": 117,
   "metadata": {},
   "outputs": [],
   "source": [
    "muts_to_sort = list(set(df_to_plot2['snv'].tolist()))\n",
    "order_of_variants = sort_mutations(muts_to_sort)"
   ]
  },
  {
   "cell_type": "code",
   "execution_count": 118,
   "metadata": {},
   "outputs": [],
   "source": [
    "times_detected_cutoff_to_plot = 2"
   ]
  },
  {
   "cell_type": "code",
   "execution_count": 121,
   "metadata": {},
   "outputs": [
    {
     "data": {
      "image/png": "[encoded data removed]"
     },
     "metadata": {},
     "output_type": "display_data"
    }
   ],
   "source": [
    "%%R -w 800 -h 500 -u px -i order_of_variants,times_detected_cutoff_to_plot,variant_percent,current_date,df_to_plot2,tip_color,node_color  # this sets the size of the plot...otherwise, it will go off the page\n",
    "\n",
    "require(ggplot2)\n",
    "library(ggplot2)\n",
    "library(RColorBrewer)\n",
    "\n",
    "df_to_plot2 <- df_to_plot2[(df_to_plot2$within_host_counts>=times_detected_cutoff_to_plot),]\n",
    "df_to_plot2$snv_f = factor(df_to_plot2$snv, levels=c(order_of_variants))\n",
    "\n",
    "output_filename = paste(\"SNVs-on-global-tree-at-least-\",times_detected_cutoff_to_plot,\"times-detected-\",variant_percent,\"percent-\",current_date,\".pdf\", sep=\"\")\n",
    "\n",
    "p <- ggplot(data=df_to_plot2, aes(x=snv_f, y=value, color=variable, fill=variable)) + \n",
    "    geom_col()+\n",
    "    geom_text(data=df_to_plot2, aes(x=snv_f, y=total_tree_counts + 0.5, label=significance), color=\"black\",size=15)+\n",
    "    labs(x=\"\\nSNV\",y=\"observations on tree\\n\")+\n",
    "    scale_color_manual(values=c(arose_on_tip=tip_color,arose_on_internal_node=node_color), guide=FALSE)+\n",
    "    scale_fill_manual(values=c(arose_on_tip=tip_color,arose_on_internal_node=node_color), labels=c(\"tip\", \"internal node\"))+\n",
    "    #scale_y_continuous(breaks=seq(0,70,10), limits=c(0,70))+\n",
    "    theme(panel.grid.major=element_line(colour=NA,size=NA))+    \n",
    "    theme(panel.grid.minor=element_line(colour=NA,size=NA))+    \n",
    "    theme(strip.background = element_rect(colour=NA, fill=NA))+\n",
    "    theme(axis.line.x=element_line(colour=\"black\"))+\n",
    "    theme(axis.line.y=element_line(colour=\"black\"))+\n",
    "    theme(axis.title=element_text(size=22, vjust=5))+\n",
    "    theme(axis.text.y=element_text(size=18, colour=\"black\"))+\n",
    "    theme(axis.text.x=element_text(size=10, colour=\"black\", angle=90, hjust=1,vjust=0.5))+\n",
    "    theme(legend.text=element_text(size=18))+\n",
    "    theme(legend.title=element_text(size=22))+\n",
    "    theme(panel.margin=unit(1, \"lines\"))+\n",
    "    theme(plot.margin=unit(c(1,4,1,1),\"cm\"))+\n",
    "    theme(legend.key.size=unit(0.7, \"cm\"))+\n",
    "    theme(panel.background=element_rect(fill=NA))+\n",
    "    theme(legend.key=element_rect(fill=NA))+\n",
    "    theme(legend.position = c(0.2, 0.75))+\n",
    "    guides(fill=guide_legend(title=\"where SNV arose\"))\n",
    "\n",
    "ggsave(output_filename, width = 12, height = 10, device = \"pdf\", path = \"../figures/\", dpi = 300)\n",
    "p"
   ]
  },
  {
   "cell_type": "code",
   "execution_count": null,
   "metadata": {},
   "outputs": [],
   "source": []
  },
  {
   "cell_type": "code",
   "execution_count": 122,
   "metadata": {},
   "outputs": [
    {
     "data": {
      "image/png": "[encoded data removed]"
     },
     "metadata": {},
     "output_type": "display_data"
    }
   ],
   "source": [
    "%%R -w 800 -h 500 -u px -i variant_percent,current_date,within_vs_tree  # this sets the size of the plot...otherwise, it will go off the page\n",
    "\n",
    "require(ggplot2)\n",
    "library(ggplot2)\n",
    "library(RColorBrewer)\n",
    "\n",
    "output_filename = paste(\"SNVs-counts-on-global-tree-vs-wh-\",variant_percent,\"percent-\",current_date,\".pdf\", sep=\"\")\n",
    "\n",
    "p <- ggplot(data=within_vs_tree, aes(x=within_host_counts, y=total_tree_counts)) + \n",
    "    geom_point()+\n",
    "    labs(x=\"\\ntimes detected within-host\",y=\"observations on tree\\n\")+\n",
    "    geom_text(aes(x=within_host_counts,y=total_tree_counts + 3,label=label), size=4)+\n",
    "    scale_color_manual(values=c(arose_on_tip=tip_color,arose_on_internal_node=node_color), guide=FALSE)+\n",
    "    scale_fill_manual(values=c(arose_on_tip=tip_color,arose_on_internal_node=node_color), labels=c(\"tip\", \"internal node\"))+\n",
    "    scale_y_continuous(breaks=seq(0,70,10), limits=c(0,70))+\n",
    "    scale_x_continuous(breaks=seq(0,70,10), limits=c(0,70))+\n",
    "    theme(panel.grid.major=element_line(colour=NA,size=NA))+    \n",
    "    theme(panel.grid.minor=element_line(colour=NA,size=NA))+    \n",
    "    theme(strip.background = element_rect(colour=NA, fill=NA))+\n",
    "    theme(axis.line.x=element_line(colour=\"black\"))+\n",
    "    theme(axis.line.y=element_line(colour=\"black\"))+\n",
    "    theme(axis.title=element_text(size=22, vjust=5))+\n",
    "    theme(axis.text.y=element_text(size=18, colour=\"black\"))+\n",
    "    theme(axis.text.x=element_text(size=18, colour=\"black\"))+\n",
    "    theme(legend.text=element_text(size=18))+\n",
    "    theme(legend.title=element_text(size=22))+\n",
    "    theme(panel.margin=unit(1, \"lines\"))+\n",
    "    theme(plot.margin=unit(c(1,4,1,1),\"cm\"))+\n",
    "    theme(legend.key.size=unit(0.7, \"cm\"))+\n",
    "    theme(panel.background=element_rect(fill=NA))+\n",
    "    theme(legend.key=element_rect(fill=NA))+\n",
    "    theme(legend.position = c(1.0, 0.75))+\n",
    "    guides(fill=guide_legend(title=\"where SNV arose\"))\n",
    "\n",
    "ggsave(output_filename, width = 9, height = 7, device = \"pdf\", path = \"../figures/\", dpi = 300)\n",
    "p"
   ]
  },
  {
   "cell_type": "code",
   "execution_count": null,
   "metadata": {},
   "outputs": [],
   "source": []
  },
  {
   "cell_type": "markdown",
   "metadata": {},
   "source": [
    "## Do within-host variants appear downstream of the sample they were taken from?\n",
    "\n"
   ]
  },
  {
   "cell_type": "code",
   "execution_count": 123,
   "metadata": {},
   "outputs": [],
   "source": [
    "def return_within_host_muts_for_branch(branch, df):\n",
    "    d = df[df['strain_name'] == branch.name]\n",
    "    within_host_muts = d['nuc_muts'].to_list()\n",
    "    return(within_host_muts)"
   ]
  },
  {
   "cell_type": "code",
   "execution_count": 124,
   "metadata": {},
   "outputs": [],
   "source": [
    "def return_within_host_muts_for_tip_name(tip_name, df):\n",
    "    d = df[df['strain_name'] == tip_name]\n",
    "    within_host_muts = d['nuc_muts'].to_list()\n",
    "    return(within_host_muts)"
   ]
  },
  {
   "cell_type": "code",
   "execution_count": 125,
   "metadata": {},
   "outputs": [],
   "source": [
    "def return_proper_parent_node(node):\n",
    "    \"\"\"given an internal node, traverse back up the tree to find a parental node with a \n",
    "    real branch length (basically, collapse the polytomy). This is necessary for most \n",
    "    tree software, including iqtree and treetime, which both normally atempt to resolve\n",
    "    polytomies, resulting in a fully bifurcating tree with lots of very tiny branches\"\"\"\n",
    "    \n",
    "    #print(node, node.length)\n",
    "    if abs(node.traits['node_attrs']['div'] - node.parent.traits['node_attrs']['div']) < 0.0000000001: \n",
    "        \n",
    "        #print(\"going up 1 node\")\n",
    "        if node.parent !=None:\n",
    "            parent_node = return_proper_parent_node(node.parent)\n",
    "        \n",
    "        else:\n",
    "            #print(\"root is proper parent\")\n",
    "            parent_node = node\n",
    "    \n",
    "    else: \n",
    "        #print(\"current node has proper length\")\n",
    "        parent_node = node\n",
    "    \n",
    "    return(parent_node)"
   ]
  },
  {
   "cell_type": "code",
   "execution_count": 126,
   "metadata": {},
   "outputs": [],
   "source": [
    "def return_nt_muts_on_branch(branch):\n",
    "    nt_muts = []\n",
    "    if 'branch_attrs' in branch.traits:\n",
    "        if 'mutations' in branch.traits['branch_attrs']:\n",
    "            if 'nuc' in branch.traits['branch_attrs']['mutations']:\n",
    "                nt_muts = branch.traits['branch_attrs']['mutations']['nuc']\n",
    "                            \n",
    "    return(nt_muts)"
   ]
  },
  {
   "cell_type": "code",
   "execution_count": 127,
   "metadata": {},
   "outputs": [],
   "source": [
    "\"\"\"Given a starting internal node, and a tip you would like to end at, traverse the full path from that node to\n",
    "tip. Along the way, gather nucleotide mutations that occur along that path. Once you have reached the ending \n",
    "tip, return the list of mutations that fell along that path\"\"\"\n",
    "\n",
    "def return_all_muts_on_path_to_tip(starting_node, ending_tip):\n",
    "    \n",
    "    # set an empty list of mutations and enumerate the children of the starting node; children can be tips or nodes\n",
    "    muts = []\n",
    "    children = starting_node.children\n",
    "    \n",
    "    for child in children:\n",
    "        nt_muts = []\n",
    "        \n",
    "        \"\"\"if the child is a leaf: if leaf is the target end tip, add the mutations that occur on that branch to the list\n",
    "        and return the list; if leaf is not the target end tip, move on\"\"\"\n",
    "        \"\"\"if the child is an internal node: first, test whether that child node contains the target tips in its \n",
    "        children. child.leaves will output a list of the names of all tips descending from that node. If not, pass. \n",
    "        if the node does contain the target end tip in its leaves, keep traversing down that node recursively, \n",
    "        collecting mutations as you go\"\"\"\n",
    "\n",
    "        if child.branchType == \"leaf\":\n",
    "            if child.name != ending_tip:\n",
    "                pass\n",
    "            elif child.name == ending_tip:\n",
    "                nt_muts = return_nt_muts_on_branch(child)\n",
    "                for n in nt_muts:\n",
    "                    muts.append(n)\n",
    "                return(muts)\n",
    "        \n",
    "        \n",
    "        elif child.branchType == \"node\":\n",
    "            if ending_tip not in child.leaves:\n",
    "                pass\n",
    "            else:\n",
    "                nt_muts = return_nt_muts_on_branch(child)\n",
    "                for n in nt_muts:\n",
    "                    muts.append(nt_muts)\n",
    "                return_all_muts_on_path_to_tip(child, ending_tip)\n",
    "    \n",
    "    \n",
    "    # flatten the list so that you don't have nested lists\n",
    "    flat_list = [item for sublist in muts for item in sublist]\n",
    "    return(flat_list)"
   ]
  },
  {
   "cell_type": "code",
   "execution_count": 128,
   "metadata": {},
   "outputs": [],
   "source": [
    "def run_tree_test(input_tree, df_to_run):\n",
    "    on_internal_nodes = 0\n",
    "    on_internal_nodes_with_children = 0\n",
    "    has_WI_children = {}\n",
    "    for k in input_tree.Objects: \n",
    "\n",
    "        \"\"\"if the tip is one of the Wisconson sequences for which we have within-host data, pull out its division, \n",
    "        divergence value, and the divergence of its parent node\"\"\"\n",
    "        if k.name in strain_names_to_query:\n",
    "            has_WI_children[k.name] = []\n",
    "\n",
    "            k_within_host_muts = return_within_host_muts_for_branch(k, df_to_run)\n",
    "\n",
    "            if 'division' in k.traits['node_attrs']:\n",
    "                division = k.traits['node_attrs']['division']['value']\n",
    "                branch_length = k.traits['node_attrs']['div']\n",
    "                parent_branch_length = k.parent.traits['node_attrs']['div']\n",
    "\n",
    "\n",
    "                \"\"\"if you lie on an internal node and are from Wisconsin, find the proper parent (collapsing very small\n",
    "                branches induced by polytomy resolution) and return all children descending from that parent node\"\"\"\n",
    "                if branch_length - parent_branch_length < 0.000000001:\n",
    "                    on_internal_nodes += 1\n",
    "                    #print(k.name, \"lies on internal node\")\n",
    "                    #if division == \"Wisconsin\":\n",
    "                    proper_parent = return_proper_parent_node(k.parent)\n",
    "                    child_tips = proper_parent.leaves\n",
    "                    if len(child_tips) > 0:\n",
    "                        on_internal_nodes_with_children += 1\n",
    "                    #print(child_tips, len(child_tips))\n",
    "\n",
    "                    \"\"\"next, for child, traverse the path from parent to child, enumerating mutations that fall \n",
    "                    along that path\"\"\"\n",
    "                    for c in child_tips:\n",
    "                        mutations = return_all_muts_on_path_to_tip(proper_parent, c)\n",
    "                        for m in mutations: \n",
    "                            if m in k_within_host_muts:\n",
    "                                print(k.name, c, m)\n",
    "                                \n",
    "                                \n",
    "                    \"\"\"finally, for child, if we have within-host data on that child tip, see if any match. The \n",
    "                    fuction I'm using here is slightly different, just in that is input a string instead of baltic\n",
    "                    branch object\"\"\"\n",
    "                    for c in child_tips:\n",
    "                        if c in strain_names_to_query and c != k.name:\n",
    "                            has_WI_children[k.name].append(c)\n",
    "                            child_within_host_muts = return_within_host_muts_for_tip_name(c, df_to_run)\n",
    "                            for m in child_within_host_muts: \n",
    "                                if m in k_within_host_muts: \n",
    "                                    #print(\"within-host mutation shared\", k.name, c, m)\n",
    "                                    pass\n",
    "    return(on_internal_nodes, on_internal_nodes_with_children, has_WI_children)"
   ]
  },
  {
   "cell_type": "code",
   "execution_count": null,
   "metadata": {},
   "outputs": [],
   "source": []
  },
  {
   "cell_type": "code",
   "execution_count": 129,
   "metadata": {},
   "outputs": [
    {
     "name": "stdout",
     "output_type": "stream",
     "text": [
      "\n",
      "Tree height: 0.853113\n",
      "Tree length: 155.604745\n",
      "multitype tree\n",
      "annotations present\n",
      "\n",
      "Numbers of objects in tree: 5452 (2518 nodes and 2934 leaves)\n",
      "\n"
     ]
    }
   ],
   "source": [
    "# test this out first on the Wisconsin-only build json\n",
    "WI_tree_path = \"../data/auspice-jsons/Wisconsin-SARS-CoV-2-ncov-wisconsin-2021-1-15.json\"\n",
    "\n",
    "with open(WI_tree_path) as json_file:\n",
    "    WI_tree_json = json.load(json_file)\n",
    "WI_tree_object=WI_tree_json['tree']\n",
    "WI_meta=WI_tree_json['meta']\n",
    "json_translation={'absoluteTime':lambda k: k.traits['node_attrs']['num_date']['value'],'name':'name'} ## allows baltic to find correct attributes in JSON, height and name are required at a minimum\n",
    "#json_meta={'file':WI_meta,'traitName':analysis_level} ## if you want auspice stylings you can import the meta file used on nextstrain.org\n",
    "\n",
    "WI_tree=bt.loadJSON(WI_tree_object,json_translation)"
   ]
  },
  {
   "cell_type": "code",
   "execution_count": 130,
   "metadata": {},
   "outputs": [
    {
     "name": "stdout",
     "output_type": "stream",
     "text": [
      "142\n"
     ]
    }
   ],
   "source": [
    "strain_names_to_query = list(set(all_intersection_variants['strain_name']))\n",
    "#print(strain_names_to_query)\n",
    "print(len(strain_names_to_query))"
   ]
  },
  {
   "cell_type": "code",
   "execution_count": 131,
   "metadata": {},
   "outputs": [
    {
     "name": "stdout",
     "output_type": "stream",
     "text": [
      "USA/WI-UW-214/2020 USA/WI-WSLH-200068/2020 C1912T\n"
     ]
    }
   ],
   "source": [
    "df_to_run = snvs_only\n",
    "tree_to_use = WI_tree\n",
    "\n",
    "on_internal_nodes, on_internal_nodes_with_children, tips_with_WI_descendants = run_tree_test(tree_to_use, df_to_run)"
   ]
  },
  {
   "cell_type": "code",
   "execution_count": 132,
   "metadata": {},
   "outputs": [
    {
     "name": "stdout",
     "output_type": "stream",
     "text": [
      "121 121 142\n"
     ]
    }
   ],
   "source": [
    "print(on_internal_nodes, on_internal_nodes_with_children, len(strain_names_to_query))"
   ]
  },
  {
   "cell_type": "markdown",
   "metadata": {},
   "source": [
    "So, out of 143 tips, 121 were on internal nodes. Of those, only 1 had downstream tips with a fixed variant. USA/WI-UW-214/2020 is part of a largeish polytomy and the child tip has 2 mutations different, 1 is the within-host variant, and the other is a different variant. "
   ]
  },
  {
   "cell_type": "code",
   "execution_count": null,
   "metadata": {},
   "outputs": [],
   "source": []
  }
 ],
 "metadata": {
  "kernelspec": {
   "display_name": "LHM-basics (python3)",
   "language": "python",
   "name": "lhm-basics"
  },
  "language_info": {
   "codemirror_mode": {
    "name": "ipython",
    "version": 3
   },
   "file_extension": ".py",
   "mimetype": "text/x-python",
   "name": "python",
   "nbconvert_exporter": "python",
   "pygments_lexer": "ipython3",
   "version": "3.7.3"
  }
 },
 "nbformat": 4,
 "nbformat_minor": 2
}
