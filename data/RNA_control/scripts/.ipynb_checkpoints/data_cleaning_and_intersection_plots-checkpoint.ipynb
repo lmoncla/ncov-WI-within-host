{
 "cells": [
  {
   "cell_type": "markdown",
   "metadata": {},
   "source": [
    "# Data cleaning and merging replicate samples \n",
    "\n",
    "**Date**: written 2020-05-26, updated 2021-01-28  \n",
    "**Author**: Katarina Braun \n",
    "\n",
    "\n",
    "## Overview\n",
    "- Clean up the VCFs that the SARSquencer spits out\n",
    "- Drop any iSNVs not found in both replicates\n",
    "- Average the frequency of the iSNVs found in these replicates and report this as 'FREQ'\n",
    "- Drop any iSNVS <3% frequency \n",
    "- Make a \"TV plot\" figure to show comparison of SNVs and indels in replicate 1 and 2 \n",
    "\n",
    "With the help of Dr. Katia Koelle, we've decided that iSNVs <3% and >97% in this dataset are likely not polymorphic. \n",
    "\n",
    "I went back to Grubaugh et al’s 2019 paper that really comprehensively measured the accuracy of PrimalSeq-based amplicon sequencing and showed, I think pretty convincingly, that “PrimalSeq can be used for accurate iSNV detection above 3% when using at least two technical replicates.” I am thinking this is probably the best way to move forward with all of our within-host data — using intersection iSNVs between 3 and 97%.\n",
    "\n",
    "[Link](https://genomebiology.biomedcentral.com/articles/10.1186/s13059-018-1618-7) to the Grubaugh et al paper discussed above. \n",
    "\n",
    "### a note about numbering schemes \n",
    "\n",
    "Everything was mapped to the Wuhan reference sequence (MN908947.3).  \n",
    "Nucleotide numbering scheme should match up with the numbering scheme used in Nextstrain. \n",
    "\n",
    "## Input: \n",
    "\n",
    "- The VCF files included here have also been modified to discard any variants that fall in ARTIC v3 primer-binding regions and therefore have the file extension `*.vcf.recode.vcf`\n",
    "\n",
    "\n",
    "- To do this, we filtered the VCFs created by the SARSquencer pipeline using the `filterSNV.sh` script, which identifies primer-binding regions using the `2019-nCoV-tokyo.bed` file. \n",
    "\n",
    "\n",
    "- SNV files in VCF format located here: `ncov-WI-within-host/data/vcfs-recode/*`\n",
    " \n",
    "## Output: \n",
    "\n",
    "1. Cleaned generated from VCF input files will be located here: `ncov-WI-within-host/data/vcfs-cleaned/*`\n",
    "     \n",
    "     \n",
    "2. Intersection VCFs will be located here: `ncov-WI-within-host/data/vcfs-all/*`\n",
    "\n",
    "\n",
    "3. TV plot comparing SNV/indel data across technical replicates: `ncov-WI-within-host/figures/intersection-plots/*`\n"
   ]
  },
  {
   "cell_type": "markdown",
   "metadata": {},
   "source": [
    "### import modules and dependencies"
   ]
  },
  {
   "cell_type": "code",
   "execution_count": 65,
   "metadata": {},
   "outputs": [],
   "source": [
    "import pandas as pd\n",
    "import numpy as np\n",
    "from sklearn.decomposition import PCA\n",
    "from sklearn import preprocessing\n",
    "import matplotlib.pyplot as plt\n",
    "import glob\n",
    "import os\n",
    "from matplotlib import pyplot\n",
    "import matplotlib.pyplot as plt\n",
    "from pathlib import Path\n",
    "from os.path import splitext\n",
    "from functools import reduce\n",
    "from pandas.api.types import is_numeric_dtype\n",
    "import warnings\n",
    "from pandas.core.common import SettingWithCopyWarning\n",
    "from matplotlib.font_manager import FontProperties \n",
    "from matplotlib import cm\n",
    "import itertools\n",
    "from matplotlib import container\n",
    "from matplotlib import gridspec\n",
    "from matplotlib.patches import Patch\n",
    "from matplotlib.lines import Line2D\n",
    "import matplotlib.lines as mlines\n",
    "import matplotlib as mpl\n",
    "from pandas.plotting import table\n",
    "import seaborn as sns\n",
    "from scipy import stats\n",
    "\n",
    "\n",
    "from matplotlib.lines import Line2D\n",
    "import matplotlib.patches as mpatches"
   ]
  },
  {
   "cell_type": "markdown",
   "metadata": {},
   "source": [
    "## data cleaning"
   ]
  },
  {
   "cell_type": "markdown",
   "metadata": {},
   "source": [
    "### define functions for data cleaning"
   ]
  },
  {
   "cell_type": "code",
   "execution_count": 5,
   "metadata": {},
   "outputs": [],
   "source": [
    "# load all text files in a directory into Pandas dataframes \n",
    "def load_dataframes(path):\n",
    "    filelist = [os.path.splitext(file)[0] for file in os.listdir(path) if file.endswith('.vcf.recode.vcf')]\n",
    "    list_of_DFs = []\n",
    "    for file in filelist: \n",
    "        DF = path + '/' + file + '.vcf'\n",
    "        file = pd.read_csv(DF, header=0, sep='\\t', low_memory=False, skiprows=56)\n",
    "        list_of_DFs.append(file)\n",
    "    print(filelist)\n",
    "    return(list_of_DFs)\n",
    "\n",
    "# manipulate SNV dataframes to iSNV info + frequency only \n",
    "# drop iSNVS that are present <3% frequency \n",
    "def clean_dataframes(path, list_of_DFs):\n",
    "    for DF in list_of_DFs:\n",
    "        sample = DF.columns[9]\n",
    "        DF2 = DF.drop(['#CHROM', 'ID', 'QUAL', 'FILTER', 'FORMAT'], axis=1)\n",
    "        DF1 = DF['INFO'].str.split('|', expand=True)\n",
    "        DF3 = pd.concat([DF1, DF2], axis=1, join='inner')\n",
    "        DF3[['A', 'B', 'C', 'D', 'E', 'F', 'G', 'H']] = DF3[sample].str.split(':', expand=True)\n",
    "        DF = DF3[['POS', 'REF', 'ALT', 1, 3, 9, 10, 'D']]\n",
    "        DF = DF.rename(columns={3: 'gene', 'D': 'FREQ', 1:'annotation'})\n",
    "        DF['gene_POS'] = DF[9].str.replace(r'[a-zA-Z.>]', '')\n",
    "        DF[9].replace(regex=True, inplace=True, to_replace=r'c', value='')\n",
    "        DF[9].replace(regex=True, inplace=True, to_replace=r'n', value='')\n",
    "        DF[9].replace(regex=True, inplace=True, to_replace=r'\\.', value='')\n",
    "        DF[10].replace(regex=True, inplace=True, to_replace=r'p.', value='')\n",
    "        DF['FREQ'].replace(regex=True, inplace=True, to_replace=r'%', value='')\n",
    "        DF['annotation'].replace(regex=True, inplace=True, to_replace=r'_variant', value='')\n",
    "        DF['annotation'].replace(regex=True, inplace=True, to_replace=r'_region', value='')\n",
    "        DF = DF.rename(columns={9: 'nt_change', 10: 'aa_change'})\n",
    "        DF['annotation'] = DF['annotation'].str.replace('stop_gained','stop')\n",
    "        DF['annotation'] = DF['annotation'].str.replace('disruptive_inframe_deletion','frameshift')\n",
    "        DF['annotation'] = DF['annotation'].str.replace('conservative_inframe_deletion','frameshift')\n",
    "        DF['SNP'] = DF['gene'] + '_' + DF['nt_change'] + '_' + DF['aa_change'] + '_' + DF['annotation']\n",
    "        DF['FREQ'] = pd.to_numeric(DF['FREQ']) #convert FREQ column from object type to int\n",
    "        DF = DF[DF.FREQ >= 0.03] # drop any variants that are ≤3% frequency (they may be erroneous)\n",
    "        DF.to_csv(path + '/' + sample + '-cleaned.csv', sep='\\t')\n",
    "#"
   ]
  },
  {
   "cell_type": "markdown",
   "metadata": {},
   "source": [
    "### VCF file data-cleaning"
   ]
  },
  {
   "cell_type": "code",
   "execution_count": 6,
   "metadata": {
    "scrolled": true
   },
   "outputs": [
    {
     "name": "stdout",
     "output_type": "stream",
     "text": [
      "['1P_rep1.vcf.recode', '1P_rep2.vcf.recode', '5_rep1.vcf.recode', '5_rep2.vcf.recode', '6_rep1.vcf.recode', '6_rep2.vcf.recode', '6P_rep1.vcf.recode', '6P_rep2.vcf.recode', '8_rep1.vcf.recode', '8_rep2.vcf.recode', '12_rep1.vcf.recode', '12_rep2.vcf.recode', '12P_rep1.vcf.recode', '12P_rep2.vcf.recode', '17_rep1.vcf.recode', '17_rep2.vcf.recode', '18_rep1.vcf.recode', '18_rep2.vcf.recode', '20_rep1.vcf.recode', '20_rep2.vcf.recode', '24P_rep1.vcf.recode', '24P_rep2.vcf.recode', '25_rep1.vcf.recode', '25_rep2.vcf.recode', '26P_rep1.vcf.recode', '26P_rep2.vcf.recode', '28_rep1.vcf.recode', '28_rep2.vcf.recode', '29P_rep1.vcf.recode', '29P_rep2.vcf.recode', '30_rep1.vcf.recode', '30_rep2.vcf.recode', '31_rep1.vcf.recode', '32_rep1.vcf.recode', '32_rep2.vcf.recode', '44_rep1.vcf.recode', '44_rep2.vcf.recode', '46_rep1.vcf.recode', '46_rep2.vcf.recode', '50_rep1.vcf.recode', '50_rep2.vcf.recode', '51_rep1.vcf.recode', '51_rep2.vcf.recode', '53_rep1.vcf.recode', '53_rep2.vcf.recode', '54_rep1.vcf.recode', '54_rep2.vcf.recode', '55_rep1.vcf.recode', '55_rep2.vcf.recode', '56_rep1.vcf.recode', '56_rep2.vcf.recode', '57_rep1.vcf.recode', '57_rep2.vcf.recode', '60_rep1.vcf.recode', '60_rep2.vcf.recode', '61_rep1.vcf.recode', '61_rep2.vcf.recode', '64_rep1.vcf.recode', '64_rep2.vcf.recode', '65_rep1.vcf.recode', '74_rep1.vcf.recode', '74_rep2.vcf.recode', '80_rep1.vcf.recode', '80_rep2.vcf.recode', '81_rep1.vcf.recode', '81_rep2.vcf.recode', '82_rep1.vcf.recode', '82_rep2.vcf.recode', '94_rep1.vcf.recode', '94_rep2.vcf.recode', '99_rep1.vcf.recode', '99_rep2.vcf.recode', '117_rep1.vcf.recode', '117_rep2.vcf.recode', '118_rep1.vcf.recode', '118_rep2.vcf.recode', '124_rep1.vcf.recode', '124_rep2.vcf.recode', '125_rep1.vcf.recode', '125_rep2.vcf.recode', '127_rep1.vcf.recode', '127_rep2.vcf.recode', '128_rep1.vcf.recode', '128_rep2.vcf.recode', '130_rep1.vcf.recode', '130_rep2.vcf.recode', '139_rep1.vcf.recode', '139_rep2.vcf.recode', '148_rep1.vcf.recode', '148_rep2.vcf.recode', '151_rep1.vcf.recode', '151_rep2.vcf.recode', '158_rep1.vcf.recode', '158_rep2.vcf.recode', '168_rep1.vcf.recode', '168_rep2.vcf.recode', '172_rep1.vcf.recode', '172_rep2.vcf.recode', '175_rep1.vcf.recode', '175_rep2.vcf.recode', '176_rep1.vcf.recode', '176_rep2.vcf.recode', '182_rep1.vcf.recode', '188_rep1.vcf.recode', '188_rep2.vcf.recode', '195_rep1.vcf.recode', '195_rep2.vcf.recode', '196_rep1.vcf.recode', '196_rep2.vcf.recode', '197_rep1.vcf.recode', '197_rep2.vcf.recode', '218_rep1.vcf.recode', '218_rep2.vcf.recode', '229_rep1.vcf.recode', '229_rep2.vcf.recode', '245_rep1.vcf.recode', '245_rep2.vcf.recode', '249_rep1.vcf.recode', '249_rep2.vcf.recode', '252_rep1.vcf.recode', '252_rep2.vcf.recode', '255_rep1.vcf.recode', '258_rep1.vcf.recode', '258_rep2.vcf.recode', '261_rep1.vcf.recode', '261_rep2.vcf.recode', '268_rep1.vcf.recode', '268_rep2.vcf.recode', '270_rep1.vcf.recode', '270_rep2.vcf.recode', '275_rep1.vcf.recode', '275_rep2.vcf.recode', '276_rep1.vcf.recode', '276_rep2.vcf.recode', '277_rep1.vcf.recode', '277_rep2.vcf.recode', '283_rep1.vcf.recode', '283_rep2.vcf.recode', '288_rep1.vcf.recode', '288_rep2.vcf.recode', '289_rep1.vcf.recode', '289_rep2.vcf.recode', '290_rep1.vcf.recode', '290_rep2.vcf.recode', '292_rep1.vcf.recode', '292_rep2.vcf.recode', '302_rep1.vcf.recode', '302_rep2.vcf.recode', '303_rep1.vcf.recode', '303_rep2.vcf.recode', '304_rep1.vcf.recode', '304_rep2.vcf.recode', '310_rep1.vcf.recode', '310_rep2.vcf.recode', '338_rep1.vcf.recode', '338_rep2.vcf.recode', '356_rep1.vcf.recode', '356_rep2.vcf.recode', '358_rep1.vcf.recode', '358_rep2.vcf.recode', '359_rep1.vcf.recode', '359_rep2.vcf.recode', '361_rep1.vcf.recode', '361_rep2.vcf.recode', '365_rep1.vcf.recode', '365_rep2.vcf.recode', '366_rep1.vcf.recode', '366_rep2.vcf.recode', '370_rep1.vcf.recode', '370_rep2.vcf.recode', '374_rep1.vcf.recode', '374_rep2.vcf.recode', '376_rep1.vcf.recode', '376_rep2.vcf.recode', '377_rep1.vcf.recode', '377_rep2.vcf.recode', '388_rep1.vcf.recode', '388_rep2.vcf.recode', '391_rep1.vcf.recode', '391_rep2.vcf.recode', '397_rep1.vcf.recode', '397_rep2.vcf.recode', '402_rep1.vcf.recode', '402_rep2.vcf.recode', '408_rep1.vcf.recode', '408_rep2.vcf.recode', '418_rep1.vcf.recode', '418_rep2.vcf.recode', '437_rep1.vcf.recode', '437_rep2.vcf.recode', '453_rep1.vcf.recode', '453_rep2.vcf.recode', '454_rep1.vcf.recode', '454_rep2.vcf.recode', '461_rep1.vcf.recode', '461_rep2.vcf.recode', '462_rep1.vcf.recode', '462_rep2.vcf.recode', '468_rep1.vcf.recode', '468_rep2.vcf.recode', '469_rep1.vcf.recode', '469_rep2.vcf.recode', '552_rep1.vcf.recode', '552_rep2.vcf.recode', '554_rep1.vcf.recode', '554_rep2.vcf.recode', '735_rep1.vcf.recode', '735_rep2.vcf.recode', '736_rep1.vcf.recode', '736_rep2.vcf.recode', '830_rep1.vcf.recode', '830_rep2.vcf.recode', '1060_rep2.vcf.recode', '1113_rep1.vcf.recode', '1113_rep2.vcf.recode', 'A_rep1.vcf.recode', 'A_rep2.vcf.recode', 'B_rep1.vcf.recode', 'B_rep2.vcf.recode', '3_rep1.vcf.recode', '3_rep2.vcf.recode', '19_rep1.vcf.recode', '79_rep1.vcf.recode', '79_rep2.vcf.recode', '95_rep1.vcf.recode', '95_rep2.vcf.recode', '145_rep1.vcf.recode', '145_rep2.vcf.recode', '193_rep1.vcf.recode', '316_rep1.vcf.recode', '321_rep1.vcf.recode', '738_rep1.vcf.recode', '738_rep2.vcf.recode', '744_rep1.vcf.recode', '744_rep2.vcf.recode', '749_rep1.vcf.recode', '749_rep2.vcf.recode', '783_rep1.vcf.recode', '783_rep2.vcf.recode', '849_rep1.vcf.recode', '849_rep2.vcf.recode', '884_rep1.vcf.recode', '884_rep2.vcf.recode', '887_rep1.vcf.recode', '887_rep2.vcf.recode', '893_rep1.vcf.recode', '893_rep2.vcf.recode', '903_rep1.vcf.recode', '903_rep2.vcf.recode', '906_rep1.vcf.recode', '906_rep2.vcf.recode', '916_rep1.vcf.recode', '916_rep2.vcf.recode', '956_rep1.vcf.recode', '956_rep2.vcf.recode', '961_rep1.vcf.recode', '961_rep2.vcf.recode', '962_rep1.vcf.recode', '962_rep2.vcf.recode', '1049_rep1.vcf.recode', '1061_rep1.vcf.recode', '1061_rep2.vcf.recode', '1064_rep1.vcf.recode', '1064_rep2.vcf.recode', '1103_rep1.vcf.recode', '1103_rep2.vcf.recode', '1104_rep1.vcf.recode', '1104_rep2.vcf.recode', '1144_rep1.vcf.recode', '1144_rep2.vcf.recode', '1147_rep1.vcf.recode', '1147_rep2.vcf.recode', '1157_rep1.vcf.recode', '1157_rep2.vcf.recode', '1195_rep1.vcf.recode', '1195_rep2.vcf.recode', '1199_rep1.vcf.recode', '1199_rep2.vcf.recode', '1217_rep1.vcf.recode', '1217_rep2.vcf.recode', '1282_rep1.vcf.recode', '1282_rep2.vcf.recode', '1293_rep2.vcf.recode', '1297_rep1.vcf.recode', '1297_rep2.vcf.recode', '1326_rep1.vcf.recode', '1326_rep2.vcf.recode', '1328_rep1.vcf.recode', '1328_rep2.vcf.recode', '1346_rep1.vcf.recode', '1346_rep2.vcf.recode', '1353_rep1.vcf.recode', '1353_rep2.vcf.recode', '1357_rep1.vcf.recode', '1357_rep2.vcf.recode', '1373_rep1.vcf.recode', '1373_rep2.vcf.recode', '1388_rep1.vcf.recode', '1388_rep2.vcf.recode', '1409_rep1.vcf.recode', '1409_rep2.vcf.recode', '1414_rep1.vcf.recode', '1495_rep1.vcf.recode', '1495_rep2.vcf.recode', '1502_rep1.vcf.recode', '1502_rep2.vcf.recode', '1512_rep1.vcf.recode', '1512_rep2.vcf.recode']\n",
      "308\n"
     ]
    }
   ],
   "source": [
    "# generate a list of dataframes, loaded from Illumina VCF files \n",
    "list_of_DFs = load_dataframes('../data/vcfs-recode')\n",
    "\n",
    "print(len(list_of_DFs)) # this is the total number of samples we have, counting replicates "
   ]
  },
  {
   "cell_type": "code",
   "execution_count": 7,
   "metadata": {},
   "outputs": [],
   "source": [
    "%%bash \n",
    "\n",
    "\n",
    "# remove all files (if there are any) in the `vcf-cleaned` directory \n",
    "\n",
    "rm ../data/vcfs-cleaned/*.csv"
   ]
  },
  {
   "cell_type": "code",
   "execution_count": 8,
   "metadata": {
    "scrolled": true
   },
   "outputs": [],
   "source": [
    "# clean up all of the dataframes and save to new CSV files \n",
    "clean_dataframes('../data/vcfs-cleaned', list_of_DFs)"
   ]
  },
  {
   "cell_type": "markdown",
   "metadata": {},
   "source": [
    "# function to find intersection SNVs"
   ]
  },
  {
   "cell_type": "code",
   "execution_count": 9,
   "metadata": {},
   "outputs": [],
   "source": [
    "def find_intersection(path, df_list):\n",
    "    # create list of unique dataframe identifiers – this enables easy pairing of csvs\n",
    "    value_list=[]\n",
    "    value_set=[]\n",
    "    for item in df_list:\n",
    "        if \"rep1\" in item:\n",
    "            value = item.replace(\"rep1-cleaned.csv\",\"\")\n",
    "        if \"rep2\" in item:\n",
    "            value = item.replace(\"rep2-cleaned.csv\",\"\")\n",
    "            value_list.append(value)\n",
    "#             print(value_list)\n",
    "        value_set=set(value_list)   \n",
    "#             print(value_list)\n",
    "    for item in value_set:\n",
    "        # create dataframes from csv files\n",
    "        rep1_path = path + item + 'rep1-cleaned.csv'\n",
    "        rep1_df = pd.read_csv(rep1_path, sep='\\t')\n",
    "        rep2_path = path + item + 'rep2-cleaned.csv'\n",
    "        rep2_df = pd.read_csv(rep2_path, sep='\\t')\n",
    "        # clean up column names\n",
    "        rep1_df = rep1_df.rename(columns={'FREQ': '%-rep1'})\n",
    "        rep2_df = rep2_df.rename(columns={'FREQ': '%-rep2'})\n",
    "        A1_1m = rep1_df[['SNP', '%-rep1', 'POS']]\n",
    "        B1_1m = rep2_df[['SNP', '%-rep2', 'POS']]\n",
    "        df1_1 = pd.merge(A1_1m, B1_1m, on='SNP', how='outer')\n",
    "        df1_1['POS_x'] = df1_1['POS_x'].fillna(df1_1['POS_y'])\n",
    "        df1_1 = df1_1[['SNP', 'POS_x', '%-rep1', '%-rep2']]\n",
    "        df1_1 = df1_1.sort_values('POS_x', ascending=True)\n",
    "        df1_1['FREQ'] = df1_1[['%-rep1', '%-rep2']].mean(axis=1)\n",
    "        df1_1 = df1_1.rename(columns={'%-rep1': 'rep1_percent', '%-rep2': 'rep2_percent'})\n",
    "        df1_1.loc[df1_1.FREQ >= 0.97, 'FREQ'] = 1.0 # any SNVs average >0.97 FREQ are likely fixed so I'll rewrite anything >0.97 to 1.0\n",
    "        df1_1 = df1_1.rename(columns={'FREQ': '%'})\n",
    "        df1_1_intersection = df1_1.dropna()\n",
    "#         print(df1_1_intersection)\n",
    "        df1_1_intersection.to_csv('../data/vcfs-all/'+ item + 'intersection.csv', sep='\\t')\n",
    "    \n",
    "    #"
   ]
  },
  {
   "cell_type": "code",
   "execution_count": 10,
   "metadata": {},
   "outputs": [],
   "source": [
    "%%bash \n",
    "\n",
    "# there are a few samples that only have one replicate (because we didn't have enough sample volume to sequence in replicate)\n",
    "# these samples are listed here and have to get moved from the `vcf-cleaned` directory to the intersection directory `vcf-all` before I run the intersection function \n",
    "# the intersection function will fail if there is not a \"rep-1\" and a \"rep-2\" for each sample identifier \n",
    "\n",
    "mv '../data/vcfs-cleaned/19_rep1-cleaned.csv' '../data/vcfs-all/19-not-intersection.csv'\n",
    "mv '../data/vcfs-cleaned/31_rep1-cleaned.csv' '../data/vcfs-all/31-not-intersection.csv'\n",
    "mv '../data/vcfs-cleaned/65_rep1-cleaned.csv' '../data/vcfs-all/65-not-intersection.csv'\n",
    "mv '../data/vcfs-cleaned/182_rep1-cleaned.csv' '../data/vcfs-all/182-not-intersection.csv'\n",
    "mv '../data/vcfs-cleaned/193_rep1-cleaned.csv' '../data/vcfs-all/193-not-intersection.csv'\n",
    "mv '../data/vcfs-cleaned/255_rep1-cleaned.csv' '../data/vcfs-all/255-not-intersection.csv'\n",
    "mv '../data/vcfs-cleaned/316_rep1-cleaned.csv' '../data/vcfs-all/316-not-intersection.csv'\n",
    "mv '../data/vcfs-cleaned/321_rep1-cleaned.csv' '../data/vcfs-all/321-not-intersection.csv'\n",
    "mv '../data/vcfs-cleaned/1049_rep1-cleaned.csv' '../data/vcfs-all/1049-not-intersection.csv'\n",
    "mv '../data/vcfs-cleaned/1060_rep2-cleaned.csv' '../data/vcfs-all/1060-not-intersection.csv'\n",
    "mv '../data/vcfs-cleaned/1414_rep1-cleaned.csv' '../data/vcfs-all/1414-not-intersection.csv'\n",
    "mv '../data/vcfs-cleaned/1293_rep2-cleaned.csv' '../data/vcfs-all/1293-not-intersection.csv'\n",
    "\n",
    "# there are 12 samples with only one replicate \n",
    "\n",
    "#"
   ]
  },
  {
   "cell_type": "code",
   "execution_count": 11,
   "metadata": {},
   "outputs": [],
   "source": [
    "%%bash\n",
    "\n",
    "# remove all files (if there are any) in the `vcf-all` directory \n",
    "\n",
    "rm ../data/vcfs-all/*.csv"
   ]
  },
  {
   "cell_type": "code",
   "execution_count": 12,
   "metadata": {},
   "outputs": [],
   "source": [
    "# make a list of the cleaned CSV files \n",
    "\n",
    "directory = '../data/vcfs-cleaned/'\n",
    "files_dir =  os.listdir(directory)\n",
    "newlist = []\n",
    "for names in files_dir:\n",
    "    if names.endswith(\".csv\"):\n",
    "        newlist.append(names)\n",
    "# print(newlist)"
   ]
  },
  {
   "cell_type": "code",
   "execution_count": 13,
   "metadata": {},
   "outputs": [],
   "source": [
    "find_intersection('../data/vcfs-cleaned/', newlist)"
   ]
  },
  {
   "cell_type": "code",
   "execution_count": 14,
   "metadata": {},
   "outputs": [
    {
     "name": "stdout",
     "output_type": "stream",
     "text": [
      "148\n"
     ]
    }
   ],
   "source": [
    "# load all text files in a directory into Pandas dataframes \n",
    "def load_intersection_dataframes(path):\n",
    "    filelist = [os.path.splitext(file)[0] for file in os.listdir(path) if file.endswith('_intersection.csv')]\n",
    "    list_of_DFs = []\n",
    "    for file in filelist:\n",
    "        DF = path + '/' + file + '.csv'\n",
    "        file = pd.read_csv(DF, header=0, sep='\\t', low_memory=False)\n",
    "        list_of_DFs.append(file)\n",
    "#     print(filelist)\n",
    "    return(list_of_DFs)\n",
    "\n",
    "# generate a list of intersection dataframes\n",
    "list_of_intersection_DFs = load_intersection_dataframes('../data/vcfs-all')\n",
    "\n",
    "print(len(list_of_intersection_DFs)) # this is the total number of samples we have (-12 samples )"
   ]
  },
  {
   "cell_type": "markdown",
   "metadata": {},
   "source": [
    "# Plot variant frequencies between replicate 1 and 2\n",
    "### here I will only plot variants ≥3% "
   ]
  },
  {
   "cell_type": "code",
   "execution_count": 108,
   "metadata": {},
   "outputs": [],
   "source": [
    "# load all intersection files in a directory into Pandas dataframes \n",
    "def load_intersection_dataframes(path):\n",
    "    filelist = [os.path.splitext(file)[0] for file in os.listdir(path) if file.endswith('_intersection.csv')]\n",
    "    list_of_DFs = []\n",
    "    list_of_DF_names = []\n",
    "    for file in filelist: \n",
    "        fullname = path + '/' + file + '.csv'\n",
    "        DF = pd.read_csv(fullname, header=0, sep='\\t', low_memory=False)\n",
    "        DF.name = file \n",
    "        list_of_DF_names.append(file)\n",
    "        list_of_DFs.append(DF)\n",
    "#     print(list_of_DF_names)\n",
    "    return(list_of_DFs)\n",
    "\n",
    "def plot_intersection(intersection_list):\n",
    "    for DF in intersection_list: \n",
    "        # global settings \n",
    "        fig1 = plt.figure(figsize=(8,8), facecolor='w')\n",
    "        plt.style.use('default')\n",
    "        mpl.rc('font', family='Arial')\n",
    "        gs = gridspec.GridSpec(2,8)\n",
    "        # define subplots\n",
    "        ax1 = fig1.add_subplot(gs[0,0:4], aspect='equal') # replicate plot\n",
    "        ax2 = fig1.add_subplot(gs[0,4:8], aspect='equal') # replicate plot ZOOM\n",
    "        ax1.spines['top'].set_visible(False)\n",
    "        ax1.spines['right'].set_visible(False)\n",
    "        ax1.spines['bottom'].set_visible(True)\n",
    "        ax1.spines['left'].set_visible(True)\n",
    "        ax2.spines['top'].set_visible(False)\n",
    "        ax2.spines['right'].set_visible(False)\n",
    "        ax2.spines['bottom'].set_visible(True)\n",
    "        ax2.spines['left'].set_visible(True)\n",
    "        # set fontsize of axes \n",
    "        ax1.tick_params(axis = 'both', which = 'major', labelsize = 10)\n",
    "        ax1.tick_params(axis = 'both', which = 'minor', labelsize = 10)\n",
    "        ax2.tick_params(axis = 'both', which = 'major', labelsize = 10)\n",
    "        ax2.tick_params(axis = 'both', which = 'minor', labelsize = 10)\n",
    "        sample = DF.name\n",
    "        # FOR PLOT replicate plot\n",
    "        ax1.scatter(DF.rep1_percent, DF.rep2_percent, color='grey', alpha=0.5)\n",
    "        ax2.scatter(DF.rep1_percent, DF.rep2_percent, color='grey', alpha=0.5)\n",
    "        # edit the axes - ax1\n",
    "        ax1.set_title(sample + 'replicate plot', fontname='Arial', fontsize=14)\n",
    "        ax1.set_ylabel('replicate 2 variant frequency', fontname='Arial', fontsize=10)\n",
    "        ax1.set_xlabel('replicate 1 variant frequency', fontname='Arial', fontsize=10)\n",
    "        ax1.set_facecolor('white')\n",
    "        for tick in ax1.get_xticklabels():\n",
    "            tick.set_fontname(\"Arial\")\n",
    "        for tick in ax1.get_yticklabels():\n",
    "            tick.set_fontname(\"Arial\")\n",
    "        ax1.set_ylim(0.001,1.03)\n",
    "        ax1.set_yticks([0, 0.25, 0.50, 0.75, 1.0])\n",
    "        ax1.set_xlim(0.001,1.03)\n",
    "        ax1.set_xticks([0, 0.25, 0.50, 0.75, 1.0])\n",
    "        # edit the axes - ax2\n",
    "        ax2.set_title(sample + 'replicate plot, ZOOM', fontname='Arial', fontsize=14)\n",
    "        ax2.set_ylabel('replicate 2 variant frequency 1-10%', fontname='Arial', fontsize=10)\n",
    "        ax2.set_xlabel('replicate 1 variant frequency 1-10%', fontname='Arial', fontsize=10)\n",
    "        ax2.set_facecolor('white')\n",
    "        for tick in ax2.get_xticklabels():\n",
    "            tick.set_fontname(\"Arial\")\n",
    "        for tick in ax2.get_yticklabels():\n",
    "            tick.set_fontname(\"Arial\")\n",
    "        ax2.set_ylim(-0.001, 0.15)\n",
    "        ax2.set_yticks([0.05, 0.1, 0.15])\n",
    "        ax2.set_xlim(-0.001, 0.15)\n",
    "        ax2.set_xticks([0.05, 0.1, 0.15])\n",
    "        # use tight_layout to optimize spacing of axes and titles within each subplot\n",
    "        fig1.tight_layout()\n",
    "        # save this plot to the figures folder \n",
    "        fig1.savefig('../figures/intersection-plots/' + sample + '.png', bbox_inches='tight', dpi=300)\n",
    "\n",
    "def r2(x, y):\n",
    "    return stats.pearsonr(x, y)[0] **2\n",
    "        \n",
    "def plot_intersection_combined(intersection_list, concat_dataframe):\n",
    "    # global settings \n",
    "    fig1 = plt.figure(figsize=(8,8), facecolor='w')\n",
    "    plt.style.use('default')\n",
    "    mpl.rc('font', family='Arial')\n",
    "    gs = gridspec.GridSpec(2,14)\n",
    "    # define subplots\n",
    "    ax1 = fig1.add_subplot(gs[1,0:3], aspect='equal') # replicate plot\n",
    "    ax2 = fig1.add_subplot(gs[1,6:9], aspect='equal') # replicate plot ZOOM\n",
    "    ax3 = fig1.add_subplot(gs[1,11:14], aspect='equal') # scatter regression\n",
    "   \n",
    "    ax1.spines['top'].set_visible(False)\n",
    "    ax1.spines['right'].set_visible(False)\n",
    "    ax1.spines['bottom'].set_visible(True)\n",
    "    ax1.spines['left'].set_visible(True)\n",
    "    ax2.spines['top'].set_visible(False)\n",
    "    ax2.spines['right'].set_visible(False)\n",
    "    ax2.spines['bottom'].set_visible(True)\n",
    "    ax2.spines['left'].set_visible(True)\n",
    "    ax3.spines['top'].set_visible(False)\n",
    "    ax3.spines['right'].set_visible(False)\n",
    "    ax3.spines['bottom'].set_visible(True)\n",
    "    ax3.spines['left'].set_visible(True)\n",
    "    \n",
    "    # set fontsize of axes \n",
    "    ax1.tick_params(axis = 'both', which = 'major', labelsize = 10)\n",
    "    ax1.tick_params(axis = 'both', which = 'minor', labelsize = 10)\n",
    "    ax2.tick_params(axis = 'both', which = 'major', labelsize = 10)\n",
    "    ax2.tick_params(axis = 'both', which = 'minor', labelsize = 10)\n",
    "    ax3.tick_params(axis = 'both', which = 'major', labelsize = 10)\n",
    "    ax3.tick_params(axis = 'both', which = 'minor', labelsize = 10)\n",
    "    # edit the axes - ax1\n",
    "    ax1.set_ylabel('replicate 2 variant frequency', fontname='Arial', fontsize=10)\n",
    "    ax1.set_xlabel('replicate 1 variant frequency', fontname='Arial', fontsize=10)\n",
    "    ax1.set_facecolor('white')\n",
    "    for tick in ax1.get_xticklabels():\n",
    "        tick.set_fontname(\"Arial\")\n",
    "    for tick in ax1.get_yticklabels():\n",
    "        tick.set_fontname(\"Arial\")\n",
    "    ax1.set_ylim(0.001,1.03)\n",
    "    ax1.set_yticks([0, 0.25, 0.50, 0.75, 1.0])\n",
    "    ax1.set_xlim(0.001,1.03)\n",
    "    ax1.set_xticks([0, 0.25, 0.50, 0.75, 1.0])\n",
    "    # edit the axes - ax2\n",
    "    ax2.set_ylabel('replicate 2 variant frequency 1-10%', fontname='Arial', fontsize=10)\n",
    "    ax2.set_xlabel('replicate 1 variant frequency 1-10%', fontname='Arial', fontsize=10)\n",
    "    ax2.set_facecolor('white')\n",
    "    for tick in ax2.get_xticklabels():\n",
    "        tick.set_fontname(\"Arial\")\n",
    "    for tick in ax2.get_yticklabels():\n",
    "        tick.set_fontname(\"Arial\")\n",
    "    ax2.set_ylim(-0.001, 0.15)\n",
    "    ax2.set_yticks([0.05, 0.1, 0.15])\n",
    "    ax2.set_xlim(-0.001, 0.15)\n",
    "    ax2.set_xticks([0.05, 0.1, 0.15])\n",
    "    # edit the axes - ax3\n",
    "#     ax3.set_ylabel('replicate 2 variant frequency', fontname='Arial', fontsize=10)\n",
    "#     ax3.set_xlabel('replicate 1 variant frequency', fontname='Arial', fontsize=10)\n",
    "    ax3.set_facecolor('white')\n",
    "    for tick in ax3.get_xticklabels():\n",
    "        tick.set_fontname(\"Arial\")\n",
    "    for tick in ax3.get_yticklabels():\n",
    "        tick.set_fontname(\"Arial\")\n",
    "    ax3.set_ylim(0.001,1.03)\n",
    "    ax3.set_yticks([0, 0.25, 0.50, 0.75, 1.0])\n",
    "    ax3.set_xlim(0.001,1.03)\n",
    "    ax3.set_xticks([0, 0.25, 0.50, 0.75, 1.0])\n",
    "    \n",
    "#     sns.jointplot(data=concat_dataframe, x='rep1_percent', y='rep2_percent', kind=\"scatter\", ax=ax3)\n",
    "    \n",
    "    for DF in intersection_list: \n",
    "        ax1.scatter(DF.rep1_percent, DF.rep2_percent, color='grey', alpha=0.5)\n",
    "        ax2.scatter(DF.rep1_percent, DF.rep2_percent, color='grey', alpha=0.5)\n",
    "    \n",
    "    fig1.tight_layout()\n",
    "    # save this plot to the figures folder \n",
    "    fig1.savefig('../figures/intersection-plots/combined-intersection-plots.png', bbox_inches='tight', dpi=300)\n",
    "\n",
    "#\n",
    "\n",
    "#"
   ]
  },
  {
   "cell_type": "code",
   "execution_count": 63,
   "metadata": {},
   "outputs": [],
   "source": [
    "%%bash\n",
    "\n",
    "# remove all files (if there are any) in the `vcf-all` directory \n",
    "\n",
    "# rm ../figures/intersection-plots/*.png"
   ]
  },
  {
   "cell_type": "code",
   "execution_count": 58,
   "metadata": {},
   "outputs": [
    {
     "ename": "NameError",
     "evalue": "name 'x' is not defined",
     "output_type": "error",
     "traceback": [
      "\u001b[0;31m---------------------------------------------------------------------------\u001b[0m",
      "\u001b[0;31mNameError\u001b[0m                                 Traceback (most recent call last)",
      "\u001b[0;32m<ipython-input-58-cb3243179507>\u001b[0m in \u001b[0;36m<module>\u001b[0;34m\u001b[0m\n\u001b[1;32m      3\u001b[0m \u001b[0;34m\u001b[0m\u001b[0m\n\u001b[1;32m      4\u001b[0m \u001b[0;31m#plot rep1 against rep2\u001b[0m\u001b[0;34m\u001b[0m\u001b[0;34m\u001b[0m\u001b[0;34m\u001b[0m\u001b[0m\n\u001b[0;32m----> 5\u001b[0;31m \u001b[0mplot_intersection\u001b[0m\u001b[0;34m(\u001b[0m\u001b[0mintersection_list\u001b[0m\u001b[0;34m)\u001b[0m\u001b[0;34m\u001b[0m\u001b[0;34m\u001b[0m\u001b[0m\n\u001b[0m",
      "\u001b[0;32m<ipython-input-56-7404d6966070>\u001b[0m in \u001b[0;36mplot_intersection\u001b[0;34m(intersection_list)\u001b[0m\n\u001b[1;32m     72\u001b[0m         \u001b[0max2\u001b[0m\u001b[0;34m.\u001b[0m\u001b[0mset_xticks\u001b[0m\u001b[0;34m(\u001b[0m\u001b[0;34m[\u001b[0m\u001b[0;36m0.05\u001b[0m\u001b[0;34m,\u001b[0m \u001b[0;36m0.1\u001b[0m\u001b[0;34m,\u001b[0m \u001b[0;36m0.15\u001b[0m\u001b[0;34m]\u001b[0m\u001b[0;34m)\u001b[0m\u001b[0;34m\u001b[0m\u001b[0;34m\u001b[0m\u001b[0m\n\u001b[1;32m     73\u001b[0m         \u001b[0mm\u001b[0m\u001b[0;34m,\u001b[0m \u001b[0mb\u001b[0m \u001b[0;34m=\u001b[0m \u001b[0mnp\u001b[0m\u001b[0;34m.\u001b[0m\u001b[0mpolyfit\u001b[0m\u001b[0;34m(\u001b[0m\u001b[0mDF\u001b[0m\u001b[0;34m.\u001b[0m\u001b[0mrep1_percent\u001b[0m\u001b[0;34m,\u001b[0m \u001b[0mDF\u001b[0m\u001b[0;34m.\u001b[0m\u001b[0mrep2_percent\u001b[0m\u001b[0;34m,\u001b[0m \u001b[0;36m1\u001b[0m\u001b[0;34m)\u001b[0m\u001b[0;34m\u001b[0m\u001b[0;34m\u001b[0m\u001b[0m\n\u001b[0;32m---> 74\u001b[0;31m         \u001b[0mplt\u001b[0m\u001b[0;34m.\u001b[0m\u001b[0mplot\u001b[0m\u001b[0;34m(\u001b[0m\u001b[0mx\u001b[0m\u001b[0;34m,\u001b[0m \u001b[0mm\u001b[0m\u001b[0;34m*\u001b[0m\u001b[0mx\u001b[0m \u001b[0;34m+\u001b[0m \u001b[0mb\u001b[0m\u001b[0;34m,\u001b[0m \u001b[0;34m'-'\u001b[0m\u001b[0;34m)\u001b[0m\u001b[0;34m\u001b[0m\u001b[0;34m\u001b[0m\u001b[0m\n\u001b[0m\u001b[1;32m     75\u001b[0m         \u001b[0;31m# use tight_layout to optimize spacing of axes and titles within each subplot\u001b[0m\u001b[0;34m\u001b[0m\u001b[0;34m\u001b[0m\u001b[0;34m\u001b[0m\u001b[0m\n\u001b[1;32m     76\u001b[0m         \u001b[0mfig1\u001b[0m\u001b[0;34m.\u001b[0m\u001b[0mtight_layout\u001b[0m\u001b[0;34m(\u001b[0m\u001b[0;34m)\u001b[0m\u001b[0;34m\u001b[0m\u001b[0;34m\u001b[0m\u001b[0m\n",
      "\u001b[0;31mNameError\u001b[0m: name 'x' is not defined"
     ]
    },
    {
     "data": {
      "image/png": "[encoded data removed]",
      "text/plain": [
       "<Figure size 800x800 with 2 Axes>"
      ]
     },
     "metadata": {},
     "output_type": "display_data"
    }
   ],
   "source": [
    "#list of intersection DFs\n",
    "intersection_list = load_intersection_dataframes('../data/vcfs-all')\n",
    "\n",
    "#plot rep1 against rep2\n",
    "plot_intersection(intersection_list)"
   ]
  },
  {
   "cell_type": "code",
   "execution_count": 76,
   "metadata": {},
   "outputs": [],
   "source": [
    "# concatenate all dataframes in the list_of_intersectoin_DFs into a single DF \n",
    "\n",
    "DF_3percent = pd.concat(list_of_intersection_DFs)\n",
    "\n",
    "# DF_3percent"
   ]
  },
  {
   "cell_type": "code",
   "execution_count": 109,
   "metadata": {
    "scrolled": false
   },
   "outputs": [
    {
     "name": "stderr",
     "output_type": "stream",
     "text": [
      "/Users/katbraun/anaconda3/lib/python3.6/site-packages/matplotlib/tight_layout.py:199: UserWarning: Tight layout not applied. tight_layout cannot make axes width small enough to accommodate all axes decorations\n",
      "  warnings.warn('Tight layout not applied. '\n"
     ]
    },
    {
     "data": {
      "image/png": "[encoded data removed]",
      "text/plain": [
       "<Figure size 800x800 with 3 Axes>"
      ]
     },
     "metadata": {},
     "output_type": "display_data"
    }
   ],
   "source": [
    "# plot intersections on a single plot to calculate lineaar correlation (I'd like to repeat this with multiple different frequency cut-offs)\n",
    "\n",
    "plot_intersection_combined(intersection_list, DF_3percent)\n",
    "\n",
    "\n",
    "#"
   ]
  }
 ],
 "metadata": {
  "kernelspec": {
   "display_name": "Python 3",
   "language": "python",
   "name": "python3"
  },
  "language_info": {
   "codemirror_mode": {
    "name": "ipython",
    "version": 3
   },
   "file_extension": ".py",
   "mimetype": "text/x-python",
   "name": "python",
   "nbconvert_exporter": "python",
   "pygments_lexer": "ipython3",
   "version": "3.6.8"
  }
 },
 "nbformat": 4,
 "nbformat_minor": 4
}
